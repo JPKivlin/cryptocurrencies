{
 "cells": [
  {
   "cell_type": "markdown",
   "metadata": {},
   "source": [
    "# Clustering Crypto"
   ]
  },
  {
   "cell_type": "code",
   "execution_count": 61,
   "metadata": {},
   "outputs": [],
   "source": [
    "# Initial imports\n",
    "import pandas as pd\n",
    "import hvplot.pandas\n",
    "from path import Path\n",
    "import plotly.express as px\n",
    "from sklearn.preprocessing import StandardScaler, MinMaxScaler\n",
    "from sklearn.decomposition import PCA\n",
    "from sklearn.cluster import KMeans\n"
   ]
  },
  {
   "cell_type": "markdown",
   "metadata": {},
   "source": [
    "### Deliverable 1: Preprocessing the Data for PCA"
   ]
  },
  {
   "cell_type": "code",
   "execution_count": 84,
   "metadata": {},
   "outputs": [
    {
     "data": {
      "text/html": [
       "<div>\n",
       "<style scoped>\n",
       "    .dataframe tbody tr th:only-of-type {\n",
       "        vertical-align: middle;\n",
       "    }\n",
       "\n",
       "    .dataframe tbody tr th {\n",
       "        vertical-align: top;\n",
       "    }\n",
       "\n",
       "    .dataframe thead th {\n",
       "        text-align: right;\n",
       "    }\n",
       "</style>\n",
       "<table border=\"1\" class=\"dataframe\">\n",
       "  <thead>\n",
       "    <tr style=\"text-align: right;\">\n",
       "      <th></th>\n",
       "      <th>Unnamed: 0</th>\n",
       "      <th>CoinName</th>\n",
       "      <th>Algorithm</th>\n",
       "      <th>IsTrading</th>\n",
       "      <th>ProofType</th>\n",
       "      <th>TotalCoinsMined</th>\n",
       "      <th>TotalCoinSupply</th>\n",
       "    </tr>\n",
       "  </thead>\n",
       "  <tbody>\n",
       "    <tr>\n",
       "      <th>0</th>\n",
       "      <td>42</td>\n",
       "      <td>42 Coin</td>\n",
       "      <td>Scrypt</td>\n",
       "      <td>True</td>\n",
       "      <td>PoW/PoS</td>\n",
       "      <td>4.199995e+01</td>\n",
       "      <td>42</td>\n",
       "    </tr>\n",
       "    <tr>\n",
       "      <th>1</th>\n",
       "      <td>365</td>\n",
       "      <td>365Coin</td>\n",
       "      <td>X11</td>\n",
       "      <td>True</td>\n",
       "      <td>PoW/PoS</td>\n",
       "      <td>NaN</td>\n",
       "      <td>2300000000</td>\n",
       "    </tr>\n",
       "    <tr>\n",
       "      <th>2</th>\n",
       "      <td>404</td>\n",
       "      <td>404Coin</td>\n",
       "      <td>Scrypt</td>\n",
       "      <td>True</td>\n",
       "      <td>PoW/PoS</td>\n",
       "      <td>1.055185e+09</td>\n",
       "      <td>532000000</td>\n",
       "    </tr>\n",
       "    <tr>\n",
       "      <th>3</th>\n",
       "      <td>611</td>\n",
       "      <td>SixEleven</td>\n",
       "      <td>SHA-256</td>\n",
       "      <td>True</td>\n",
       "      <td>PoW</td>\n",
       "      <td>NaN</td>\n",
       "      <td>611000</td>\n",
       "    </tr>\n",
       "    <tr>\n",
       "      <th>4</th>\n",
       "      <td>808</td>\n",
       "      <td>808</td>\n",
       "      <td>SHA-256</td>\n",
       "      <td>True</td>\n",
       "      <td>PoW/PoS</td>\n",
       "      <td>0.000000e+00</td>\n",
       "      <td>0</td>\n",
       "    </tr>\n",
       "  </tbody>\n",
       "</table>\n",
       "</div>"
      ],
      "text/plain": [
       "  Unnamed: 0   CoinName Algorithm  IsTrading ProofType  TotalCoinsMined  \\\n",
       "0         42    42 Coin    Scrypt       True   PoW/PoS     4.199995e+01   \n",
       "1        365    365Coin       X11       True   PoW/PoS              NaN   \n",
       "2        404    404Coin    Scrypt       True   PoW/PoS     1.055185e+09   \n",
       "3        611  SixEleven   SHA-256       True       PoW              NaN   \n",
       "4        808        808   SHA-256       True   PoW/PoS     0.000000e+00   \n",
       "\n",
       "  TotalCoinSupply  \n",
       "0              42  \n",
       "1      2300000000  \n",
       "2       532000000  \n",
       "3          611000  \n",
       "4               0  "
      ]
     },
     "execution_count": 84,
     "metadata": {},
     "output_type": "execute_result"
    }
   ],
   "source": [
    "# Load the crypto_data.csv dataset.\n",
    "file_path = \"crypto_data.csv\"\n",
    "iris_df = pd.read_csv(file_path)\n",
    "iris_df.head()"
   ]
  },
  {
   "cell_type": "code",
   "execution_count": 85,
   "metadata": {},
   "outputs": [
    {
     "data": {
      "text/plain": [
       "Unnamed: 0         1144\n",
       "CoinName           1144\n",
       "Algorithm          1144\n",
       "IsTrading          1144\n",
       "ProofType          1144\n",
       "TotalCoinsMined     685\n",
       "TotalCoinSupply    1144\n",
       "dtype: int64"
      ]
     },
     "execution_count": 85,
     "metadata": {},
     "output_type": "execute_result"
    }
   ],
   "source": [
    "# Keep all the cryptocurrencies that are being traded.\n",
    "false_drop = iris_df['IsTrading'] != False\n",
    "iris_df = iris_df.loc[false_drop]\n",
    "iris_df.count()"
   ]
  },
  {
   "cell_type": "code",
   "execution_count": 86,
   "metadata": {},
   "outputs": [],
   "source": [
    "# Keep all the cryptocurrencies that have a working algorithm.\n",
    "iris_df= iris_df.set_index('Unnamed: 0')"
   ]
  },
  {
   "cell_type": "code",
   "execution_count": 96,
   "metadata": {},
   "outputs": [],
   "source": [
    "# Remove the \"IsTrading\" column. \n",
    "iris_df = iris_df.drop(columns=[\"IsTrading\"])"
   ]
  },
  {
   "cell_type": "code",
   "execution_count": 97,
   "metadata": {},
   "outputs": [
    {
     "data": {
      "text/plain": [
       "CoinName           685\n",
       "Algorithm          685\n",
       "ProofType          685\n",
       "TotalCoinsMined    685\n",
       "TotalCoinSupply    685\n",
       "dtype: int64"
      ]
     },
     "execution_count": 97,
     "metadata": {},
     "output_type": "execute_result"
    }
   ],
   "source": [
    "# Remove rows that have at least 1 null value.\n",
    "iris_df = iris_df.dropna()\n",
    "iris_df.count()"
   ]
  },
  {
   "cell_type": "code",
   "execution_count": 98,
   "metadata": {},
   "outputs": [
    {
     "data": {
      "text/plain": [
       "CoinName           685\n",
       "Algorithm          685\n",
       "ProofType          685\n",
       "TotalCoinsMined    685\n",
       "TotalCoinSupply    685\n",
       "dtype: int64"
      ]
     },
     "execution_count": 98,
     "metadata": {},
     "output_type": "execute_result"
    }
   ],
   "source": [
    "# Keep the rows where coins are mined.\n",
    "iris_df = iris_df.dropna()\n",
    "iris_df.count()"
   ]
  },
  {
   "cell_type": "code",
   "execution_count": 99,
   "metadata": {},
   "outputs": [
    {
     "data": {
      "text/html": [
       "<div>\n",
       "<style scoped>\n",
       "    .dataframe tbody tr th:only-of-type {\n",
       "        vertical-align: middle;\n",
       "    }\n",
       "\n",
       "    .dataframe tbody tr th {\n",
       "        vertical-align: top;\n",
       "    }\n",
       "\n",
       "    .dataframe thead th {\n",
       "        text-align: right;\n",
       "    }\n",
       "</style>\n",
       "<table border=\"1\" class=\"dataframe\">\n",
       "  <thead>\n",
       "    <tr style=\"text-align: right;\">\n",
       "      <th></th>\n",
       "      <th>CoinName</th>\n",
       "    </tr>\n",
       "    <tr>\n",
       "      <th>Unnamed: 0</th>\n",
       "      <th></th>\n",
       "    </tr>\n",
       "  </thead>\n",
       "  <tbody>\n",
       "    <tr>\n",
       "      <th>42</th>\n",
       "      <td>42 Coin</td>\n",
       "    </tr>\n",
       "    <tr>\n",
       "      <th>404</th>\n",
       "      <td>404Coin</td>\n",
       "    </tr>\n",
       "    <tr>\n",
       "      <th>808</th>\n",
       "      <td>808</td>\n",
       "    </tr>\n",
       "    <tr>\n",
       "      <th>1337</th>\n",
       "      <td>EliteCoin</td>\n",
       "    </tr>\n",
       "    <tr>\n",
       "      <th>BTC</th>\n",
       "      <td>Bitcoin</td>\n",
       "    </tr>\n",
       "  </tbody>\n",
       "</table>\n",
       "</div>"
      ],
      "text/plain": [
       "             CoinName\n",
       "Unnamed: 0           \n",
       "42            42 Coin\n",
       "404           404Coin\n",
       "808               808\n",
       "1337        EliteCoin\n",
       "BTC           Bitcoin"
      ]
     },
     "execution_count": 99,
     "metadata": {},
     "output_type": "execute_result"
    }
   ],
   "source": [
    "# Create a new DataFrame that holds only the cryptocurrencies names.\n",
    "names_df = iris_df.drop(['Algorithm', 'ProofType', 'TotalCoinsMined', 'TotalCoinSupply'], axis=1)\n",
    "names_df.head()"
   ]
  },
  {
   "cell_type": "code",
   "execution_count": 100,
   "metadata": {},
   "outputs": [
    {
     "data": {
      "text/html": [
       "<div>\n",
       "<style scoped>\n",
       "    .dataframe tbody tr th:only-of-type {\n",
       "        vertical-align: middle;\n",
       "    }\n",
       "\n",
       "    .dataframe tbody tr th {\n",
       "        vertical-align: top;\n",
       "    }\n",
       "\n",
       "    .dataframe thead th {\n",
       "        text-align: right;\n",
       "    }\n",
       "</style>\n",
       "<table border=\"1\" class=\"dataframe\">\n",
       "  <thead>\n",
       "    <tr style=\"text-align: right;\">\n",
       "      <th></th>\n",
       "      <th>Algorithm</th>\n",
       "      <th>ProofType</th>\n",
       "      <th>TotalCoinsMined</th>\n",
       "      <th>TotalCoinSupply</th>\n",
       "    </tr>\n",
       "    <tr>\n",
       "      <th>Unnamed: 0</th>\n",
       "      <th></th>\n",
       "      <th></th>\n",
       "      <th></th>\n",
       "      <th></th>\n",
       "    </tr>\n",
       "  </thead>\n",
       "  <tbody>\n",
       "    <tr>\n",
       "      <th>42</th>\n",
       "      <td>Scrypt</td>\n",
       "      <td>PoW/PoS</td>\n",
       "      <td>4.199995e+01</td>\n",
       "      <td>42</td>\n",
       "    </tr>\n",
       "    <tr>\n",
       "      <th>404</th>\n",
       "      <td>Scrypt</td>\n",
       "      <td>PoW/PoS</td>\n",
       "      <td>1.055185e+09</td>\n",
       "      <td>532000000</td>\n",
       "    </tr>\n",
       "    <tr>\n",
       "      <th>808</th>\n",
       "      <td>SHA-256</td>\n",
       "      <td>PoW/PoS</td>\n",
       "      <td>0.000000e+00</td>\n",
       "      <td>0</td>\n",
       "    </tr>\n",
       "    <tr>\n",
       "      <th>1337</th>\n",
       "      <td>X13</td>\n",
       "      <td>PoW/PoS</td>\n",
       "      <td>2.927942e+10</td>\n",
       "      <td>314159265359</td>\n",
       "    </tr>\n",
       "    <tr>\n",
       "      <th>BTC</th>\n",
       "      <td>SHA-256</td>\n",
       "      <td>PoW</td>\n",
       "      <td>1.792718e+07</td>\n",
       "      <td>21000000</td>\n",
       "    </tr>\n",
       "  </tbody>\n",
       "</table>\n",
       "</div>"
      ],
      "text/plain": [
       "           Algorithm ProofType  TotalCoinsMined TotalCoinSupply\n",
       "Unnamed: 0                                                     \n",
       "42            Scrypt   PoW/PoS     4.199995e+01              42\n",
       "404           Scrypt   PoW/PoS     1.055185e+09       532000000\n",
       "808          SHA-256   PoW/PoS     0.000000e+00               0\n",
       "1337             X13   PoW/PoS     2.927942e+10    314159265359\n",
       "BTC          SHA-256       PoW     1.792718e+07        21000000"
      ]
     },
     "execution_count": 100,
     "metadata": {},
     "output_type": "execute_result"
    }
   ],
   "source": [
    "# Drop the 'CoinName' column since it's not going to be used on the clustering algorithm.\n",
    "crypto_df = iris_df.drop(['CoinName'], axis=1)\n",
    "crypto_df.head()"
   ]
  },
  {
   "cell_type": "code",
   "execution_count": 101,
   "metadata": {},
   "outputs": [
    {
     "data": {
      "text/html": [
       "<div>\n",
       "<style scoped>\n",
       "    .dataframe tbody tr th:only-of-type {\n",
       "        vertical-align: middle;\n",
       "    }\n",
       "\n",
       "    .dataframe tbody tr th {\n",
       "        vertical-align: top;\n",
       "    }\n",
       "\n",
       "    .dataframe thead th {\n",
       "        text-align: right;\n",
       "    }\n",
       "</style>\n",
       "<table border=\"1\" class=\"dataframe\">\n",
       "  <thead>\n",
       "    <tr style=\"text-align: right;\">\n",
       "      <th></th>\n",
       "      <th>TotalCoinsMined</th>\n",
       "      <th>TotalCoinSupply</th>\n",
       "      <th>Algorithm_1GB AES Pattern Search</th>\n",
       "      <th>Algorithm_536</th>\n",
       "      <th>Algorithm_Argon2</th>\n",
       "      <th>Algorithm_Argon2d</th>\n",
       "      <th>Algorithm_BLAKE256</th>\n",
       "      <th>Algorithm_Blake</th>\n",
       "      <th>Algorithm_Blake2S</th>\n",
       "      <th>Algorithm_Blake2b</th>\n",
       "      <th>...</th>\n",
       "      <th>ProofType_PoW/PoS</th>\n",
       "      <th>ProofType_PoW/PoS</th>\n",
       "      <th>ProofType_PoW/PoW</th>\n",
       "      <th>ProofType_PoW/nPoS</th>\n",
       "      <th>ProofType_Pos</th>\n",
       "      <th>ProofType_Proof of Authority</th>\n",
       "      <th>ProofType_Proof of Trust</th>\n",
       "      <th>ProofType_TPoS</th>\n",
       "      <th>ProofType_Zero-Knowledge Proof</th>\n",
       "      <th>ProofType_dPoW/PoW</th>\n",
       "    </tr>\n",
       "    <tr>\n",
       "      <th>Unnamed: 0</th>\n",
       "      <th></th>\n",
       "      <th></th>\n",
       "      <th></th>\n",
       "      <th></th>\n",
       "      <th></th>\n",
       "      <th></th>\n",
       "      <th></th>\n",
       "      <th></th>\n",
       "      <th></th>\n",
       "      <th></th>\n",
       "      <th></th>\n",
       "      <th></th>\n",
       "      <th></th>\n",
       "      <th></th>\n",
       "      <th></th>\n",
       "      <th></th>\n",
       "      <th></th>\n",
       "      <th></th>\n",
       "      <th></th>\n",
       "      <th></th>\n",
       "      <th></th>\n",
       "    </tr>\n",
       "  </thead>\n",
       "  <tbody>\n",
       "    <tr>\n",
       "      <th>42</th>\n",
       "      <td>4.199995e+01</td>\n",
       "      <td>42</td>\n",
       "      <td>0</td>\n",
       "      <td>0</td>\n",
       "      <td>0</td>\n",
       "      <td>0</td>\n",
       "      <td>0</td>\n",
       "      <td>0</td>\n",
       "      <td>0</td>\n",
       "      <td>0</td>\n",
       "      <td>...</td>\n",
       "      <td>1</td>\n",
       "      <td>0</td>\n",
       "      <td>0</td>\n",
       "      <td>0</td>\n",
       "      <td>0</td>\n",
       "      <td>0</td>\n",
       "      <td>0</td>\n",
       "      <td>0</td>\n",
       "      <td>0</td>\n",
       "      <td>0</td>\n",
       "    </tr>\n",
       "    <tr>\n",
       "      <th>404</th>\n",
       "      <td>1.055185e+09</td>\n",
       "      <td>532000000</td>\n",
       "      <td>0</td>\n",
       "      <td>0</td>\n",
       "      <td>0</td>\n",
       "      <td>0</td>\n",
       "      <td>0</td>\n",
       "      <td>0</td>\n",
       "      <td>0</td>\n",
       "      <td>0</td>\n",
       "      <td>...</td>\n",
       "      <td>1</td>\n",
       "      <td>0</td>\n",
       "      <td>0</td>\n",
       "      <td>0</td>\n",
       "      <td>0</td>\n",
       "      <td>0</td>\n",
       "      <td>0</td>\n",
       "      <td>0</td>\n",
       "      <td>0</td>\n",
       "      <td>0</td>\n",
       "    </tr>\n",
       "    <tr>\n",
       "      <th>808</th>\n",
       "      <td>0.000000e+00</td>\n",
       "      <td>0</td>\n",
       "      <td>0</td>\n",
       "      <td>0</td>\n",
       "      <td>0</td>\n",
       "      <td>0</td>\n",
       "      <td>0</td>\n",
       "      <td>0</td>\n",
       "      <td>0</td>\n",
       "      <td>0</td>\n",
       "      <td>...</td>\n",
       "      <td>1</td>\n",
       "      <td>0</td>\n",
       "      <td>0</td>\n",
       "      <td>0</td>\n",
       "      <td>0</td>\n",
       "      <td>0</td>\n",
       "      <td>0</td>\n",
       "      <td>0</td>\n",
       "      <td>0</td>\n",
       "      <td>0</td>\n",
       "    </tr>\n",
       "    <tr>\n",
       "      <th>1337</th>\n",
       "      <td>2.927942e+10</td>\n",
       "      <td>314159265359</td>\n",
       "      <td>0</td>\n",
       "      <td>0</td>\n",
       "      <td>0</td>\n",
       "      <td>0</td>\n",
       "      <td>0</td>\n",
       "      <td>0</td>\n",
       "      <td>0</td>\n",
       "      <td>0</td>\n",
       "      <td>...</td>\n",
       "      <td>1</td>\n",
       "      <td>0</td>\n",
       "      <td>0</td>\n",
       "      <td>0</td>\n",
       "      <td>0</td>\n",
       "      <td>0</td>\n",
       "      <td>0</td>\n",
       "      <td>0</td>\n",
       "      <td>0</td>\n",
       "      <td>0</td>\n",
       "    </tr>\n",
       "    <tr>\n",
       "      <th>BTC</th>\n",
       "      <td>1.792718e+07</td>\n",
       "      <td>21000000</td>\n",
       "      <td>0</td>\n",
       "      <td>0</td>\n",
       "      <td>0</td>\n",
       "      <td>0</td>\n",
       "      <td>0</td>\n",
       "      <td>0</td>\n",
       "      <td>0</td>\n",
       "      <td>0</td>\n",
       "      <td>...</td>\n",
       "      <td>0</td>\n",
       "      <td>0</td>\n",
       "      <td>0</td>\n",
       "      <td>0</td>\n",
       "      <td>0</td>\n",
       "      <td>0</td>\n",
       "      <td>0</td>\n",
       "      <td>0</td>\n",
       "      <td>0</td>\n",
       "      <td>0</td>\n",
       "    </tr>\n",
       "  </tbody>\n",
       "</table>\n",
       "<p>5 rows × 109 columns</p>\n",
       "</div>"
      ],
      "text/plain": [
       "            TotalCoinsMined TotalCoinSupply  Algorithm_1GB AES Pattern Search  \\\n",
       "Unnamed: 0                                                                      \n",
       "42             4.199995e+01              42                                 0   \n",
       "404            1.055185e+09       532000000                                 0   \n",
       "808            0.000000e+00               0                                 0   \n",
       "1337           2.927942e+10    314159265359                                 0   \n",
       "BTC            1.792718e+07        21000000                                 0   \n",
       "\n",
       "            Algorithm_536  Algorithm_Argon2  Algorithm_Argon2d  \\\n",
       "Unnamed: 0                                                       \n",
       "42                      0                 0                  0   \n",
       "404                     0                 0                  0   \n",
       "808                     0                 0                  0   \n",
       "1337                    0                 0                  0   \n",
       "BTC                     0                 0                  0   \n",
       "\n",
       "            Algorithm_BLAKE256  Algorithm_Blake  Algorithm_Blake2S  \\\n",
       "Unnamed: 0                                                           \n",
       "42                           0                0                  0   \n",
       "404                          0                0                  0   \n",
       "808                          0                0                  0   \n",
       "1337                         0                0                  0   \n",
       "BTC                          0                0                  0   \n",
       "\n",
       "            Algorithm_Blake2b  ...  ProofType_PoW/PoS  ProofType_PoW/PoS   \\\n",
       "Unnamed: 0                     ...                                          \n",
       "42                          0  ...                  1                   0   \n",
       "404                         0  ...                  1                   0   \n",
       "808                         0  ...                  1                   0   \n",
       "1337                        0  ...                  1                   0   \n",
       "BTC                         0  ...                  0                   0   \n",
       "\n",
       "            ProofType_PoW/PoW  ProofType_PoW/nPoS  ProofType_Pos  \\\n",
       "Unnamed: 0                                                         \n",
       "42                          0                   0              0   \n",
       "404                         0                   0              0   \n",
       "808                         0                   0              0   \n",
       "1337                        0                   0              0   \n",
       "BTC                         0                   0              0   \n",
       "\n",
       "            ProofType_Proof of Authority  ProofType_Proof of Trust  \\\n",
       "Unnamed: 0                                                           \n",
       "42                                     0                         0   \n",
       "404                                    0                         0   \n",
       "808                                    0                         0   \n",
       "1337                                   0                         0   \n",
       "BTC                                    0                         0   \n",
       "\n",
       "            ProofType_TPoS  ProofType_Zero-Knowledge Proof  ProofType_dPoW/PoW  \n",
       "Unnamed: 0                                                                      \n",
       "42                       0                               0                   0  \n",
       "404                      0                               0                   0  \n",
       "808                      0                               0                   0  \n",
       "1337                     0                               0                   0  \n",
       "BTC                      0                               0                   0  \n",
       "\n",
       "[5 rows x 109 columns]"
      ]
     },
     "execution_count": 101,
     "metadata": {},
     "output_type": "execute_result"
    }
   ],
   "source": [
    "# Use get_dummies() to create variables for text features.\n",
    "X = pd.get_dummies(crypto_df, columns=['Algorithm', 'ProofType'])\n",
    "X.head()"
   ]
  },
  {
   "cell_type": "code",
   "execution_count": 102,
   "metadata": {},
   "outputs": [
    {
     "name": "stdout",
     "output_type": "stream",
     "text": [
      "[[-0.10282804 -0.03823841 -0.03823596 -0.03823596 -0.03823596 -0.03823596\n",
      "  -0.05411338 -0.07664017 -0.03823596 -0.05411338 -0.05411338 -0.03823596\n",
      "  -0.03823596 -0.18216065 -0.05411338 -0.03823596 -0.03823596 -0.08574929\n",
      "  -0.03823596 -0.10160947 -0.06632365 -0.03823596 -0.03823596 -0.1642757\n",
      "  -0.03823596 -0.03823596 -0.13908716 -0.03823596 -0.03823596 -0.07664017\n",
      "  -0.03823596 -0.03823596 -0.03823596 -0.03823596 -0.06632365 -0.03823596\n",
      "  -0.07664017 -0.08574929 -0.07664017 -0.03823596 -0.03823596 -0.12775161\n",
      "  -0.1335313  -0.13908716 -0.03823596 -0.05411338 -0.03823596 -0.06632365\n",
      "  -0.1689039  -0.03823596 -0.03823596 -0.03823596 -0.07664017 -0.17342199\n",
      "  -0.33468341 -0.03823596 -0.08574929 -0.06632365 -0.05411338 -0.03823596\n",
      "   1.42042992 -0.06632365 -0.03823596 -0.03823596 -0.06632365 -0.06632365\n",
      "  -0.03823596 -0.03823596 -0.03823596 -0.03823596 -0.03823596 -0.03823596\n",
      "  -0.03823596 -0.41586681 -0.03823596 -0.19054822 -0.03823596 -0.10870529\n",
      "  -0.07664017 -0.09400279 -0.03823596 -0.03823596 -0.03823596 -0.03823596\n",
      "  -0.12171612 -0.03823596 -0.03823596 -0.03823596 -0.03823596 -0.03823596\n",
      "  -0.06632365 -0.42308595 -0.03823596 -0.05411338 -0.03823596 -0.03823596\n",
      "  -0.90921211 -0.03823596 -0.03823596  1.38379681 -0.03823596 -0.03823596\n",
      "  -0.03823596 -0.03823596 -0.03823596 -0.03823596 -0.03823596 -0.03823596\n",
      "  -0.03823596]\n",
      " [-0.07661326 -0.03823825 -0.03823596 -0.03823596 -0.03823596 -0.03823596\n",
      "  -0.05411338 -0.07664017 -0.03823596 -0.05411338 -0.05411338 -0.03823596\n",
      "  -0.03823596 -0.18216065 -0.05411338 -0.03823596 -0.03823596 -0.08574929\n",
      "  -0.03823596 -0.10160947 -0.06632365 -0.03823596 -0.03823596 -0.1642757\n",
      "  -0.03823596 -0.03823596 -0.13908716 -0.03823596 -0.03823596 -0.07664017\n",
      "  -0.03823596 -0.03823596 -0.03823596 -0.03823596 -0.06632365 -0.03823596\n",
      "  -0.07664017 -0.08574929 -0.07664017 -0.03823596 -0.03823596 -0.12775161\n",
      "  -0.1335313  -0.13908716 -0.03823596 -0.05411338 -0.03823596 -0.06632365\n",
      "  -0.1689039  -0.03823596 -0.03823596 -0.03823596 -0.07664017 -0.17342199\n",
      "  -0.33468341 -0.03823596 -0.08574929 -0.06632365 -0.05411338 -0.03823596\n",
      "   1.42042992 -0.06632365 -0.03823596 -0.03823596 -0.06632365 -0.06632365\n",
      "  -0.03823596 -0.03823596 -0.03823596 -0.03823596 -0.03823596 -0.03823596\n",
      "  -0.03823596 -0.41586681 -0.03823596 -0.19054822 -0.03823596 -0.10870529\n",
      "  -0.07664017 -0.09400279 -0.03823596 -0.03823596 -0.03823596 -0.03823596\n",
      "  -0.12171612 -0.03823596 -0.03823596 -0.03823596 -0.03823596 -0.03823596\n",
      "  -0.06632365 -0.42308595 -0.03823596 -0.05411338 -0.03823596 -0.03823596\n",
      "  -0.90921211 -0.03823596 -0.03823596  1.38379681 -0.03823596 -0.03823596\n",
      "  -0.03823596 -0.03823596 -0.03823596 -0.03823596 -0.03823596 -0.03823596\n",
      "  -0.03823596]\n",
      " [-0.10282804 -0.03823841 -0.03823596 -0.03823596 -0.03823596 -0.03823596\n",
      "  -0.05411338 -0.07664017 -0.03823596 -0.05411338 -0.05411338 -0.03823596\n",
      "  -0.03823596 -0.18216065 -0.05411338 -0.03823596 -0.03823596 -0.08574929\n",
      "  -0.03823596 -0.10160947 -0.06632365 -0.03823596 -0.03823596 -0.1642757\n",
      "  -0.03823596 -0.03823596 -0.13908716 -0.03823596 -0.03823596 -0.07664017\n",
      "  -0.03823596 -0.03823596 -0.03823596 -0.03823596 -0.06632365 -0.03823596\n",
      "  -0.07664017 -0.08574929 -0.07664017 -0.03823596 -0.03823596 -0.12775161\n",
      "  -0.1335313  -0.13908716 -0.03823596 -0.05411338 -0.03823596 -0.06632365\n",
      "  -0.1689039  -0.03823596 -0.03823596 -0.03823596 -0.07664017 -0.17342199\n",
      "   2.9878983  -0.03823596 -0.08574929 -0.06632365 -0.05411338 -0.03823596\n",
      "  -0.70401221 -0.06632365 -0.03823596 -0.03823596 -0.06632365 -0.06632365\n",
      "  -0.03823596 -0.03823596 -0.03823596 -0.03823596 -0.03823596 -0.03823596\n",
      "  -0.03823596 -0.41586681 -0.03823596 -0.19054822 -0.03823596 -0.10870529\n",
      "  -0.07664017 -0.09400279 -0.03823596 -0.03823596 -0.03823596 -0.03823596\n",
      "  -0.12171612 -0.03823596 -0.03823596 -0.03823596 -0.03823596 -0.03823596\n",
      "  -0.06632365 -0.42308595 -0.03823596 -0.05411338 -0.03823596 -0.03823596\n",
      "  -0.90921211 -0.03823596 -0.03823596  1.38379681 -0.03823596 -0.03823596\n",
      "  -0.03823596 -0.03823596 -0.03823596 -0.03823596 -0.03823596 -0.03823596\n",
      "  -0.03823596]\n",
      " [ 0.62458365 -0.03814919 -0.03823596 -0.03823596 -0.03823596 -0.03823596\n",
      "  -0.05411338 -0.07664017 -0.03823596 -0.05411338 -0.05411338 -0.03823596\n",
      "  -0.03823596 -0.18216065 -0.05411338 -0.03823596 -0.03823596 -0.08574929\n",
      "  -0.03823596 -0.10160947 -0.06632365 -0.03823596 -0.03823596 -0.1642757\n",
      "  -0.03823596 -0.03823596 -0.13908716 -0.03823596 -0.03823596 -0.07664017\n",
      "  -0.03823596 -0.03823596 -0.03823596 -0.03823596 -0.06632365 -0.03823596\n",
      "  -0.07664017 -0.08574929 -0.07664017 -0.03823596 -0.03823596 -0.12775161\n",
      "  -0.1335313  -0.13908716 -0.03823596 -0.05411338 -0.03823596 -0.06632365\n",
      "  -0.1689039  -0.03823596 -0.03823596 -0.03823596 -0.07664017 -0.17342199\n",
      "  -0.33468341 -0.03823596 -0.08574929 -0.06632365 -0.05411338 -0.03823596\n",
      "  -0.70401221 -0.06632365 -0.03823596 -0.03823596 -0.06632365 -0.06632365\n",
      "  -0.03823596 -0.03823596 -0.03823596 -0.03823596 -0.03823596 -0.03823596\n",
      "  -0.03823596 -0.41586681 -0.03823596  5.2480155  -0.03823596 -0.10870529\n",
      "  -0.07664017 -0.09400279 -0.03823596 -0.03823596 -0.03823596 -0.03823596\n",
      "  -0.12171612 -0.03823596 -0.03823596 -0.03823596 -0.03823596 -0.03823596\n",
      "  -0.06632365 -0.42308595 -0.03823596 -0.05411338 -0.03823596 -0.03823596\n",
      "  -0.90921211 -0.03823596 -0.03823596  1.38379681 -0.03823596 -0.03823596\n",
      "  -0.03823596 -0.03823596 -0.03823596 -0.03823596 -0.03823596 -0.03823596\n",
      "  -0.03823596]\n",
      " [-0.10238266 -0.0382384  -0.03823596 -0.03823596 -0.03823596 -0.03823596\n",
      "  -0.05411338 -0.07664017 -0.03823596 -0.05411338 -0.05411338 -0.03823596\n",
      "  -0.03823596 -0.18216065 -0.05411338 -0.03823596 -0.03823596 -0.08574929\n",
      "  -0.03823596 -0.10160947 -0.06632365 -0.03823596 -0.03823596 -0.1642757\n",
      "  -0.03823596 -0.03823596 -0.13908716 -0.03823596 -0.03823596 -0.07664017\n",
      "  -0.03823596 -0.03823596 -0.03823596 -0.03823596 -0.06632365 -0.03823596\n",
      "  -0.07664017 -0.08574929 -0.07664017 -0.03823596 -0.03823596 -0.12775161\n",
      "  -0.1335313  -0.13908716 -0.03823596 -0.05411338 -0.03823596 -0.06632365\n",
      "  -0.1689039  -0.03823596 -0.03823596 -0.03823596 -0.07664017 -0.17342199\n",
      "   2.9878983  -0.03823596 -0.08574929 -0.06632365 -0.05411338 -0.03823596\n",
      "  -0.70401221 -0.06632365 -0.03823596 -0.03823596 -0.06632365 -0.06632365\n",
      "  -0.03823596 -0.03823596 -0.03823596 -0.03823596 -0.03823596 -0.03823596\n",
      "  -0.03823596 -0.41586681 -0.03823596 -0.19054822 -0.03823596 -0.10870529\n",
      "  -0.07664017 -0.09400279 -0.03823596 -0.03823596 -0.03823596 -0.03823596\n",
      "  -0.12171612 -0.03823596 -0.03823596 -0.03823596 -0.03823596 -0.03823596\n",
      "  -0.06632365 -0.42308595 -0.03823596 -0.05411338 -0.03823596 -0.03823596\n",
      "   1.09985336 -0.03823596 -0.03823596 -0.72264945 -0.03823596 -0.03823596\n",
      "  -0.03823596 -0.03823596 -0.03823596 -0.03823596 -0.03823596 -0.03823596\n",
      "  -0.03823596]]\n"
     ]
    }
   ],
   "source": [
    "# Standardize the data with StandardScaler().\n",
    "iris_scaled = StandardScaler().fit_transform(X)\n",
    "print(iris_scaled[0:5])"
   ]
  },
  {
   "cell_type": "markdown",
   "metadata": {},
   "source": [
    "### Deliverable 2: Reducing Data Dimensions Using PCA"
   ]
  },
  {
   "cell_type": "code",
   "execution_count": 93,
   "metadata": {},
   "outputs": [],
   "source": [
    "# Using PCA to reduce dimension to three principal components.\n",
    "pca = PCA(n_components=3)\n"
   ]
  },
  {
   "cell_type": "code",
   "execution_count": 119,
   "metadata": {},
   "outputs": [
    {
     "data": {
      "text/plain": [
       "PC 1    685\n",
       "PC 2    685\n",
       "PC 3    685\n",
       "dtype: int64"
      ]
     },
     "execution_count": 119,
     "metadata": {},
     "output_type": "execute_result"
    }
   ],
   "source": [
    "# Create a DataFrame with the three principal components.\n",
    "iris_pca = pca.fit_transform(iris_scaled)\n",
    "pcs_df = pd.DataFrame(data=iris_pca, columns=[\"PC 1\", \"PC 2\", \"PC 3\"], index=crypto_df.index)\n",
    "pcs_df.head()\n",
    "pcs_df.count()"
   ]
  },
  {
   "cell_type": "markdown",
   "metadata": {},
   "source": [
    "### Deliverable 3: Clustering Crytocurrencies Using K-Means\n",
    "\n",
    "#### Finding the Best Value for `k` Using the Elbow Curve"
   ]
  },
  {
   "cell_type": "code",
   "execution_count": 106,
   "metadata": {},
   "outputs": [
    {
     "name": "stderr",
     "output_type": "stream",
     "text": [
      "C:\\Users\\JohnPaul.Kivlin\\Anaconda3\\envs\\mlenv\\lib\\site-packages\\sklearn\\cluster\\_kmeans.py:882: UserWarning: KMeans is known to have a memory leak on Windows with MKL, when there are less chunks than available threads. You can avoid it by setting the environment variable OMP_NUM_THREADS=3.\n",
      "  f\"KMeans is known to have a memory leak on Windows \"\n"
     ]
    },
    {
     "data": {},
     "metadata": {},
     "output_type": "display_data"
    },
    {
     "data": {
      "application/vnd.holoviews_exec.v0+json": "",
      "text/html": [
       "<div id='1002'>\n",
       "\n",
       "\n",
       "\n",
       "\n",
       "\n",
       "  <div class=\"bk-root\" id=\"e75238fa-7bce-454c-9be1-f37eb8cdfc50\" data-root-id=\"1002\"></div>\n",
       "</div>\n",
       "<script type=\"application/javascript\">(function(root) {\n",
       "  function embed_document(root) {\n",
       "    var docs_json = {\"0a2af99f-b485-4ec4-9a71-07e36759de32\":{\"defs\":[{\"extends\":null,\"module\":null,\"name\":\"ReactiveHTML1\",\"overrides\":[],\"properties\":[]},{\"extends\":null,\"module\":null,\"name\":\"FlexBox1\",\"overrides\":[],\"properties\":[{\"default\":\"flex-start\",\"kind\":null,\"name\":\"align_content\"},{\"default\":\"flex-start\",\"kind\":null,\"name\":\"align_items\"},{\"default\":\"row\",\"kind\":null,\"name\":\"flex_direction\"},{\"default\":\"wrap\",\"kind\":null,\"name\":\"flex_wrap\"},{\"default\":\"flex-start\",\"kind\":null,\"name\":\"justify_content\"}]},{\"extends\":null,\"module\":null,\"name\":\"TemplateActions1\",\"overrides\":[],\"properties\":[{\"default\":0,\"kind\":null,\"name\":\"open_modal\"},{\"default\":0,\"kind\":null,\"name\":\"close_modal\"}]},{\"extends\":null,\"module\":null,\"name\":\"MaterialTemplateActions1\",\"overrides\":[],\"properties\":[{\"default\":0,\"kind\":null,\"name\":\"open_modal\"},{\"default\":0,\"kind\":null,\"name\":\"close_modal\"}]}],\"roots\":{\"references\":[{\"attributes\":{\"axis\":{\"id\":\"1020\"},\"dimension\":1,\"grid_line_color\":null,\"ticker\":null},\"id\":\"1023\",\"type\":\"Grid\"},{\"attributes\":{},\"id\":\"1048\",\"type\":\"BasicTickFormatter\"},{\"attributes\":{\"text\":\"Elbow Curve\",\"text_color\":\"black\",\"text_font_size\":\"12pt\"},\"id\":\"1008\",\"type\":\"Title\"},{\"attributes\":{\"bottom_units\":\"screen\",\"fill_alpha\":0.5,\"fill_color\":\"lightgrey\",\"left_units\":\"screen\",\"level\":\"overlay\",\"line_alpha\":1.0,\"line_color\":\"black\",\"line_dash\":[4,4],\"line_width\":2,\"right_units\":\"screen\",\"syncable\":false,\"top_units\":\"screen\"},\"id\":\"1029\",\"type\":\"BoxAnnotation\"},{\"attributes\":{},\"id\":\"1021\",\"type\":\"BasicTicker\"},{\"attributes\":{\"below\":[{\"id\":\"1016\"}],\"center\":[{\"id\":\"1019\"},{\"id\":\"1023\"}],\"height\":300,\"left\":[{\"id\":\"1020\"}],\"margin\":[5,5,5,5],\"min_border_bottom\":10,\"min_border_left\":10,\"min_border_right\":10,\"min_border_top\":10,\"renderers\":[{\"id\":\"1043\"}],\"sizing_mode\":\"fixed\",\"title\":{\"id\":\"1008\"},\"toolbar\":{\"id\":\"1030\"},\"width\":700,\"x_range\":{\"id\":\"1004\"},\"x_scale\":{\"id\":\"1012\"},\"y_range\":{\"id\":\"1005\"},\"y_scale\":{\"id\":\"1014\"}},\"id\":\"1007\",\"subtype\":\"Figure\",\"type\":\"Plot\"},{\"attributes\":{\"line_alpha\":0.1,\"line_color\":\"#30a2da\",\"line_width\":2,\"x\":{\"field\":\"k\"},\"y\":{\"field\":\"inertia\"}},\"id\":\"1041\",\"type\":\"Line\"},{\"attributes\":{},\"id\":\"1049\",\"type\":\"AllLabels\"},{\"attributes\":{},\"id\":\"1024\",\"type\":\"SaveTool\"},{\"attributes\":{\"margin\":[5,5,5,5],\"name\":\"HSpacer01632\",\"sizing_mode\":\"stretch_width\"},\"id\":\"1073\",\"type\":\"Spacer\"},{\"attributes\":{\"end\":4755.216216400037,\"reset_end\":4755.216216400037,\"reset_start\":-270.64133806889356,\"start\":-270.64133806889356,\"tags\":[[[\"inertia\",\"inertia\",null]]]},\"id\":\"1005\",\"type\":\"Range1d\"},{\"attributes\":{},\"id\":\"1025\",\"type\":\"PanTool\"},{\"attributes\":{\"ticks\":[1,2,3,4,5,6,7,8,9,10]},\"id\":\"1046\",\"type\":\"FixedTicker\"},{\"attributes\":{},\"id\":\"1028\",\"type\":\"ResetTool\"},{\"attributes\":{\"line_color\":\"#30a2da\",\"line_width\":2,\"x\":{\"field\":\"k\"},\"y\":{\"field\":\"inertia\"}},\"id\":\"1045\",\"type\":\"Line\"},{\"attributes\":{},\"id\":\"1026\",\"type\":\"WheelZoomTool\"},{\"attributes\":{\"children\":[{\"id\":\"1003\"},{\"id\":\"1007\"},{\"id\":\"1073\"}],\"margin\":[0,0,0,0],\"name\":\"Row01627\",\"tags\":[\"embedded\"]},\"id\":\"1002\",\"type\":\"Row\"},{\"attributes\":{},\"id\":\"1061\",\"type\":\"UnionRenderers\"},{\"attributes\":{\"margin\":[5,5,5,5],\"name\":\"HSpacer01631\",\"sizing_mode\":\"stretch_width\"},\"id\":\"1003\",\"type\":\"Spacer\"},{\"attributes\":{\"overlay\":{\"id\":\"1029\"}},\"id\":\"1027\",\"type\":\"BoxZoomTool\"},{\"attributes\":{\"axis\":{\"id\":\"1016\"},\"grid_line_color\":null,\"ticker\":null},\"id\":\"1019\",\"type\":\"Grid\"},{\"attributes\":{},\"id\":\"1012\",\"type\":\"LinearScale\"},{\"attributes\":{\"end\":10.0,\"reset_end\":10.0,\"reset_start\":1.0,\"start\":1.0,\"tags\":[[[\"k\",\"k\",null]]]},\"id\":\"1004\",\"type\":\"Range1d\"},{\"attributes\":{\"data_source\":{\"id\":\"1037\"},\"glyph\":{\"id\":\"1040\"},\"hover_glyph\":null,\"muted_glyph\":{\"id\":\"1042\"},\"nonselection_glyph\":{\"id\":\"1041\"},\"selection_glyph\":{\"id\":\"1045\"},\"view\":{\"id\":\"1044\"}},\"id\":\"1043\",\"type\":\"GlyphRenderer\"},{\"attributes\":{},\"id\":\"1014\",\"type\":\"LinearScale\"},{\"attributes\":{\"callback\":null,\"renderers\":[{\"id\":\"1043\"}],\"tags\":[\"hv_created\"],\"tooltips\":[[\"k\",\"@{k}\"],[\"inertia\",\"@{inertia}\"]]},\"id\":\"1006\",\"type\":\"HoverTool\"},{\"attributes\":{\"axis_label\":\"inertia\",\"formatter\":{\"id\":\"1053\"},\"major_label_policy\":{\"id\":\"1054\"},\"ticker\":{\"id\":\"1021\"}},\"id\":\"1020\",\"type\":\"LinearAxis\"},{\"attributes\":{\"line_alpha\":0.2,\"line_color\":\"#30a2da\",\"line_width\":2,\"x\":{\"field\":\"k\"},\"y\":{\"field\":\"inertia\"}},\"id\":\"1042\",\"type\":\"Line\"},{\"attributes\":{\"axis_label\":\"k\",\"formatter\":{\"id\":\"1048\"},\"major_label_policy\":{\"id\":\"1049\"},\"ticker\":{\"id\":\"1046\"}},\"id\":\"1016\",\"type\":\"LinearAxis\"},{\"attributes\":{\"line_color\":\"#30a2da\",\"line_width\":2,\"x\":{\"field\":\"k\"},\"y\":{\"field\":\"inertia\"}},\"id\":\"1040\",\"type\":\"Line\"},{\"attributes\":{},\"id\":\"1054\",\"type\":\"AllLabels\"},{\"attributes\":{\"source\":{\"id\":\"1037\"}},\"id\":\"1044\",\"type\":\"CDSView\"},{\"attributes\":{\"data\":{\"inertia\":{\"__ndarray__\":\"IzORDmXwsEAJ3cKwzg+oQKg8Pq6puZxAWzWxuteWiUBgRlgYKLd4QFCO9MefrXNA1y1dOt4FcEDHVt4Kc6trQFSNQGemf2ZAyYkXlcOFYkA=\",\"dtype\":\"float64\",\"order\":\"little\",\"shape\":[10]},\"k\":[1,2,3,4,5,6,7,8,9,10]},\"selected\":{\"id\":\"1038\"},\"selection_policy\":{\"id\":\"1061\"}},\"id\":\"1037\",\"type\":\"ColumnDataSource\"},{\"attributes\":{},\"id\":\"1053\",\"type\":\"BasicTickFormatter\"},{\"attributes\":{},\"id\":\"1038\",\"type\":\"Selection\"},{\"attributes\":{\"active_multi\":null,\"tools\":[{\"id\":\"1006\"},{\"id\":\"1024\"},{\"id\":\"1025\"},{\"id\":\"1026\"},{\"id\":\"1027\"},{\"id\":\"1028\"}]},\"id\":\"1030\",\"type\":\"Toolbar\"}],\"root_ids\":[\"1002\"]},\"title\":\"Bokeh Application\",\"version\":\"2.3.2\"}};\n",
       "    var render_items = [{\"docid\":\"0a2af99f-b485-4ec4-9a71-07e36759de32\",\"root_ids\":[\"1002\"],\"roots\":{\"1002\":\"e75238fa-7bce-454c-9be1-f37eb8cdfc50\"}}];\n",
       "    root.Bokeh.embed.embed_items_notebook(docs_json, render_items);\n",
       "  }\n",
       "  if (root.Bokeh !== undefined && root.Bokeh.Panel !== undefined) {\n",
       "    embed_document(root);\n",
       "  } else {\n",
       "    var attempts = 0;\n",
       "    var timer = setInterval(function(root) {\n",
       "      if (root.Bokeh !== undefined && root.Bokeh.Panel !== undefined) {\n",
       "        clearInterval(timer);\n",
       "        embed_document(root);\n",
       "      } else if (document.readyState == \"complete\") {\n",
       "        attempts++;\n",
       "        if (attempts > 200) {\n",
       "          clearInterval(timer);\n",
       "          console.log(\"Bokeh: ERROR: Unable to run BokehJS code because BokehJS library is missing\");\n",
       "        }\n",
       "      }\n",
       "    }, 25, root)\n",
       "  }\n",
       "})(window);</script>"
      ],
      "text/plain": [
       ":Curve   [k]   (inertia)"
      ]
     },
     "execution_count": 106,
     "metadata": {
      "application/vnd.holoviews_exec.v0+json": {
       "id": "1002"
      }
     },
     "output_type": "execute_result"
    }
   ],
   "source": [
    "# Create an elbow curve to find the best value for K.\n",
    "inertia = []\n",
    "k = list(range(1, 11))\n",
    "# Looking for the best K\n",
    "for i in k:\n",
    "    km = KMeans(n_clusters=i, random_state=0)\n",
    "    km.fit(pcs_df)\n",
    "    inertia.append(km.inertia_)\n",
    "elbow_data = {\"k\": k, \"inertia\": inertia}\n",
    "df_elbow = pd.DataFrame(elbow_data)\n",
    "df_elbow.hvplot.line(x=\"k\", y=\"inertia\", title=\"Elbow Curve\", xticks=k)\n"
   ]
  },
  {
   "cell_type": "markdown",
   "metadata": {},
   "source": [
    "Running K-Means with `k=4`"
   ]
  },
  {
   "cell_type": "code",
   "execution_count": 105,
   "metadata": {},
   "outputs": [
    {
     "name": "stdout",
     "output_type": "stream",
     "text": [
      "[1 1 1 1 0 0 0 1 0 0 0 1 0 1 1 1 0 1 0 0 1 1 1 0 1 0 1 0 0 0 0 0 1 0 0 0 0\n",
      " 1 0 1 0 1 0 1 1 0 1 1 1 0 1 0 0 0 0 0 0 0 1 0 1 1 0 1 0 0 0 0 0 1 1 1 0 1\n",
      " 0 1 0 1 1 0 0 0 0 1 1 0 0 1 0 1 1 1 0 0 0 0 1 1 1 1 1 0 0 0 1 1 0 0 0 1 1\n",
      " 0 1 0 1 1 0 0 0 0 0 1 1 1 0 0 1 0 0 1 1 1 0 1 1 1 0 0 1 1 0 1 0 1 1 0 1 0\n",
      " 1 0 1 0 1 1 1 1 0 1 0 0 1 0 0 1 0 1 1 0 0 0 0 0 0 0 0 1 1 0 1 0 1 0 0 1 0\n",
      " 1 1 1 0 0 1 0 1 1 0 1 1 1 0 0 1 0 0 0 1 1 0 0 1 1 0 1 1 1 1 0 0 1 0 0 0 0\n",
      " 0 1 0 0 1 0 1 1 1 1 0 0 1 1 1 1 1 0 1 1 1 1 1 1 1 0 1 1 1 1 1 0 1 0 1 1 1\n",
      " 0 1 0 1 1 0 1 0 1 1 0 1 0 1 1 1 0 1 0 0 0 1 1 0 1 1 1 0 0 0 1 1 1 0 0 0 1\n",
      " 1 1 1 1 1 1 0 1 1 1 1 1 1 1 1 0 1 1 1 1 1 1 0 0 1 0 1 1 1 1 1 1 0 1 0 1 0\n",
      " 0 1 1 0 0 1 0 0 1 0 0 0 0 1 0 1 1 1 0 1 1 1 0 1 1 1 1 1 0 1 1 0 0 1 0 1 1\n",
      " 1 1 1 0 1 0 1 0 0 0 0 1 0 1 1 0 1 0 1 0 0 1 0 1 0 0 0 1 0 1 0 1 0 1 1 0 1\n",
      " 0 0 0 0 0 0 1 1 0 1 1 1 0 1 0 1 0 1 0 1 1 1 1 0 1 1 0 1 1 1 1 1 1 0 0 0 0\n",
      " 0 0 1 1 1 1 1 0 1 0 0 0 1 1 0 0 0 1 1 0 1 1 0 0 1 0 1 0 0 1 1 1 0 0 0 1 1\n",
      " 1 0 1 0 0 1 0 0 0 0 0 0 1 2 2 0 0 0 0 0 0 1 2 1 1 1 1 0 0 0 0 0 0 1 0 1 1\n",
      " 0 0 1 0 1 1 1 1 1 1 1 0 1 1 0 1 1 0 0 1 0 1 0 0 0 0 1 1 0 1 0 1 1 1 1 1 1\n",
      " 0 0 0 1 1 1 1 1 1 1 0 1 0 0 1 0 0 1 1 1 1 0 1 0 1 1 1 0 1 1 1 0 2 1 0 1 0\n",
      " 0 0 0 0 1 0 1 0 1 0 1 0 0 0 0 0 0 0 1 0 1 0 1 1 0 1 1 0 1 1 1 0 0 0 0 1 1\n",
      " 1 1 0 0 1 0 1 1 0 1 1 1 1 0 0 1 1 1 0 1 0 0 1 1 0 1 1 1 0 0 1 1 1 1 1 0 1\n",
      " 1 1 0 1 0 1 0 1 0 1 2 1 3 1 1 1 0 0 1]\n"
     ]
    }
   ],
   "source": [
    "# Initialize the K-Means model.\n",
    "model = KMeans(n_clusters=4, random_state=5)\n",
    "model\n",
    "\n",
    "# Fit the model\n",
    "model.fit(pcs_df)\n",
    "\n",
    "# Predict clusters\n",
    "predictions = model.predict(pcs_df)\n",
    "print(predictions)"
   ]
  },
  {
   "cell_type": "code",
   "execution_count": 154,
   "metadata": {},
   "outputs": [
    {
     "name": "stdout",
     "output_type": "stream",
     "text": [
      "(685, 9)\n"
     ]
    },
    {
     "data": {
      "text/html": [
       "<div>\n",
       "<style scoped>\n",
       "    .dataframe tbody tr th:only-of-type {\n",
       "        vertical-align: middle;\n",
       "    }\n",
       "\n",
       "    .dataframe tbody tr th {\n",
       "        vertical-align: top;\n",
       "    }\n",
       "\n",
       "    .dataframe thead th {\n",
       "        text-align: right;\n",
       "    }\n",
       "</style>\n",
       "<table border=\"1\" class=\"dataframe\">\n",
       "  <thead>\n",
       "    <tr style=\"text-align: right;\">\n",
       "      <th></th>\n",
       "      <th>Algorithm</th>\n",
       "      <th>ProofType</th>\n",
       "      <th>TotalCoinsMined</th>\n",
       "      <th>TotalCoinSupply</th>\n",
       "      <th>PC 1</th>\n",
       "      <th>PC 2</th>\n",
       "      <th>PC 3</th>\n",
       "      <th>CoinName</th>\n",
       "      <th>class</th>\n",
       "    </tr>\n",
       "    <tr>\n",
       "      <th>Unnamed: 0</th>\n",
       "      <th></th>\n",
       "      <th></th>\n",
       "      <th></th>\n",
       "      <th></th>\n",
       "      <th></th>\n",
       "      <th></th>\n",
       "      <th></th>\n",
       "      <th></th>\n",
       "      <th></th>\n",
       "    </tr>\n",
       "  </thead>\n",
       "  <tbody>\n",
       "    <tr>\n",
       "      <th>42</th>\n",
       "      <td>Scrypt</td>\n",
       "      <td>PoW/PoS</td>\n",
       "      <td>4.199995e+01</td>\n",
       "      <td>42</td>\n",
       "      <td>-0.307591</td>\n",
       "      <td>1.261662</td>\n",
       "      <td>-0.463406</td>\n",
       "      <td>42 Coin</td>\n",
       "      <td>1</td>\n",
       "    </tr>\n",
       "    <tr>\n",
       "      <th>404</th>\n",
       "      <td>Scrypt</td>\n",
       "      <td>PoW/PoS</td>\n",
       "      <td>1.055185e+09</td>\n",
       "      <td>532000000</td>\n",
       "      <td>-0.293082</td>\n",
       "      <td>1.260056</td>\n",
       "      <td>-0.464081</td>\n",
       "      <td>404Coin</td>\n",
       "      <td>1</td>\n",
       "    </tr>\n",
       "    <tr>\n",
       "      <th>808</th>\n",
       "      <td>SHA-256</td>\n",
       "      <td>PoW/PoS</td>\n",
       "      <td>0.000000e+00</td>\n",
       "      <td>0</td>\n",
       "      <td>-0.169777</td>\n",
       "      <td>0.866374</td>\n",
       "      <td>-0.309102</td>\n",
       "      <td>808</td>\n",
       "      <td>1</td>\n",
       "    </tr>\n",
       "    <tr>\n",
       "      <th>1337</th>\n",
       "      <td>X13</td>\n",
       "      <td>PoW/PoS</td>\n",
       "      <td>2.927942e+10</td>\n",
       "      <td>314159265359</td>\n",
       "      <td>0.238985</td>\n",
       "      <td>2.013634</td>\n",
       "      <td>-0.521620</td>\n",
       "      <td>EliteCoin</td>\n",
       "      <td>1</td>\n",
       "    </tr>\n",
       "    <tr>\n",
       "      <th>BTC</th>\n",
       "      <td>SHA-256</td>\n",
       "      <td>PoW</td>\n",
       "      <td>1.792718e+07</td>\n",
       "      <td>21000000</td>\n",
       "      <td>-0.209523</td>\n",
       "      <td>-1.439863</td>\n",
       "      <td>0.125290</td>\n",
       "      <td>Bitcoin</td>\n",
       "      <td>0</td>\n",
       "    </tr>\n",
       "  </tbody>\n",
       "</table>\n",
       "</div>"
      ],
      "text/plain": [
       "           Algorithm ProofType  TotalCoinsMined TotalCoinSupply      PC 1  \\\n",
       "Unnamed: 0                                                                  \n",
       "42            Scrypt   PoW/PoS     4.199995e+01              42 -0.307591   \n",
       "404           Scrypt   PoW/PoS     1.055185e+09       532000000 -0.293082   \n",
       "808          SHA-256   PoW/PoS     0.000000e+00               0 -0.169777   \n",
       "1337             X13   PoW/PoS     2.927942e+10    314159265359  0.238985   \n",
       "BTC          SHA-256       PoW     1.792718e+07        21000000 -0.209523   \n",
       "\n",
       "                PC 2      PC 3   CoinName  class  \n",
       "Unnamed: 0                                        \n",
       "42          1.261662 -0.463406    42 Coin      1  \n",
       "404         1.260056 -0.464081    404Coin      1  \n",
       "808         0.866374 -0.309102        808      1  \n",
       "1337        2.013634 -0.521620  EliteCoin      1  \n",
       "BTC        -1.439863  0.125290    Bitcoin      0  "
      ]
     },
     "execution_count": 154,
     "metadata": {},
     "output_type": "execute_result"
    }
   ],
   "source": [
    "# Create a new DataFrame including predicted clusters and cryptocurrencies features.\n",
    "# Concatentate the crypto_df and pcs_df DataFrames on the same columns.\n",
    "#frames = [crypto_df, pcs_df]\n",
    "clustered_df = pd.concat([crypto_df, pcs_df], axis=1)\n",
    "\n",
    "#  Add a new column, \"CoinName\" to the clustered_df DataFrame that holds the names of the cryptocurrencies. \n",
    "CoinName = names_df[\"CoinName\"]\n",
    "clustered_df = clustered_df.join(CoinName)\n",
    "\n",
    "\n",
    "#  Add a new column, \"Class\" to the clustered_df DataFrame that holds the predictions.\n",
    "clustered_df[\"class\"] = model.labels_\n",
    "\n",
    "# Print the shape of the clustered_df\n",
    "print(clustered_df.shape)\n",
    "clustered_df.head()\n",
    "#clustered_df['TotalCoinSupply'].value_counts()"
   ]
  },
  {
   "cell_type": "markdown",
   "metadata": {},
   "source": [
    "### Deliverable 4: Visualizing Cryptocurrencies Results\n",
    "\n",
    "#### 3D-Scatter with Clusters"
   ]
  },
  {
   "cell_type": "code",
   "execution_count": 143,
   "metadata": {},
   "outputs": [
    {
     "data": {
      "application/vnd.plotly.v1+json": {
       "config": {
        "plotlyServerURL": "https://plot.ly"
       },
       "data": [
        {
         "customdata": [
          [
           "Scrypt"
          ],
          [
           "Scrypt"
          ],
          [
           "SHA-256"
          ],
          [
           "X13"
          ],
          [
           "X11"
          ],
          [
           "SHA-512"
          ],
          [
           "SHA-256"
          ],
          [
           "X11"
          ],
          [
           "SHA-256"
          ],
          [
           "X15"
          ],
          [
           "X13"
          ],
          [
           "X13"
          ],
          [
           "Scrypt"
          ],
          [
           "Scrypt"
          ],
          [
           "Scrypt"
          ],
          [
           "Scrypt"
          ],
          [
           "Scrypt"
          ],
          [
           "Scrypt"
          ],
          [
           "Scrypt"
          ],
          [
           "Multiple"
          ],
          [
           "Scrypt"
          ],
          [
           "Scrypt"
          ],
          [
           "SHA-256"
          ],
          [
           "Groestl"
          ],
          [
           "X11"
          ],
          [
           "PoS"
          ],
          [
           "X11"
          ],
          [
           "NIST5"
          ],
          [
           "Scrypt"
          ],
          [
           "X11"
          ],
          [
           "X15"
          ],
          [
           "Scrypt"
          ],
          [
           "X11"
          ],
          [
           "X11"
          ],
          [
           "X11"
          ],
          [
           "X13"
          ],
          [
           "X11"
          ],
          [
           "SHA3"
          ],
          [
           "Scrypt"
          ],
          [
           "SHA-256"
          ],
          [
           "Scrypt"
          ],
          [
           "X13"
          ],
          [
           "X13"
          ],
          [
           "NeoScrypt"
          ],
          [
           "Scrypt"
          ],
          [
           "Scrypt"
          ],
          [
           "Scrypt"
          ],
          [
           "X15"
          ],
          [
           "Scrypt"
          ],
          [
           "X11"
          ],
          [
           "X11"
          ],
          [
           "Multiple"
          ],
          [
           "PHI1612"
          ],
          [
           "X11"
          ],
          [
           "Scrypt"
          ],
          [
           "Scrypt"
          ],
          [
           "X13"
          ],
          [
           "Scrypt"
          ],
          [
           "Scrypt"
          ],
          [
           "X11"
          ],
          [
           "Multiple"
          ],
          [
           "X13"
          ],
          [
           "Scrypt"
          ],
          [
           "Scrypt"
          ],
          [
           "Shabal256"
          ],
          [
           "Counterparty"
          ],
          [
           "SHA-256"
          ],
          [
           "Scrypt"
          ],
          [
           "Groestl"
          ],
          [
           "Scrypt"
          ],
          [
           "X13"
          ],
          [
           "Scrypt"
          ],
          [
           "SHA-256"
          ],
          [
           "Scrypt"
          ],
          [
           "X13"
          ],
          [
           "X13"
          ],
          [
           "X11"
          ],
          [
           "X11"
          ],
          [
           "X15"
          ],
          [
           "Scrypt"
          ],
          [
           "Scrypt"
          ],
          [
           "Scrypt"
          ],
          [
           "X11"
          ],
          [
           "SHA3"
          ],
          [
           "Scrypt"
          ],
          [
           "QUAIT"
          ],
          [
           "vDPOS"
          ],
          [
           "X11"
          ],
          [
           "X11"
          ],
          [
           "Scrypt"
          ],
          [
           "X11"
          ],
          [
           "X13"
          ],
          [
           "SHA-256"
          ],
          [
           "X13"
          ],
          [
           "X15"
          ],
          [
           "BLAKE256"
          ],
          [
           "SHA-256"
          ],
          [
           "X11"
          ],
          [
           "SHA-256"
          ],
          [
           "Quark"
          ],
          [
           "NIST5"
          ],
          [
           "Blake"
          ],
          [
           "Scrypt"
          ],
          [
           "Scrypt"
          ],
          [
           "Scrypt"
          ],
          [
           "SHA-256"
          ],
          [
           "X11"
          ],
          [
           "Scrypt"
          ],
          [
           "SHA-256"
          ],
          [
           "Scrypt"
          ],
          [
           "PoS"
          ],
          [
           "X11"
          ],
          [
           "X11"
          ],
          [
           "X11"
          ],
          [
           "PoS"
          ],
          [
           "SHA-256"
          ],
          [
           "SHA-256"
          ],
          [
           "NIST5"
          ],
          [
           "X15"
          ],
          [
           "X11"
          ],
          [
           "NIST5"
          ],
          [
           "Scrypt"
          ],
          [
           "Scrypt"
          ],
          [
           "POS 3.0"
          ],
          [
           "Scrypt"
          ],
          [
           "Scrypt"
          ],
          [
           "Scrypt"
          ],
          [
           "X13"
          ],
          [
           "X11"
          ],
          [
           "X11"
          ],
          [
           "X11"
          ],
          [
           "Scrypt"
          ],
          [
           "SHA-256"
          ],
          [
           "X11"
          ],
          [
           "Scrypt"
          ],
          [
           "Scrypt"
          ],
          [
           "X11"
          ],
          [
           "Scrypt"
          ],
          [
           "Scrypt"
          ],
          [
           "SHA-256D"
          ],
          [
           "PoS"
          ],
          [
           "Scrypt"
          ],
          [
           "X11"
          ],
          [
           "PoS"
          ],
          [
           "X13"
          ],
          [
           "X14"
          ],
          [
           "PoS"
          ],
          [
           "SHA-256D"
          ],
          [
           "DPoS"
          ],
          [
           "X11"
          ],
          [
           "Scrypt"
          ],
          [
           "X13"
          ],
          [
           "X11"
          ],
          [
           "PoS"
          ],
          [
           "SHA-256D"
          ],
          [
           "Scrypt"
          ],
          [
           "Scrypt"
          ],
          [
           "Scrypt"
          ],
          [
           "PoS"
          ],
          [
           "X11"
          ],
          [
           "SHA-256"
          ],
          [
           "Scrypt"
          ],
          [
           "X11"
          ],
          [
           "Scrypt"
          ],
          [
           "Scrypt"
          ],
          [
           "X11"
          ],
          [
           "Scrypt"
          ],
          [
           "Scrypt"
          ],
          [
           "Scrypt"
          ],
          [
           "Scrypt"
          ],
          [
           "Quark"
          ],
          [
           "QuBit"
          ],
          [
           "X11"
          ],
          [
           "X13"
          ],
          [
           "PoS"
          ],
          [
           "Scrypt"
          ],
          [
           "SHA-256"
          ],
          [
           "X11"
          ],
          [
           "X11"
          ],
          [
           "Scrypt"
          ],
          [
           "Scrypt"
          ],
          [
           "Scrypt"
          ],
          [
           "Scrypt"
          ],
          [
           "X13"
          ],
          [
           "Scrypt"
          ],
          [
           "Scrypt"
          ],
          [
           "X11"
          ],
          [
           "Blake2S"
          ],
          [
           "X11"
          ],
          [
           "Scrypt"
          ],
          [
           "PoS"
          ],
          [
           "X11"
          ],
          [
           "PoS"
          ],
          [
           "X11"
          ],
          [
           "Scrypt"
          ],
          [
           "Scrypt"
          ],
          [
           "Scrypt"
          ],
          [
           "SHA-256"
          ],
          [
           "X11"
          ],
          [
           "Scrypt"
          ],
          [
           "PoS"
          ],
          [
           "Scrypt"
          ],
          [
           "X11"
          ],
          [
           "X15"
          ],
          [
           "SHA-256"
          ],
          [
           "POS 3.0"
          ],
          [
           "536"
          ],
          [
           "NIST5"
          ],
          [
           "NIST5"
          ],
          [
           "Skein"
          ],
          [
           "X13"
          ],
          [
           "X11"
          ],
          [
           "Scrypt"
          ],
          [
           "X13"
          ],
          [
           "SkunkHash v2 Raptor"
          ],
          [
           "Skein"
          ],
          [
           "X11"
          ],
          [
           "Scrypt"
          ],
          [
           "VeChainThor Authority"
          ],
          [
           "PoS"
          ],
          [
           "Scrypt"
          ],
          [
           "Scrypt"
          ],
          [
           "SHA-512"
          ],
          [
           "Ouroboros"
          ],
          [
           "X11"
          ],
          [
           "NeoScrypt"
          ],
          [
           "Scrypt"
          ],
          [
           "Lyra2REv2"
          ],
          [
           "Scrypt"
          ],
          [
           "SHA-256"
          ],
          [
           "NIST5"
          ],
          [
           "PHI1612"
          ],
          [
           "Scrypt"
          ],
          [
           "Quark"
          ],
          [
           "POS 2.0"
          ],
          [
           "Scrypt"
          ],
          [
           "SkunkHash"
          ],
          [
           "X11"
          ],
          [
           "Quark"
          ],
          [
           "SHA-256"
          ],
          [
           "Quark"
          ],
          [
           "X11"
          ],
          [
           "DPoS"
          ],
          [
           "NIST5"
          ],
          [
           "X13"
          ],
          [
           "Scrypt"
          ],
          [
           "NIST5"
          ],
          [
           "Quark"
          ],
          [
           "Scrypt"
          ],
          [
           "Scrypt"
          ],
          [
           "X11"
          ],
          [
           "SHA-256"
          ],
          [
           "Scrypt"
          ],
          [
           "Quark"
          ],
          [
           "Scrypt"
          ],
          [
           "Scrypt"
          ],
          [
           "X11"
          ],
          [
           "Scrypt"
          ],
          [
           "Scrypt"
          ],
          [
           "POS 3.0"
          ],
          [
           "Scrypt"
          ],
          [
           "Scrypt"
          ],
          [
           "X13"
          ],
          [
           "C11"
          ],
          [
           "X11"
          ],
          [
           "XEVAN"
          ],
          [
           "Scrypt"
          ],
          [
           "VBFT"
          ],
          [
           "NIST5"
          ],
          [
           "Scrypt"
          ],
          [
           "Scrypt"
          ],
          [
           "Scrypt"
          ],
          [
           "Equihash"
          ],
          [
           "Green Protocol"
          ],
          [
           "PoS"
          ],
          [
           "Scrypt"
          ],
          [
           "Scrypt"
          ],
          [
           "Semux BFT consensus"
          ],
          [
           "Scrypt"
          ],
          [
           "Quark"
          ],
          [
           "PoS"
          ],
          [
           "X16R"
          ],
          [
           "Scrypt"
          ],
          [
           "XEVAN"
          ],
          [
           "Scrypt"
          ],
          [
           "Scrypt"
          ],
          [
           "Scrypt"
          ],
          [
           "SHA-256D"
          ],
          [
           "Scrypt"
          ],
          [
           "X15"
          ],
          [
           "Scrypt"
          ],
          [
           "Quark"
          ],
          [
           "SHA-256"
          ],
          [
           "DPoS"
          ],
          [
           "X16R"
          ],
          [
           "Quark"
          ],
          [
           "Quark"
          ],
          [
           "Scrypt"
          ],
          [
           "Zhash"
          ],
          [
           "Lyra2REv2"
          ],
          [
           "Quark"
          ],
          [
           "Scrypt"
          ],
          [
           "Scrypt"
          ],
          [
           "X11"
          ],
          [
           "X11"
          ],
          [
           "Scrypt"
          ],
          [
           "PoS"
          ],
          [
           "Scrypt"
          ],
          [
           "Scrypt"
          ],
          [
           "Keccak"
          ],
          [
           "X11"
          ],
          [
           "Quark"
          ],
          [
           "Scrypt"
          ],
          [
           "SHA-512"
          ],
          [
           "NeoScrypt"
          ],
          [
           "XEVAN"
          ],
          [
           "XEVAN"
          ],
          [
           "X11"
          ],
          [
           "Quark"
          ],
          [
           "Quark"
          ],
          [
           "Scrypt"
          ],
          [
           "Quark"
          ],
          [
           "Quark"
          ],
          [
           "Scrypt"
          ],
          [
           "X11"
          ],
          [
           "Scrypt"
          ],
          [
           "XEVAN"
          ],
          [
           "SHA-256D"
          ],
          [
           "X11"
          ],
          [
           "X11"
          ],
          [
           "DPoS"
          ],
          [
           "X11"
          ],
          [
           "Scrypt"
          ],
          [
           "X11"
          ],
          [
           "QuBit"
          ],
          [
           "Scrypt"
          ],
          [
           "Scrypt"
          ],
          [
           "SHA-256"
          ],
          [
           "Scrypt"
          ],
          [
           "X11"
          ],
          [
           "Scrypt"
          ],
          [
           "SHA-256"
          ],
          [
           "X11"
          ],
          [
           "Scrypt"
          ],
          [
           "SHA-256"
          ],
          [
           "Scrypt"
          ],
          [
           "X11"
          ],
          [
           "Scrypt"
          ],
          [
           "PoS"
          ],
          [
           "X11"
          ],
          [
           "SHA-256"
          ],
          [
           "DPoS"
          ],
          [
           "Scrypt"
          ],
          [
           "Scrypt"
          ],
          [
           "NeoScrypt"
          ],
          [
           "Scrypt"
          ],
          [
           "SHA3-256"
          ],
          [
           "X13"
          ],
          [
           "DPoS"
          ],
          [
           "DPoS"
          ],
          [
           "SHA-256"
          ],
          [
           "PoS"
          ],
          [
           "PoS"
          ],
          [
           "SHA-256"
          ],
          [
           "Scrypt"
          ],
          [
           "Scrypt"
          ]
         ],
         "hovertemplate": "<b>%{hovertext}</b><br><br>class=%{marker.color}<br>PC 1=%{x}<br>PC 2=%{y}<br>PC 3=%{z}<br>Algorithm=%{customdata[0]}<extra></extra>",
         "hovertext": [
          "42 Coin",
          "404Coin",
          "808",
          "EliteCoin",
          "Dash",
          "Bitshares",
          "BitcoinDark",
          "Bitstake",
          "PayCoin",
          "KoboCoin",
          "Aero Coin",
          "ApexCoin",
          "ArchCoin",
          "Aurora Coin",
          "BlueCoin",
          "EnergyCoin",
          "BitBar",
          "CashCoin",
          "CryptoBullion",
          "CinderCoin",
          "CoolCoin",
          "CasinoCoin",
          "eMark",
          "Diamond",
          "DarkCash",
          "Exclusive Coin",
          "Fuel2Coin",
          "FIBRE",
          "FlutterCoin",
          "GlyphCoin",
          "Halcyon",
          "HoboNickels",
          "HyperStake",
          "IOCoin",
          "JumBucks Coin",
          "JudgeCoin",
          "LibrexCoin",
          "MaxCoin",
          "MintCoin",
          "MazaCoin",
          "Nautilus Coin",
          "NavCoin",
          "OpalCoin",
          "Orbitcoin",
          "PotCoin",
          "PhoenixCoin",
          "Reddcoin",
          "ShieldCoin",
          "SilkCoin",
          "SuperCoin",
          "SyncCoin",
          "TeslaCoin",
          "TittieCoin",
          "TorCoin",
          "UnitaryStatus Dollar",
          "UltraCoin",
          "Utility Coin",
          "VeriCoin",
          "SocialXbotCoin",
          "X11 Coin",
          "Crypti",
          "StealthCoin",
          "XXXCoin",
          "ZCC Coin",
          "BurstCoin",
          "StorjCoin",
          "Neutron",
          "KryptCoin",
          "FairCoin",
          "RubyCoin",
          "Kore",
          "Dnotes",
          "MaieutiCoin",
          "8BIT Coin",
          "Sativa Coin",
          "AeroMe",
          "MasterTraderCoin",
          "Ucoin",
          "MaryJane Coin",
          "CyberCoin",
          "Vtorrent",
          "ViorCoin",
          "IslaCoin",
          "Nexus",
          "Singular",
          "Droidz",
          "CryptoCircuits",
          "Squall Coin",
          "Milllionaire Coin",
          "Diggits",
          "MapCoin",
          "Paycon",
          "Emercoin",
          "BlitzCoin",
          "EverGreenCoin",
          "Decred",
          "EDRCoin",
          "Hitcoin",
          "DubaiCoin",
          "BiosCrypto",
          "PWR Coin",
          "TrumpCoin",
          "BillaryCoin",
          "EthereumScrypt",
          "GPU Coin",
          "Universal Currency",
          "EuropeCoin",
          "ZeitCoin",
          "SwingCoin",
          "SafeExchangeCoin",
          "Nebuchadnezzar",
          "GIZMOcoin",
          "SecretCoin",
          "Ratecoin",
          "Digital Bullion Gold",
          "Revenu",
          "Clockcoin",
          "VIP Tokens",
          "OrlyCoin",
          "BitSend",
          "16BitCoin",
          "ChessCoin",
          "ReeCoin",
          "Let it Ride",
          "PutinCoin",
          "iBankCoin",
          "Frankywillcoin",
          "MudraCoin",
          "Lutetium Coin",
          "GoldBlocks",
          "WayCoin",
          "CarterCoin",
          "BitTokens",
          "MustangCoin",
          "ZoneCoin",
          "RootCoin",
          "PROUD Money",
          "BitCurrency",
          "Swiscoin",
          "BuzzCoin",
          "Opair",
          "PesoBit",
          "Halloween Coin",
          "CoffeeCoin",
          "RoyalCoin",
          "GanjaCoin V2",
          "TeamUP",
          "LanaCoin",
          "ARK",
          "InsaneCoin",
          "LuckChain",
          "EmberCoin",
          "XenixCoin",
          "FreeCoin",
          "NPCcoin",
          "PLNCoin",
          "Icobid",
          "AquariusCoin",
          "Creatio",
          "Eternity",
          "Eurocoin",
          "BitcoinFast",
          "Stakenet",
          "BitConnect Coin",
          "MoneyCoin",
          "Enigma",
          "Russiacoin",
          "PandaCoin",
          "GameUnits",
          "GAKHcoin",
          "Allsafe",
          "LiteCreed",
          "NeptuneClassic",
          "GoldenBird",
          "Ride My Car",
          "Klingon Empire Darsek",
          "Internet of People",
          "KushCoin",
          "Eryllium",
          "Printerium",
          "Impeach",
          "Zilbercoin",
          "FirstCoin",
          "FindCoin",
          "OpenChat",
          "RenosCoin",
          "VirtacoinPlus",
          "TajCoin",
          "Impact",
          "Universe",
          "Atmos",
          "HappyCoin",
          "MacronCoin",
          "Condensate",
          "Independent Money System",
          "ArgusCoin",
          "LomoCoin",
          "ProCurrency",
          "GoldReserve",
          "GrowthCoin",
          "Phreak",
          "Degas Coin",
          "ZSEcoin",
          "HTML5 Coin",
          "Ultimate Secure Cash",
          "QTUM",
          "Espers",
          "Denarius",
          "Virta Unique Coin",
          "Bitcoin Planet",
          "BritCoin",
          "Octanox",
          "Linda",
          "DeepOnion",
          "Signatum",
          "Cream",
          "Monoeci",
          "Draftcoin",
          "Vechain",
          "Stakecoin",
          "CoinonatX",
          "Ethereum Dark",
          "Obsidian",
          "Cardano",
          "Regalcoin",
          "TrezarCoin",
          "TerraNovaCoin",
          "Rupee",
          "WomenCoin",
          "Theresa May Coin",
          "NamoCoin",
          "LUXCoin",
          "Xios",
          "Bitcloud 2.0",
          "KekCoin",
          "BlackholeCoin",
          "AltCommunity Coin",
          "Pure",
          "Rupaya",
          "Infinity Economics",
          "Castle",
          "Magnet",
          "Lamden Tau",
          "Electra",
          "Bitcoin Diamond",
          "Cash & Back Coin",
          "Bulwark",
          "Kalkulus",
          "GermanCoin",
          "LiteCoin Ultra",
          "PhantomX",
          "HTML Coin",
          "Fantasy Cash",
          "Digiwage",
          "Trollcoin",
          "Litecoin Plus",
          "Monkey Project",
          "OP Coin",
          "Valorbit",
          "TokenPay",
          "My Big Coin",
          "Unified Society USDEX",
          "Tokyo Coin",
          "Stipend",
          "Pushi",
          "Ellerium",
          "Velox",
          "Ontology",
          "Bitspace",
          "Briacoin",
          "Ignition",
          "MedicCoin",
          "Zelcash",
          "Bitcoin Green",
          "Deviant Coin",
          "Abjcoin",
          "Profit Hunters Coin",
          "Semux",
          "BitBlocks",
          "Carebit",
          "Zealium",
          "Proton",
          "iDealCash",
          "Bitcoin Incognito",
          "HollyWoodCoin",
          "Swisscoin",
          "Xt3ch",
          "TheVig",
          "EmaratCoin",
          "Dekado",
          "Lynx",
          "Poseidon Quark",
          "BitcoinWSpectrum",
          "Muse",
          "Trivechain",
          "Dystem",
          "Giant",
          "Peony Coin",
          "SafeCoin",
          "Absolute Coin",
          "Vitae",
          "TPCash",
          "MUSDcoin",
          "ARENON",
          "EUNO",
          "MMOCoin",
          "Ketan",
          "Safe Trade Coin",
          "Mont Blanc",
          "XDNA",
          "PAXEX",
          "Apollon",
          "ThunderStake",
          "Kcash",
          "Traid",
          "Bettex coin",
          "BitMoney",
          "Junson Ming Chan Coin",
          "Zenad",
          "HerbCoin",
          "Oduwa",
          "Galilel",
          "Crypto Sports",
          "Credit",
          "Dash Platinum",
          "Nasdacoin",
          "Beetle Coin",
          "Titan Coin",
          "Award",
          "Insane Coin",
          "ALAX",
          "The Freedom Coin",
          "LiteDoge",
          "TruckCoin",
          "Ascension Coin",
          "OrangeCoin",
          "BitstarCoin",
          "NeosCoin",
          "HyperCoin",
          "PinkCoin",
          "AudioCoin",
          "IncaKoin",
          "Piggy Coin",
          "Genstake",
          "ParkByte",
          "XiaoMiCoin",
          "CapriCoin",
          " ClubCoin",
          "Radium",
          "Creditbit ",
          "OKCash",
          "Lisk",
          "HiCoin",
          "WhiteCoin",
          "FriendshipCoin",
          "The Hempcoin",
          "Fiii",
          "Triangles Coin",
          "EOS",
          "Oxycoin",
          "TigerCash",
          "Particl",
          "Nxt",
          "ZEPHYR",
          "Gapcoin",
          "BitcoinPlus"
         ],
         "legendgroup": "1",
         "marker": {
          "color": [
           1,
           1,
           1,
           1,
           1,
           1,
           1,
           1,
           1,
           1,
           1,
           1,
           1,
           1,
           1,
           1,
           1,
           1,
           1,
           1,
           1,
           1,
           1,
           1,
           1,
           1,
           1,
           1,
           1,
           1,
           1,
           1,
           1,
           1,
           1,
           1,
           1,
           1,
           1,
           1,
           1,
           1,
           1,
           1,
           1,
           1,
           1,
           1,
           1,
           1,
           1,
           1,
           1,
           1,
           1,
           1,
           1,
           1,
           1,
           1,
           1,
           1,
           1,
           1,
           1,
           1,
           1,
           1,
           1,
           1,
           1,
           1,
           1,
           1,
           1,
           1,
           1,
           1,
           1,
           1,
           1,
           1,
           1,
           1,
           1,
           1,
           1,
           1,
           1,
           1,
           1,
           1,
           1,
           1,
           1,
           1,
           1,
           1,
           1,
           1,
           1,
           1,
           1,
           1,
           1,
           1,
           1,
           1,
           1,
           1,
           1,
           1,
           1,
           1,
           1,
           1,
           1,
           1,
           1,
           1,
           1,
           1,
           1,
           1,
           1,
           1,
           1,
           1,
           1,
           1,
           1,
           1,
           1,
           1,
           1,
           1,
           1,
           1,
           1,
           1,
           1,
           1,
           1,
           1,
           1,
           1,
           1,
           1,
           1,
           1,
           1,
           1,
           1,
           1,
           1,
           1,
           1,
           1,
           1,
           1,
           1,
           1,
           1,
           1,
           1,
           1,
           1,
           1,
           1,
           1,
           1,
           1,
           1,
           1,
           1,
           1,
           1,
           1,
           1,
           1,
           1,
           1,
           1,
           1,
           1,
           1,
           1,
           1,
           1,
           1,
           1,
           1,
           1,
           1,
           1,
           1,
           1,
           1,
           1,
           1,
           1,
           1,
           1,
           1,
           1,
           1,
           1,
           1,
           1,
           1,
           1,
           1,
           1,
           1,
           1,
           1,
           1,
           1,
           1,
           1,
           1,
           1,
           1,
           1,
           1,
           1,
           1,
           1,
           1,
           1,
           1,
           1,
           1,
           1,
           1,
           1,
           1,
           1,
           1,
           1,
           1,
           1,
           1,
           1,
           1,
           1,
           1,
           1,
           1,
           1,
           1,
           1,
           1,
           1,
           1,
           1,
           1,
           1,
           1,
           1,
           1,
           1,
           1,
           1,
           1,
           1,
           1,
           1,
           1,
           1,
           1,
           1,
           1,
           1,
           1,
           1,
           1,
           1,
           1,
           1,
           1,
           1,
           1,
           1,
           1,
           1,
           1,
           1,
           1,
           1,
           1,
           1,
           1,
           1,
           1,
           1,
           1,
           1,
           1,
           1,
           1,
           1,
           1,
           1,
           1,
           1,
           1,
           1,
           1,
           1,
           1,
           1,
           1,
           1,
           1,
           1,
           1,
           1,
           1,
           1,
           1,
           1,
           1,
           1,
           1,
           1,
           1,
           1,
           1,
           1,
           1,
           1,
           1,
           1,
           1,
           1,
           1,
           1,
           1,
           1,
           1,
           1,
           1,
           1,
           1,
           1,
           1,
           1,
           1,
           1,
           1,
           1,
           1,
           1,
           1,
           1,
           1,
           1,
           1,
           1,
           1,
           1,
           1,
           1,
           1,
           1
          ],
          "coloraxis": "coloraxis",
          "symbol": "circle"
         },
         "mode": "markers",
         "name": "1",
         "scene": "scene",
         "showlegend": true,
         "type": "scatter3d",
         "x": [
          -0.3075912083189296,
          -0.2930823022691863,
          -0.1697772860465411,
          0.23898547413691631,
          -0.20651254138529224,
          0.3866861074451299,
          -0.16975956411373894,
          -0.20663672261581473,
          0.10536509544370479,
          -0.17647813029814038,
          0.11136849080407257,
          -0.16360895354813162,
          -0.03261376458695364,
          -0.30734184932955005,
          -0.29885406059797665,
          -0.3058990818872286,
          -0.30759062342534665,
          -0.3075912090279968,
          -0.30757692093131433,
          -0.1783663802447807,
          -0.03261376481881582,
          0.5197290449260451,
          -0.16977728604654244,
          -0.21005872940983852,
          -0.2066367226225267,
          0.3003626759148454,
          0.06834072146541113,
          -0.18299619492585573,
          -0.41369998469968056,
          -0.20663672263162405,
          -0.17682934199243458,
          -0.30636377910308954,
          0.09142055703856496,
          -0.20639402067067922,
          -0.2066367226213425,
          -0.16360895359139951,
          -0.20663672261498262,
          0.33756135166338797,
          0.26018004518720517,
          -0.14758686942620622,
          -0.0323912878122172,
          -0.16270024871226418,
          -0.1634005518600665,
          -0.28740519232914197,
          -0.3045293737873548,
          -0.3065742610326081,
          0.09550105409489525,
          -0.17682934199520822,
          -0.30759120889920966,
          0.06903795765185591,
          -0.20663670642833273,
          0.09771465432582045,
          0.13836799607683883,
          -0.20661703453169378,
          -0.29248049468708853,
          -0.3069004695123619,
          -0.16360895353149002,
          -0.25878493497328175,
          -0.30759120890198316,
          -0.20654114793772893,
          0.09798607539126329,
          -0.16315391117838354,
          -0.30759120903511467,
          -0.3055563296708594,
          0.33366478431058577,
          0.3898956214250165,
          -0.16923935865299924,
          -0.03261376458860902,
          -0.20937274545766044,
          -0.032239974817824216,
          -0.16358114445081642,
          -0.03021236271190987,
          0.10520015830842984,
          -0.3075710259217392,
          -0.16351137131356663,
          -0.16360895356477304,
          -0.2066367226402499,
          0.06837770689723192,
          -0.17682934199243458,
          -0.30759120889643604,
          -0.30743164275196394,
          -0.30759120889643604,
          -0.20661590901623328,
          1.206031661260206,
          -0.30759120889643604,
          -0.16212017548321261,
          0.2188474208591197,
          0.030150877929576006,
          -0.20663672261220908,
          -0.03123875385393704,
          0.0683407217365868,
          -0.1632921153385754,
          -0.16918521192009786,
          0.11136849081280319,
          -0.17664329543101648,
          -0.0967178712921335,
          -0.16972682744231574,
          -0.055436216656449905,
          -0.16970676157077483,
          0.1345596141381283,
          -0.04454016663228809,
          0.16492523745988816,
          -0.30746747530665863,
          -0.3075912089080851,
          -0.03205720138880596,
          -0.1697772866289932,
          -0.20649362257652992,
          0.4757445103693481,
          -0.1697171008054126,
          -0.0007470632961122689,
          0.30055958148582684,
          -0.2066367226124865,
          -0.20663672267045427,
          -0.20478657762561228,
          0.3002845793067189,
          -0.169760848064449,
          -0.16954817190061156,
          -0.18184874298226122,
          -0.17682934209228318,
          -0.20630138911176157,
          -0.1829961949685023,
          -0.30759120910352944,
          -0.3075912098671874,
          0.24346027800917236,
          -0.296411105633583,
          -0.307528971568092,
          -0.3062161982089148,
          0.11143724081701657,
          0.07737454195978244,
          -0.20642271779057805,
          0.06834072146541113,
          -0.30699767878801326,
          -0.16976909889074945,
          -0.20662768004867021,
          -0.3075557065840712,
          -0.30756453520997956,
          -0.20663675034796228,
          -0.030281764975175873,
          -0.16685095076444045,
          0.03279771901397535,
          0.30130255210422596,
          -0.3071302645619346,
          -0.2029973689494319,
          0.30232945176399856,
          0.11140286779568867,
          -0.29090125872886036,
          0.3005295873470476,
          -0.22151911292838547,
          6.853276970235993,
          -0.20638450700539918,
          -0.30759121167001136,
          1.1040524653833408,
          -0.20658373895719914,
          0.3009720846920833,
          -0.2363989664214078,
          -0.30735622512947575,
          -0.30759120945115104,
          -0.3075575270548722,
          0.30055958148582684,
          -0.20655326673455038,
          -0.16960655712305384,
          -0.3073128514431714,
          -0.025791947074308354,
          -0.30743884782642533,
          -0.3074411362568373,
          -0.20662552081049926,
          -0.3074760126234572,
          0.4323205803963661,
          -0.3075434550354343,
          -0.3075456164433105,
          0.40968167903592645,
          -0.34643798331359166,
          -0.2066367233056029,
          -0.16360895477959891,
          0.3002845790709651,
          -0.3072616837904498,
          -0.16974255224877122,
          -0.2065589094344773,
          -0.20663672288956655,
          -0.3074286588956694,
          -0.3075869714622283,
          -0.03257357843153537,
          -0.31702571259961876,
          0.11156820908372123,
          -0.2938411020212252,
          -0.03211806816531376,
          -0.2064557336463575,
          -0.26934900819961616,
          -0.2051155429538707,
          -0.03261376485209862,
          0.3018127089855581,
          -0.20634080235214364,
          0.30580416651801184,
          -0.20496381069842423,
          -0.3075173855240723,
          -0.307575419394848,
          -0.3075843366151871,
          0.10658246530875612,
          -0.20640061433783105,
          -0.02855562506488719,
          0.3004411961211865,
          -0.30729752384069897,
          -0.20663672841868888,
          0.3822363915979839,
          0.10534237669134654,
          0.24430467468912784,
          0.17861225574093337,
          -0.1829388379919737,
          -0.18213073482418182,
          -0.30276808180152187,
          -0.16331651501767683,
          -0.20663672263413602,
          -0.1832225553399178,
          -0.16330759218255367,
          0.3065511548773384,
          -0.30221082505117286,
          -0.20646389390050476,
          -0.03235714220477849,
          6.272039728744028,
          0.30033957961606567,
          -0.3073225375527746,
          -0.30753345844756025,
          0.3493329818095064,
          1.1013353440621418,
          -0.2065368638626956,
          -0.2849381792290129,
          -0.3075755237098874,
          0.0691306582084469,
          0.3587317815290217,
          -0.1685115777306415,
          -0.17528839251233858,
          -0.15880240387399452,
          -0.3075616505089704,
          0.13498190082667663,
          0.4709006111552359,
          -0.30736622214967924,
          -0.3446503346636264,
          -0.20663672262243485,
          0.4095370583410872,
          0.2289511200478335,
          4.300568653736509,
          -0.206111488144204,
          6.855750455568495,
          0.20749515116096875,
          -0.161085341147423,
          -0.306065263872612,
          0.09216339951612706,
          0.4097702021202165,
          -0.2400576803307706,
          -0.30747544160738133,
          -0.206015572353607,
          -0.1697775356683202,
          -0.3075912089091945,
          0.4099124318096532,
          -0.2994645838027268,
          -0.3075567719472851,
          0.06840132188277341,
          -0.3075912144435867,
          -0.5634083772959899,
          0.2432107967702295,
          -0.49651212232023223,
          -0.3043620476347929,
          0.11453512407537504,
          -0.275878176225553,
          -0.20660691482122387,
          -0.08437635126100866,
          -0.03226217440105734,
          0.3406235994578714,
          -0.18280661054985034,
          -0.3075795812920983,
          -0.3075749541700572,
          -0.028938393570083317,
          -0.2627632923100915,
          0.32696836316302563,
          0.3005853845722188,
          -0.307455350988646,
          -0.3075912091737935,
          7.166830826051098,
          -0.30759121028322384,
          0.13648104841365732,
          0.30043686508460343,
          0.08366755168753479,
          -0.288283903108306,
          0.15255090220841158,
          -0.032081541739251575,
          -0.16734011876928362,
          -0.03250885132666345,
          -0.2359419186130258,
          -0.307294215840574,
          0.09856451313362223,
          1.6218209451019636,
          0.4095744056872211,
          0.10599506563301898,
          2.961007767052287,
          -0.19086274854734397,
          0.40963444216083855,
          0.13464100781321803,
          -0.03259948357393523,
          -0.16974587689748688,
          -0.20599346389854942,
          0.4104453063318277,
          -0.3075169087931722,
          -0.3075912091737935,
          0.06860567946477548,
          -0.20621361639470004,
          -0.031132000262542432,
          0.3004128278480406,
          -0.0326137668712616,
          -0.03261376473560859,
          -0.29917107984480623,
          0.06840266074558939,
          0.13455961350073417,
          -0.29301677399214027,
          0.47652496156439716,
          -0.28744947684460254,
          0.19068865560471449,
          0.21247378223744418,
          0.30497906005450914,
          0.8240546207296936,
          0.13504516047026943,
          -0.30738801603017224,
          0.13481076004873466,
          0.40956366087219526,
          0.11626547614222689,
          0.06835056208393317,
          -0.3073086921136821,
          -0.08164669626550658,
          -0.22407389652934273,
          -0.2064246938613905,
          -0.2063098006340008,
          6.865539286938671,
          0.06834072167342936,
          -0.09695492891024499,
          -0.20330130206742508,
          -0.34685361797187225,
          -0.3075425732508069,
          -0.30730827947572764,
          0.10526055228268513,
          -0.3074587788404816,
          -0.20063681381660972,
          -0.29410605820937397,
          0.07689589986889912,
          -0.1998408620350025,
          -0.3067662023591126,
          -0.16977728611588186,
          -0.30203181413430513,
          -0.20386794160763044,
          -0.3061663971808982,
          0.3003371218713013,
          0.032345218530310964,
          -0.16875048225658107,
          6.853439359704102,
          0.10489066853135194,
          -0.30412610558875663,
          -0.28743407089587447,
          -0.3075912097285087,
          -1.0817505419295428,
          -0.16360701782227818,
          6.865821779157173,
          6.867222059527656,
          0.11895026518364638,
          0.30041222348365326,
          0.3280557832984767,
          4.023731967320391,
          -0.3073859060680321,
          -0.03261200003396138
         ],
         "y": [
          1.2616617283428637,
          1.2600563625907868,
          0.8663740559944633,
          2.013634413428248,
          1.4602868099656503,
          1.155092858287291,
          0.8663720953742372,
          1.4603005500418136,
          0.3396814184606927,
          2.1693369306229373,
          1.5315022542624086,
          2.0581766420756726,
          0.7349873407836688,
          1.2616341376307747,
          1.2606949860100378,
          1.26147449901972,
          1.261661663631955,
          1.261661728992376,
          1.2616601474931788,
          0.5839769256527104,
          0.7349873418157463,
          0.23969998597750253,
          0.8663740559944654,
          1.1184436655218708,
          1.4603005500716908,
          1.218497078340036,
          0.933626163434744,
          1.8148711514376596,
          0.49746520141085954,
          1.4603005501121844,
          2.169375787056206,
          1.2615259179847254,
          0.9310724393459956,
          1.460273695961425,
          1.460300550066419,
          2.058176642268268,
          1.4603005500381097,
          1.9696650251049246,
          0.7025904783905248,
          0.8639187740937949,
          0.7349627243131056,
          2.058076096211958,
          2.058153582906749,
          0.742880398378309,
          1.2613229494903186,
          1.2615492069897822,
          1.2170606335054013,
          2.1693757870685517,
          1.2616617284191118,
          0.9335490148872316,
          1.4603005482350726,
          0.05718042831422351,
          1.4404258277402184,
          1.460298371712013,
          1.259989787028005,
          1.2615853011210876,
          2.058176642001597,
          0.3501794431967931,
          1.2616617284314582,
          1.4602899750065248,
          0.057150395085872684,
          2.058126292766351,
          1.2616617290240606,
          1.2614365864307053,
          0.18952890791471833,
          1.0983623615192217,
          0.86631453656693,
          0.7349873407910374,
          1.1183677631555486,
          0.7349459817348892,
          2.0581735651446924,
          0.7347216378269363,
          0.3396996681688812,
          1.2616594952138906,
          2.0581658449071507,
          2.058176642149747,
          1.4603005501505801,
          0.9336220701312191,
          2.169375787056206,
          1.2616617284067662,
          1.2616440730748495,
          1.2616617284067662,
          1.4602982470563082,
          1.6707987649401488,
          1.2616617284067662,
          2.1833420870377096,
          1.214905924813701,
          0.8754890183763505,
          1.4603005500257638,
          0.7348352004819487,
          0.933626162227673,
          2.0581415852938236,
          0.8663085565942086,
          1.5315022542235452,
          2.1693552018118734,
          1.1417486716059349,
          0.8663684731479557,
          1.4435709327846913,
          0.8663662527737868,
          1.640343780517523,
          1.7995513573667223,
          -0.12642141899834008,
          1.2616480381173019,
          1.2616617284586185,
          0.7349257609986684,
          0.8663740585871019,
          1.4602847210075174,
          0.6787400311811682,
          0.8663673971379589,
          0.2972888378018698,
          1.2184752914991372,
          1.460300550026998,
          1.4603005502850273,
          1.4600958372695476,
          1.218505719704167,
          0.8663722398565226,
          0.8663487114394611,
          1.8147441899849028,
          2.1693757875006576,
          1.4602634479325034,
          1.81487115162749,
          1.2616617293285926,
          1.2616617327278274,
          1.1603785035816858,
          1.260424703569631,
          1.261654842544395,
          1.2615095883075576,
          1.531494649578475,
          0.932626601748354,
          1.4602768715590853,
          0.933626163434744,
          1.2615960569504563,
          0.8663731503601066,
          1.460299549526094,
          1.2616578004224337,
          1.2616587770337675,
          1.4603006734846584,
          0.7347293109846726,
          0.35066811976056605,
          2.1635600290655668,
          1.2183930844114559,
          1.261610726132858,
          1.4598978832078828,
          1.21827946026537,
          1.5314984504848532,
          2.167056485299555,
          1.2184786136543804,
          2.191699364812346,
          0.3617718138404162,
          1.460272643395786,
          1.2616617407526556,
          1.9179132623392308,
          1.4602946875705827,
          1.218429649469375,
          2.19334577523289,
          1.2616357285371957,
          1.2616617308759441,
          1.2616580021055412,
          1.2184752914991372,
          1.4602913165755294,
          0.8663551655305158,
          1.261630929286599,
          0.7985786584331556,
          1.2616448703936327,
          1.2616451310986194,
          1.4602993106361672,
          1.2616489839768485,
          0.6835439739973106,
          1.261656444724604,
          1.261656683762092,
          1.1136533907481014,
          1.1343523607492678,
          1.4603005531122362,
          2.0581766475572465,
          1.2185057207535683,
          1.261625273343101,
          0.8663702130442439,
          1.4602919403156551,
          1.4603005512603526,
          1.2616437429190273,
          1.2616612598099115,
          0.7349828947563145,
          0.44650843744817253,
          1.531480156052531,
          1.2601403274146803,
          0.7349324935000322,
          1.460280525278329,
          2.2346182928732454,
          1.4601322368361502,
          0.7349873419638971,
          1.2183366373360378,
          1.460267808433996,
          1.2178949965837045,
          1.4601154527578069,
          1.26165356030085,
          1.2616599816844087,
          1.2616609800459868,
          0.3395476224730485,
          1.4602744257499929,
          0.7345383422379038,
          1.2184883906476354,
          1.2616292341946522,
          1.460300575871883,
          2.107517722849252,
          0.33968393448899925,
          1.1602850741185033,
          2.1518972037860964,
          1.8148648051572018,
          1.8147753919990375,
          1.5078109782934404,
          2.0581442848131313,
          1.4603005501233657,
          1.2479012671231258,
          2.058143297391323,
          1.2050047155779473,
          1.5077493193049447,
          1.4602814270994686,
          0.7349589462065312,
          1.3703184866125633,
          1.218499634626134,
          1.2616320012126785,
          1.2616553385225995,
          1.1592258407948668,
          1.0256176708007583,
          1.460289501243769,
          0.7426074346608982,
          1.2616599930716907,
          0.3093489547918855,
          1.187935149311239,
          0.8662340099141628,
          1.8140183178853369,
          1.9695557805548267,
          1.2616584581020343,
          1.6402970577748266,
          1.006312390566381,
          1.2616368343951463,
          0.8076621227922952,
          1.4603005500712813,
          1.1136693933685866,
          0.32600705925529727,
          0.647943405356856,
          1.460242435951899,
          0.3614981337319895,
          1.771664675893023,
          2.057897413480794,
          1.2614928891459407,
          1.2881766095118865,
          1.1136435959626847,
          1.254189923681891,
          1.261648920867661,
          1.4602318219911818,
          0.8663751671245197,
          1.2616617284635572,
          1.113627859826877,
          1.2607625496262127,
          1.2616579180973981,
          0.9336194572074419,
          1.2616617530985448,
          2.400369043097665,
          1.1604061079199144,
          0.510659959092401,
          1.2613044330298782,
          1.5311518841964822,
          1.0865342076501951,
          1.4602972521733466,
          1.609094631127596,
          0.7349484395530124,
          1.128933275426257,
          1.8148501750213177,
          1.2616604418791553,
          1.2616599299243931,
          0.7345806765041506,
          0.2095668262661216,
          1.070847890682629,
          1.2184724372743898,
          1.2616466964490485,
          1.2616617296413553,
          0.4462029044903608,
          1.2616617345797112,
          1.6401311810514634,
          1.2184888704673513,
          0.4738544591113812,
          1.2595254876478705,
          1.0242676467808451,
          0.7349284518459576,
          1.24614343828749,
          0.7349757327405844,
          2.193295121030207,
          1.2616288679203518,
          1.6426553255614413,
          0.17180710965254892,
          1.1136652679057433,
          0.3396117149786779,
          0.827634738298977,
          1.000479372072402,
          1.1136586174558782,
          1.6403347743411605,
          0.734985963648129,
          2.072459715790955,
          0.8360395724666976,
          1.1135688984267884,
          1.261653519335462,
          1.2616617296413553,
          0.9335968459897397,
          1.4602537350415736,
          0.7348233904050873,
          1.2184915316891987,
          0.7349873509517045,
          0.7349873414453698,
          0.8172526123851552,
          0.9336193100168865,
          1.6403437833547265,
          1.2600493223571627,
          1.1997291204690839,
          0.7428853013314929,
          1.0824105546209113,
          1.1302558132169818,
          0.9074427546943397,
          1.1644486240229068,
          1.6402900565045486,
          1.2616392459052794,
          1.6403159918715384,
          1.1136664491267754,
          1.2147640055326943,
          0.9336250736295478,
          1.2616304696817595,
          1.6087926073046763,
          2.191982014704473,
          1.4602770946605348,
          1.460264377332985,
          0.36041503139888936,
          0.9336261625088021,
          1.2383558013849043,
          1.4599314945466286,
          1.1343983486780043,
          1.2616563494087556,
          1.261630423666372,
          0.3396929859878398,
          1.2616470753706361,
          1.4596366819743347,
          1.2601697584880296,
          0.8390803213766017,
          1.459548618030188,
          1.261570443791676,
          0.8663740563031126,
          1.2610466008664636,
          1.4599941942201682,
          1.261504078677602,
          1.2184999059358534,
          0.7236761299102384,
          0.866260444129543,
          0.36175384629479473,
          0.7197729585134661,
          1.2612783274839265,
          0.7428835943944677,
          1.2616617321105328,
          2.40888146974973,
          2.058176427821927,
          0.36038376234157415,
          0.36022882501474845,
          0.33817826717677024,
          1.2184915961362794,
          1.4139911947503305,
          -0.12906912151125682,
          1.261639015200469,
          0.7349871453550993
         ],
         "z": [
          -0.4634060514483273,
          -0.4640808835193721,
          -0.30910170727731107,
          -0.5216195556494359,
          -0.48253859474915156,
          0.128279058768894,
          -0.3091025316592756,
          -0.48253281880364773,
          0.0020431886517379887,
          -0.5423701215934752,
          -0.1917401873950771,
          -0.5028927548374942,
          -0.15225348405421948,
          -0.4634176495658407,
          -0.4638124283443176,
          -0.46348475460281513,
          -0.463406078655036,
          -0.46340605165297416,
          -0.46340671597960204,
          -0.1767152534306206,
          -0.1522534844622464,
          -0.26756051552354637,
          -0.30910170727730785,
          -0.440778920506916,
          -0.4825328188154598,
          0.06892309443032449,
          -0.1713802518380929,
          -0.5153524837726606,
          -0.03165260941166717,
          -0.48253281883146887,
          -0.5423537844954905,
          -0.46346314148998524,
          -0.17245372659928057,
          -0.48254410731247815,
          -0.48253281881337556,
          -0.5028927549136364,
          -0.4825328188021837,
          -0.43661441603528695,
          -0.16587173141210002,
          -0.31013382654651794,
          -0.15226383175741418,
          -0.5029350199335813,
          -0.5029024478598847,
          -0.2626709152119516,
          -0.4635484637362915,
          -0.46345335157239426,
          -0.4821544333726434,
          -0.5423537845003719,
          -0.4634060514263367,
          -0.1714126807621606,
          -0.4825328195500423,
          0.13438598457052497,
          -0.10797673735910662,
          -0.48253373456741705,
          -0.46410887977783954,
          -0.4634381791721855,
          -0.5028927548082092,
          -0.23760630386487708,
          -0.46340605143121805,
          -0.48253726413593456,
          0.1343733609001474,
          -0.5029139194611265,
          -0.4634060516655008,
          -0.4635007014951405,
          -0.20532693347844208,
          -0.06829082528390064,
          -0.3091267273694421,
          -0.1522534840571329,
          -0.4408108265529591,
          -0.15227086945423654,
          -0.5028940483073592,
          -0.15236517901912996,
          0.0020508601699809484,
          -0.4634069901596886,
          -0.5028972935430241,
          -0.5028927548667798,
          -0.48253281884664817,
          -0.1713819716811916,
          -0.5423537844954905,
          -0.46340605142145597,
          -0.46341347316502884,
          -0.46340605142145597,
          -0.48253378686660836,
          -0.1494111203747778,
          -0.46340605142145597,
          -0.569805379738708,
          -0.003480369702391966,
          -0.18806376495962165,
          -0.4825328187973027,
          -0.15231743813519802,
          -0.17138025136088325,
          -0.5029074916438548,
          -0.3091292504785383,
          -0.19174018737971252,
          -0.5423624379116485,
          -0.4421117845018584,
          -0.3091040542874083,
          -0.48956549769860863,
          -0.30910498752139637,
          -0.4187565488619781,
          -0.5217922662715073,
          0.1433120512831761,
          -0.4634118066532758,
          -0.4634060514419559,
          -0.152279371608152,
          -0.3091017083022942,
          -0.4825394765028472,
          -0.17589843056953017,
          -0.30910450677700063,
          -0.2433522579842069,
          0.06891393597807667,
          -0.4825328187977908,
          -0.4825328188998012,
          -0.48261887199037307,
          0.06892672673707098,
          -0.3091024729465522,
          -0.30911236632518113,
          -0.5154058538067063,
          -0.5423537846712028,
          -0.48254841632131384,
          -0.5153524838477094,
          -0.46340605178589594,
          -0.46340605312976707,
          -0.004899599905248755,
          -0.46392606359823785,
          -0.4634089463882898,
          -0.46347000558249646,
          -0.19174338602073623,
          -0.17180043018803814,
          -0.482542772709784,
          -0.1713802518380929,
          -0.463433657783434,
          -0.3091020881785218,
          -0.482533239394543,
          -0.46340770278860444,
          -0.46340729205172293,
          -0.4825328676061795,
          -0.15236194851836457,
          -0.32545950124643974,
          -0.6098342426453003,
          0.06887937911042714,
          -0.46342749058373955,
          -0.482702097714221,
          0.06883161674892067,
          -0.19174178629423955,
          -0.608613469628112,
          0.06891532963942096,
          -0.5980055503814693,
          -0.19358578095084406,
          -0.48254454984636536,
          -0.46340605630234394,
          -0.5618534552859583,
          -0.4825352831601152,
          0.06889474972976427,
          -0.5973134651590049,
          -0.4634169810364582,
          -0.463406052397634,
          -0.46340761822118226,
          0.06891393597807667,
          -0.48253670074687344,
          -0.30910964821726256,
          -0.463418998379197,
          -0.4254678740278641,
          -0.46341313808707074,
          -0.46341303476844625,
          -0.4825333398337341,
          -0.46341141008180275,
          -0.17387839009024067,
          -0.46340827258509715,
          -0.46340817200649315,
          -0.10761070789132514,
          -0.3515937967341629,
          -0.4825328200175247,
          -0.5028927570046087,
          0.06892672632219603,
          -0.4634213805975304,
          -0.30910332289977316,
          -0.4825364380433186,
          -0.48253281928539155,
          -0.46341361194833625,
          -0.46340624862030017,
          -0.1522553533615828,
          -0.21292170962253398,
          -0.19174947660781871,
          -0.46404559303185827,
          -0.15227653967471916,
          -0.4825412373468931,
          -0.7037411292614959,
          -0.48260357153063105,
          -0.1522534845208173,
          0.0688556508223151,
          -0.48254658296128433,
          0.06867000112797728,
          -0.4826106307627858,
          -0.4634094851554816,
          -0.46340678595642504,
          -0.46340637607070856,
          0.0019861914064896293,
          -0.48254380072202363,
          -0.15244224370685425,
          0.06891944219598958,
          -0.4634197116480244,
          -0.48253282901544103,
          -0.5683571604514556,
          0.0020442443927414402,
          -0.004938874302752585,
          -0.5693707068847195,
          -0.5153551515704258,
          -0.5153927381241159,
          -0.4520613356857655,
          -0.5029063566806365,
          -0.48253281883588917,
          -0.46919086101996843,
          -0.502906771638493,
          0.1442974080857692,
          -0.4520872544725039,
          -0.48254085734876107,
          -0.15226541992326242,
          5.602650185505166,
          0.06892416836270428,
          -0.4634185479411744,
          -0.4634087374962199,
          0.13001642219011378,
          -0.04762603842599481,
          -0.4825374635019373,
          -0.2627856614085235,
          -0.463406781040127,
          0.02971336779820319,
          -0.4943977859708865,
          -0.30916057763297766,
          -0.5157109903950854,
          -0.41809706834368376,
          -0.46340742632838783,
          -0.4187761909041926,
          -0.1680488950278587,
          -0.4634165159421468,
          -0.33470371829857065,
          -0.48253281881529775,
          -0.10760398168219856,
          -0.003705014317235124,
          -0.21646879859570953,
          -0.482557248904563,
          -0.19370082807358485,
          -0.5335149298412665,
          -0.5030101325832282,
          -0.4634770262995523,
          -0.20420838851505227,
          -0.10761482524818175,
          -0.4665473802851499,
          -0.4634114366706142,
          -0.48256170961049566,
          -0.3091021465572008,
          -0.46340605144390834,
          -0.10762144104990261,
          -0.46378403656957995,
          -0.4634076531519113,
          -0.1713830700520329,
          -0.46340606118323163,
          -0.9135884807371147,
          -0.004887996143151703,
          -0.1328969478690787,
          -0.46355624536657924,
          -0.19188747588692623,
          -0.45749934992010116,
          -0.4825342053243784,
          -0.38751441671689374,
          -0.15226983754196163,
          0.03323735520102902,
          -0.5153613018531154,
          -0.46340659225254044,
          -0.463406807476444,
          -0.15242443309631715,
          -0.16784570303452134,
          0.07436389157425118,
          0.06891273549995704,
          -0.46341237051205586,
          -0.46340605190954504,
          -0.007119356950317889,
          -0.46340605386190004,
          -0.4188459183441421,
          0.06891964338803293,
          -0.10660188951211183,
          -0.4643040867352395,
          -0.09305185813578279,
          -0.1522782385273972,
          -0.46992937584756034,
          -0.15225836385417305,
          -0.597334688520193,
          -0.4634198654025051,
          -0.23122058534337417,
          -0.2814179282520798,
          -0.10760572163991389,
          0.0020138874221122026,
          -0.08466340051639362,
          -0.41777525444262664,
          -0.10760851086860611,
          -0.4187603345196989,
          -0.15225423276877828,
          -0.6325235792668554,
          -0.28143237760556644,
          -0.10764622568508955,
          -0.4634095122325193,
          -0.46340605190954504,
          -0.17139257517781942,
          -0.4825524983066174,
          -0.1523224041948366,
          0.06892076074206115,
          -0.15225348807410322,
          -0.15225348431582006,
          -0.3542369805675732,
          -0.1713831327201864,
          -0.41875654998365286,
          -0.4640840188434715,
          0.3731700724184819,
          -0.2626688567211324,
          -0.07636592187369129,
          -0.1340296877878419,
          -0.1823866296864153,
          -0.21737933329920445,
          -0.41877913246678145,
          -0.4634155023095646,
          -0.4187682300019019,
          -0.10760521869417171,
          -0.48312059027024284,
          -0.17138070913665704,
          -0.4634191920909023,
          -0.3876413789727006,
          -0.5978867112870765,
          -0.4825426826536408,
          -0.4825480245436341,
          -0.19415612274420457,
          -0.17138025147202626,
          -0.47320321319612235,
          -0.4826879538472225,
          -0.3515744645930016,
          -0.4634083145349765,
          -0.46341921113425444,
          0.0020480510570182312,
          -0.463412210927601,
          -0.4828118854076645,
          -0.46403331714488905,
          -0.3205748212885619,
          -0.48284890873733566,
          -0.46344442369844013,
          -0.30910170739932974,
          -0.4636646286102708,
          -0.48266159969593114,
          -0.463472322198188,
          0.06892428293935193,
          -0.3553297175497889,
          -0.30914946587615144,
          -0.1935933340858644,
          -0.15864905660168352,
          -0.46356721970006554,
          -0.2626695723121847,
          -0.4634060528857228,
          13.8360408056778,
          -0.5028928448413388,
          -0.1941692568404138,
          -0.19423438582857416,
          0.0014113185595886213,
          0.0689207898607104,
          0.30877192215356186,
          -0.10809304008334532,
          -0.4634156015941041,
          -0.15225356604886617
         ]
        },
        {
         "customdata": [
          [
           "SHA-256"
          ],
          [
           "Ethash"
          ],
          [
           "Scrypt"
          ],
          [
           "CryptoNight-V7"
          ],
          [
           "Ethash"
          ],
          [
           "Equihash"
          ],
          [
           "Multiple"
          ],
          [
           "Scrypt"
          ],
          [
           "X11"
          ],
          [
           "SHA-256"
          ],
          [
           "Scrypt"
          ],
          [
           "SHA-256"
          ],
          [
           "Multiple"
          ],
          [
           "Scrypt"
          ],
          [
           "SHA-256"
          ],
          [
           "Scrypt"
          ],
          [
           "Scrypt"
          ],
          [
           "Quark"
          ],
          [
           "Groestl"
          ],
          [
           "Scrypt"
          ],
          [
           "X11"
          ],
          [
           "Scrypt"
          ],
          [
           "Scrypt"
          ],
          [
           "Scrypt"
          ],
          [
           "X11"
          ],
          [
           "Multiple"
          ],
          [
           "Scrypt"
          ],
          [
           "SHA-256"
          ],
          [
           "Scrypt"
          ],
          [
           "Scrypt"
          ],
          [
           "Scrypt"
          ],
          [
           "Scrypt"
          ],
          [
           "Scrypt"
          ],
          [
           "Scrypt"
          ],
          [
           "SHA-256"
          ],
          [
           "Scrypt"
          ],
          [
           "NeoScrypt"
          ],
          [
           "Scrypt"
          ],
          [
           "Scrypt"
          ],
          [
           "Scrypt"
          ],
          [
           "Multiple"
          ],
          [
           "Scrypt"
          ],
          [
           "SHA-256"
          ],
          [
           "Scrypt"
          ],
          [
           "Scrypt"
          ],
          [
           "Scrypt"
          ],
          [
           "Scrypt"
          ],
          [
           "Scrypt"
          ],
          [
           "HybridScryptHash256"
          ],
          [
           "Scrypt"
          ],
          [
           "SHA-256"
          ],
          [
           "Scrypt"
          ],
          [
           "SHA-256"
          ],
          [
           "Scrypt"
          ],
          [
           "Scrypt"
          ],
          [
           "Scrypt"
          ],
          [
           "Scrypt"
          ],
          [
           "Scrypt"
          ],
          [
           "Scrypt-n"
          ],
          [
           "Scrypt"
          ],
          [
           "SHA-256"
          ],
          [
           "SHA-256"
          ],
          [
           "SHA-256"
          ],
          [
           "SHA-256"
          ],
          [
           "SHA-256"
          ],
          [
           "SHA-256"
          ],
          [
           "X11"
          ],
          [
           "Scrypt"
          ],
          [
           "X11"
          ],
          [
           "Lyra2REv2"
          ],
          [
           "Scrypt"
          ],
          [
           "SHA-256"
          ],
          [
           "CryptoNight"
          ],
          [
           "CryptoNight"
          ],
          [
           "Scrypt"
          ],
          [
           "SHA-256"
          ],
          [
           "Scrypt"
          ],
          [
           "Scrypt"
          ],
          [
           "Scrypt"
          ],
          [
           "Scrypt"
          ],
          [
           "Scrypt"
          ],
          [
           "Momentum"
          ],
          [
           "Stanford Folding"
          ],
          [
           "Multiple"
          ],
          [
           "QuBit"
          ],
          [
           "Scrypt"
          ],
          [
           "Scrypt"
          ],
          [
           "SHA-256"
          ],
          [
           "M7 POW"
          ],
          [
           "Scrypt"
          ],
          [
           "X11"
          ],
          [
           "Scrypt"
          ],
          [
           "SHA-256"
          ],
          [
           "Scrypt"
          ],
          [
           "X11"
          ],
          [
           "X11"
          ],
          [
           "Lyra2RE"
          ],
          [
           "SHA-256"
          ],
          [
           "X11"
          ],
          [
           "Scrypt"
          ],
          [
           "Scrypt"
          ],
          [
           "Ethash"
          ],
          [
           "Blake2b"
          ],
          [
           "X11"
          ],
          [
           "SHA-256"
          ],
          [
           "Scrypt"
          ],
          [
           "Scrypt"
          ],
          [
           "1GB AES Pattern Search"
          ],
          [
           "Scrypt"
          ],
          [
           "CryptoNight"
          ],
          [
           "SHA-256"
          ],
          [
           "SHA-256"
          ],
          [
           "X11"
          ],
          [
           "Scrypt-n"
          ],
          [
           "X11"
          ],
          [
           "Scrypt"
          ],
          [
           "Dagger"
          ],
          [
           "Scrypt"
          ],
          [
           "CryptoNight-Lite"
          ],
          [
           "X11GOST"
          ],
          [
           "SHA-256"
          ],
          [
           "Scrypt"
          ],
          [
           "X11"
          ],
          [
           "SHA-256"
          ],
          [
           "Scrypt"
          ],
          [
           "X11"
          ],
          [
           "Equihash"
          ],
          [
           "CryptoNight"
          ],
          [
           "SHA-256"
          ],
          [
           "Multiple"
          ],
          [
           "Scrypt"
          ],
          [
           "SHA-256"
          ],
          [
           "Scrypt"
          ],
          [
           "Scrypt"
          ],
          [
           "Scrypt-n"
          ],
          [
           "Lyra2Z"
          ],
          [
           "SHA-256"
          ],
          [
           "Quark"
          ],
          [
           "Ethash"
          ],
          [
           "SHA-256"
          ],
          [
           "Equihash"
          ],
          [
           "Scrypt"
          ],
          [
           "Equihash"
          ],
          [
           "X11"
          ],
          [
           "X11"
          ],
          [
           "CryptoNight"
          ],
          [
           "Scrypt"
          ],
          [
           "CryptoNight"
          ],
          [
           "Lyra2RE"
          ],
          [
           "X11"
          ],
          [
           "X11"
          ],
          [
           "Scrypt"
          ],
          [
           "CryptoNight-V7"
          ],
          [
           "Keccak"
          ],
          [
           "Scrypt"
          ],
          [
           "X11"
          ],
          [
           "Equihash"
          ],
          [
           "Scrypt"
          ],
          [
           "Lyra2RE"
          ],
          [
           "Ethash"
          ],
          [
           "X11"
          ],
          [
           "Dagger-Hashimoto"
          ],
          [
           "Scrypt"
          ],
          [
           "NIST5"
          ],
          [
           "Scrypt"
          ],
          [
           "Scrypt"
          ],
          [
           "Scrypt"
          ],
          [
           "SHA-256"
          ],
          [
           "Scrypt"
          ],
          [
           "CryptoNight-V7"
          ],
          [
           "Argon2d"
          ],
          [
           "Blake2b"
          ],
          [
           "Cloverhash"
          ],
          [
           "CryptoNight"
          ],
          [
           "X11"
          ],
          [
           "Scrypt"
          ],
          [
           "Scrypt"
          ],
          [
           "X11"
          ],
          [
           "X11"
          ],
          [
           "CryptoNight"
          ],
          [
           "Time Travel"
          ],
          [
           "Scrypt"
          ],
          [
           "Keccak"
          ],
          [
           "X11"
          ],
          [
           "SHA-256"
          ],
          [
           "Scrypt"
          ],
          [
           "Scrypt"
          ],
          [
           "Scrypt"
          ],
          [
           "Scrypt"
          ],
          [
           "Scrypt"
          ],
          [
           "Scrypt"
          ],
          [
           "Scrypt"
          ],
          [
           "Scrypt"
          ],
          [
           "CryptoNight"
          ],
          [
           "Equihash"
          ],
          [
           "X11"
          ],
          [
           "NeoScrypt"
          ],
          [
           "Equihash"
          ],
          [
           "Dagger"
          ],
          [
           "Scrypt"
          ],
          [
           "X11"
          ],
          [
           "NeoScrypt"
          ],
          [
           "Scrypt"
          ],
          [
           "Ethash"
          ],
          [
           "Scrypt"
          ],
          [
           "NeoScrypt"
          ],
          [
           "Multiple"
          ],
          [
           "CryptoNight"
          ],
          [
           "CryptoNight"
          ],
          [
           "Ethash"
          ],
          [
           "X11"
          ],
          [
           "SHA-256"
          ],
          [
           "CryptoNight-V7"
          ],
          [
           "Scrypt"
          ],
          [
           "BLAKE256"
          ],
          [
           "X11"
          ],
          [
           "NeoScrypt"
          ],
          [
           "NeoScrypt"
          ],
          [
           "Scrypt"
          ],
          [
           "X11"
          ],
          [
           "SHA-256"
          ],
          [
           "C11"
          ],
          [
           "Ethash"
          ],
          [
           "CryptoNight"
          ],
          [
           "SkunkHash"
          ],
          [
           "CryptoNight"
          ],
          [
           "Equihash"
          ],
          [
           "Skein"
          ],
          [
           "Scrypt"
          ],
          [
           "Dagger"
          ],
          [
           "Lyra2REv2"
          ],
          [
           "Scrypt"
          ],
          [
           "Scrypt"
          ],
          [
           "Scrypt"
          ],
          [
           "NeoScrypt"
          ],
          [
           "Equihash"
          ],
          [
           "X11"
          ],
          [
           "Ethash"
          ],
          [
           "X11"
          ],
          [
           "CryptoNight"
          ],
          [
           "NeoScrypt"
          ],
          [
           "Scrypt"
          ],
          [
           "IMesh"
          ],
          [
           "Equihash"
          ],
          [
           "Equihash"
          ],
          [
           "Equihash"
          ],
          [
           "Lyra2Z"
          ],
          [
           "X11"
          ],
          [
           "CryptoNight"
          ],
          [
           "NIST5"
          ],
          [
           "Lyra2RE"
          ],
          [
           "Tribus"
          ],
          [
           "Lyra2Z"
          ],
          [
           "CryptoNight"
          ],
          [
           "CryptoNight Heavy"
          ],
          [
           "CryptoNight"
          ],
          [
           "Jump Consistent Hash"
          ],
          [
           "CryptoNight"
          ],
          [
           "X16R"
          ],
          [
           "HMQ1725"
          ],
          [
           "X11"
          ],
          [
           "Scrypt"
          ],
          [
           "CryptoNight-V7"
          ],
          [
           "Cryptonight-GPU"
          ],
          [
           "XEVAN"
          ],
          [
           "CryptoNight Heavy"
          ],
          [
           "Lyra2REv2"
          ],
          [
           "SHA-256"
          ],
          [
           "X11"
          ],
          [
           "X16R"
          ],
          [
           "Equihash"
          ],
          [
           "Quark"
          ],
          [
           "CryptoNight Heavy X"
          ],
          [
           "Lyra2Z"
          ],
          [
           "Ethash"
          ],
          [
           "SHA-256"
          ],
          [
           "Ethash"
          ],
          [
           "CryptoNight"
          ],
          [
           "SkunkHash"
          ],
          [
           "Argon2"
          ],
          [
           "Blake"
          ],
          [
           "Blake"
          ],
          [
           "SHA-256"
          ],
          [
           "Equihash"
          ],
          [
           "Exosis"
          ],
          [
           "Scrypt"
          ],
          [
           "Equihash"
          ],
          [
           "Equihash"
          ],
          [
           "QuBit"
          ],
          [
           "Equihash1927"
          ],
          [
           "SHA-256"
          ],
          [
           "SHA-256"
          ],
          [
           "X13"
          ],
          [
           "SHA-256"
          ],
          [
           "X11"
          ],
          [
           "Scrypt"
          ],
          [
           "NeoScrypt"
          ],
          [
           "Blake"
          ],
          [
           "CryptoNight"
          ],
          [
           "Scrypt"
          ],
          [
           "SHA-256"
          ],
          [
           "CryptoNight"
          ],
          [
           "Scrypt"
          ],
          [
           "Groestl"
          ],
          [
           "Scrypt"
          ],
          [
           "Scrypt"
          ],
          [
           "Scrypt"
          ],
          [
           "Multiple"
          ],
          [
           "Equihash+Scrypt"
          ],
          [
           "Ethash"
          ],
          [
           "Ethash"
          ],
          [
           "CryptoNight"
          ],
          [
           "Equihash"
          ]
         ],
         "hovertemplate": "<b>%{hovertext}</b><br><br>class=%{marker.color}<br>PC 1=%{x}<br>PC 2=%{y}<br>PC 3=%{z}<br>Algorithm=%{customdata[0]}<extra></extra>",
         "hovertext": [
          "Bitcoin",
          "Ethereum",
          "Litecoin",
          "Monero",
          "Ethereum Classic",
          "ZCash",
          "DigiByte",
          "ProsperCoin",
          "Spreadcoin",
          "ACoin",
          "Argentum",
          "BetaCoin",
          "MyriadCoin",
          "MoonCoin",
          "ZetaCoin",
          "SexCoin",
          "Quatloo",
          "QuarkCoin",
          "Riecoin",
          "Digitalcoin ",
          "LimeCoinX",
          "BitMark",
          "Catcoin",
          "CannaCoin",
          "CryptCoin",
          "Verge",
          "DarkShibe",
          "DevCoin",
          "EarthCoin",
          "E-Gulden",
          "Elacoin",
          "Einsteinium",
          "Emerald",
          "Flappy Coin",
          "FireRoosterCoin",
          "Franko",
          "FeatherCoin",
          "GrandCoin",
          "GlobalCoin",
          "GoldCoin",
          "HunterCoin",
          "Infinite Coin",
          "IXcoin",
          "KrugerCoin",
          "LuckyCoin",
          "Litebar ",
          "LitecoinDark",
          "MegaCoin",
          "MediterraneanCoin",
          "MinCoin",
          "NoirBits",
          "NobleCoin",
          "Namecoin",
          "NyanCoin",
          "RipOffCoin",
          "RonPaulCoin",
          "StableCoin",
          "SmartCoin",
          "SpainCoin",
          "SecureCoin",
          "SysCoin",
          "TigerCoin",
          "TerraCoin",
          "Umbrella",
          "UnbreakableCoin",
          "Unobtanium",
          "UroCoin",
          "ViaCoin",
          "VootCoin",
          "Vertcoin",
          "WorldCoin",
          "JouleCoin",
          "ByteCoin",
          "DigitalNote ",
          "MonaCoin",
          "Sling Coin",
          "Gulden",
          "PesetaCoin",
          "Wild Beast Coin",
          "Flo",
          "ArtByte",
          "BitCredit",
          "Folding Coin",
          "Unitus",
          "CypherPunkCoin",
          "OmniCron",
          "GreenCoin",
          "Unattanium",
          "Cryptonite",
          "Gridmaster",
          "ConSpiracy Coin ",
          "MasterCoin",
          "SoonCoin",
          "1Credit",
          "Quicksilver coin",
          "MarsCoin ",
          "Crypto",
          "Anarchists Prime",
          "BowsCoin",
          "Song Coin",
          "BitZeny",
          "Expanse",
          "Siacoin",
          "MindCoin",
          "I0coin",
          "DogeCoinDark",
          "Revolution VR",
          "HOdlcoin",
          "Gamecredits",
          "Dashcoin",
          "CarpeDiemCoin",
          "Phalanx",
          "SunShotCoin",
          "HempCoin",
          "Adzcoin",
          "VirtaCoin",
          "SoilCoin",
          "YoCoin",
          "AEON",
          "SibCoin",
          "Anti Bitcoin",
          "Francs",
          "BolivarCoin",
          "Clinton",
          "Omni",
          "PizzaCoin",
          "Komodo",
          "Karbo",
          "ZayedCoin",
          "Circuits of Value",
          "DopeCoin",
          "DollarCoin",
          "Shilling",
          "GBR Coin",
          "FujiCoin",
          "ZCoin",
          "LeaCoin",
          "Zurcoin",
          "Elementrem",
          "CashOut",
          "ZClassic",
          "KiloCoin",
          "Hush",
          "ArtexCoin",
          "Kurrent",
          "Cannabis Industry Coin",
          "OsmiumCoin",
          "Bikercoins",
          "HexxCoin",
          "MarxCoin",
          "PacCoin",
          "Solarflarecoin",
          "Citadel",
          "CreativeChain",
          "BeaverCoin",
          "VaultCoin",
          "Zero",
          "Canada eCoin",
          "Zoin",
          "Musicoin",
          "BnrtxCoin",
          "DubaiCoin",
          "EB3coin",
          "Coinonat",
          "Bitcoin Scrypt",
          "BenjiRolls",
          "ParallelCoin",
          "ILCoin",
          "EquiTrader",
          "Quantum Resistant Ledger",
          "Dynamic",
          "Nano",
          "ChanCoin",
          "Dinastycoin",
          "DigitalPrice",
          "Unify",
          "SocialCoin",
          "ArcticCoin",
          "DAS",
          "LeviarCoin",
          "Bitcore",
          "gCn Coin",
          "SmartCash",
          "Onix",
          "Bitcoin Cash",
          "CampusCoin",
          "Sojourn Coin",
          "NewYorkCoin",
          "LiteBitcoin",
          "FrazCoin",
          "Kronecoin",
          "AdCoin",
          "Linx",
          "Sumokoin",
          "BitcoinZ",
          "Elements",
          "VIVO Coin",
          "Bitcoin Gold",
          "Pirl",
          "eBoost",
          "Pura",
          "Innova",
          "Bitdeal",
          "Ellaism",
          "Sakuracoin",
          "GoByte",
          "SHIELD",
          "UltraNote",
          "BitCoal",
          "DaxxCoin",
          "AC3",
          "CHIPS",
          "Lethean",
          "PopularCoin",
          "Photon",
          "Sucre",
          "SparksPay",
          "GunCoin",
          "IrishCoin",
          "Pioneer Coin",
          "UnitedBitcoin",
          "Interzone",
          "1717 Masonic Commemorative Token",
          "TurtleCoin",
          "MUNcoin",
          "Niobio Cash",
          "Bitcoin Private",
          "Skeincoin",
          "ShareChain",
          "Travelflex",
          "KREDS",
          "BitFlip",
          "LottoCoin",
          "LeafCoin",
          "Cerberus",
          "Bitcoin Hush",
          "Crypto Improvement Fund",
          "Callisto Network",
          "Curium",
          "BitTube",
          "Dinero",
          "Poseidon",
          "Aidos Kuneen",
          "Snowgem",
          "Bitrolium",
          "Bitcoin Interest",
          "Alpenschillling",
          "FuturoCoin",
          "Monero Classic",
          "Jumpcoin",
          "Infinex",
          "KEYCO",
          "GINcoin",
          "PlatinCoin",
          "Loki",
          "Newton Coin",
          "MassGrid",
          "PluraCoin",
          "Motion",
          "PlusOneCoin",
          "Axe",
          "HexCoin",
          "Webchain",
          "Ryo",
          "Urals Coin",
          "Qwertycoin",
          "NIX",
          "Project Pai",
          "Azart",
          "Xchange",
          "CrypticCoin",
          "ZestCoin",
          "X-CASH",
          "Actinium",
          "ETHER-1",
          "Bitcoin SV",
          "Bitcoiin2Gen",
          "FREDEnergy",
          "C25 Coin",
          "Aquachain",
          "Universal Molecule",
          "Lithium",
          "Smart Bitcoin",
          "PirateCash",
          "Exosis",
          "Block-Logic",
          "Beam",
          "Bithereum",
          "SLICE",
          "Vidulum",
          "BlockStamp",
          "BLAST",
          "Bitcoin Rhodium",
          "GlobalToken",
          "Boolberry",
          "SolarCoin",
          "UFO Coin",
          "BlakeCoin",
          "FantomCoin ",
          "Crypto Escudo",
          "Crown Coin",
          "Quazar Coin",
          "SmileyCoin",
          "Groestlcoin",
          "Bata",
          "Pakcoin",
          "Dotcoin",
          "JoinCoin",
          "Vollar",
          "Reality Clash",
          "iOlite",
          "Beldex",
          "Horizen"
         ],
         "legendgroup": "0",
         "marker": {
          "color": [
           0,
           0,
           0,
           0,
           0,
           0,
           0,
           0,
           0,
           0,
           0,
           0,
           0,
           0,
           0,
           0,
           0,
           0,
           0,
           0,
           0,
           0,
           0,
           0,
           0,
           0,
           0,
           0,
           0,
           0,
           0,
           0,
           0,
           0,
           0,
           0,
           0,
           0,
           0,
           0,
           0,
           0,
           0,
           0,
           0,
           0,
           0,
           0,
           0,
           0,
           0,
           0,
           0,
           0,
           0,
           0,
           0,
           0,
           0,
           0,
           0,
           0,
           0,
           0,
           0,
           0,
           0,
           0,
           0,
           0,
           0,
           0,
           0,
           0,
           0,
           0,
           0,
           0,
           0,
           0,
           0,
           0,
           0,
           0,
           0,
           0,
           0,
           0,
           0,
           0,
           0,
           0,
           0,
           0,
           0,
           0,
           0,
           0,
           0,
           0,
           0,
           0,
           0,
           0,
           0,
           0,
           0,
           0,
           0,
           0,
           0,
           0,
           0,
           0,
           0,
           0,
           0,
           0,
           0,
           0,
           0,
           0,
           0,
           0,
           0,
           0,
           0,
           0,
           0,
           0,
           0,
           0,
           0,
           0,
           0,
           0,
           0,
           0,
           0,
           0,
           0,
           0,
           0,
           0,
           0,
           0,
           0,
           0,
           0,
           0,
           0,
           0,
           0,
           0,
           0,
           0,
           0,
           0,
           0,
           0,
           0,
           0,
           0,
           0,
           0,
           0,
           0,
           0,
           0,
           0,
           0,
           0,
           0,
           0,
           0,
           0,
           0,
           0,
           0,
           0,
           0,
           0,
           0,
           0,
           0,
           0,
           0,
           0,
           0,
           0,
           0,
           0,
           0,
           0,
           0,
           0,
           0,
           0,
           0,
           0,
           0,
           0,
           0,
           0,
           0,
           0,
           0,
           0,
           0,
           0,
           0,
           0,
           0,
           0,
           0,
           0,
           0,
           0,
           0,
           0,
           0,
           0,
           0,
           0,
           0,
           0,
           0,
           0,
           0,
           0,
           0,
           0,
           0,
           0,
           0,
           0,
           0,
           0,
           0,
           0,
           0,
           0,
           0,
           0,
           0,
           0,
           0,
           0,
           0,
           0,
           0,
           0,
           0,
           0,
           0,
           0,
           0,
           0,
           0,
           0,
           0,
           0,
           0,
           0,
           0,
           0,
           0,
           0,
           0,
           0,
           0,
           0,
           0,
           0,
           0,
           0,
           0,
           0,
           0,
           0,
           0,
           0,
           0,
           0,
           0,
           0,
           0,
           0,
           0,
           0,
           0,
           0,
           0,
           0,
           0,
           0,
           0,
           0,
           0,
           0,
           0,
           0,
           0,
           0,
           0,
           0,
           0,
           0,
           0,
           0,
           0,
           0,
           0
          ],
          "coloraxis": "coloraxis",
          "symbol": "diamond"
         },
         "mode": "markers",
         "name": "0",
         "scene": "scene",
         "showlegend": true,
         "type": "scatter3d",
         "x": [
          -0.20952285953562014,
          -0.35073118591304814,
          -0.34671648667464416,
          -0.29904639613057815,
          -0.3506531480188786,
          -0.30265384800568623,
          -0.06152174835962085,
          -0.34750396811247525,
          -0.24647548665544092,
          -0.20976936010376226,
          -0.3474154521010084,
          -0.2097693601880789,
          -0.19514477847599626,
          -0.34758434679212713,
          -0.20742903154843156,
          -0.34581033142562656,
          -0.3474821127414059,
          0.0981364789339787,
          -0.24941494227367714,
          -0.34712343832609677,
          -0.2466287967232365,
          -0.3475832830257135,
          -0.34748400781191785,
          -0.3475186041265125,
          -0.24656008760667333,
          0.0006742934561983009,
          -0.34758328295488766,
          0.048373180811283646,
          -0.17517048668588564,
          -0.34729576163106884,
          -0.3475832831572366,
          -0.3445737712048026,
          -0.3473152000884078,
          -0.3475835603067493,
          -0.20976936010654249,
          -0.3475675702880322,
          -0.324572328221196,
          -0.335426460168565,
          -0.3466802760359599,
          -0.34701047217177755,
          -0.21835845409786542,
          0.8981180034854044,
          -0.20947937929641172,
          -0.34550086189458196,
          -0.3473175439973558,
          -0.3475680980987187,
          -0.3475832831766605,
          -0.347058688882483,
          -0.42841017964555467,
          -0.3475034745233207,
          -0.20976936023800333,
          -0.3150496534122831,
          -0.20956673304174117,
          -0.3429809953605601,
          -0.34758328298250135,
          -0.34756810072184546,
          -0.3472503222387282,
          -0.34723136639929014,
          -0.29880601545519747,
          -0.3475832830074635,
          -0.20202342335021678,
          -0.20917072445595847,
          -0.20945399600597647,
          -0.20976936010660532,
          -0.2097380355089142,
          -0.2097665975408549,
          -0.2466121960201114,
          -0.3472649557072338,
          -0.24662879666499157,
          -0.24546521868368307,
          -0.34593867513187704,
          -0.20923041451014138,
          2.4145549021071098,
          -0.021417355949476236,
          -0.34664559898383474,
          -0.20976936010209823,
          -0.3418765463260239,
          -0.34569240058386663,
          -0.34758078154696065,
          -0.345489545054863,
          -0.3366858116345461,
          -0.23192541759233037,
          -0.4063331918503185,
          -0.2174631389392807,
          -0.386758168657959,
          -0.3474438562356338,
          -0.28419062135447815,
          -0.20976936009932465,
          -0.44354364723421624,
          -0.3475832831821986,
          -0.24662879675651944,
          -0.3475747650605115,
          -0.20959799776605845,
          -0.3475823251797243,
          -0.24662879675651944,
          -0.24618574656967415,
          -0.38068796647444997,
          -0.2095665846314164,
          -0.24641066721816102,
          -0.34713550708658913,
          -0.34654357597657404,
          -0.35206754460602746,
          0.36770345691700174,
          -0.2464106141632452,
          -0.20948064254832763,
          -0.3475833287132109,
          -0.34469576050542405,
          -0.3872657381575278,
          -0.3466230291497551,
          -0.11638366520660076,
          0.0891575777038459,
          -0.20976936014092815,
          -0.24662880290553588,
          -0.2988060291843954,
          -0.24600852499667958,
          -0.34758334119429996,
          -0.33259755109292494,
          -0.34757453198616844,
          -0.22419334490604298,
          -0.28918205582001455,
          -0.2097693602158149,
          -0.3474929336789281,
          -0.24644105160281893,
          -0.20976936010604008,
          -0.3475748067233354,
          -0.24660985022449392,
          -0.23468563713532287,
          -0.1162761058754926,
          -0.20968350664169866,
          -0.20460834766087954,
          -0.34597664880699597,
          -0.20964414181279062,
          -0.3474303928132189,
          -0.3475832831919063,
          -0.29880601534425477,
          -0.2982738197858513,
          -0.20976936564647497,
          0.09456753979187525,
          -0.3518515268204587,
          -0.2097693603766821,
          -0.302678178910649,
          -0.3448841920598871,
          -0.3027553658386682,
          -0.2352987077011791,
          -0.24578502439003935,
          -0.11637021561268023,
          -0.34757099000121777,
          -0.11625500423878365,
          -0.38085113325477266,
          -0.24662879694412412,
          -0.23924551162558988,
          -0.3475832830046899,
          -0.2991320849155526,
          -0.3392274007791159,
          -0.3475404478194533,
          -0.2462109949318293,
          -0.30266019232750024,
          -0.3462104254145245,
          -0.38062192430545416,
          -0.35221185704412605,
          -0.24662879724744224,
          -0.2648632011558686,
          -0.34670196630046524,
          -0.2228490740007413,
          -0.3475832830074635,
          -0.34730448446122253,
          -0.3475832829519921,
          -0.19165019441884873,
          -0.34739527231119627,
          -0.29833366122494603,
          -0.2354456761660781,
          -0.08556957180807695,
          -0.2507685239293615,
          -0.09150329908046213,
          -0.2461456321831529,
          -0.34733394958315117,
          -0.34751222568434614,
          -0.24627071146575594,
          -0.2465927317473157,
          -0.11618893896113616,
          -0.3595037460179624,
          1.8944416317542658,
          -0.3084132928022877,
          -0.24494474625876037,
          -0.2095219188267301,
          -0.3475832857505294,
          -0.34757664032605606,
          1.618774106506752,
          -0.34758328572279373,
          -0.3474498513631535,
          -0.3473432922141074,
          -0.34713438709478467,
          -0.3471196772970998,
          -0.1162606479422381,
          -0.23109599528730682,
          -0.2094642398458562,
          -0.32738426776238067,
          -0.3025188314874765,
          -0.33220863052683786,
          -0.3462084097422585,
          -0.24421956036228656,
          -0.3273538898124153,
          -0.3475832837812909,
          -0.35203645511406195,
          -0.347583283240721,
          -0.32736135542760697,
          -0.21173460770047806,
          0.14874325775449782,
          -0.11632178969668783,
          -0.34504956442803264,
          -0.24552444153763325,
          -0.2097693601575697,
          -0.29321567741555477,
          -0.29307509497525946,
          0.27688356740042724,
          -0.24657064694927006,
          -0.32733364740789267,
          -0.32331929685899985,
          -0.3469578862111436,
          -0.24651222186449892,
          -0.20949207544407913,
          -0.3158611030843228,
          -0.03722008924799358,
          0.614292122177028,
          -0.38457615605915135,
          -0.11454207996993265,
          -0.3027553658386682,
          -0.3428537163476875,
          -0.21008221419710837,
          -0.3312002208963307,
          -0.2373166014401345,
          -0.3474121478204234,
          -0.14833029679146936,
          -0.34758334119429996,
          -0.3274415502858114,
          -0.3027553658386682,
          -0.24372343235386792,
          -0.34880717543151596,
          -0.24662879672601018,
          -0.11528298426177423,
          -0.3274415504758013,
          -0.34752731714411667,
          -0.2907567677435183,
          -0.30275536601366937,
          -0.3017742203417816,
          -0.3027553658422735,
          -0.29800195036004334,
          -0.24619152336403902,
          -0.11616343157024184,
          -0.2226985632139557,
          -0.3808068367267647,
          -0.22276749181416713,
          -0.2982818206906695,
          -0.11638250768534106,
          0.21146567941210914,
          0.4514200026344572,
          -0.41811475356598665,
          -0.10868242467070423,
          -0.2312507878544848,
          -0.24313476482719215,
          -0.246560142003668,
          -0.3475638037380361,
          -0.2990686891398153,
          -0.3902660400986519,
          -0.12417142959030357,
          1.58006798929531,
          -0.24616886324969384,
          -0.18089413566138135,
          -0.24655982781546465,
          -0.23122840442394765,
          -0.2445221393047589,
          0.09456754006007971,
          -0.3136681168255193,
          -0.298190403973967,
          -0.3522118558203355,
          -0.20952196110831706,
          -0.3522118560597888,
          -0.09071147833797068,
          -0.3846424087194595,
          -0.16548424528987726,
          -0.1500225796650308,
          -0.1498263868298252,
          -0.2097693601575691,
          0.012399447713729885,
          -0.3471356591305136,
          -0.3470981145519792,
          -0.302264659196225,
          -0.3024095397802091,
          -0.3866679612664027,
          -0.2895179285913957,
          -0.20976936039055,
          -0.20905031428924548,
          -0.2035849359399009,
          -0.20860592116256152,
          -0.24662879671616394,
          -0.3468195291440006,
          -0.27485172300567545,
          -0.14972314190401778,
          -0.11638366520647124,
          -0.3368553030486374,
          -0.20945328742040112,
          -0.11638366520660076,
          0.059199675410707746,
          -0.2490883824700469,
          -0.3475138097651822,
          -0.34662511455091116,
          -0.3475832854177005,
          -0.21831262593931544,
          -0.36019945293651706,
          -0.35187514393395936,
          -0.3522118585560064,
          -0.10290550087759276,
          -0.30265503764798635
         ],
         "y": [
          -1.4398632399960696,
          -2.0897763758737953,
          -1.0446442009083858,
          -2.2545535529621805,
          -2.089785008032608,
          -2.0966544303541403,
          -1.7395864120346636,
          -1.044557068924377,
          -0.8459264346879728,
          -1.4398359655924164,
          -1.0445668624697229,
          -1.4398359652171016,
          -1.72480160520342,
          -1.0445435525121882,
          -1.4400949147446473,
          -1.044744462596338,
          -1.0445594862124157,
          -0.6662611320216157,
          -1.1878367114883615,
          -1.0445991732137454,
          -0.8459094713216083,
          -1.0445482928593695,
          -1.0445592774789467,
          -1.0445554495826832,
          -0.8459170738401088,
          -1.7464682934028426,
          -1.0445482931746348,
          -1.4683985035542404,
          -1.063625151480668,
          -1.0445801064219646,
          -1.0445482922739275,
          -1.0448812841213078,
          -1.0445779554755408,
          -1.0445470586109198,
          -1.4398359655800408,
          -1.0445500316290866,
          -1.5636421911794118,
          -1.0458933964487906,
          -1.0446482076885224,
          -1.0446116723306407,
          -1.7222330968428283,
          -1.1823807616687487,
          -1.4398680509697623,
          -1.0447787043974242,
          -1.0445776962726707,
          -1.0445499733472425,
          -1.0445482921874667,
          -1.0446063376430017,
          -2.1742783991826093,
          -1.044557123671143,
          -1.4398359649948753,
          -1.0481478728476517,
          -1.43985838550842,
          -1.045057520116255,
          -1.0445482930517185,
          -1.044549972820434,
          -1.0445851314138548,
          -1.044587231220806,
          -2.1544605888917663,
          -1.0445482929406054,
          -1.4406930223767227,
          -1.4399022024999777,
          -1.4398708593110285,
          -1.4398359655797615,
          -1.4398394306322944,
          -1.4398362712789627,
          -0.8459113083984088,
          -1.044583514992044,
          -0.8459094715808718,
          -1.4702280207142437,
          -1.0447302615183653,
          -1.4398955979772619,
          -2.583506799190924,
          -2.3139749992205494,
          -1.044652044189997,
          -1.4398359655998239,
          -1.0451797083182548,
          -1.0447575123393185,
          -1.044548569941788,
          -1.044779957845028,
          -1.0457540575969717,
          -2.185551635652567,
          -2.190498691659575,
          -1.7223321616074982,
          -1.1718213571581293,
          -1.0445637203571103,
          -1.0515624034846343,
          -1.4398359656121695,
          -2.20213552141536,
          -1.0445482921628144,
          -0.8459094711734576,
          -1.044549235674313,
          -1.4398549261492004,
          -1.0445472915864706,
          -0.8459094711734576,
          -0.8459584935071606,
          -2.2021457009269425,
          -1.439858401535233,
          -0.8459336067755723,
          -1.0445978358860444,
          -1.0446633310222413,
          -2.0896285111083226,
          -2.29452386805834,
          -0.8459336127061534,
          -1.439867911194272,
          -1.0445480894926924,
          -1.0448677874082073,
          -2.1255476833992666,
          -1.0446545417368267,
          -2.303467347941371,
          -1.472911181876499,
          -1.4398359654269812,
          -0.8459094438026203,
          -2.1544605277796136,
          -0.8459781019924308,
          -1.04454803393619,
          -2.207998043418894,
          -1.0445492594440502,
          -2.351881795005927,
          -2.278101325545493,
          -1.4398359650936423,
          -1.0445582898673618,
          -0.8459302447754561,
          -1.4398359655822774,
          -1.044549231064468,
          -0.8459115676535269,
          -1.7965144936790214,
          -2.303479249199136,
          -1.439845464953426,
          -1.723754495884264,
          -1.0447260606190494,
          -1.4398498205569752,
          -1.04456520972868,
          -1.0445482921196036,
          -2.154460589385603,
          -2.2516475085669025,
          -1.4398359409203907,
          -0.6658662397827998,
          -2.089652412794145,
          -1.4398359643775807,
          -2.0966517382037297,
          -1.044846820092271,
          -2.096643197673886,
          -0.8471631099984186,
          -0.8460028300109894,
          -2.3034688360726983,
          -1.0445496533494396,
          -2.3034815838589524,
          -2.202127647625038,
          -0.8459094703383815,
          -0.8467252086815598,
          -1.0445482929529515,
          -2.2545440694970913,
          -1.4889503034954137,
          -1.0445530327534596,
          -0.8459556882008197,
          -2.0966537284198337,
          -1.0447001950584007,
          -2.202153008857833,
          -2.089612538044987,
          -0.8459094689882352,
          -2.1861967982003163,
          -1.0446457604047357,
          -0.49135427115246927,
          -1.0445482929406054,
          -1.0445791410890217,
          -1.0445482931875232,
          -1.4418407733700298,
          -1.0445690952138869,
          -2.2546324139340648,
          -2.233883670225892,
          -2.244370399788564,
          -2.2200120252607154,
          -2.306220270923322,
          -0.8459629312515307,
          -1.0445758810466133,
          -1.0445561545957402,
          -0.8459490920406286,
          -0.8459134618412788,
          -2.3034888934584083,
          -2.1605530499535344,
          -1.2926200241833448,
          -1.4923597443958954,
          -0.8460957940702164,
          -1.4398633440830197,
          -1.0445482807305209,
          -1.044548901779081,
          -1.2621205479643105,
          -1.0445482808539799,
          -1.0445630568118824,
          -1.0445748465299556,
          -1.0445979611373608,
          -1.0445995887376471,
          -2.3034809586289042,
          -2.104571865307784,
          -0.8500216100234859,
          -1.5633310612116014,
          -2.0966693695754923,
          -2.2080410749323334,
          -1.0447004180872166,
          -0.8461760430047177,
          -1.5633344222348773,
          -1.0445482894961025,
          -2.0896319479111614,
          -1.0445482919023161,
          -1.5633335963431776,
          -1.722966000522353,
          -2.3328019190474514,
          -2.303474194374809,
          -2.090404911903951,
          -0.846031658939218,
          -1.4398359653529067,
          -2.2551986945645273,
          -1.050579420124873,
          -1.2102232972111007,
          -0.8459159054550528,
          -1.563336662292442,
          -1.5637808338177523,
          -1.0446174909276496,
          -0.8459223699979395,
          -1.4398666461845762,
          -1.2196768260252577,
          -0.3100793715570981,
          -2.3843026563516614,
          -1.4985552293563327,
          -2.303671110663753,
          -2.096643197673886,
          -0.7983886920908005,
          -1.059762303120728,
          -2.2081526534740368,
          -1.4711296314716034,
          -1.0445672283685836,
          -1.0665948885702332,
          -1.04454803393619,
          -1.5633247229974105,
          -2.096643197673886,
          -0.8462309364534242,
          -2.0899891843014737,
          -0.8459094713092621,
          -2.303589123565648,
          -1.563324722151717,
          -1.0445544854156577,
          -2.191464397050212,
          -2.0966431968949104,
          -2.096751758243383,
          -2.0966431976578366,
          -2.251677586847179,
          -0.8459578535134994,
          -2.3034917162124695,
          -0.49137092510182706,
          -2.202132548722943,
          -2.2209358130666588,
          -2.2516466234191292,
          -2.303467469016716,
          -2.2817367432228153,
          -2.3662911100646,
          -2.185863454639065,
          -2.3043194580616246,
          -1.305686837752033,
          -2.3656654635634387,
          -0.8459170677851081,
          -1.0445504482570442,
          -2.254551065231302,
          -2.1585758429922817,
          -0.6971371857300055,
          -2.4331667572327245,
          -1.4701501632047995,
          -1.44303090769555,
          -0.8459171025010475,
          -1.3056893134814087,
          -2.1030864592343885,
          -0.6658662409766475,
          -2.1538871062835936,
          -2.251656737552662,
          -2.089612543492391,
          -1.4398633394046736,
          -2.0896125424265235,
          -2.3063078106012718,
          -1.4985478988007592,
          -2.2916865182911823,
          -1.905959452847958,
          -1.9059811620291143,
          -1.4398359653529087,
          -0.3171280653002353,
          -2.310984775612229,
          -1.0446019743576977,
          -2.0966974901575774,
          -2.0966814622953978,
          -1.1718313371639943,
          -2.3228528321141204,
          -1.4398359643158514,
          -1.439915525362572,
          -0.24803516007773196,
          -1.4399646950369678,
          -0.84590947135309,
          -1.04463161951645,
          -1.5691436007935589,
          -1.9059925018383563,
          -2.3034673479419476,
          -1.0457353038193908,
          -1.4398709377141519,
          -2.303467347941371,
          -1.089557151851808,
          -1.1878728442158302,
          -1.044555980164107,
          -1.0446543098128713,
          -1.0445482822120276,
          -1.7222381680795333,
          -2.2652672468045787,
          -2.0896497996435532,
          -2.089612531315223,
          -2.3049586546123364,
          -2.0966542987233594
         ],
         "z": [
          0.12528993808222355,
          0.27628247028806385,
          -0.029043257194032175,
          0.2111759618727514,
          0.27627883958496546,
          0.2665526867012192,
          0.2503930590904971,
          -0.029006630021165127,
          -0.04813683901043417,
          0.12530140326378458,
          -0.029010747239431017,
          0.12530140311540558,
          0.2566081473112927,
          -0.02900481518970959,
          0.12519255048406797,
          -0.02908540456699634,
          -0.029007646940661005,
          0.015480564239519896,
          -0.006405385145437191,
          -0.02902432912703778,
          -0.04812970835089923,
          -0.02900294100716911,
          -0.029007558402513706,
          -0.02900594924041233,
          -0.048132904092472055,
          0.2475002569247736,
          -0.02900294088253051,
          0.1132947293470279,
          -0.0370221675284533,
          -0.029016313994281395,
          -0.0290029412386208,
          -0.029142918952677895,
          -0.02901540993969566,
          -0.02900342896132411,
          0.12530140325889189,
          -0.029003671746576313,
          0.17160080186848217,
          -0.029568378730280807,
          -0.029044941331084685,
          -0.029029583460675277,
          0.2576878574697051,
          -0.08694269467443462,
          0.12528791575580892,
          -0.029099798502689244,
          -0.02901530086111079,
          -0.02900364714784014,
          -0.029002941272802594,
          -0.029027340682851507,
          0.3095041642977794,
          -0.02900665292357456,
          0.1253014030275497,
          -0.030516200392873272,
          0.12529197870003483,
          -0.02921700135953829,
          -0.02900294093112492,
          -0.029003647124279212,
          -0.029018428590901254,
          -0.029019309257399362,
          0.38608978003026373,
          -0.029002940975052984,
          0.12494112452812665,
          0.12527355965944836,
          0.125286735038449,
          0.12530140325878175,
          0.12529994592052265,
          0.12530127477990385,
          -0.04813048036748958,
          -0.029017746830677153,
          -0.04812970824840062,
          0.15294653201249497,
          -0.029079435199917816,
          0.1252763359369914,
          0.14634658109383625,
          0.25964791390922043,
          -0.02904655438497053,
          0.12530140326671302,
          -0.029268377548974905,
          -0.029090889275619983,
          -0.029003057229419406,
          -0.02910032433650222,
          -0.02950980243432548,
          0.25824629390145903,
          0.39453380918006614,
          0.25764621532649334,
          0.0828245751223492,
          -0.029009425819869632,
          -0.03195147185685446,
          0.12530140327159417,
          0.35613496644235476,
          -0.029002941282548853,
          -0.048129708409469917,
          -0.029003337054511913,
          0.12529343286585953,
          -0.02900344632967595,
          -0.048129708409469917,
          -0.04815031529005073,
          0.2802615420839205,
          0.12529197163313993,
          -0.04813985385765153,
          -0.02902376860416977,
          -0.02905130034281003,
          0.27634462610538096,
          0.1072857602262903,
          -0.04813985630025988,
          0.12528797451141316,
          -0.02900302140720136,
          -0.02913724461073871,
          0.2846720382469337,
          -0.029047604033544828,
          0.26406497908051185,
          0.11139778716893652,
          0.12530140319838082,
          -0.04812971923039805,
          0.38608975586987,
          -0.048158558367473535,
          -0.02900304337119589,
          0.1816332212289875,
          -0.029003348735442063,
          0.18564382129894338,
          0.15005872544317297,
          0.12530140306659676,
          -0.029007143243011072,
          -0.04813844065768856,
          0.1253014032597763,
          -0.029003335116700897,
          -0.048130589598954464,
          0.42575038668097004,
          0.26405997638869844,
          0.12529741005906053,
          0.25704831508812237,
          -0.02907766866370624,
          0.12529557914158165,
          -0.029010052155783724,
          -0.029002941299631945,
          0.3860897802254993,
          0.22622824284783882,
          0.1253013935098185,
          0.015646561170478898,
          0.2763345787710532,
          0.1253014027835053,
          0.2665538183654605,
          -0.029128529443815002,
          0.26655740843686826,
          -0.048656688953964404,
          -0.048168954413056395,
          0.2640643535083959,
          -0.029003512648266592,
          0.2640589948470689,
          0.28026913147737503,
          -0.048129708739613176,
          -0.048473616096584314,
          -0.029002940970172104,
          0.21117994645052565,
          0.0801691194506545,
          -0.02900493321086695,
          -0.048149145798164456,
          0.2665529818044938,
          -0.029066794887460893,
          0.28025847059514836,
          0.2763513360833589,
          -0.04812970927338709,
          0.167590472494421,
          -0.029043952175575986,
          -0.08095584761444584,
          -0.029002940975052984,
          -0.029015908356060893,
          -0.029002940877435084,
          0.12445864314289865,
          -0.02901168586960924,
          0.21114281105466448,
          0.10020323004668233,
          0.12836811770063714,
          0.24622038391623413,
          0.26290774870997496,
          -0.04815218140163939,
          -0.02901453781086808,
          -0.029006246220543094,
          -0.048146363589794176,
          -0.04813138577258374,
          0.26405592191380617,
          0.3125697966764955,
          -0.1332836408359419,
          0.07873588794541157,
          -0.0482080412865979,
          0.1252898943285469,
          -0.029002945802250834,
          -0.02900330243404983,
          -0.12046095873793945,
          -0.029002945753441818,
          -0.029009147061455912,
          -0.02901410359636073,
          -0.029023820144256578,
          -0.02902450431741168,
          0.2640592570234925,
          0.26322432631440307,
          -0.049858292508806724,
          0.17173159063669124,
          0.26654640689511755,
          0.1816151313595926,
          -0.02906688863918238,
          -0.04824176693413516,
          0.1717301776257968,
          -0.029002942336820384,
          0.2763431787717864,
          -0.02900294138553572,
          0.171730524928077,
          0.25737977006226775,
          0.25173313128922314,
          0.264062101194255,
          0.27601816006937746,
          -0.04818107609724082,
          0.12530140316909552,
          0.21090476202607383,
          -0.03153821757883372,
          -0.026945934424938242,
          -0.048132412971775056,
          0.17172923624363787,
          0.17154252081493251,
          -0.029032029265554288,
          -0.04813513041978296,
          0.12528850627547874,
          -0.023096664838251645,
          0.15309976040263296,
          0.2300752218632867,
          0.099696310688954,
          0.2639793227981542,
          0.26655740843686826,
          -0.017653873092329825,
          -0.035398356976578046,
          0.1815682291068256,
          0.15256752339773863,
          -0.029010900805880695,
          -0.03827056668511204,
          -0.02900304337119589,
          0.1717342549040052,
          0.26655740843686826,
          -0.048264843289525086,
          0.27619294931951827,
          -0.04812970835578021,
          0.2640137799609787,
          0.1717342545696643,
          -0.029005544025219397,
          0.4135356651757905,
          0.2665574081289041,
          0.26651177374931134,
          0.2665574084305231,
          0.2262155964268531,
          -0.04815004693897069,
          0.2640547357079209,
          -0.0809628479440068,
          0.28026707110266946,
          0.2850426166961645,
          0.22622861503566138,
          0.2640649223290673,
          0.2806076773209568,
          0.23765471880866137,
          0.32771514324231105,
          0.26370677875141296,
          0.016646273304091876,
          0.11953047953909786,
          -0.04813290157742182,
          -0.02900384698851164,
          0.21117698998431825,
          0.3145524299065254,
          0.046879530535356484,
          0.21695115640629847,
          0.1529792590443009,
          0.12395836588974905,
          -0.04813291621079182,
          0.016645231829204687,
          0.2638488620842226,
          0.01564656164246099,
          0.4191497317439467,
          0.2262243627487578,
          0.27635133823696323,
          0.12528989629512235,
          0.2763513378155778,
          0.2628708895654919,
          0.09969939224496253,
          0.2084596902032058,
          0.2665615845614017,
          0.26655245975993036,
          0.1253014031690967,
          0.14329824657946652,
          0.17934747443157895,
          -0.029025507330884097,
          0.26653458377684447,
          0.2665413235362332,
          0.0828203789500782,
          0.16615203817673269,
          0.12530140275910082,
          0.1252679591299668,
          -0.06849039271459498,
          0.12524728926635678,
          -0.04812970833845314,
          -0.029038955594864847,
          0.16928820899020447,
          0.2665476227519521,
          0.2640649790807402,
          -0.029501919152852246,
          0.12528670208114787,
          0.26406497908051185,
          -0.047923232694517114,
          -0.006420574001435924,
          -0.029006172192047427,
          -0.02904750752960502,
          -0.02900294521654418,
          0.2576857261346806,
          0.4144192174785771,
          0.27633567724446406,
          0.2763513334227791,
          0.2634380839836169,
          0.2665527420331385
         ]
        },
        {
         "customdata": [
          [
           "Proof-of-BibleHash"
          ],
          [
           "SHA-256 + Hive"
          ],
          [
           "Proof-of-Authority"
          ],
          [
           "ECC 256K1"
          ],
          [
           "Leased POS"
          ]
         ],
         "hovertemplate": "<b>%{hovertext}</b><br><br>class=%{marker.color}<br>PC 1=%{x}<br>PC 2=%{y}<br>PC 3=%{z}<br>Algorithm=%{customdata[0]}<extra></extra>",
         "hovertext": [
          "BiblePay",
          "LitecoinCash",
          "Poa Network",
          "Acute Angle Cloud",
          "Waves"
         ],
         "legendgroup": "2",
         "marker": {
          "color": [
           2,
           2,
           2,
           2,
           2
          ],
          "coloraxis": "coloraxis",
          "symbol": "square"
         },
         "mode": "markers",
         "name": "2",
         "scene": "scene",
         "showlegend": true,
         "type": "scatter3d",
         "x": [
          -1.0760894956654357,
          0.5904085292794273,
          1.009511021856335,
          0.7938945880763032,
          -0.5333934768426546
         ],
         "y": [
          3.7492182445443984,
          2.4185423936828654,
          1.9219419138491036,
          2.343458129314258,
          3.2367254018519724
         ],
         "z": [
          12.276765580882675,
          17.24779822819391,
          15.388883168672367,
          18.250502261794452,
          8.367164447122411
         ]
        },
        {
         "customdata": [
          [
           "TRC10"
          ]
         ],
         "hovertemplate": "<b>%{hovertext}</b><br><br>class=%{marker.color}<br>PC 1=%{x}<br>PC 2=%{y}<br>PC 3=%{z}<br>Algorithm=%{customdata[0]}<extra></extra>",
         "hovertext": [
          "BitTorrent"
         ],
         "legendgroup": "3",
         "marker": {
          "color": [
           3
          ],
          "coloraxis": "coloraxis",
          "symbol": "x"
         },
         "mode": "markers",
         "name": "3",
         "scene": "scene",
         "showlegend": true,
         "type": "scatter3d",
         "x": [
          32.16149734095692
         ],
         "y": [
          -2.611924877171166
         ],
         "z": [
          -1.4782314434149155
         ]
        }
       ],
       "layout": {
        "coloraxis": {
         "colorbar": {
          "title": {
           "text": "class"
          }
         },
         "colorscale": [
          [
           0,
           "#0d0887"
          ],
          [
           0.1111111111111111,
           "#46039f"
          ],
          [
           0.2222222222222222,
           "#7201a8"
          ],
          [
           0.3333333333333333,
           "#9c179e"
          ],
          [
           0.4444444444444444,
           "#bd3786"
          ],
          [
           0.5555555555555556,
           "#d8576b"
          ],
          [
           0.6666666666666666,
           "#ed7953"
          ],
          [
           0.7777777777777778,
           "#fb9f3a"
          ],
          [
           0.8888888888888888,
           "#fdca26"
          ],
          [
           1,
           "#f0f921"
          ]
         ]
        },
        "legend": {
         "title": {
          "text": "class"
         },
         "tracegroupgap": 0,
         "x": 0,
         "y": 1
        },
        "margin": {
         "t": 60
        },
        "scene": {
         "domain": {
          "x": [
           0,
           1
          ],
          "y": [
           0,
           1
          ]
         },
         "xaxis": {
          "title": {
           "text": "PC 1"
          }
         },
         "yaxis": {
          "title": {
           "text": "PC 2"
          }
         },
         "zaxis": {
          "title": {
           "text": "PC 3"
          }
         }
        },
        "template": {
         "data": {
          "bar": [
           {
            "error_x": {
             "color": "#2a3f5f"
            },
            "error_y": {
             "color": "#2a3f5f"
            },
            "marker": {
             "line": {
              "color": "#E5ECF6",
              "width": 0.5
             },
             "pattern": {
              "fillmode": "overlay",
              "size": 10,
              "solidity": 0.2
             }
            },
            "type": "bar"
           }
          ],
          "barpolar": [
           {
            "marker": {
             "line": {
              "color": "#E5ECF6",
              "width": 0.5
             },
             "pattern": {
              "fillmode": "overlay",
              "size": 10,
              "solidity": 0.2
             }
            },
            "type": "barpolar"
           }
          ],
          "carpet": [
           {
            "aaxis": {
             "endlinecolor": "#2a3f5f",
             "gridcolor": "white",
             "linecolor": "white",
             "minorgridcolor": "white",
             "startlinecolor": "#2a3f5f"
            },
            "baxis": {
             "endlinecolor": "#2a3f5f",
             "gridcolor": "white",
             "linecolor": "white",
             "minorgridcolor": "white",
             "startlinecolor": "#2a3f5f"
            },
            "type": "carpet"
           }
          ],
          "choropleth": [
           {
            "colorbar": {
             "outlinewidth": 0,
             "ticks": ""
            },
            "type": "choropleth"
           }
          ],
          "contour": [
           {
            "colorbar": {
             "outlinewidth": 0,
             "ticks": ""
            },
            "colorscale": [
             [
              0,
              "#0d0887"
             ],
             [
              0.1111111111111111,
              "#46039f"
             ],
             [
              0.2222222222222222,
              "#7201a8"
             ],
             [
              0.3333333333333333,
              "#9c179e"
             ],
             [
              0.4444444444444444,
              "#bd3786"
             ],
             [
              0.5555555555555556,
              "#d8576b"
             ],
             [
              0.6666666666666666,
              "#ed7953"
             ],
             [
              0.7777777777777778,
              "#fb9f3a"
             ],
             [
              0.8888888888888888,
              "#fdca26"
             ],
             [
              1,
              "#f0f921"
             ]
            ],
            "type": "contour"
           }
          ],
          "contourcarpet": [
           {
            "colorbar": {
             "outlinewidth": 0,
             "ticks": ""
            },
            "type": "contourcarpet"
           }
          ],
          "heatmap": [
           {
            "colorbar": {
             "outlinewidth": 0,
             "ticks": ""
            },
            "colorscale": [
             [
              0,
              "#0d0887"
             ],
             [
              0.1111111111111111,
              "#46039f"
             ],
             [
              0.2222222222222222,
              "#7201a8"
             ],
             [
              0.3333333333333333,
              "#9c179e"
             ],
             [
              0.4444444444444444,
              "#bd3786"
             ],
             [
              0.5555555555555556,
              "#d8576b"
             ],
             [
              0.6666666666666666,
              "#ed7953"
             ],
             [
              0.7777777777777778,
              "#fb9f3a"
             ],
             [
              0.8888888888888888,
              "#fdca26"
             ],
             [
              1,
              "#f0f921"
             ]
            ],
            "type": "heatmap"
           }
          ],
          "heatmapgl": [
           {
            "colorbar": {
             "outlinewidth": 0,
             "ticks": ""
            },
            "colorscale": [
             [
              0,
              "#0d0887"
             ],
             [
              0.1111111111111111,
              "#46039f"
             ],
             [
              0.2222222222222222,
              "#7201a8"
             ],
             [
              0.3333333333333333,
              "#9c179e"
             ],
             [
              0.4444444444444444,
              "#bd3786"
             ],
             [
              0.5555555555555556,
              "#d8576b"
             ],
             [
              0.6666666666666666,
              "#ed7953"
             ],
             [
              0.7777777777777778,
              "#fb9f3a"
             ],
             [
              0.8888888888888888,
              "#fdca26"
             ],
             [
              1,
              "#f0f921"
             ]
            ],
            "type": "heatmapgl"
           }
          ],
          "histogram": [
           {
            "marker": {
             "pattern": {
              "fillmode": "overlay",
              "size": 10,
              "solidity": 0.2
             }
            },
            "type": "histogram"
           }
          ],
          "histogram2d": [
           {
            "colorbar": {
             "outlinewidth": 0,
             "ticks": ""
            },
            "colorscale": [
             [
              0,
              "#0d0887"
             ],
             [
              0.1111111111111111,
              "#46039f"
             ],
             [
              0.2222222222222222,
              "#7201a8"
             ],
             [
              0.3333333333333333,
              "#9c179e"
             ],
             [
              0.4444444444444444,
              "#bd3786"
             ],
             [
              0.5555555555555556,
              "#d8576b"
             ],
             [
              0.6666666666666666,
              "#ed7953"
             ],
             [
              0.7777777777777778,
              "#fb9f3a"
             ],
             [
              0.8888888888888888,
              "#fdca26"
             ],
             [
              1,
              "#f0f921"
             ]
            ],
            "type": "histogram2d"
           }
          ],
          "histogram2dcontour": [
           {
            "colorbar": {
             "outlinewidth": 0,
             "ticks": ""
            },
            "colorscale": [
             [
              0,
              "#0d0887"
             ],
             [
              0.1111111111111111,
              "#46039f"
             ],
             [
              0.2222222222222222,
              "#7201a8"
             ],
             [
              0.3333333333333333,
              "#9c179e"
             ],
             [
              0.4444444444444444,
              "#bd3786"
             ],
             [
              0.5555555555555556,
              "#d8576b"
             ],
             [
              0.6666666666666666,
              "#ed7953"
             ],
             [
              0.7777777777777778,
              "#fb9f3a"
             ],
             [
              0.8888888888888888,
              "#fdca26"
             ],
             [
              1,
              "#f0f921"
             ]
            ],
            "type": "histogram2dcontour"
           }
          ],
          "mesh3d": [
           {
            "colorbar": {
             "outlinewidth": 0,
             "ticks": ""
            },
            "type": "mesh3d"
           }
          ],
          "parcoords": [
           {
            "line": {
             "colorbar": {
              "outlinewidth": 0,
              "ticks": ""
             }
            },
            "type": "parcoords"
           }
          ],
          "pie": [
           {
            "automargin": true,
            "type": "pie"
           }
          ],
          "scatter": [
           {
            "marker": {
             "colorbar": {
              "outlinewidth": 0,
              "ticks": ""
             }
            },
            "type": "scatter"
           }
          ],
          "scatter3d": [
           {
            "line": {
             "colorbar": {
              "outlinewidth": 0,
              "ticks": ""
             }
            },
            "marker": {
             "colorbar": {
              "outlinewidth": 0,
              "ticks": ""
             }
            },
            "type": "scatter3d"
           }
          ],
          "scattercarpet": [
           {
            "marker": {
             "colorbar": {
              "outlinewidth": 0,
              "ticks": ""
             }
            },
            "type": "scattercarpet"
           }
          ],
          "scattergeo": [
           {
            "marker": {
             "colorbar": {
              "outlinewidth": 0,
              "ticks": ""
             }
            },
            "type": "scattergeo"
           }
          ],
          "scattergl": [
           {
            "marker": {
             "colorbar": {
              "outlinewidth": 0,
              "ticks": ""
             }
            },
            "type": "scattergl"
           }
          ],
          "scattermapbox": [
           {
            "marker": {
             "colorbar": {
              "outlinewidth": 0,
              "ticks": ""
             }
            },
            "type": "scattermapbox"
           }
          ],
          "scatterpolar": [
           {
            "marker": {
             "colorbar": {
              "outlinewidth": 0,
              "ticks": ""
             }
            },
            "type": "scatterpolar"
           }
          ],
          "scatterpolargl": [
           {
            "marker": {
             "colorbar": {
              "outlinewidth": 0,
              "ticks": ""
             }
            },
            "type": "scatterpolargl"
           }
          ],
          "scatterternary": [
           {
            "marker": {
             "colorbar": {
              "outlinewidth": 0,
              "ticks": ""
             }
            },
            "type": "scatterternary"
           }
          ],
          "surface": [
           {
            "colorbar": {
             "outlinewidth": 0,
             "ticks": ""
            },
            "colorscale": [
             [
              0,
              "#0d0887"
             ],
             [
              0.1111111111111111,
              "#46039f"
             ],
             [
              0.2222222222222222,
              "#7201a8"
             ],
             [
              0.3333333333333333,
              "#9c179e"
             ],
             [
              0.4444444444444444,
              "#bd3786"
             ],
             [
              0.5555555555555556,
              "#d8576b"
             ],
             [
              0.6666666666666666,
              "#ed7953"
             ],
             [
              0.7777777777777778,
              "#fb9f3a"
             ],
             [
              0.8888888888888888,
              "#fdca26"
             ],
             [
              1,
              "#f0f921"
             ]
            ],
            "type": "surface"
           }
          ],
          "table": [
           {
            "cells": {
             "fill": {
              "color": "#EBF0F8"
             },
             "line": {
              "color": "white"
             }
            },
            "header": {
             "fill": {
              "color": "#C8D4E3"
             },
             "line": {
              "color": "white"
             }
            },
            "type": "table"
           }
          ]
         },
         "layout": {
          "annotationdefaults": {
           "arrowcolor": "#2a3f5f",
           "arrowhead": 0,
           "arrowwidth": 1
          },
          "autotypenumbers": "strict",
          "coloraxis": {
           "colorbar": {
            "outlinewidth": 0,
            "ticks": ""
           }
          },
          "colorscale": {
           "diverging": [
            [
             0,
             "#8e0152"
            ],
            [
             0.1,
             "#c51b7d"
            ],
            [
             0.2,
             "#de77ae"
            ],
            [
             0.3,
             "#f1b6da"
            ],
            [
             0.4,
             "#fde0ef"
            ],
            [
             0.5,
             "#f7f7f7"
            ],
            [
             0.6,
             "#e6f5d0"
            ],
            [
             0.7,
             "#b8e186"
            ],
            [
             0.8,
             "#7fbc41"
            ],
            [
             0.9,
             "#4d9221"
            ],
            [
             1,
             "#276419"
            ]
           ],
           "sequential": [
            [
             0,
             "#0d0887"
            ],
            [
             0.1111111111111111,
             "#46039f"
            ],
            [
             0.2222222222222222,
             "#7201a8"
            ],
            [
             0.3333333333333333,
             "#9c179e"
            ],
            [
             0.4444444444444444,
             "#bd3786"
            ],
            [
             0.5555555555555556,
             "#d8576b"
            ],
            [
             0.6666666666666666,
             "#ed7953"
            ],
            [
             0.7777777777777778,
             "#fb9f3a"
            ],
            [
             0.8888888888888888,
             "#fdca26"
            ],
            [
             1,
             "#f0f921"
            ]
           ],
           "sequentialminus": [
            [
             0,
             "#0d0887"
            ],
            [
             0.1111111111111111,
             "#46039f"
            ],
            [
             0.2222222222222222,
             "#7201a8"
            ],
            [
             0.3333333333333333,
             "#9c179e"
            ],
            [
             0.4444444444444444,
             "#bd3786"
            ],
            [
             0.5555555555555556,
             "#d8576b"
            ],
            [
             0.6666666666666666,
             "#ed7953"
            ],
            [
             0.7777777777777778,
             "#fb9f3a"
            ],
            [
             0.8888888888888888,
             "#fdca26"
            ],
            [
             1,
             "#f0f921"
            ]
           ]
          },
          "colorway": [
           "#636efa",
           "#EF553B",
           "#00cc96",
           "#ab63fa",
           "#FFA15A",
           "#19d3f3",
           "#FF6692",
           "#B6E880",
           "#FF97FF",
           "#FECB52"
          ],
          "font": {
           "color": "#2a3f5f"
          },
          "geo": {
           "bgcolor": "white",
           "lakecolor": "white",
           "landcolor": "#E5ECF6",
           "showlakes": true,
           "showland": true,
           "subunitcolor": "white"
          },
          "hoverlabel": {
           "align": "left"
          },
          "hovermode": "closest",
          "mapbox": {
           "style": "light"
          },
          "paper_bgcolor": "white",
          "plot_bgcolor": "#E5ECF6",
          "polar": {
           "angularaxis": {
            "gridcolor": "white",
            "linecolor": "white",
            "ticks": ""
           },
           "bgcolor": "#E5ECF6",
           "radialaxis": {
            "gridcolor": "white",
            "linecolor": "white",
            "ticks": ""
           }
          },
          "scene": {
           "xaxis": {
            "backgroundcolor": "#E5ECF6",
            "gridcolor": "white",
            "gridwidth": 2,
            "linecolor": "white",
            "showbackground": true,
            "ticks": "",
            "zerolinecolor": "white"
           },
           "yaxis": {
            "backgroundcolor": "#E5ECF6",
            "gridcolor": "white",
            "gridwidth": 2,
            "linecolor": "white",
            "showbackground": true,
            "ticks": "",
            "zerolinecolor": "white"
           },
           "zaxis": {
            "backgroundcolor": "#E5ECF6",
            "gridcolor": "white",
            "gridwidth": 2,
            "linecolor": "white",
            "showbackground": true,
            "ticks": "",
            "zerolinecolor": "white"
           }
          },
          "shapedefaults": {
           "line": {
            "color": "#2a3f5f"
           }
          },
          "ternary": {
           "aaxis": {
            "gridcolor": "white",
            "linecolor": "white",
            "ticks": ""
           },
           "baxis": {
            "gridcolor": "white",
            "linecolor": "white",
            "ticks": ""
           },
           "bgcolor": "#E5ECF6",
           "caxis": {
            "gridcolor": "white",
            "linecolor": "white",
            "ticks": ""
           }
          },
          "title": {
           "x": 0.05
          },
          "xaxis": {
           "automargin": true,
           "gridcolor": "white",
           "linecolor": "white",
           "ticks": "",
           "title": {
            "standoff": 15
           },
           "zerolinecolor": "white",
           "zerolinewidth": 2
          },
          "yaxis": {
           "automargin": true,
           "gridcolor": "white",
           "linecolor": "white",
           "ticks": "",
           "title": {
            "standoff": 15
           },
           "zerolinecolor": "white",
           "zerolinewidth": 2
          }
         }
        },
        "width": 800
       }
      },
      "text/html": [
       "<div>                            <div id=\"e93386ce-d7d2-4164-98f8-75052f9988d9\" class=\"plotly-graph-div\" style=\"height:525px; width:800px;\"></div>            <script type=\"text/javascript\">                require([\"plotly\"], function(Plotly) {                    window.PLOTLYENV=window.PLOTLYENV || {};                                    if (document.getElementById(\"e93386ce-d7d2-4164-98f8-75052f9988d9\")) {                    Plotly.newPlot(                        \"e93386ce-d7d2-4164-98f8-75052f9988d9\",                        [{\"customdata\":[[\"Scrypt\"],[\"Scrypt\"],[\"SHA-256\"],[\"X13\"],[\"X11\"],[\"SHA-512\"],[\"SHA-256\"],[\"X11\"],[\"SHA-256\"],[\"X15\"],[\"X13\"],[\"X13\"],[\"Scrypt\"],[\"Scrypt\"],[\"Scrypt\"],[\"Scrypt\"],[\"Scrypt\"],[\"Scrypt\"],[\"Scrypt\"],[\"Multiple\"],[\"Scrypt\"],[\"Scrypt\"],[\"SHA-256\"],[\"Groestl\"],[\"X11\"],[\"PoS\"],[\"X11\"],[\"NIST5\"],[\"Scrypt\"],[\"X11\"],[\"X15\"],[\"Scrypt\"],[\"X11\"],[\"X11\"],[\"X11\"],[\"X13\"],[\"X11\"],[\"SHA3\"],[\"Scrypt\"],[\"SHA-256\"],[\"Scrypt\"],[\"X13\"],[\"X13\"],[\"NeoScrypt\"],[\"Scrypt\"],[\"Scrypt\"],[\"Scrypt\"],[\"X15\"],[\"Scrypt\"],[\"X11\"],[\"X11\"],[\"Multiple\"],[\"PHI1612\"],[\"X11\"],[\"Scrypt\"],[\"Scrypt\"],[\"X13\"],[\"Scrypt\"],[\"Scrypt\"],[\"X11\"],[\"Multiple\"],[\"X13\"],[\"Scrypt\"],[\"Scrypt\"],[\"Shabal256\"],[\"Counterparty\"],[\"SHA-256\"],[\"Scrypt\"],[\"Groestl\"],[\"Scrypt\"],[\"X13\"],[\"Scrypt\"],[\"SHA-256\"],[\"Scrypt\"],[\"X13\"],[\"X13\"],[\"X11\"],[\"X11\"],[\"X15\"],[\"Scrypt\"],[\"Scrypt\"],[\"Scrypt\"],[\"X11\"],[\"SHA3\"],[\"Scrypt\"],[\"QUAIT\"],[\"vDPOS\"],[\"X11\"],[\"X11\"],[\"Scrypt\"],[\"X11\"],[\"X13\"],[\"SHA-256\"],[\"X13\"],[\"X15\"],[\"BLAKE256\"],[\"SHA-256\"],[\"X11\"],[\"SHA-256\"],[\"Quark\"],[\"NIST5\"],[\"Blake\"],[\"Scrypt\"],[\"Scrypt\"],[\"Scrypt\"],[\"SHA-256\"],[\"X11\"],[\"Scrypt\"],[\"SHA-256\"],[\"Scrypt\"],[\"PoS\"],[\"X11\"],[\"X11\"],[\"X11\"],[\"PoS\"],[\"SHA-256\"],[\"SHA-256\"],[\"NIST5\"],[\"X15\"],[\"X11\"],[\"NIST5\"],[\"Scrypt\"],[\"Scrypt\"],[\"POS 3.0\"],[\"Scrypt\"],[\"Scrypt\"],[\"Scrypt\"],[\"X13\"],[\"X11\"],[\"X11\"],[\"X11\"],[\"Scrypt\"],[\"SHA-256\"],[\"X11\"],[\"Scrypt\"],[\"Scrypt\"],[\"X11\"],[\"Scrypt\"],[\"Scrypt\"],[\"SHA-256D\"],[\"PoS\"],[\"Scrypt\"],[\"X11\"],[\"PoS\"],[\"X13\"],[\"X14\"],[\"PoS\"],[\"SHA-256D\"],[\"DPoS\"],[\"X11\"],[\"Scrypt\"],[\"X13\"],[\"X11\"],[\"PoS\"],[\"SHA-256D\"],[\"Scrypt\"],[\"Scrypt\"],[\"Scrypt\"],[\"PoS\"],[\"X11\"],[\"SHA-256\"],[\"Scrypt\"],[\"X11\"],[\"Scrypt\"],[\"Scrypt\"],[\"X11\"],[\"Scrypt\"],[\"Scrypt\"],[\"Scrypt\"],[\"Scrypt\"],[\"Quark\"],[\"QuBit\"],[\"X11\"],[\"X13\"],[\"PoS\"],[\"Scrypt\"],[\"SHA-256\"],[\"X11\"],[\"X11\"],[\"Scrypt\"],[\"Scrypt\"],[\"Scrypt\"],[\"Scrypt\"],[\"X13\"],[\"Scrypt\"],[\"Scrypt\"],[\"X11\"],[\"Blake2S\"],[\"X11\"],[\"Scrypt\"],[\"PoS\"],[\"X11\"],[\"PoS\"],[\"X11\"],[\"Scrypt\"],[\"Scrypt\"],[\"Scrypt\"],[\"SHA-256\"],[\"X11\"],[\"Scrypt\"],[\"PoS\"],[\"Scrypt\"],[\"X11\"],[\"X15\"],[\"SHA-256\"],[\"POS 3.0\"],[\"536\"],[\"NIST5\"],[\"NIST5\"],[\"Skein\"],[\"X13\"],[\"X11\"],[\"Scrypt\"],[\"X13\"],[\"SkunkHash v2 Raptor\"],[\"Skein\"],[\"X11\"],[\"Scrypt\"],[\"VeChainThor Authority\"],[\"PoS\"],[\"Scrypt\"],[\"Scrypt\"],[\"SHA-512\"],[\"Ouroboros\"],[\"X11\"],[\"NeoScrypt\"],[\"Scrypt\"],[\"Lyra2REv2\"],[\"Scrypt\"],[\"SHA-256\"],[\"NIST5\"],[\"PHI1612\"],[\"Scrypt\"],[\"Quark\"],[\"POS 2.0\"],[\"Scrypt\"],[\"SkunkHash\"],[\"X11\"],[\"Quark\"],[\"SHA-256\"],[\"Quark\"],[\"X11\"],[\"DPoS\"],[\"NIST5\"],[\"X13\"],[\"Scrypt\"],[\"NIST5\"],[\"Quark\"],[\"Scrypt\"],[\"Scrypt\"],[\"X11\"],[\"SHA-256\"],[\"Scrypt\"],[\"Quark\"],[\"Scrypt\"],[\"Scrypt\"],[\"X11\"],[\"Scrypt\"],[\"Scrypt\"],[\"POS 3.0\"],[\"Scrypt\"],[\"Scrypt\"],[\"X13\"],[\"C11\"],[\"X11\"],[\"XEVAN\"],[\"Scrypt\"],[\"VBFT\"],[\"NIST5\"],[\"Scrypt\"],[\"Scrypt\"],[\"Scrypt\"],[\"Equihash\"],[\"Green Protocol\"],[\"PoS\"],[\"Scrypt\"],[\"Scrypt\"],[\"Semux BFT consensus\"],[\"Scrypt\"],[\"Quark\"],[\"PoS\"],[\"X16R\"],[\"Scrypt\"],[\"XEVAN\"],[\"Scrypt\"],[\"Scrypt\"],[\"Scrypt\"],[\"SHA-256D\"],[\"Scrypt\"],[\"X15\"],[\"Scrypt\"],[\"Quark\"],[\"SHA-256\"],[\"DPoS\"],[\"X16R\"],[\"Quark\"],[\"Quark\"],[\"Scrypt\"],[\"Zhash\"],[\"Lyra2REv2\"],[\"Quark\"],[\"Scrypt\"],[\"Scrypt\"],[\"X11\"],[\"X11\"],[\"Scrypt\"],[\"PoS\"],[\"Scrypt\"],[\"Scrypt\"],[\"Keccak\"],[\"X11\"],[\"Quark\"],[\"Scrypt\"],[\"SHA-512\"],[\"NeoScrypt\"],[\"XEVAN\"],[\"XEVAN\"],[\"X11\"],[\"Quark\"],[\"Quark\"],[\"Scrypt\"],[\"Quark\"],[\"Quark\"],[\"Scrypt\"],[\"X11\"],[\"Scrypt\"],[\"XEVAN\"],[\"SHA-256D\"],[\"X11\"],[\"X11\"],[\"DPoS\"],[\"X11\"],[\"Scrypt\"],[\"X11\"],[\"QuBit\"],[\"Scrypt\"],[\"Scrypt\"],[\"SHA-256\"],[\"Scrypt\"],[\"X11\"],[\"Scrypt\"],[\"SHA-256\"],[\"X11\"],[\"Scrypt\"],[\"SHA-256\"],[\"Scrypt\"],[\"X11\"],[\"Scrypt\"],[\"PoS\"],[\"X11\"],[\"SHA-256\"],[\"DPoS\"],[\"Scrypt\"],[\"Scrypt\"],[\"NeoScrypt\"],[\"Scrypt\"],[\"SHA3-256\"],[\"X13\"],[\"DPoS\"],[\"DPoS\"],[\"SHA-256\"],[\"PoS\"],[\"PoS\"],[\"SHA-256\"],[\"Scrypt\"],[\"Scrypt\"]],\"hovertemplate\":\"<b>%{hovertext}</b><br><br>class=%{marker.color}<br>PC 1=%{x}<br>PC 2=%{y}<br>PC 3=%{z}<br>Algorithm=%{customdata[0]}<extra></extra>\",\"hovertext\":[\"42 Coin\",\"404Coin\",\"808\",\"EliteCoin\",\"Dash\",\"Bitshares\",\"BitcoinDark\",\"Bitstake\",\"PayCoin\",\"KoboCoin\",\"Aero Coin\",\"ApexCoin\",\"ArchCoin\",\"Aurora Coin\",\"BlueCoin\",\"EnergyCoin\",\"BitBar\",\"CashCoin\",\"CryptoBullion\",\"CinderCoin\",\"CoolCoin\",\"CasinoCoin\",\"eMark\",\"Diamond\",\"DarkCash\",\"Exclusive Coin\",\"Fuel2Coin\",\"FIBRE\",\"FlutterCoin\",\"GlyphCoin\",\"Halcyon\",\"HoboNickels\",\"HyperStake\",\"IOCoin\",\"JumBucks Coin\",\"JudgeCoin\",\"LibrexCoin\",\"MaxCoin\",\"MintCoin\",\"MazaCoin\",\"Nautilus Coin\",\"NavCoin\",\"OpalCoin\",\"Orbitcoin\",\"PotCoin\",\"PhoenixCoin\",\"Reddcoin\",\"ShieldCoin\",\"SilkCoin\",\"SuperCoin\",\"SyncCoin\",\"TeslaCoin\",\"TittieCoin\",\"TorCoin\",\"UnitaryStatus Dollar\",\"UltraCoin\",\"Utility Coin\",\"VeriCoin\",\"SocialXbotCoin\",\"X11 Coin\",\"Crypti\",\"StealthCoin\",\"XXXCoin\",\"ZCC Coin\",\"BurstCoin\",\"StorjCoin\",\"Neutron\",\"KryptCoin\",\"FairCoin\",\"RubyCoin\",\"Kore\",\"Dnotes\",\"MaieutiCoin\",\"8BIT Coin\",\"Sativa Coin\",\"AeroMe\",\"MasterTraderCoin\",\"Ucoin\",\"MaryJane Coin\",\"CyberCoin\",\"Vtorrent\",\"ViorCoin\",\"IslaCoin\",\"Nexus\",\"Singular\",\"Droidz\",\"CryptoCircuits\",\"Squall Coin\",\"Milllionaire Coin\",\"Diggits\",\"MapCoin\",\"Paycon\",\"Emercoin\",\"BlitzCoin\",\"EverGreenCoin\",\"Decred\",\"EDRCoin\",\"Hitcoin\",\"DubaiCoin\",\"BiosCrypto\",\"PWR Coin\",\"TrumpCoin\",\"BillaryCoin\",\"EthereumScrypt\",\"GPU Coin\",\"Universal Currency\",\"EuropeCoin\",\"ZeitCoin\",\"SwingCoin\",\"SafeExchangeCoin\",\"Nebuchadnezzar\",\"GIZMOcoin\",\"SecretCoin\",\"Ratecoin\",\"Digital Bullion Gold\",\"Revenu\",\"Clockcoin\",\"VIP Tokens\",\"OrlyCoin\",\"BitSend\",\"16BitCoin\",\"ChessCoin\",\"ReeCoin\",\"Let it Ride\",\"PutinCoin\",\"iBankCoin\",\"Frankywillcoin\",\"MudraCoin\",\"Lutetium Coin\",\"GoldBlocks\",\"WayCoin\",\"CarterCoin\",\"BitTokens\",\"MustangCoin\",\"ZoneCoin\",\"RootCoin\",\"PROUD Money\",\"BitCurrency\",\"Swiscoin\",\"BuzzCoin\",\"Opair\",\"PesoBit\",\"Halloween Coin\",\"CoffeeCoin\",\"RoyalCoin\",\"GanjaCoin V2\",\"TeamUP\",\"LanaCoin\",\"ARK\",\"InsaneCoin\",\"LuckChain\",\"EmberCoin\",\"XenixCoin\",\"FreeCoin\",\"NPCcoin\",\"PLNCoin\",\"Icobid\",\"AquariusCoin\",\"Creatio\",\"Eternity\",\"Eurocoin\",\"BitcoinFast\",\"Stakenet\",\"BitConnect Coin\",\"MoneyCoin\",\"Enigma\",\"Russiacoin\",\"PandaCoin\",\"GameUnits\",\"GAKHcoin\",\"Allsafe\",\"LiteCreed\",\"NeptuneClassic\",\"GoldenBird\",\"Ride My Car\",\"Klingon Empire Darsek\",\"Internet of People\",\"KushCoin\",\"Eryllium\",\"Printerium\",\"Impeach\",\"Zilbercoin\",\"FirstCoin\",\"FindCoin\",\"OpenChat\",\"RenosCoin\",\"VirtacoinPlus\",\"TajCoin\",\"Impact\",\"Universe\",\"Atmos\",\"HappyCoin\",\"MacronCoin\",\"Condensate\",\"Independent Money System\",\"ArgusCoin\",\"LomoCoin\",\"ProCurrency\",\"GoldReserve\",\"GrowthCoin\",\"Phreak\",\"Degas Coin\",\"ZSEcoin\",\"HTML5 Coin\",\"Ultimate Secure Cash\",\"QTUM\",\"Espers\",\"Denarius\",\"Virta Unique Coin\",\"Bitcoin Planet\",\"BritCoin\",\"Octanox\",\"Linda\",\"DeepOnion\",\"Signatum\",\"Cream\",\"Monoeci\",\"Draftcoin\",\"Vechain\",\"Stakecoin\",\"CoinonatX\",\"Ethereum Dark\",\"Obsidian\",\"Cardano\",\"Regalcoin\",\"TrezarCoin\",\"TerraNovaCoin\",\"Rupee\",\"WomenCoin\",\"Theresa May Coin\",\"NamoCoin\",\"LUXCoin\",\"Xios\",\"Bitcloud 2.0\",\"KekCoin\",\"BlackholeCoin\",\"AltCommunity Coin\",\"Pure\",\"Rupaya\",\"Infinity Economics\",\"Castle\",\"Magnet\",\"Lamden Tau\",\"Electra\",\"Bitcoin Diamond\",\"Cash & Back Coin\",\"Bulwark\",\"Kalkulus\",\"GermanCoin\",\"LiteCoin Ultra\",\"PhantomX\",\"HTML Coin\",\"Fantasy Cash\",\"Digiwage\",\"Trollcoin\",\"Litecoin Plus\",\"Monkey Project\",\"OP Coin\",\"Valorbit\",\"TokenPay\",\"My Big Coin\",\"Unified Society USDEX\",\"Tokyo Coin\",\"Stipend\",\"Pushi\",\"Ellerium\",\"Velox\",\"Ontology\",\"Bitspace\",\"Briacoin\",\"Ignition\",\"MedicCoin\",\"Zelcash\",\"Bitcoin Green\",\"Deviant Coin\",\"Abjcoin\",\"Profit Hunters Coin\",\"Semux\",\"BitBlocks\",\"Carebit\",\"Zealium\",\"Proton\",\"iDealCash\",\"Bitcoin Incognito\",\"HollyWoodCoin\",\"Swisscoin\",\"Xt3ch\",\"TheVig\",\"EmaratCoin\",\"Dekado\",\"Lynx\",\"Poseidon Quark\",\"BitcoinWSpectrum\",\"Muse\",\"Trivechain\",\"Dystem\",\"Giant\",\"Peony Coin\",\"SafeCoin\",\"Absolute Coin\",\"Vitae\",\"TPCash\",\"MUSDcoin\",\"ARENON\",\"EUNO\",\"MMOCoin\",\"Ketan\",\"Safe Trade Coin\",\"Mont Blanc\",\"XDNA\",\"PAXEX\",\"Apollon\",\"ThunderStake\",\"Kcash\",\"Traid\",\"Bettex coin\",\"BitMoney\",\"Junson Ming Chan Coin\",\"Zenad\",\"HerbCoin\",\"Oduwa\",\"Galilel\",\"Crypto Sports\",\"Credit\",\"Dash Platinum\",\"Nasdacoin\",\"Beetle Coin\",\"Titan Coin\",\"Award\",\"Insane Coin\",\"ALAX\",\"The Freedom Coin\",\"LiteDoge\",\"TruckCoin\",\"Ascension Coin\",\"OrangeCoin\",\"BitstarCoin\",\"NeosCoin\",\"HyperCoin\",\"PinkCoin\",\"AudioCoin\",\"IncaKoin\",\"Piggy Coin\",\"Genstake\",\"ParkByte\",\"XiaoMiCoin\",\"CapriCoin\",\" ClubCoin\",\"Radium\",\"Creditbit \",\"OKCash\",\"Lisk\",\"HiCoin\",\"WhiteCoin\",\"FriendshipCoin\",\"The Hempcoin\",\"Fiii\",\"Triangles Coin\",\"EOS\",\"Oxycoin\",\"TigerCash\",\"Particl\",\"Nxt\",\"ZEPHYR\",\"Gapcoin\",\"BitcoinPlus\"],\"legendgroup\":\"1\",\"marker\":{\"color\":[1,1,1,1,1,1,1,1,1,1,1,1,1,1,1,1,1,1,1,1,1,1,1,1,1,1,1,1,1,1,1,1,1,1,1,1,1,1,1,1,1,1,1,1,1,1,1,1,1,1,1,1,1,1,1,1,1,1,1,1,1,1,1,1,1,1,1,1,1,1,1,1,1,1,1,1,1,1,1,1,1,1,1,1,1,1,1,1,1,1,1,1,1,1,1,1,1,1,1,1,1,1,1,1,1,1,1,1,1,1,1,1,1,1,1,1,1,1,1,1,1,1,1,1,1,1,1,1,1,1,1,1,1,1,1,1,1,1,1,1,1,1,1,1,1,1,1,1,1,1,1,1,1,1,1,1,1,1,1,1,1,1,1,1,1,1,1,1,1,1,1,1,1,1,1,1,1,1,1,1,1,1,1,1,1,1,1,1,1,1,1,1,1,1,1,1,1,1,1,1,1,1,1,1,1,1,1,1,1,1,1,1,1,1,1,1,1,1,1,1,1,1,1,1,1,1,1,1,1,1,1,1,1,1,1,1,1,1,1,1,1,1,1,1,1,1,1,1,1,1,1,1,1,1,1,1,1,1,1,1,1,1,1,1,1,1,1,1,1,1,1,1,1,1,1,1,1,1,1,1,1,1,1,1,1,1,1,1,1,1,1,1,1,1,1,1,1,1,1,1,1,1,1,1,1,1,1,1,1,1,1,1,1,1,1,1,1,1,1,1,1,1,1,1,1,1,1,1,1,1,1,1,1,1,1,1,1,1,1,1,1,1,1,1,1,1,1,1,1,1,1,1,1,1,1,1,1,1,1,1,1,1,1,1,1,1],\"coloraxis\":\"coloraxis\",\"symbol\":\"circle\"},\"mode\":\"markers\",\"name\":\"1\",\"scene\":\"scene\",\"showlegend\":true,\"type\":\"scatter3d\",\"x\":[-0.3075912083189296,-0.2930823022691863,-0.1697772860465411,0.23898547413691631,-0.20651254138529224,0.3866861074451299,-0.16975956411373894,-0.20663672261581473,0.10536509544370479,-0.17647813029814038,0.11136849080407257,-0.16360895354813162,-0.03261376458695364,-0.30734184932955005,-0.29885406059797665,-0.3058990818872286,-0.30759062342534665,-0.3075912090279968,-0.30757692093131433,-0.1783663802447807,-0.03261376481881582,0.5197290449260451,-0.16977728604654244,-0.21005872940983852,-0.2066367226225267,0.3003626759148454,0.06834072146541113,-0.18299619492585573,-0.41369998469968056,-0.20663672263162405,-0.17682934199243458,-0.30636377910308954,0.09142055703856496,-0.20639402067067922,-0.2066367226213425,-0.16360895359139951,-0.20663672261498262,0.33756135166338797,0.26018004518720517,-0.14758686942620622,-0.0323912878122172,-0.16270024871226418,-0.1634005518600665,-0.28740519232914197,-0.3045293737873548,-0.3065742610326081,0.09550105409489525,-0.17682934199520822,-0.30759120889920966,0.06903795765185591,-0.20663670642833273,0.09771465432582045,0.13836799607683883,-0.20661703453169378,-0.29248049468708853,-0.3069004695123619,-0.16360895353149002,-0.25878493497328175,-0.30759120890198316,-0.20654114793772893,0.09798607539126329,-0.16315391117838354,-0.30759120903511467,-0.3055563296708594,0.33366478431058577,0.3898956214250165,-0.16923935865299924,-0.03261376458860902,-0.20937274545766044,-0.032239974817824216,-0.16358114445081642,-0.03021236271190987,0.10520015830842984,-0.3075710259217392,-0.16351137131356663,-0.16360895356477304,-0.2066367226402499,0.06837770689723192,-0.17682934199243458,-0.30759120889643604,-0.30743164275196394,-0.30759120889643604,-0.20661590901623328,1.206031661260206,-0.30759120889643604,-0.16212017548321261,0.2188474208591197,0.030150877929576006,-0.20663672261220908,-0.03123875385393704,0.0683407217365868,-0.1632921153385754,-0.16918521192009786,0.11136849081280319,-0.17664329543101648,-0.0967178712921335,-0.16972682744231574,-0.055436216656449905,-0.16970676157077483,0.1345596141381283,-0.04454016663228809,0.16492523745988816,-0.30746747530665863,-0.3075912089080851,-0.03205720138880596,-0.1697772866289932,-0.20649362257652992,0.4757445103693481,-0.1697171008054126,-0.0007470632961122689,0.30055958148582684,-0.2066367226124865,-0.20663672267045427,-0.20478657762561228,0.3002845793067189,-0.169760848064449,-0.16954817190061156,-0.18184874298226122,-0.17682934209228318,-0.20630138911176157,-0.1829961949685023,-0.30759120910352944,-0.3075912098671874,0.24346027800917236,-0.296411105633583,-0.307528971568092,-0.3062161982089148,0.11143724081701657,0.07737454195978244,-0.20642271779057805,0.06834072146541113,-0.30699767878801326,-0.16976909889074945,-0.20662768004867021,-0.3075557065840712,-0.30756453520997956,-0.20663675034796228,-0.030281764975175873,-0.16685095076444045,0.03279771901397535,0.30130255210422596,-0.3071302645619346,-0.2029973689494319,0.30232945176399856,0.11140286779568867,-0.29090125872886036,0.3005295873470476,-0.22151911292838547,6.853276970235993,-0.20638450700539918,-0.30759121167001136,1.1040524653833408,-0.20658373895719914,0.3009720846920833,-0.2363989664214078,-0.30735622512947575,-0.30759120945115104,-0.3075575270548722,0.30055958148582684,-0.20655326673455038,-0.16960655712305384,-0.3073128514431714,-0.025791947074308354,-0.30743884782642533,-0.3074411362568373,-0.20662552081049926,-0.3074760126234572,0.4323205803963661,-0.3075434550354343,-0.3075456164433105,0.40968167903592645,-0.34643798331359166,-0.2066367233056029,-0.16360895477959891,0.3002845790709651,-0.3072616837904498,-0.16974255224877122,-0.2065589094344773,-0.20663672288956655,-0.3074286588956694,-0.3075869714622283,-0.03257357843153537,-0.31702571259961876,0.11156820908372123,-0.2938411020212252,-0.03211806816531376,-0.2064557336463575,-0.26934900819961616,-0.2051155429538707,-0.03261376485209862,0.3018127089855581,-0.20634080235214364,0.30580416651801184,-0.20496381069842423,-0.3075173855240723,-0.307575419394848,-0.3075843366151871,0.10658246530875612,-0.20640061433783105,-0.02855562506488719,0.3004411961211865,-0.30729752384069897,-0.20663672841868888,0.3822363915979839,0.10534237669134654,0.24430467468912784,0.17861225574093337,-0.1829388379919737,-0.18213073482418182,-0.30276808180152187,-0.16331651501767683,-0.20663672263413602,-0.1832225553399178,-0.16330759218255367,0.3065511548773384,-0.30221082505117286,-0.20646389390050476,-0.03235714220477849,6.272039728744028,0.30033957961606567,-0.3073225375527746,-0.30753345844756025,0.3493329818095064,1.1013353440621418,-0.2065368638626956,-0.2849381792290129,-0.3075755237098874,0.0691306582084469,0.3587317815290217,-0.1685115777306415,-0.17528839251233858,-0.15880240387399452,-0.3075616505089704,0.13498190082667663,0.4709006111552359,-0.30736622214967924,-0.3446503346636264,-0.20663672262243485,0.4095370583410872,0.2289511200478335,4.300568653736509,-0.206111488144204,6.855750455568495,0.20749515116096875,-0.161085341147423,-0.306065263872612,0.09216339951612706,0.4097702021202165,-0.2400576803307706,-0.30747544160738133,-0.206015572353607,-0.1697775356683202,-0.3075912089091945,0.4099124318096532,-0.2994645838027268,-0.3075567719472851,0.06840132188277341,-0.3075912144435867,-0.5634083772959899,0.2432107967702295,-0.49651212232023223,-0.3043620476347929,0.11453512407537504,-0.275878176225553,-0.20660691482122387,-0.08437635126100866,-0.03226217440105734,0.3406235994578714,-0.18280661054985034,-0.3075795812920983,-0.3075749541700572,-0.028938393570083317,-0.2627632923100915,0.32696836316302563,0.3005853845722188,-0.307455350988646,-0.3075912091737935,7.166830826051098,-0.30759121028322384,0.13648104841365732,0.30043686508460343,0.08366755168753479,-0.288283903108306,0.15255090220841158,-0.032081541739251575,-0.16734011876928362,-0.03250885132666345,-0.2359419186130258,-0.307294215840574,0.09856451313362223,1.6218209451019636,0.4095744056872211,0.10599506563301898,2.961007767052287,-0.19086274854734397,0.40963444216083855,0.13464100781321803,-0.03259948357393523,-0.16974587689748688,-0.20599346389854942,0.4104453063318277,-0.3075169087931722,-0.3075912091737935,0.06860567946477548,-0.20621361639470004,-0.031132000262542432,0.3004128278480406,-0.0326137668712616,-0.03261376473560859,-0.29917107984480623,0.06840266074558939,0.13455961350073417,-0.29301677399214027,0.47652496156439716,-0.28744947684460254,0.19068865560471449,0.21247378223744418,0.30497906005450914,0.8240546207296936,0.13504516047026943,-0.30738801603017224,0.13481076004873466,0.40956366087219526,0.11626547614222689,0.06835056208393317,-0.3073086921136821,-0.08164669626550658,-0.22407389652934273,-0.2064246938613905,-0.2063098006340008,6.865539286938671,0.06834072167342936,-0.09695492891024499,-0.20330130206742508,-0.34685361797187225,-0.3075425732508069,-0.30730827947572764,0.10526055228268513,-0.3074587788404816,-0.20063681381660972,-0.29410605820937397,0.07689589986889912,-0.1998408620350025,-0.3067662023591126,-0.16977728611588186,-0.30203181413430513,-0.20386794160763044,-0.3061663971808982,0.3003371218713013,0.032345218530310964,-0.16875048225658107,6.853439359704102,0.10489066853135194,-0.30412610558875663,-0.28743407089587447,-0.3075912097285087,-1.0817505419295428,-0.16360701782227818,6.865821779157173,6.867222059527656,0.11895026518364638,0.30041222348365326,0.3280557832984767,4.023731967320391,-0.3073859060680321,-0.03261200003396138],\"y\":[1.2616617283428637,1.2600563625907868,0.8663740559944633,2.013634413428248,1.4602868099656503,1.155092858287291,0.8663720953742372,1.4603005500418136,0.3396814184606927,2.1693369306229373,1.5315022542624086,2.0581766420756726,0.7349873407836688,1.2616341376307747,1.2606949860100378,1.26147449901972,1.261661663631955,1.261661728992376,1.2616601474931788,0.5839769256527104,0.7349873418157463,0.23969998597750253,0.8663740559944654,1.1184436655218708,1.4603005500716908,1.218497078340036,0.933626163434744,1.8148711514376596,0.49746520141085954,1.4603005501121844,2.169375787056206,1.2615259179847254,0.9310724393459956,1.460273695961425,1.460300550066419,2.058176642268268,1.4603005500381097,1.9696650251049246,0.7025904783905248,0.8639187740937949,0.7349627243131056,2.058076096211958,2.058153582906749,0.742880398378309,1.2613229494903186,1.2615492069897822,1.2170606335054013,2.1693757870685517,1.2616617284191118,0.9335490148872316,1.4603005482350726,0.05718042831422351,1.4404258277402184,1.460298371712013,1.259989787028005,1.2615853011210876,2.058176642001597,0.3501794431967931,1.2616617284314582,1.4602899750065248,0.057150395085872684,2.058126292766351,1.2616617290240606,1.2614365864307053,0.18952890791471833,1.0983623615192217,0.86631453656693,0.7349873407910374,1.1183677631555486,0.7349459817348892,2.0581735651446924,0.7347216378269363,0.3396996681688812,1.2616594952138906,2.0581658449071507,2.058176642149747,1.4603005501505801,0.9336220701312191,2.169375787056206,1.2616617284067662,1.2616440730748495,1.2616617284067662,1.4602982470563082,1.6707987649401488,1.2616617284067662,2.1833420870377096,1.214905924813701,0.8754890183763505,1.4603005500257638,0.7348352004819487,0.933626162227673,2.0581415852938236,0.8663085565942086,1.5315022542235452,2.1693552018118734,1.1417486716059349,0.8663684731479557,1.4435709327846913,0.8663662527737868,1.640343780517523,1.7995513573667223,-0.12642141899834008,1.2616480381173019,1.2616617284586185,0.7349257609986684,0.8663740585871019,1.4602847210075174,0.6787400311811682,0.8663673971379589,0.2972888378018698,1.2184752914991372,1.460300550026998,1.4603005502850273,1.4600958372695476,1.218505719704167,0.8663722398565226,0.8663487114394611,1.8147441899849028,2.1693757875006576,1.4602634479325034,1.81487115162749,1.2616617293285926,1.2616617327278274,1.1603785035816858,1.260424703569631,1.261654842544395,1.2615095883075576,1.531494649578475,0.932626601748354,1.4602768715590853,0.933626163434744,1.2615960569504563,0.8663731503601066,1.460299549526094,1.2616578004224337,1.2616587770337675,1.4603006734846584,0.7347293109846726,0.35066811976056605,2.1635600290655668,1.2183930844114559,1.261610726132858,1.4598978832078828,1.21827946026537,1.5314984504848532,2.167056485299555,1.2184786136543804,2.191699364812346,0.3617718138404162,1.460272643395786,1.2616617407526556,1.9179132623392308,1.4602946875705827,1.218429649469375,2.19334577523289,1.2616357285371957,1.2616617308759441,1.2616580021055412,1.2184752914991372,1.4602913165755294,0.8663551655305158,1.261630929286599,0.7985786584331556,1.2616448703936327,1.2616451310986194,1.4602993106361672,1.2616489839768485,0.6835439739973106,1.261656444724604,1.261656683762092,1.1136533907481014,1.1343523607492678,1.4603005531122362,2.0581766475572465,1.2185057207535683,1.261625273343101,0.8663702130442439,1.4602919403156551,1.4603005512603526,1.2616437429190273,1.2616612598099115,0.7349828947563145,0.44650843744817253,1.531480156052531,1.2601403274146803,0.7349324935000322,1.460280525278329,2.2346182928732454,1.4601322368361502,0.7349873419638971,1.2183366373360378,1.460267808433996,1.2178949965837045,1.4601154527578069,1.26165356030085,1.2616599816844087,1.2616609800459868,0.3395476224730485,1.4602744257499929,0.7345383422379038,1.2184883906476354,1.2616292341946522,1.460300575871883,2.107517722849252,0.33968393448899925,1.1602850741185033,2.1518972037860964,1.8148648051572018,1.8147753919990375,1.5078109782934404,2.0581442848131313,1.4603005501233657,1.2479012671231258,2.058143297391323,1.2050047155779473,1.5077493193049447,1.4602814270994686,0.7349589462065312,1.3703184866125633,1.218499634626134,1.2616320012126785,1.2616553385225995,1.1592258407948668,1.0256176708007583,1.460289501243769,0.7426074346608982,1.2616599930716907,0.3093489547918855,1.187935149311239,0.8662340099141628,1.8140183178853369,1.9695557805548267,1.2616584581020343,1.6402970577748266,1.006312390566381,1.2616368343951463,0.8076621227922952,1.4603005500712813,1.1136693933685866,0.32600705925529727,0.647943405356856,1.460242435951899,0.3614981337319895,1.771664675893023,2.057897413480794,1.2614928891459407,1.2881766095118865,1.1136435959626847,1.254189923681891,1.261648920867661,1.4602318219911818,0.8663751671245197,1.2616617284635572,1.113627859826877,1.2607625496262127,1.2616579180973981,0.9336194572074419,1.2616617530985448,2.400369043097665,1.1604061079199144,0.510659959092401,1.2613044330298782,1.5311518841964822,1.0865342076501951,1.4602972521733466,1.609094631127596,0.7349484395530124,1.128933275426257,1.8148501750213177,1.2616604418791553,1.2616599299243931,0.7345806765041506,0.2095668262661216,1.070847890682629,1.2184724372743898,1.2616466964490485,1.2616617296413553,0.4462029044903608,1.2616617345797112,1.6401311810514634,1.2184888704673513,0.4738544591113812,1.2595254876478705,1.0242676467808451,0.7349284518459576,1.24614343828749,0.7349757327405844,2.193295121030207,1.2616288679203518,1.6426553255614413,0.17180710965254892,1.1136652679057433,0.3396117149786779,0.827634738298977,1.000479372072402,1.1136586174558782,1.6403347743411605,0.734985963648129,2.072459715790955,0.8360395724666976,1.1135688984267884,1.261653519335462,1.2616617296413553,0.9335968459897397,1.4602537350415736,0.7348233904050873,1.2184915316891987,0.7349873509517045,0.7349873414453698,0.8172526123851552,0.9336193100168865,1.6403437833547265,1.2600493223571627,1.1997291204690839,0.7428853013314929,1.0824105546209113,1.1302558132169818,0.9074427546943397,1.1644486240229068,1.6402900565045486,1.2616392459052794,1.6403159918715384,1.1136664491267754,1.2147640055326943,0.9336250736295478,1.2616304696817595,1.6087926073046763,2.191982014704473,1.4602770946605348,1.460264377332985,0.36041503139888936,0.9336261625088021,1.2383558013849043,1.4599314945466286,1.1343983486780043,1.2616563494087556,1.261630423666372,0.3396929859878398,1.2616470753706361,1.4596366819743347,1.2601697584880296,0.8390803213766017,1.459548618030188,1.261570443791676,0.8663740563031126,1.2610466008664636,1.4599941942201682,1.261504078677602,1.2184999059358534,0.7236761299102384,0.866260444129543,0.36175384629479473,0.7197729585134661,1.2612783274839265,0.7428835943944677,1.2616617321105328,2.40888146974973,2.058176427821927,0.36038376234157415,0.36022882501474845,0.33817826717677024,1.2184915961362794,1.4139911947503305,-0.12906912151125682,1.261639015200469,0.7349871453550993],\"z\":[-0.4634060514483273,-0.4640808835193721,-0.30910170727731107,-0.5216195556494359,-0.48253859474915156,0.128279058768894,-0.3091025316592756,-0.48253281880364773,0.0020431886517379887,-0.5423701215934752,-0.1917401873950771,-0.5028927548374942,-0.15225348405421948,-0.4634176495658407,-0.4638124283443176,-0.46348475460281513,-0.463406078655036,-0.46340605165297416,-0.46340671597960204,-0.1767152534306206,-0.1522534844622464,-0.26756051552354637,-0.30910170727730785,-0.440778920506916,-0.4825328188154598,0.06892309443032449,-0.1713802518380929,-0.5153524837726606,-0.03165260941166717,-0.48253281883146887,-0.5423537844954905,-0.46346314148998524,-0.17245372659928057,-0.48254410731247815,-0.48253281881337556,-0.5028927549136364,-0.4825328188021837,-0.43661441603528695,-0.16587173141210002,-0.31013382654651794,-0.15226383175741418,-0.5029350199335813,-0.5029024478598847,-0.2626709152119516,-0.4635484637362915,-0.46345335157239426,-0.4821544333726434,-0.5423537845003719,-0.4634060514263367,-0.1714126807621606,-0.4825328195500423,0.13438598457052497,-0.10797673735910662,-0.48253373456741705,-0.46410887977783954,-0.4634381791721855,-0.5028927548082092,-0.23760630386487708,-0.46340605143121805,-0.48253726413593456,0.1343733609001474,-0.5029139194611265,-0.4634060516655008,-0.4635007014951405,-0.20532693347844208,-0.06829082528390064,-0.3091267273694421,-0.1522534840571329,-0.4408108265529591,-0.15227086945423654,-0.5028940483073592,-0.15236517901912996,0.0020508601699809484,-0.4634069901596886,-0.5028972935430241,-0.5028927548667798,-0.48253281884664817,-0.1713819716811916,-0.5423537844954905,-0.46340605142145597,-0.46341347316502884,-0.46340605142145597,-0.48253378686660836,-0.1494111203747778,-0.46340605142145597,-0.569805379738708,-0.003480369702391966,-0.18806376495962165,-0.4825328187973027,-0.15231743813519802,-0.17138025136088325,-0.5029074916438548,-0.3091292504785383,-0.19174018737971252,-0.5423624379116485,-0.4421117845018584,-0.3091040542874083,-0.48956549769860863,-0.30910498752139637,-0.4187565488619781,-0.5217922662715073,0.1433120512831761,-0.4634118066532758,-0.4634060514419559,-0.152279371608152,-0.3091017083022942,-0.4825394765028472,-0.17589843056953017,-0.30910450677700063,-0.2433522579842069,0.06891393597807667,-0.4825328187977908,-0.4825328188998012,-0.48261887199037307,0.06892672673707098,-0.3091024729465522,-0.30911236632518113,-0.5154058538067063,-0.5423537846712028,-0.48254841632131384,-0.5153524838477094,-0.46340605178589594,-0.46340605312976707,-0.004899599905248755,-0.46392606359823785,-0.4634089463882898,-0.46347000558249646,-0.19174338602073623,-0.17180043018803814,-0.482542772709784,-0.1713802518380929,-0.463433657783434,-0.3091020881785218,-0.482533239394543,-0.46340770278860444,-0.46340729205172293,-0.4825328676061795,-0.15236194851836457,-0.32545950124643974,-0.6098342426453003,0.06887937911042714,-0.46342749058373955,-0.482702097714221,0.06883161674892067,-0.19174178629423955,-0.608613469628112,0.06891532963942096,-0.5980055503814693,-0.19358578095084406,-0.48254454984636536,-0.46340605630234394,-0.5618534552859583,-0.4825352831601152,0.06889474972976427,-0.5973134651590049,-0.4634169810364582,-0.463406052397634,-0.46340761822118226,0.06891393597807667,-0.48253670074687344,-0.30910964821726256,-0.463418998379197,-0.4254678740278641,-0.46341313808707074,-0.46341303476844625,-0.4825333398337341,-0.46341141008180275,-0.17387839009024067,-0.46340827258509715,-0.46340817200649315,-0.10761070789132514,-0.3515937967341629,-0.4825328200175247,-0.5028927570046087,0.06892672632219603,-0.4634213805975304,-0.30910332289977316,-0.4825364380433186,-0.48253281928539155,-0.46341361194833625,-0.46340624862030017,-0.1522553533615828,-0.21292170962253398,-0.19174947660781871,-0.46404559303185827,-0.15227653967471916,-0.4825412373468931,-0.7037411292614959,-0.48260357153063105,-0.1522534845208173,0.0688556508223151,-0.48254658296128433,0.06867000112797728,-0.4826106307627858,-0.4634094851554816,-0.46340678595642504,-0.46340637607070856,0.0019861914064896293,-0.48254380072202363,-0.15244224370685425,0.06891944219598958,-0.4634197116480244,-0.48253282901544103,-0.5683571604514556,0.0020442443927414402,-0.004938874302752585,-0.5693707068847195,-0.5153551515704258,-0.5153927381241159,-0.4520613356857655,-0.5029063566806365,-0.48253281883588917,-0.46919086101996843,-0.502906771638493,0.1442974080857692,-0.4520872544725039,-0.48254085734876107,-0.15226541992326242,5.602650185505166,0.06892416836270428,-0.4634185479411744,-0.4634087374962199,0.13001642219011378,-0.04762603842599481,-0.4825374635019373,-0.2627856614085235,-0.463406781040127,0.02971336779820319,-0.4943977859708865,-0.30916057763297766,-0.5157109903950854,-0.41809706834368376,-0.46340742632838783,-0.4187761909041926,-0.1680488950278587,-0.4634165159421468,-0.33470371829857065,-0.48253281881529775,-0.10760398168219856,-0.003705014317235124,-0.21646879859570953,-0.482557248904563,-0.19370082807358485,-0.5335149298412665,-0.5030101325832282,-0.4634770262995523,-0.20420838851505227,-0.10761482524818175,-0.4665473802851499,-0.4634114366706142,-0.48256170961049566,-0.3091021465572008,-0.46340605144390834,-0.10762144104990261,-0.46378403656957995,-0.4634076531519113,-0.1713830700520329,-0.46340606118323163,-0.9135884807371147,-0.004887996143151703,-0.1328969478690787,-0.46355624536657924,-0.19188747588692623,-0.45749934992010116,-0.4825342053243784,-0.38751441671689374,-0.15226983754196163,0.03323735520102902,-0.5153613018531154,-0.46340659225254044,-0.463406807476444,-0.15242443309631715,-0.16784570303452134,0.07436389157425118,0.06891273549995704,-0.46341237051205586,-0.46340605190954504,-0.007119356950317889,-0.46340605386190004,-0.4188459183441421,0.06891964338803293,-0.10660188951211183,-0.4643040867352395,-0.09305185813578279,-0.1522782385273972,-0.46992937584756034,-0.15225836385417305,-0.597334688520193,-0.4634198654025051,-0.23122058534337417,-0.2814179282520798,-0.10760572163991389,0.0020138874221122026,-0.08466340051639362,-0.41777525444262664,-0.10760851086860611,-0.4187603345196989,-0.15225423276877828,-0.6325235792668554,-0.28143237760556644,-0.10764622568508955,-0.4634095122325193,-0.46340605190954504,-0.17139257517781942,-0.4825524983066174,-0.1523224041948366,0.06892076074206115,-0.15225348807410322,-0.15225348431582006,-0.3542369805675732,-0.1713831327201864,-0.41875654998365286,-0.4640840188434715,0.3731700724184819,-0.2626688567211324,-0.07636592187369129,-0.1340296877878419,-0.1823866296864153,-0.21737933329920445,-0.41877913246678145,-0.4634155023095646,-0.4187682300019019,-0.10760521869417171,-0.48312059027024284,-0.17138070913665704,-0.4634191920909023,-0.3876413789727006,-0.5978867112870765,-0.4825426826536408,-0.4825480245436341,-0.19415612274420457,-0.17138025147202626,-0.47320321319612235,-0.4826879538472225,-0.3515744645930016,-0.4634083145349765,-0.46341921113425444,0.0020480510570182312,-0.463412210927601,-0.4828118854076645,-0.46403331714488905,-0.3205748212885619,-0.48284890873733566,-0.46344442369844013,-0.30910170739932974,-0.4636646286102708,-0.48266159969593114,-0.463472322198188,0.06892428293935193,-0.3553297175497889,-0.30914946587615144,-0.1935933340858644,-0.15864905660168352,-0.46356721970006554,-0.2626695723121847,-0.4634060528857228,13.8360408056778,-0.5028928448413388,-0.1941692568404138,-0.19423438582857416,0.0014113185595886213,0.0689207898607104,0.30877192215356186,-0.10809304008334532,-0.4634156015941041,-0.15225356604886617]},{\"customdata\":[[\"SHA-256\"],[\"Ethash\"],[\"Scrypt\"],[\"CryptoNight-V7\"],[\"Ethash\"],[\"Equihash\"],[\"Multiple\"],[\"Scrypt\"],[\"X11\"],[\"SHA-256\"],[\"Scrypt\"],[\"SHA-256\"],[\"Multiple\"],[\"Scrypt\"],[\"SHA-256\"],[\"Scrypt\"],[\"Scrypt\"],[\"Quark\"],[\"Groestl\"],[\"Scrypt\"],[\"X11\"],[\"Scrypt\"],[\"Scrypt\"],[\"Scrypt\"],[\"X11\"],[\"Multiple\"],[\"Scrypt\"],[\"SHA-256\"],[\"Scrypt\"],[\"Scrypt\"],[\"Scrypt\"],[\"Scrypt\"],[\"Scrypt\"],[\"Scrypt\"],[\"SHA-256\"],[\"Scrypt\"],[\"NeoScrypt\"],[\"Scrypt\"],[\"Scrypt\"],[\"Scrypt\"],[\"Multiple\"],[\"Scrypt\"],[\"SHA-256\"],[\"Scrypt\"],[\"Scrypt\"],[\"Scrypt\"],[\"Scrypt\"],[\"Scrypt\"],[\"HybridScryptHash256\"],[\"Scrypt\"],[\"SHA-256\"],[\"Scrypt\"],[\"SHA-256\"],[\"Scrypt\"],[\"Scrypt\"],[\"Scrypt\"],[\"Scrypt\"],[\"Scrypt\"],[\"Scrypt-n\"],[\"Scrypt\"],[\"SHA-256\"],[\"SHA-256\"],[\"SHA-256\"],[\"SHA-256\"],[\"SHA-256\"],[\"SHA-256\"],[\"X11\"],[\"Scrypt\"],[\"X11\"],[\"Lyra2REv2\"],[\"Scrypt\"],[\"SHA-256\"],[\"CryptoNight\"],[\"CryptoNight\"],[\"Scrypt\"],[\"SHA-256\"],[\"Scrypt\"],[\"Scrypt\"],[\"Scrypt\"],[\"Scrypt\"],[\"Scrypt\"],[\"Momentum\"],[\"Stanford Folding\"],[\"Multiple\"],[\"QuBit\"],[\"Scrypt\"],[\"Scrypt\"],[\"SHA-256\"],[\"M7 POW\"],[\"Scrypt\"],[\"X11\"],[\"Scrypt\"],[\"SHA-256\"],[\"Scrypt\"],[\"X11\"],[\"X11\"],[\"Lyra2RE\"],[\"SHA-256\"],[\"X11\"],[\"Scrypt\"],[\"Scrypt\"],[\"Ethash\"],[\"Blake2b\"],[\"X11\"],[\"SHA-256\"],[\"Scrypt\"],[\"Scrypt\"],[\"1GB AES Pattern Search\"],[\"Scrypt\"],[\"CryptoNight\"],[\"SHA-256\"],[\"SHA-256\"],[\"X11\"],[\"Scrypt-n\"],[\"X11\"],[\"Scrypt\"],[\"Dagger\"],[\"Scrypt\"],[\"CryptoNight-Lite\"],[\"X11GOST\"],[\"SHA-256\"],[\"Scrypt\"],[\"X11\"],[\"SHA-256\"],[\"Scrypt\"],[\"X11\"],[\"Equihash\"],[\"CryptoNight\"],[\"SHA-256\"],[\"Multiple\"],[\"Scrypt\"],[\"SHA-256\"],[\"Scrypt\"],[\"Scrypt\"],[\"Scrypt-n\"],[\"Lyra2Z\"],[\"SHA-256\"],[\"Quark\"],[\"Ethash\"],[\"SHA-256\"],[\"Equihash\"],[\"Scrypt\"],[\"Equihash\"],[\"X11\"],[\"X11\"],[\"CryptoNight\"],[\"Scrypt\"],[\"CryptoNight\"],[\"Lyra2RE\"],[\"X11\"],[\"X11\"],[\"Scrypt\"],[\"CryptoNight-V7\"],[\"Keccak\"],[\"Scrypt\"],[\"X11\"],[\"Equihash\"],[\"Scrypt\"],[\"Lyra2RE\"],[\"Ethash\"],[\"X11\"],[\"Dagger-Hashimoto\"],[\"Scrypt\"],[\"NIST5\"],[\"Scrypt\"],[\"Scrypt\"],[\"Scrypt\"],[\"SHA-256\"],[\"Scrypt\"],[\"CryptoNight-V7\"],[\"Argon2d\"],[\"Blake2b\"],[\"Cloverhash\"],[\"CryptoNight\"],[\"X11\"],[\"Scrypt\"],[\"Scrypt\"],[\"X11\"],[\"X11\"],[\"CryptoNight\"],[\"Time Travel\"],[\"Scrypt\"],[\"Keccak\"],[\"X11\"],[\"SHA-256\"],[\"Scrypt\"],[\"Scrypt\"],[\"Scrypt\"],[\"Scrypt\"],[\"Scrypt\"],[\"Scrypt\"],[\"Scrypt\"],[\"Scrypt\"],[\"CryptoNight\"],[\"Equihash\"],[\"X11\"],[\"NeoScrypt\"],[\"Equihash\"],[\"Dagger\"],[\"Scrypt\"],[\"X11\"],[\"NeoScrypt\"],[\"Scrypt\"],[\"Ethash\"],[\"Scrypt\"],[\"NeoScrypt\"],[\"Multiple\"],[\"CryptoNight\"],[\"CryptoNight\"],[\"Ethash\"],[\"X11\"],[\"SHA-256\"],[\"CryptoNight-V7\"],[\"Scrypt\"],[\"BLAKE256\"],[\"X11\"],[\"NeoScrypt\"],[\"NeoScrypt\"],[\"Scrypt\"],[\"X11\"],[\"SHA-256\"],[\"C11\"],[\"Ethash\"],[\"CryptoNight\"],[\"SkunkHash\"],[\"CryptoNight\"],[\"Equihash\"],[\"Skein\"],[\"Scrypt\"],[\"Dagger\"],[\"Lyra2REv2\"],[\"Scrypt\"],[\"Scrypt\"],[\"Scrypt\"],[\"NeoScrypt\"],[\"Equihash\"],[\"X11\"],[\"Ethash\"],[\"X11\"],[\"CryptoNight\"],[\"NeoScrypt\"],[\"Scrypt\"],[\"IMesh\"],[\"Equihash\"],[\"Equihash\"],[\"Equihash\"],[\"Lyra2Z\"],[\"X11\"],[\"CryptoNight\"],[\"NIST5\"],[\"Lyra2RE\"],[\"Tribus\"],[\"Lyra2Z\"],[\"CryptoNight\"],[\"CryptoNight Heavy\"],[\"CryptoNight\"],[\"Jump Consistent Hash\"],[\"CryptoNight\"],[\"X16R\"],[\"HMQ1725\"],[\"X11\"],[\"Scrypt\"],[\"CryptoNight-V7\"],[\"Cryptonight-GPU\"],[\"XEVAN\"],[\"CryptoNight Heavy\"],[\"Lyra2REv2\"],[\"SHA-256\"],[\"X11\"],[\"X16R\"],[\"Equihash\"],[\"Quark\"],[\"CryptoNight Heavy X\"],[\"Lyra2Z\"],[\"Ethash\"],[\"SHA-256\"],[\"Ethash\"],[\"CryptoNight\"],[\"SkunkHash\"],[\"Argon2\"],[\"Blake\"],[\"Blake\"],[\"SHA-256\"],[\"Equihash\"],[\"Exosis\"],[\"Scrypt\"],[\"Equihash\"],[\"Equihash\"],[\"QuBit\"],[\"Equihash1927\"],[\"SHA-256\"],[\"SHA-256\"],[\"X13\"],[\"SHA-256\"],[\"X11\"],[\"Scrypt\"],[\"NeoScrypt\"],[\"Blake\"],[\"CryptoNight\"],[\"Scrypt\"],[\"SHA-256\"],[\"CryptoNight\"],[\"Scrypt\"],[\"Groestl\"],[\"Scrypt\"],[\"Scrypt\"],[\"Scrypt\"],[\"Multiple\"],[\"Equihash+Scrypt\"],[\"Ethash\"],[\"Ethash\"],[\"CryptoNight\"],[\"Equihash\"]],\"hovertemplate\":\"<b>%{hovertext}</b><br><br>class=%{marker.color}<br>PC 1=%{x}<br>PC 2=%{y}<br>PC 3=%{z}<br>Algorithm=%{customdata[0]}<extra></extra>\",\"hovertext\":[\"Bitcoin\",\"Ethereum\",\"Litecoin\",\"Monero\",\"Ethereum Classic\",\"ZCash\",\"DigiByte\",\"ProsperCoin\",\"Spreadcoin\",\"ACoin\",\"Argentum\",\"BetaCoin\",\"MyriadCoin\",\"MoonCoin\",\"ZetaCoin\",\"SexCoin\",\"Quatloo\",\"QuarkCoin\",\"Riecoin\",\"Digitalcoin \",\"LimeCoinX\",\"BitMark\",\"Catcoin\",\"CannaCoin\",\"CryptCoin\",\"Verge\",\"DarkShibe\",\"DevCoin\",\"EarthCoin\",\"E-Gulden\",\"Elacoin\",\"Einsteinium\",\"Emerald\",\"Flappy Coin\",\"FireRoosterCoin\",\"Franko\",\"FeatherCoin\",\"GrandCoin\",\"GlobalCoin\",\"GoldCoin\",\"HunterCoin\",\"Infinite Coin\",\"IXcoin\",\"KrugerCoin\",\"LuckyCoin\",\"Litebar \",\"LitecoinDark\",\"MegaCoin\",\"MediterraneanCoin\",\"MinCoin\",\"NoirBits\",\"NobleCoin\",\"Namecoin\",\"NyanCoin\",\"RipOffCoin\",\"RonPaulCoin\",\"StableCoin\",\"SmartCoin\",\"SpainCoin\",\"SecureCoin\",\"SysCoin\",\"TigerCoin\",\"TerraCoin\",\"Umbrella\",\"UnbreakableCoin\",\"Unobtanium\",\"UroCoin\",\"ViaCoin\",\"VootCoin\",\"Vertcoin\",\"WorldCoin\",\"JouleCoin\",\"ByteCoin\",\"DigitalNote \",\"MonaCoin\",\"Sling Coin\",\"Gulden\",\"PesetaCoin\",\"Wild Beast Coin\",\"Flo\",\"ArtByte\",\"BitCredit\",\"Folding Coin\",\"Unitus\",\"CypherPunkCoin\",\"OmniCron\",\"GreenCoin\",\"Unattanium\",\"Cryptonite\",\"Gridmaster\",\"ConSpiracy Coin \",\"MasterCoin\",\"SoonCoin\",\"1Credit\",\"Quicksilver coin\",\"MarsCoin \",\"Crypto\",\"Anarchists Prime\",\"BowsCoin\",\"Song Coin\",\"BitZeny\",\"Expanse\",\"Siacoin\",\"MindCoin\",\"I0coin\",\"DogeCoinDark\",\"Revolution VR\",\"HOdlcoin\",\"Gamecredits\",\"Dashcoin\",\"CarpeDiemCoin\",\"Phalanx\",\"SunShotCoin\",\"HempCoin\",\"Adzcoin\",\"VirtaCoin\",\"SoilCoin\",\"YoCoin\",\"AEON\",\"SibCoin\",\"Anti Bitcoin\",\"Francs\",\"BolivarCoin\",\"Clinton\",\"Omni\",\"PizzaCoin\",\"Komodo\",\"Karbo\",\"ZayedCoin\",\"Circuits of Value\",\"DopeCoin\",\"DollarCoin\",\"Shilling\",\"GBR Coin\",\"FujiCoin\",\"ZCoin\",\"LeaCoin\",\"Zurcoin\",\"Elementrem\",\"CashOut\",\"ZClassic\",\"KiloCoin\",\"Hush\",\"ArtexCoin\",\"Kurrent\",\"Cannabis Industry Coin\",\"OsmiumCoin\",\"Bikercoins\",\"HexxCoin\",\"MarxCoin\",\"PacCoin\",\"Solarflarecoin\",\"Citadel\",\"CreativeChain\",\"BeaverCoin\",\"VaultCoin\",\"Zero\",\"Canada eCoin\",\"Zoin\",\"Musicoin\",\"BnrtxCoin\",\"DubaiCoin\",\"EB3coin\",\"Coinonat\",\"Bitcoin Scrypt\",\"BenjiRolls\",\"ParallelCoin\",\"ILCoin\",\"EquiTrader\",\"Quantum Resistant Ledger\",\"Dynamic\",\"Nano\",\"ChanCoin\",\"Dinastycoin\",\"DigitalPrice\",\"Unify\",\"SocialCoin\",\"ArcticCoin\",\"DAS\",\"LeviarCoin\",\"Bitcore\",\"gCn Coin\",\"SmartCash\",\"Onix\",\"Bitcoin Cash\",\"CampusCoin\",\"Sojourn Coin\",\"NewYorkCoin\",\"LiteBitcoin\",\"FrazCoin\",\"Kronecoin\",\"AdCoin\",\"Linx\",\"Sumokoin\",\"BitcoinZ\",\"Elements\",\"VIVO Coin\",\"Bitcoin Gold\",\"Pirl\",\"eBoost\",\"Pura\",\"Innova\",\"Bitdeal\",\"Ellaism\",\"Sakuracoin\",\"GoByte\",\"SHIELD\",\"UltraNote\",\"BitCoal\",\"DaxxCoin\",\"AC3\",\"CHIPS\",\"Lethean\",\"PopularCoin\",\"Photon\",\"Sucre\",\"SparksPay\",\"GunCoin\",\"IrishCoin\",\"Pioneer Coin\",\"UnitedBitcoin\",\"Interzone\",\"1717 Masonic Commemorative Token\",\"TurtleCoin\",\"MUNcoin\",\"Niobio Cash\",\"Bitcoin Private\",\"Skeincoin\",\"ShareChain\",\"Travelflex\",\"KREDS\",\"BitFlip\",\"LottoCoin\",\"LeafCoin\",\"Cerberus\",\"Bitcoin Hush\",\"Crypto Improvement Fund\",\"Callisto Network\",\"Curium\",\"BitTube\",\"Dinero\",\"Poseidon\",\"Aidos Kuneen\",\"Snowgem\",\"Bitrolium\",\"Bitcoin Interest\",\"Alpenschillling\",\"FuturoCoin\",\"Monero Classic\",\"Jumpcoin\",\"Infinex\",\"KEYCO\",\"GINcoin\",\"PlatinCoin\",\"Loki\",\"Newton Coin\",\"MassGrid\",\"PluraCoin\",\"Motion\",\"PlusOneCoin\",\"Axe\",\"HexCoin\",\"Webchain\",\"Ryo\",\"Urals Coin\",\"Qwertycoin\",\"NIX\",\"Project Pai\",\"Azart\",\"Xchange\",\"CrypticCoin\",\"ZestCoin\",\"X-CASH\",\"Actinium\",\"ETHER-1\",\"Bitcoin SV\",\"Bitcoiin2Gen\",\"FREDEnergy\",\"C25 Coin\",\"Aquachain\",\"Universal Molecule\",\"Lithium\",\"Smart Bitcoin\",\"PirateCash\",\"Exosis\",\"Block-Logic\",\"Beam\",\"Bithereum\",\"SLICE\",\"Vidulum\",\"BlockStamp\",\"BLAST\",\"Bitcoin Rhodium\",\"GlobalToken\",\"Boolberry\",\"SolarCoin\",\"UFO Coin\",\"BlakeCoin\",\"FantomCoin \",\"Crypto Escudo\",\"Crown Coin\",\"Quazar Coin\",\"SmileyCoin\",\"Groestlcoin\",\"Bata\",\"Pakcoin\",\"Dotcoin\",\"JoinCoin\",\"Vollar\",\"Reality Clash\",\"iOlite\",\"Beldex\",\"Horizen\"],\"legendgroup\":\"0\",\"marker\":{\"color\":[0,0,0,0,0,0,0,0,0,0,0,0,0,0,0,0,0,0,0,0,0,0,0,0,0,0,0,0,0,0,0,0,0,0,0,0,0,0,0,0,0,0,0,0,0,0,0,0,0,0,0,0,0,0,0,0,0,0,0,0,0,0,0,0,0,0,0,0,0,0,0,0,0,0,0,0,0,0,0,0,0,0,0,0,0,0,0,0,0,0,0,0,0,0,0,0,0,0,0,0,0,0,0,0,0,0,0,0,0,0,0,0,0,0,0,0,0,0,0,0,0,0,0,0,0,0,0,0,0,0,0,0,0,0,0,0,0,0,0,0,0,0,0,0,0,0,0,0,0,0,0,0,0,0,0,0,0,0,0,0,0,0,0,0,0,0,0,0,0,0,0,0,0,0,0,0,0,0,0,0,0,0,0,0,0,0,0,0,0,0,0,0,0,0,0,0,0,0,0,0,0,0,0,0,0,0,0,0,0,0,0,0,0,0,0,0,0,0,0,0,0,0,0,0,0,0,0,0,0,0,0,0,0,0,0,0,0,0,0,0,0,0,0,0,0,0,0,0,0,0,0,0,0,0,0,0,0,0,0,0,0,0,0,0,0,0,0,0,0,0,0,0,0,0,0,0,0,0,0,0,0,0,0,0,0,0,0,0,0,0,0,0,0,0,0,0,0,0,0,0,0,0,0,0,0,0,0,0,0,0,0,0,0],\"coloraxis\":\"coloraxis\",\"symbol\":\"diamond\"},\"mode\":\"markers\",\"name\":\"0\",\"scene\":\"scene\",\"showlegend\":true,\"type\":\"scatter3d\",\"x\":[-0.20952285953562014,-0.35073118591304814,-0.34671648667464416,-0.29904639613057815,-0.3506531480188786,-0.30265384800568623,-0.06152174835962085,-0.34750396811247525,-0.24647548665544092,-0.20976936010376226,-0.3474154521010084,-0.2097693601880789,-0.19514477847599626,-0.34758434679212713,-0.20742903154843156,-0.34581033142562656,-0.3474821127414059,0.0981364789339787,-0.24941494227367714,-0.34712343832609677,-0.2466287967232365,-0.3475832830257135,-0.34748400781191785,-0.3475186041265125,-0.24656008760667333,0.0006742934561983009,-0.34758328295488766,0.048373180811283646,-0.17517048668588564,-0.34729576163106884,-0.3475832831572366,-0.3445737712048026,-0.3473152000884078,-0.3475835603067493,-0.20976936010654249,-0.3475675702880322,-0.324572328221196,-0.335426460168565,-0.3466802760359599,-0.34701047217177755,-0.21835845409786542,0.8981180034854044,-0.20947937929641172,-0.34550086189458196,-0.3473175439973558,-0.3475680980987187,-0.3475832831766605,-0.347058688882483,-0.42841017964555467,-0.3475034745233207,-0.20976936023800333,-0.3150496534122831,-0.20956673304174117,-0.3429809953605601,-0.34758328298250135,-0.34756810072184546,-0.3472503222387282,-0.34723136639929014,-0.29880601545519747,-0.3475832830074635,-0.20202342335021678,-0.20917072445595847,-0.20945399600597647,-0.20976936010660532,-0.2097380355089142,-0.2097665975408549,-0.2466121960201114,-0.3472649557072338,-0.24662879666499157,-0.24546521868368307,-0.34593867513187704,-0.20923041451014138,2.4145549021071098,-0.021417355949476236,-0.34664559898383474,-0.20976936010209823,-0.3418765463260239,-0.34569240058386663,-0.34758078154696065,-0.345489545054863,-0.3366858116345461,-0.23192541759233037,-0.4063331918503185,-0.2174631389392807,-0.386758168657959,-0.3474438562356338,-0.28419062135447815,-0.20976936009932465,-0.44354364723421624,-0.3475832831821986,-0.24662879675651944,-0.3475747650605115,-0.20959799776605845,-0.3475823251797243,-0.24662879675651944,-0.24618574656967415,-0.38068796647444997,-0.2095665846314164,-0.24641066721816102,-0.34713550708658913,-0.34654357597657404,-0.35206754460602746,0.36770345691700174,-0.2464106141632452,-0.20948064254832763,-0.3475833287132109,-0.34469576050542405,-0.3872657381575278,-0.3466230291497551,-0.11638366520660076,0.0891575777038459,-0.20976936014092815,-0.24662880290553588,-0.2988060291843954,-0.24600852499667958,-0.34758334119429996,-0.33259755109292494,-0.34757453198616844,-0.22419334490604298,-0.28918205582001455,-0.2097693602158149,-0.3474929336789281,-0.24644105160281893,-0.20976936010604008,-0.3475748067233354,-0.24660985022449392,-0.23468563713532287,-0.1162761058754926,-0.20968350664169866,-0.20460834766087954,-0.34597664880699597,-0.20964414181279062,-0.3474303928132189,-0.3475832831919063,-0.29880601534425477,-0.2982738197858513,-0.20976936564647497,0.09456753979187525,-0.3518515268204587,-0.2097693603766821,-0.302678178910649,-0.3448841920598871,-0.3027553658386682,-0.2352987077011791,-0.24578502439003935,-0.11637021561268023,-0.34757099000121777,-0.11625500423878365,-0.38085113325477266,-0.24662879694412412,-0.23924551162558988,-0.3475832830046899,-0.2991320849155526,-0.3392274007791159,-0.3475404478194533,-0.2462109949318293,-0.30266019232750024,-0.3462104254145245,-0.38062192430545416,-0.35221185704412605,-0.24662879724744224,-0.2648632011558686,-0.34670196630046524,-0.2228490740007413,-0.3475832830074635,-0.34730448446122253,-0.3475832829519921,-0.19165019441884873,-0.34739527231119627,-0.29833366122494603,-0.2354456761660781,-0.08556957180807695,-0.2507685239293615,-0.09150329908046213,-0.2461456321831529,-0.34733394958315117,-0.34751222568434614,-0.24627071146575594,-0.2465927317473157,-0.11618893896113616,-0.3595037460179624,1.8944416317542658,-0.3084132928022877,-0.24494474625876037,-0.2095219188267301,-0.3475832857505294,-0.34757664032605606,1.618774106506752,-0.34758328572279373,-0.3474498513631535,-0.3473432922141074,-0.34713438709478467,-0.3471196772970998,-0.1162606479422381,-0.23109599528730682,-0.2094642398458562,-0.32738426776238067,-0.3025188314874765,-0.33220863052683786,-0.3462084097422585,-0.24421956036228656,-0.3273538898124153,-0.3475832837812909,-0.35203645511406195,-0.347583283240721,-0.32736135542760697,-0.21173460770047806,0.14874325775449782,-0.11632178969668783,-0.34504956442803264,-0.24552444153763325,-0.2097693601575697,-0.29321567741555477,-0.29307509497525946,0.27688356740042724,-0.24657064694927006,-0.32733364740789267,-0.32331929685899985,-0.3469578862111436,-0.24651222186449892,-0.20949207544407913,-0.3158611030843228,-0.03722008924799358,0.614292122177028,-0.38457615605915135,-0.11454207996993265,-0.3027553658386682,-0.3428537163476875,-0.21008221419710837,-0.3312002208963307,-0.2373166014401345,-0.3474121478204234,-0.14833029679146936,-0.34758334119429996,-0.3274415502858114,-0.3027553658386682,-0.24372343235386792,-0.34880717543151596,-0.24662879672601018,-0.11528298426177423,-0.3274415504758013,-0.34752731714411667,-0.2907567677435183,-0.30275536601366937,-0.3017742203417816,-0.3027553658422735,-0.29800195036004334,-0.24619152336403902,-0.11616343157024184,-0.2226985632139557,-0.3808068367267647,-0.22276749181416713,-0.2982818206906695,-0.11638250768534106,0.21146567941210914,0.4514200026344572,-0.41811475356598665,-0.10868242467070423,-0.2312507878544848,-0.24313476482719215,-0.246560142003668,-0.3475638037380361,-0.2990686891398153,-0.3902660400986519,-0.12417142959030357,1.58006798929531,-0.24616886324969384,-0.18089413566138135,-0.24655982781546465,-0.23122840442394765,-0.2445221393047589,0.09456754006007971,-0.3136681168255193,-0.298190403973967,-0.3522118558203355,-0.20952196110831706,-0.3522118560597888,-0.09071147833797068,-0.3846424087194595,-0.16548424528987726,-0.1500225796650308,-0.1498263868298252,-0.2097693601575691,0.012399447713729885,-0.3471356591305136,-0.3470981145519792,-0.302264659196225,-0.3024095397802091,-0.3866679612664027,-0.2895179285913957,-0.20976936039055,-0.20905031428924548,-0.2035849359399009,-0.20860592116256152,-0.24662879671616394,-0.3468195291440006,-0.27485172300567545,-0.14972314190401778,-0.11638366520647124,-0.3368553030486374,-0.20945328742040112,-0.11638366520660076,0.059199675410707746,-0.2490883824700469,-0.3475138097651822,-0.34662511455091116,-0.3475832854177005,-0.21831262593931544,-0.36019945293651706,-0.35187514393395936,-0.3522118585560064,-0.10290550087759276,-0.30265503764798635],\"y\":[-1.4398632399960696,-2.0897763758737953,-1.0446442009083858,-2.2545535529621805,-2.089785008032608,-2.0966544303541403,-1.7395864120346636,-1.044557068924377,-0.8459264346879728,-1.4398359655924164,-1.0445668624697229,-1.4398359652171016,-1.72480160520342,-1.0445435525121882,-1.4400949147446473,-1.044744462596338,-1.0445594862124157,-0.6662611320216157,-1.1878367114883615,-1.0445991732137454,-0.8459094713216083,-1.0445482928593695,-1.0445592774789467,-1.0445554495826832,-0.8459170738401088,-1.7464682934028426,-1.0445482931746348,-1.4683985035542404,-1.063625151480668,-1.0445801064219646,-1.0445482922739275,-1.0448812841213078,-1.0445779554755408,-1.0445470586109198,-1.4398359655800408,-1.0445500316290866,-1.5636421911794118,-1.0458933964487906,-1.0446482076885224,-1.0446116723306407,-1.7222330968428283,-1.1823807616687487,-1.4398680509697623,-1.0447787043974242,-1.0445776962726707,-1.0445499733472425,-1.0445482921874667,-1.0446063376430017,-2.1742783991826093,-1.044557123671143,-1.4398359649948753,-1.0481478728476517,-1.43985838550842,-1.045057520116255,-1.0445482930517185,-1.044549972820434,-1.0445851314138548,-1.044587231220806,-2.1544605888917663,-1.0445482929406054,-1.4406930223767227,-1.4399022024999777,-1.4398708593110285,-1.4398359655797615,-1.4398394306322944,-1.4398362712789627,-0.8459113083984088,-1.044583514992044,-0.8459094715808718,-1.4702280207142437,-1.0447302615183653,-1.4398955979772619,-2.583506799190924,-2.3139749992205494,-1.044652044189997,-1.4398359655998239,-1.0451797083182548,-1.0447575123393185,-1.044548569941788,-1.044779957845028,-1.0457540575969717,-2.185551635652567,-2.190498691659575,-1.7223321616074982,-1.1718213571581293,-1.0445637203571103,-1.0515624034846343,-1.4398359656121695,-2.20213552141536,-1.0445482921628144,-0.8459094711734576,-1.044549235674313,-1.4398549261492004,-1.0445472915864706,-0.8459094711734576,-0.8459584935071606,-2.2021457009269425,-1.439858401535233,-0.8459336067755723,-1.0445978358860444,-1.0446633310222413,-2.0896285111083226,-2.29452386805834,-0.8459336127061534,-1.439867911194272,-1.0445480894926924,-1.0448677874082073,-2.1255476833992666,-1.0446545417368267,-2.303467347941371,-1.472911181876499,-1.4398359654269812,-0.8459094438026203,-2.1544605277796136,-0.8459781019924308,-1.04454803393619,-2.207998043418894,-1.0445492594440502,-2.351881795005927,-2.278101325545493,-1.4398359650936423,-1.0445582898673618,-0.8459302447754561,-1.4398359655822774,-1.044549231064468,-0.8459115676535269,-1.7965144936790214,-2.303479249199136,-1.439845464953426,-1.723754495884264,-1.0447260606190494,-1.4398498205569752,-1.04456520972868,-1.0445482921196036,-2.154460589385603,-2.2516475085669025,-1.4398359409203907,-0.6658662397827998,-2.089652412794145,-1.4398359643775807,-2.0966517382037297,-1.044846820092271,-2.096643197673886,-0.8471631099984186,-0.8460028300109894,-2.3034688360726983,-1.0445496533494396,-2.3034815838589524,-2.202127647625038,-0.8459094703383815,-0.8467252086815598,-1.0445482929529515,-2.2545440694970913,-1.4889503034954137,-1.0445530327534596,-0.8459556882008197,-2.0966537284198337,-1.0447001950584007,-2.202153008857833,-2.089612538044987,-0.8459094689882352,-2.1861967982003163,-1.0446457604047357,-0.49135427115246927,-1.0445482929406054,-1.0445791410890217,-1.0445482931875232,-1.4418407733700298,-1.0445690952138869,-2.2546324139340648,-2.233883670225892,-2.244370399788564,-2.2200120252607154,-2.306220270923322,-0.8459629312515307,-1.0445758810466133,-1.0445561545957402,-0.8459490920406286,-0.8459134618412788,-2.3034888934584083,-2.1605530499535344,-1.2926200241833448,-1.4923597443958954,-0.8460957940702164,-1.4398633440830197,-1.0445482807305209,-1.044548901779081,-1.2621205479643105,-1.0445482808539799,-1.0445630568118824,-1.0445748465299556,-1.0445979611373608,-1.0445995887376471,-2.3034809586289042,-2.104571865307784,-0.8500216100234859,-1.5633310612116014,-2.0966693695754923,-2.2080410749323334,-1.0447004180872166,-0.8461760430047177,-1.5633344222348773,-1.0445482894961025,-2.0896319479111614,-1.0445482919023161,-1.5633335963431776,-1.722966000522353,-2.3328019190474514,-2.303474194374809,-2.090404911903951,-0.846031658939218,-1.4398359653529067,-2.2551986945645273,-1.050579420124873,-1.2102232972111007,-0.8459159054550528,-1.563336662292442,-1.5637808338177523,-1.0446174909276496,-0.8459223699979395,-1.4398666461845762,-1.2196768260252577,-0.3100793715570981,-2.3843026563516614,-1.4985552293563327,-2.303671110663753,-2.096643197673886,-0.7983886920908005,-1.059762303120728,-2.2081526534740368,-1.4711296314716034,-1.0445672283685836,-1.0665948885702332,-1.04454803393619,-1.5633247229974105,-2.096643197673886,-0.8462309364534242,-2.0899891843014737,-0.8459094713092621,-2.303589123565648,-1.563324722151717,-1.0445544854156577,-2.191464397050212,-2.0966431968949104,-2.096751758243383,-2.0966431976578366,-2.251677586847179,-0.8459578535134994,-2.3034917162124695,-0.49137092510182706,-2.202132548722943,-2.2209358130666588,-2.2516466234191292,-2.303467469016716,-2.2817367432228153,-2.3662911100646,-2.185863454639065,-2.3043194580616246,-1.305686837752033,-2.3656654635634387,-0.8459170677851081,-1.0445504482570442,-2.254551065231302,-2.1585758429922817,-0.6971371857300055,-2.4331667572327245,-1.4701501632047995,-1.44303090769555,-0.8459171025010475,-1.3056893134814087,-2.1030864592343885,-0.6658662409766475,-2.1538871062835936,-2.251656737552662,-2.089612543492391,-1.4398633394046736,-2.0896125424265235,-2.3063078106012718,-1.4985478988007592,-2.2916865182911823,-1.905959452847958,-1.9059811620291143,-1.4398359653529087,-0.3171280653002353,-2.310984775612229,-1.0446019743576977,-2.0966974901575774,-2.0966814622953978,-1.1718313371639943,-2.3228528321141204,-1.4398359643158514,-1.439915525362572,-0.24803516007773196,-1.4399646950369678,-0.84590947135309,-1.04463161951645,-1.5691436007935589,-1.9059925018383563,-2.3034673479419476,-1.0457353038193908,-1.4398709377141519,-2.303467347941371,-1.089557151851808,-1.1878728442158302,-1.044555980164107,-1.0446543098128713,-1.0445482822120276,-1.7222381680795333,-2.2652672468045787,-2.0896497996435532,-2.089612531315223,-2.3049586546123364,-2.0966542987233594],\"z\":[0.12528993808222355,0.27628247028806385,-0.029043257194032175,0.2111759618727514,0.27627883958496546,0.2665526867012192,0.2503930590904971,-0.029006630021165127,-0.04813683901043417,0.12530140326378458,-0.029010747239431017,0.12530140311540558,0.2566081473112927,-0.02900481518970959,0.12519255048406797,-0.02908540456699634,-0.029007646940661005,0.015480564239519896,-0.006405385145437191,-0.02902432912703778,-0.04812970835089923,-0.02900294100716911,-0.029007558402513706,-0.02900594924041233,-0.048132904092472055,0.2475002569247736,-0.02900294088253051,0.1132947293470279,-0.0370221675284533,-0.029016313994281395,-0.0290029412386208,-0.029142918952677895,-0.02901540993969566,-0.02900342896132411,0.12530140325889189,-0.029003671746576313,0.17160080186848217,-0.029568378730280807,-0.029044941331084685,-0.029029583460675277,0.2576878574697051,-0.08694269467443462,0.12528791575580892,-0.029099798502689244,-0.02901530086111079,-0.02900364714784014,-0.029002941272802594,-0.029027340682851507,0.3095041642977794,-0.02900665292357456,0.1253014030275497,-0.030516200392873272,0.12529197870003483,-0.02921700135953829,-0.02900294093112492,-0.029003647124279212,-0.029018428590901254,-0.029019309257399362,0.38608978003026373,-0.029002940975052984,0.12494112452812665,0.12527355965944836,0.125286735038449,0.12530140325878175,0.12529994592052265,0.12530127477990385,-0.04813048036748958,-0.029017746830677153,-0.04812970824840062,0.15294653201249497,-0.029079435199917816,0.1252763359369914,0.14634658109383625,0.25964791390922043,-0.02904655438497053,0.12530140326671302,-0.029268377548974905,-0.029090889275619983,-0.029003057229419406,-0.02910032433650222,-0.02950980243432548,0.25824629390145903,0.39453380918006614,0.25764621532649334,0.0828245751223492,-0.029009425819869632,-0.03195147185685446,0.12530140327159417,0.35613496644235476,-0.029002941282548853,-0.048129708409469917,-0.029003337054511913,0.12529343286585953,-0.02900344632967595,-0.048129708409469917,-0.04815031529005073,0.2802615420839205,0.12529197163313993,-0.04813985385765153,-0.02902376860416977,-0.02905130034281003,0.27634462610538096,0.1072857602262903,-0.04813985630025988,0.12528797451141316,-0.02900302140720136,-0.02913724461073871,0.2846720382469337,-0.029047604033544828,0.26406497908051185,0.11139778716893652,0.12530140319838082,-0.04812971923039805,0.38608975586987,-0.048158558367473535,-0.02900304337119589,0.1816332212289875,-0.029003348735442063,0.18564382129894338,0.15005872544317297,0.12530140306659676,-0.029007143243011072,-0.04813844065768856,0.1253014032597763,-0.029003335116700897,-0.048130589598954464,0.42575038668097004,0.26405997638869844,0.12529741005906053,0.25704831508812237,-0.02907766866370624,0.12529557914158165,-0.029010052155783724,-0.029002941299631945,0.3860897802254993,0.22622824284783882,0.1253013935098185,0.015646561170478898,0.2763345787710532,0.1253014027835053,0.2665538183654605,-0.029128529443815002,0.26655740843686826,-0.048656688953964404,-0.048168954413056395,0.2640643535083959,-0.029003512648266592,0.2640589948470689,0.28026913147737503,-0.048129708739613176,-0.048473616096584314,-0.029002940970172104,0.21117994645052565,0.0801691194506545,-0.02900493321086695,-0.048149145798164456,0.2665529818044938,-0.029066794887460893,0.28025847059514836,0.2763513360833589,-0.04812970927338709,0.167590472494421,-0.029043952175575986,-0.08095584761444584,-0.029002940975052984,-0.029015908356060893,-0.029002940877435084,0.12445864314289865,-0.02901168586960924,0.21114281105466448,0.10020323004668233,0.12836811770063714,0.24622038391623413,0.26290774870997496,-0.04815218140163939,-0.02901453781086808,-0.029006246220543094,-0.048146363589794176,-0.04813138577258374,0.26405592191380617,0.3125697966764955,-0.1332836408359419,0.07873588794541157,-0.0482080412865979,0.1252898943285469,-0.029002945802250834,-0.02900330243404983,-0.12046095873793945,-0.029002945753441818,-0.029009147061455912,-0.02901410359636073,-0.029023820144256578,-0.02902450431741168,0.2640592570234925,0.26322432631440307,-0.049858292508806724,0.17173159063669124,0.26654640689511755,0.1816151313595926,-0.02906688863918238,-0.04824176693413516,0.1717301776257968,-0.029002942336820384,0.2763431787717864,-0.02900294138553572,0.171730524928077,0.25737977006226775,0.25173313128922314,0.264062101194255,0.27601816006937746,-0.04818107609724082,0.12530140316909552,0.21090476202607383,-0.03153821757883372,-0.026945934424938242,-0.048132412971775056,0.17172923624363787,0.17154252081493251,-0.029032029265554288,-0.04813513041978296,0.12528850627547874,-0.023096664838251645,0.15309976040263296,0.2300752218632867,0.099696310688954,0.2639793227981542,0.26655740843686826,-0.017653873092329825,-0.035398356976578046,0.1815682291068256,0.15256752339773863,-0.029010900805880695,-0.03827056668511204,-0.02900304337119589,0.1717342549040052,0.26655740843686826,-0.048264843289525086,0.27619294931951827,-0.04812970835578021,0.2640137799609787,0.1717342545696643,-0.029005544025219397,0.4135356651757905,0.2665574081289041,0.26651177374931134,0.2665574084305231,0.2262155964268531,-0.04815004693897069,0.2640547357079209,-0.0809628479440068,0.28026707110266946,0.2850426166961645,0.22622861503566138,0.2640649223290673,0.2806076773209568,0.23765471880866137,0.32771514324231105,0.26370677875141296,0.016646273304091876,0.11953047953909786,-0.04813290157742182,-0.02900384698851164,0.21117698998431825,0.3145524299065254,0.046879530535356484,0.21695115640629847,0.1529792590443009,0.12395836588974905,-0.04813291621079182,0.016645231829204687,0.2638488620842226,0.01564656164246099,0.4191497317439467,0.2262243627487578,0.27635133823696323,0.12528989629512235,0.2763513378155778,0.2628708895654919,0.09969939224496253,0.2084596902032058,0.2665615845614017,0.26655245975993036,0.1253014031690967,0.14329824657946652,0.17934747443157895,-0.029025507330884097,0.26653458377684447,0.2665413235362332,0.0828203789500782,0.16615203817673269,0.12530140275910082,0.1252679591299668,-0.06849039271459498,0.12524728926635678,-0.04812970833845314,-0.029038955594864847,0.16928820899020447,0.2665476227519521,0.2640649790807402,-0.029501919152852246,0.12528670208114787,0.26406497908051185,-0.047923232694517114,-0.006420574001435924,-0.029006172192047427,-0.02904750752960502,-0.02900294521654418,0.2576857261346806,0.4144192174785771,0.27633567724446406,0.2763513334227791,0.2634380839836169,0.2665527420331385]},{\"customdata\":[[\"Proof-of-BibleHash\"],[\"SHA-256 + Hive\"],[\"Proof-of-Authority\"],[\"ECC 256K1\"],[\"Leased POS\"]],\"hovertemplate\":\"<b>%{hovertext}</b><br><br>class=%{marker.color}<br>PC 1=%{x}<br>PC 2=%{y}<br>PC 3=%{z}<br>Algorithm=%{customdata[0]}<extra></extra>\",\"hovertext\":[\"BiblePay\",\"LitecoinCash\",\"Poa Network\",\"Acute Angle Cloud\",\"Waves\"],\"legendgroup\":\"2\",\"marker\":{\"color\":[2,2,2,2,2],\"coloraxis\":\"coloraxis\",\"symbol\":\"square\"},\"mode\":\"markers\",\"name\":\"2\",\"scene\":\"scene\",\"showlegend\":true,\"type\":\"scatter3d\",\"x\":[-1.0760894956654357,0.5904085292794273,1.009511021856335,0.7938945880763032,-0.5333934768426546],\"y\":[3.7492182445443984,2.4185423936828654,1.9219419138491036,2.343458129314258,3.2367254018519724],\"z\":[12.276765580882675,17.24779822819391,15.388883168672367,18.250502261794452,8.367164447122411]},{\"customdata\":[[\"TRC10\"]],\"hovertemplate\":\"<b>%{hovertext}</b><br><br>class=%{marker.color}<br>PC 1=%{x}<br>PC 2=%{y}<br>PC 3=%{z}<br>Algorithm=%{customdata[0]}<extra></extra>\",\"hovertext\":[\"BitTorrent\"],\"legendgroup\":\"3\",\"marker\":{\"color\":[3],\"coloraxis\":\"coloraxis\",\"symbol\":\"x\"},\"mode\":\"markers\",\"name\":\"3\",\"scene\":\"scene\",\"showlegend\":true,\"type\":\"scatter3d\",\"x\":[32.16149734095692],\"y\":[-2.611924877171166],\"z\":[-1.4782314434149155]}],                        {\"coloraxis\":{\"colorbar\":{\"title\":{\"text\":\"class\"}},\"colorscale\":[[0.0,\"#0d0887\"],[0.1111111111111111,\"#46039f\"],[0.2222222222222222,\"#7201a8\"],[0.3333333333333333,\"#9c179e\"],[0.4444444444444444,\"#bd3786\"],[0.5555555555555556,\"#d8576b\"],[0.6666666666666666,\"#ed7953\"],[0.7777777777777778,\"#fb9f3a\"],[0.8888888888888888,\"#fdca26\"],[1.0,\"#f0f921\"]]},\"legend\":{\"title\":{\"text\":\"class\"},\"tracegroupgap\":0,\"x\":0,\"y\":1},\"margin\":{\"t\":60},\"scene\":{\"domain\":{\"x\":[0.0,1.0],\"y\":[0.0,1.0]},\"xaxis\":{\"title\":{\"text\":\"PC 1\"}},\"yaxis\":{\"title\":{\"text\":\"PC 2\"}},\"zaxis\":{\"title\":{\"text\":\"PC 3\"}}},\"template\":{\"data\":{\"bar\":[{\"error_x\":{\"color\":\"#2a3f5f\"},\"error_y\":{\"color\":\"#2a3f5f\"},\"marker\":{\"line\":{\"color\":\"#E5ECF6\",\"width\":0.5},\"pattern\":{\"fillmode\":\"overlay\",\"size\":10,\"solidity\":0.2}},\"type\":\"bar\"}],\"barpolar\":[{\"marker\":{\"line\":{\"color\":\"#E5ECF6\",\"width\":0.5},\"pattern\":{\"fillmode\":\"overlay\",\"size\":10,\"solidity\":0.2}},\"type\":\"barpolar\"}],\"carpet\":[{\"aaxis\":{\"endlinecolor\":\"#2a3f5f\",\"gridcolor\":\"white\",\"linecolor\":\"white\",\"minorgridcolor\":\"white\",\"startlinecolor\":\"#2a3f5f\"},\"baxis\":{\"endlinecolor\":\"#2a3f5f\",\"gridcolor\":\"white\",\"linecolor\":\"white\",\"minorgridcolor\":\"white\",\"startlinecolor\":\"#2a3f5f\"},\"type\":\"carpet\"}],\"choropleth\":[{\"colorbar\":{\"outlinewidth\":0,\"ticks\":\"\"},\"type\":\"choropleth\"}],\"contour\":[{\"colorbar\":{\"outlinewidth\":0,\"ticks\":\"\"},\"colorscale\":[[0.0,\"#0d0887\"],[0.1111111111111111,\"#46039f\"],[0.2222222222222222,\"#7201a8\"],[0.3333333333333333,\"#9c179e\"],[0.4444444444444444,\"#bd3786\"],[0.5555555555555556,\"#d8576b\"],[0.6666666666666666,\"#ed7953\"],[0.7777777777777778,\"#fb9f3a\"],[0.8888888888888888,\"#fdca26\"],[1.0,\"#f0f921\"]],\"type\":\"contour\"}],\"contourcarpet\":[{\"colorbar\":{\"outlinewidth\":0,\"ticks\":\"\"},\"type\":\"contourcarpet\"}],\"heatmap\":[{\"colorbar\":{\"outlinewidth\":0,\"ticks\":\"\"},\"colorscale\":[[0.0,\"#0d0887\"],[0.1111111111111111,\"#46039f\"],[0.2222222222222222,\"#7201a8\"],[0.3333333333333333,\"#9c179e\"],[0.4444444444444444,\"#bd3786\"],[0.5555555555555556,\"#d8576b\"],[0.6666666666666666,\"#ed7953\"],[0.7777777777777778,\"#fb9f3a\"],[0.8888888888888888,\"#fdca26\"],[1.0,\"#f0f921\"]],\"type\":\"heatmap\"}],\"heatmapgl\":[{\"colorbar\":{\"outlinewidth\":0,\"ticks\":\"\"},\"colorscale\":[[0.0,\"#0d0887\"],[0.1111111111111111,\"#46039f\"],[0.2222222222222222,\"#7201a8\"],[0.3333333333333333,\"#9c179e\"],[0.4444444444444444,\"#bd3786\"],[0.5555555555555556,\"#d8576b\"],[0.6666666666666666,\"#ed7953\"],[0.7777777777777778,\"#fb9f3a\"],[0.8888888888888888,\"#fdca26\"],[1.0,\"#f0f921\"]],\"type\":\"heatmapgl\"}],\"histogram\":[{\"marker\":{\"pattern\":{\"fillmode\":\"overlay\",\"size\":10,\"solidity\":0.2}},\"type\":\"histogram\"}],\"histogram2d\":[{\"colorbar\":{\"outlinewidth\":0,\"ticks\":\"\"},\"colorscale\":[[0.0,\"#0d0887\"],[0.1111111111111111,\"#46039f\"],[0.2222222222222222,\"#7201a8\"],[0.3333333333333333,\"#9c179e\"],[0.4444444444444444,\"#bd3786\"],[0.5555555555555556,\"#d8576b\"],[0.6666666666666666,\"#ed7953\"],[0.7777777777777778,\"#fb9f3a\"],[0.8888888888888888,\"#fdca26\"],[1.0,\"#f0f921\"]],\"type\":\"histogram2d\"}],\"histogram2dcontour\":[{\"colorbar\":{\"outlinewidth\":0,\"ticks\":\"\"},\"colorscale\":[[0.0,\"#0d0887\"],[0.1111111111111111,\"#46039f\"],[0.2222222222222222,\"#7201a8\"],[0.3333333333333333,\"#9c179e\"],[0.4444444444444444,\"#bd3786\"],[0.5555555555555556,\"#d8576b\"],[0.6666666666666666,\"#ed7953\"],[0.7777777777777778,\"#fb9f3a\"],[0.8888888888888888,\"#fdca26\"],[1.0,\"#f0f921\"]],\"type\":\"histogram2dcontour\"}],\"mesh3d\":[{\"colorbar\":{\"outlinewidth\":0,\"ticks\":\"\"},\"type\":\"mesh3d\"}],\"parcoords\":[{\"line\":{\"colorbar\":{\"outlinewidth\":0,\"ticks\":\"\"}},\"type\":\"parcoords\"}],\"pie\":[{\"automargin\":true,\"type\":\"pie\"}],\"scatter\":[{\"marker\":{\"colorbar\":{\"outlinewidth\":0,\"ticks\":\"\"}},\"type\":\"scatter\"}],\"scatter3d\":[{\"line\":{\"colorbar\":{\"outlinewidth\":0,\"ticks\":\"\"}},\"marker\":{\"colorbar\":{\"outlinewidth\":0,\"ticks\":\"\"}},\"type\":\"scatter3d\"}],\"scattercarpet\":[{\"marker\":{\"colorbar\":{\"outlinewidth\":0,\"ticks\":\"\"}},\"type\":\"scattercarpet\"}],\"scattergeo\":[{\"marker\":{\"colorbar\":{\"outlinewidth\":0,\"ticks\":\"\"}},\"type\":\"scattergeo\"}],\"scattergl\":[{\"marker\":{\"colorbar\":{\"outlinewidth\":0,\"ticks\":\"\"}},\"type\":\"scattergl\"}],\"scattermapbox\":[{\"marker\":{\"colorbar\":{\"outlinewidth\":0,\"ticks\":\"\"}},\"type\":\"scattermapbox\"}],\"scatterpolar\":[{\"marker\":{\"colorbar\":{\"outlinewidth\":0,\"ticks\":\"\"}},\"type\":\"scatterpolar\"}],\"scatterpolargl\":[{\"marker\":{\"colorbar\":{\"outlinewidth\":0,\"ticks\":\"\"}},\"type\":\"scatterpolargl\"}],\"scatterternary\":[{\"marker\":{\"colorbar\":{\"outlinewidth\":0,\"ticks\":\"\"}},\"type\":\"scatterternary\"}],\"surface\":[{\"colorbar\":{\"outlinewidth\":0,\"ticks\":\"\"},\"colorscale\":[[0.0,\"#0d0887\"],[0.1111111111111111,\"#46039f\"],[0.2222222222222222,\"#7201a8\"],[0.3333333333333333,\"#9c179e\"],[0.4444444444444444,\"#bd3786\"],[0.5555555555555556,\"#d8576b\"],[0.6666666666666666,\"#ed7953\"],[0.7777777777777778,\"#fb9f3a\"],[0.8888888888888888,\"#fdca26\"],[1.0,\"#f0f921\"]],\"type\":\"surface\"}],\"table\":[{\"cells\":{\"fill\":{\"color\":\"#EBF0F8\"},\"line\":{\"color\":\"white\"}},\"header\":{\"fill\":{\"color\":\"#C8D4E3\"},\"line\":{\"color\":\"white\"}},\"type\":\"table\"}]},\"layout\":{\"annotationdefaults\":{\"arrowcolor\":\"#2a3f5f\",\"arrowhead\":0,\"arrowwidth\":1},\"autotypenumbers\":\"strict\",\"coloraxis\":{\"colorbar\":{\"outlinewidth\":0,\"ticks\":\"\"}},\"colorscale\":{\"diverging\":[[0,\"#8e0152\"],[0.1,\"#c51b7d\"],[0.2,\"#de77ae\"],[0.3,\"#f1b6da\"],[0.4,\"#fde0ef\"],[0.5,\"#f7f7f7\"],[0.6,\"#e6f5d0\"],[0.7,\"#b8e186\"],[0.8,\"#7fbc41\"],[0.9,\"#4d9221\"],[1,\"#276419\"]],\"sequential\":[[0.0,\"#0d0887\"],[0.1111111111111111,\"#46039f\"],[0.2222222222222222,\"#7201a8\"],[0.3333333333333333,\"#9c179e\"],[0.4444444444444444,\"#bd3786\"],[0.5555555555555556,\"#d8576b\"],[0.6666666666666666,\"#ed7953\"],[0.7777777777777778,\"#fb9f3a\"],[0.8888888888888888,\"#fdca26\"],[1.0,\"#f0f921\"]],\"sequentialminus\":[[0.0,\"#0d0887\"],[0.1111111111111111,\"#46039f\"],[0.2222222222222222,\"#7201a8\"],[0.3333333333333333,\"#9c179e\"],[0.4444444444444444,\"#bd3786\"],[0.5555555555555556,\"#d8576b\"],[0.6666666666666666,\"#ed7953\"],[0.7777777777777778,\"#fb9f3a\"],[0.8888888888888888,\"#fdca26\"],[1.0,\"#f0f921\"]]},\"colorway\":[\"#636efa\",\"#EF553B\",\"#00cc96\",\"#ab63fa\",\"#FFA15A\",\"#19d3f3\",\"#FF6692\",\"#B6E880\",\"#FF97FF\",\"#FECB52\"],\"font\":{\"color\":\"#2a3f5f\"},\"geo\":{\"bgcolor\":\"white\",\"lakecolor\":\"white\",\"landcolor\":\"#E5ECF6\",\"showlakes\":true,\"showland\":true,\"subunitcolor\":\"white\"},\"hoverlabel\":{\"align\":\"left\"},\"hovermode\":\"closest\",\"mapbox\":{\"style\":\"light\"},\"paper_bgcolor\":\"white\",\"plot_bgcolor\":\"#E5ECF6\",\"polar\":{\"angularaxis\":{\"gridcolor\":\"white\",\"linecolor\":\"white\",\"ticks\":\"\"},\"bgcolor\":\"#E5ECF6\",\"radialaxis\":{\"gridcolor\":\"white\",\"linecolor\":\"white\",\"ticks\":\"\"}},\"scene\":{\"xaxis\":{\"backgroundcolor\":\"#E5ECF6\",\"gridcolor\":\"white\",\"gridwidth\":2,\"linecolor\":\"white\",\"showbackground\":true,\"ticks\":\"\",\"zerolinecolor\":\"white\"},\"yaxis\":{\"backgroundcolor\":\"#E5ECF6\",\"gridcolor\":\"white\",\"gridwidth\":2,\"linecolor\":\"white\",\"showbackground\":true,\"ticks\":\"\",\"zerolinecolor\":\"white\"},\"zaxis\":{\"backgroundcolor\":\"#E5ECF6\",\"gridcolor\":\"white\",\"gridwidth\":2,\"linecolor\":\"white\",\"showbackground\":true,\"ticks\":\"\",\"zerolinecolor\":\"white\"}},\"shapedefaults\":{\"line\":{\"color\":\"#2a3f5f\"}},\"ternary\":{\"aaxis\":{\"gridcolor\":\"white\",\"linecolor\":\"white\",\"ticks\":\"\"},\"baxis\":{\"gridcolor\":\"white\",\"linecolor\":\"white\",\"ticks\":\"\"},\"bgcolor\":\"#E5ECF6\",\"caxis\":{\"gridcolor\":\"white\",\"linecolor\":\"white\",\"ticks\":\"\"}},\"title\":{\"x\":0.05},\"xaxis\":{\"automargin\":true,\"gridcolor\":\"white\",\"linecolor\":\"white\",\"ticks\":\"\",\"title\":{\"standoff\":15},\"zerolinecolor\":\"white\",\"zerolinewidth\":2},\"yaxis\":{\"automargin\":true,\"gridcolor\":\"white\",\"linecolor\":\"white\",\"ticks\":\"\",\"title\":{\"standoff\":15},\"zerolinecolor\":\"white\",\"zerolinewidth\":2}}},\"width\":800},                        {\"responsive\": true}                    ).then(function(){\n",
       "                            \n",
       "var gd = document.getElementById('e93386ce-d7d2-4164-98f8-75052f9988d9');\n",
       "var x = new MutationObserver(function (mutations, observer) {{\n",
       "        var display = window.getComputedStyle(gd).display;\n",
       "        if (!display || display === 'none') {{\n",
       "            console.log([gd, 'removed!']);\n",
       "            Plotly.purge(gd);\n",
       "            observer.disconnect();\n",
       "        }}\n",
       "}});\n",
       "\n",
       "// Listen for the removal of the full notebook cells\n",
       "var notebookContainer = gd.closest('#notebook-container');\n",
       "if (notebookContainer) {{\n",
       "    x.observe(notebookContainer, {childList: true});\n",
       "}}\n",
       "\n",
       "// Listen for the clearing of the current output cell\n",
       "var outputEl = gd.closest('.output');\n",
       "if (outputEl) {{\n",
       "    x.observe(outputEl, {childList: true});\n",
       "}}\n",
       "\n",
       "                        })                };                });            </script>        </div>"
      ]
     },
     "metadata": {},
     "output_type": "display_data"
    }
   ],
   "source": [
    "# Creating a 3D-Scatter with the PCA data and the clusters\n",
    "fig = px.scatter_3d(clustered_df, x=\"PC 1\", y=\"PC 2\", z=\"PC 3\", hover_data=[\"Algorithm\"], hover_name=\"CoinName\", color=\"class\", symbol=\"class\",width=800)\n",
    "fig.update_layout(legend=dict(x=0,y=1))\n",
    "fig.show()\n"
   ]
  },
  {
   "cell_type": "code",
   "execution_count": 155,
   "metadata": {},
   "outputs": [
    {
     "data": {},
     "metadata": {},
     "output_type": "display_data"
    },
    {
     "data": {
      "application/vnd.holoviews_exec.v0+json": "",
      "text/html": [
       "<div id='1120'>\n",
       "\n",
       "\n",
       "\n",
       "\n",
       "\n",
       "  <div class=\"bk-root\" id=\"af68ce4d-a5df-4c62-981c-ba371217db72\" data-root-id=\"1120\"></div>\n",
       "</div>\n",
       "<script type=\"application/javascript\">(function(root) {\n",
       "  function embed_document(root) {\n",
       "    var docs_json = {\"04b6189c-70ad-414f-8f81-c4660a233383\":{\"defs\":[{\"extends\":null,\"module\":null,\"name\":\"ReactiveHTML1\",\"overrides\":[],\"properties\":[]},{\"extends\":null,\"module\":null,\"name\":\"FlexBox1\",\"overrides\":[],\"properties\":[{\"default\":\"flex-start\",\"kind\":null,\"name\":\"align_content\"},{\"default\":\"flex-start\",\"kind\":null,\"name\":\"align_items\"},{\"default\":\"row\",\"kind\":null,\"name\":\"flex_direction\"},{\"default\":\"wrap\",\"kind\":null,\"name\":\"flex_wrap\"},{\"default\":\"flex-start\",\"kind\":null,\"name\":\"justify_content\"}]},{\"extends\":null,\"module\":null,\"name\":\"TemplateActions1\",\"overrides\":[],\"properties\":[{\"default\":0,\"kind\":null,\"name\":\"open_modal\"},{\"default\":0,\"kind\":null,\"name\":\"close_modal\"}]},{\"extends\":null,\"module\":null,\"name\":\"MaterialTemplateActions1\",\"overrides\":[],\"properties\":[{\"default\":0,\"kind\":null,\"name\":\"open_modal\"},{\"default\":0,\"kind\":null,\"name\":\"close_modal\"}]}],\"roots\":{\"references\":[{\"attributes\":{},\"id\":\"1149\",\"type\":\"NumberFormatter\"},{\"attributes\":{},\"id\":\"1135\",\"type\":\"StringEditor\"},{\"attributes\":{},\"id\":\"1129\",\"type\":\"StringFormatter\"},{\"attributes\":{},\"id\":\"1145\",\"type\":\"NumberEditor\"},{\"attributes\":{},\"id\":\"1139\",\"type\":\"StringFormatter\"},{\"attributes\":{\"margin\":[5,5,5,5],\"name\":\"HSpacer01800\",\"sizing_mode\":\"stretch_width\"},\"id\":\"1121\",\"type\":\"Spacer\"},{\"attributes\":{},\"id\":\"1125\",\"type\":\"StringEditor\"},{\"attributes\":{\"margin\":[5,5,5,5],\"name\":\"HSpacer01801\",\"sizing_mode\":\"stretch_width\"},\"id\":\"1161\",\"type\":\"Spacer\"},{\"attributes\":{\"editor\":{\"id\":\"1125\"},\"field\":\"CoinName\",\"formatter\":{\"id\":\"1124\"},\"title\":\"CoinName\"},\"id\":\"1126\",\"type\":\"TableColumn\"},{\"attributes\":{\"data\":{\"Algorithm\":[\"Scrypt\",\"Scrypt\",\"SHA-256\",\"X13\",\"SHA-256\",\"Ethash\",\"Scrypt\",\"X11\",\"CryptoNight-V7\",\"Ethash\",\"Equihash\",\"SHA-512\",\"Multiple\",\"SHA-256\",\"X11\",\"SHA-256\",\"Scrypt\",\"X15\",\"X11\",\"SHA-256\",\"X13\",\"X13\",\"Scrypt\",\"Scrypt\",\"Scrypt\",\"SHA-256\",\"Scrypt\",\"Multiple\",\"Scrypt\",\"SHA-256\",\"Scrypt\",\"Scrypt\",\"Scrypt\",\"Quark\",\"Groestl\",\"Scrypt\",\"X11\",\"Scrypt\",\"Scrypt\",\"Scrypt\",\"Scrypt\",\"Scrypt\",\"Scrypt\",\"Multiple\",\"Scrypt\",\"X11\",\"Scrypt\",\"SHA-256\",\"Groestl\",\"Multiple\",\"X11\",\"Scrypt\",\"SHA-256\",\"Scrypt\",\"Scrypt\",\"Scrypt\",\"Scrypt\",\"Scrypt\",\"PoS\",\"Scrypt\",\"X11\",\"NIST5\",\"SHA-256\",\"Scrypt\",\"Scrypt\",\"NeoScrypt\",\"Scrypt\",\"Scrypt\",\"Scrypt\",\"X11\",\"X15\",\"Scrypt\",\"Multiple\",\"X11\",\"Scrypt\",\"X11\",\"SHA-256\",\"X11\",\"X13\",\"Scrypt\",\"Scrypt\",\"Scrypt\",\"Scrypt\",\"X11\",\"SHA3\",\"Scrypt\",\"HybridScryptHash256\",\"Scrypt\",\"Scrypt\",\"SHA-256\",\"Scrypt\",\"X13\",\"SHA-256\",\"Scrypt\",\"SHA-256\",\"Scrypt\",\"X13\",\"NeoScrypt\",\"Scrypt\",\"Scrypt\",\"Scrypt\",\"Scrypt\",\"Scrypt\",\"Scrypt\",\"X15\",\"Scrypt\",\"Scrypt\",\"Scrypt-n\",\"Scrypt\",\"X11\",\"X11\",\"SHA-256\",\"Multiple\",\"SHA-256\",\"PHI1612\",\"X11\",\"SHA-256\",\"SHA-256\",\"SHA-256\",\"SHA-256\",\"X11\",\"Scrypt\",\"Scrypt\",\"X13\",\"Scrypt\",\"X11\",\"Scrypt\",\"Lyra2REv2\",\"Scrypt\",\"Scrypt\",\"X11\",\"Multiple\",\"SHA-256\",\"X13\",\"Scrypt\",\"Scrypt\",\"CryptoNight\",\"CryptoNight\",\"Shabal256\",\"Counterparty\",\"Scrypt\",\"SHA-256\",\"SHA-256\",\"Scrypt\",\"Groestl\",\"Scrypt\",\"Scrypt\",\"Scrypt\",\"X13\",\"Scrypt\",\"Scrypt\",\"Scrypt\",\"SHA-256\",\"Scrypt\",\"X13\",\"X13\",\"Scrypt\",\"X11\",\"Momentum\",\"Stanford Folding\",\"X11\",\"Multiple\",\"QuBit\",\"X15\",\"Scrypt\",\"Scrypt\",\"Scrypt\",\"Scrypt\",\"SHA-256\",\"M7 POW\",\"Scrypt\",\"X11\",\"Scrypt\",\"SHA-256\",\"Scrypt\",\"Scrypt\",\"X11\",\"X11\",\"SHA3\",\"X11\",\"Scrypt\",\"Lyra2RE\",\"SHA-256\",\"QUAIT\",\"X11\",\"vDPOS\",\"X11\",\"X11\",\"Scrypt\",\"Scrypt\",\"Scrypt\",\"Ethash\",\"X11\",\"X13\",\"Blake2b\",\"SHA-256\",\"X13\",\"X15\",\"X11\",\"SHA-256\",\"BLAKE256\",\"Scrypt\",\"Scrypt\",\"1GB AES Pattern Search\",\"SHA-256\",\"X11\",\"Scrypt\",\"CryptoNight\",\"SHA-256\",\"Quark\",\"SHA-256\",\"NIST5\",\"Blake\",\"Scrypt\",\"Scrypt\",\"SHA-256\",\"X11\",\"Scrypt\",\"Scrypt-n\",\"X11\",\"Scrypt\",\"Dagger\",\"Scrypt\",\"SHA-256\",\"CryptoNight-Lite\",\"X11GOST\",\"X11\",\"SHA-256\",\"Scrypt\",\"SHA-256\",\"Scrypt\",\"PoS\",\"Scrypt\",\"X11\",\"X11\",\"X11\",\"X11\",\"PoS\",\"SHA-256\",\"SHA-256\",\"SHA-256\",\"NIST5\",\"X15\",\"X11\",\"NIST5\",\"Scrypt\",\"Scrypt\",\"Scrypt\",\"POS 3.0\",\"Scrypt\",\"Scrypt\",\"Scrypt\",\"X13\",\"X11\",\"X11\",\"Equihash\",\"X11\",\"X11\",\"Scrypt\",\"CryptoNight\",\"SHA-256\",\"SHA-256\",\"X11\",\"Scrypt\",\"Multiple\",\"Scrypt\",\"Scrypt\",\"X11\",\"Scrypt\",\"SHA-256\",\"Scrypt\",\"Scrypt\",\"SHA-256D\",\"PoS\",\"Scrypt\",\"Scrypt\",\"X11\",\"Scrypt-n\",\"Lyra2Z\",\"SHA-256\",\"PoS\",\"X13\",\"Quark\",\"X14\",\"PoS\",\"SHA-256D\",\"Ethash\",\"SHA-256\",\"Equihash\",\"DPoS\",\"X11\",\"Scrypt\",\"Scrypt\",\"Equihash\",\"X11\",\"X13\",\"X11\",\"PoS\",\"SHA-256D\",\"Scrypt\",\"Scrypt\",\"Scrypt\",\"X11\",\"PoS\",\"X11\",\"SHA-256\",\"Scrypt\",\"X11\",\"Scrypt\",\"Scrypt\",\"X11\",\"CryptoNight\",\"Scrypt\",\"Scrypt\",\"Scrypt\",\"Scrypt\",\"Quark\",\"QuBit\",\"Scrypt\",\"CryptoNight\",\"X11\",\"Lyra2RE\",\"X13\",\"PoS\",\"Scrypt\",\"SHA-256\",\"X11\",\"X11\",\"X11\",\"Scrypt\",\"X11\",\"Scrypt\",\"Scrypt\",\"CryptoNight-V7\",\"Scrypt\",\"Scrypt\",\"Keccak\",\"Scrypt\",\"X13\",\"X11\",\"Equihash\",\"Scrypt\",\"Scrypt\",\"Lyra2RE\",\"Ethash\",\"X11\",\"Scrypt\",\"Dagger-Hashimoto\",\"X11\",\"Blake2S\",\"X11\",\"Scrypt\",\"Scrypt\",\"PoS\",\"X11\",\"NIST5\",\"PoS\",\"X11\",\"Scrypt\",\"Scrypt\",\"Scrypt\",\"Scrypt\",\"SHA-256\",\"X11\",\"Scrypt\",\"Scrypt\",\"Scrypt\",\"SHA-256\",\"PoS\",\"Scrypt\",\"X11\",\"X15\",\"SHA-256\",\"Scrypt\",\"POS 3.0\",\"CryptoNight-V7\",\"536\",\"Argon2d\",\"Blake2b\",\"Cloverhash\",\"CryptoNight\",\"NIST5\",\"X11\",\"NIST5\",\"Skein\",\"Scrypt\",\"X13\",\"Scrypt\",\"X11\",\"X11\",\"X11\",\"Scrypt\",\"CryptoNight\",\"X13\",\"Time Travel\",\"Scrypt\",\"Keccak\",\"SkunkHash v2 Raptor\",\"X11\",\"Skein\",\"SHA-256\",\"X11\",\"Scrypt\",\"Scrypt\",\"VeChainThor Authority\",\"Scrypt\",\"PoS\",\"Scrypt\",\"Scrypt\",\"Scrypt\",\"Scrypt\",\"Scrypt\",\"Scrypt\",\"Scrypt\",\"Scrypt\",\"CryptoNight\",\"SHA-512\",\"Ouroboros\",\"X11\",\"Equihash\",\"NeoScrypt\",\"X11\",\"Scrypt\",\"NeoScrypt\",\"Lyra2REv2\",\"Equihash\",\"Scrypt\",\"SHA-256\",\"NIST5\",\"PHI1612\",\"Dagger\",\"Scrypt\",\"Quark\",\"Scrypt\",\"POS 2.0\",\"Scrypt\",\"SkunkHash\",\"X11\",\"Quark\",\"SHA-256\",\"X11\",\"NeoScrypt\",\"Scrypt\",\"Ethash\",\"Scrypt\",\"NeoScrypt\",\"Quark\",\"X11\",\"DPoS\",\"NIST5\",\"X13\",\"Multiple\",\"Scrypt\",\"CryptoNight\",\"CryptoNight\",\"Ethash\",\"NIST5\",\"Quark\",\"X11\",\"SHA-256\",\"CryptoNight-V7\",\"Scrypt\",\"Scrypt\",\"Scrypt\",\"X11\",\"SHA-256\",\"BLAKE256\",\"X11\",\"Scrypt\",\"NeoScrypt\",\"Quark\",\"NeoScrypt\",\"Scrypt\",\"Scrypt\",\"Scrypt\",\"X11\",\"X11\",\"SHA-256\",\"C11\",\"Scrypt\",\"Scrypt\",\"POS 3.0\",\"Ethash\",\"Scrypt\",\"CryptoNight\",\"SkunkHash\",\"Scrypt\",\"CryptoNight\",\"Equihash\",\"Skein\",\"Scrypt\",\"Dagger\",\"Lyra2REv2\",\"X13\",\"Proof-of-BibleHash\",\"SHA-256 + Hive\",\"Scrypt\",\"Scrypt\",\"Scrypt\",\"NeoScrypt\",\"Equihash\",\"X11\",\"C11\",\"Proof-of-Authority\",\"X11\",\"XEVAN\",\"Scrypt\",\"VBFT\",\"Ethash\",\"X11\",\"CryptoNight\",\"NeoScrypt\",\"Scrypt\",\"IMesh\",\"NIST5\",\"Equihash\",\"Scrypt\",\"Scrypt\",\"Equihash\",\"Equihash\",\"Scrypt\",\"Lyra2Z\",\"Equihash\",\"Green Protocol\",\"PoS\",\"Scrypt\",\"Scrypt\",\"Semux BFT consensus\",\"Scrypt\",\"X11\",\"Quark\",\"PoS\",\"CryptoNight\",\"X16R\",\"Scrypt\",\"NIST5\",\"Lyra2RE\",\"XEVAN\",\"Tribus\",\"Scrypt\",\"Lyra2Z\",\"CryptoNight\",\"CryptoNight Heavy\",\"CryptoNight\",\"Scrypt\",\"Scrypt\",\"Jump Consistent Hash\",\"SHA-256D\",\"CryptoNight\",\"Scrypt\",\"X15\",\"Scrypt\",\"Quark\",\"SHA-256\",\"DPoS\",\"X16R\",\"HMQ1725\",\"X11\",\"X16R\",\"Quark\",\"Quark\",\"Scrypt\",\"Zhash\",\"Lyra2REv2\",\"Quark\",\"Scrypt\",\"Scrypt\",\"CryptoNight-V7\",\"Cryptonight-GPU\",\"Scrypt\",\"XEVAN\",\"CryptoNight Heavy\",\"X11\",\"X11\",\"Scrypt\",\"PoS\",\"Lyra2REv2\",\"Scrypt\",\"SHA-256\",\"Scrypt\",\"Keccak\",\"X11\",\"X11\",\"Quark\",\"Scrypt\",\"SHA-512\",\"X16R\",\"ECC 256K1\",\"NeoScrypt\",\"Equihash\",\"XEVAN\",\"Quark\",\"CryptoNight Heavy X\",\"Lyra2Z\",\"Ethash\",\"SHA-256\",\"XEVAN\",\"Ethash\",\"X11\",\"CryptoNight\",\"Quark\",\"SkunkHash\",\"Quark\",\"Argon2\",\"Blake\",\"Blake\",\"SHA-256\",\"Equihash\",\"Exosis\",\"Scrypt\",\"Scrypt\",\"Equihash\",\"Quark\",\"Equihash\",\"Quark\",\"Scrypt\",\"QuBit\",\"X11\",\"Scrypt\",\"Equihash1927\",\"XEVAN\",\"SHA-256D\",\"X11\",\"SHA-256\",\"SHA-256\",\"X13\",\"SHA-256\",\"X11\",\"DPoS\",\"X11\",\"Scrypt\",\"X11\",\"Scrypt\",\"X11\",\"NeoScrypt\",\"QuBit\",\"Scrypt\",\"Blake\",\"Scrypt\",\"SHA-256\",\"Scrypt\",\"X11\",\"CryptoNight\",\"Scrypt\",\"Scrypt\",\"SHA-256\",\"X11\",\"SHA-256\",\"Scrypt\",\"CryptoNight\",\"Scrypt\",\"SHA-256\",\"Scrypt\",\"Groestl\",\"X11\",\"Scrypt\",\"PoS\",\"Scrypt\",\"Scrypt\",\"X11\",\"SHA-256\",\"DPoS\",\"Scrypt\",\"Scrypt\",\"Scrypt\",\"NeoScrypt\",\"Scrypt\",\"SHA3-256\",\"Multiple\",\"X13\",\"Equihash+Scrypt\",\"DPoS\",\"Ethash\",\"DPoS\",\"Ethash\",\"SHA-256\",\"Leased POS\",\"PoS\",\"TRC10\",\"PoS\",\"SHA-256\",\"Scrypt\",\"CryptoNight\",\"Equihash\",\"Scrypt\"],\"CoinName\":[\"42 Coin\",\"404Coin\",\"808\",\"EliteCoin\",\"Bitcoin\",\"Ethereum\",\"Litecoin\",\"Dash\",\"Monero\",\"Ethereum Classic\",\"ZCash\",\"Bitshares\",\"DigiByte\",\"BitcoinDark\",\"Bitstake\",\"PayCoin\",\"ProsperCoin\",\"KoboCoin\",\"Spreadcoin\",\"ACoin\",\"Aero Coin\",\"ApexCoin\",\"ArchCoin\",\"Argentum\",\"Aurora Coin\",\"BetaCoin\",\"BlueCoin\",\"MyriadCoin\",\"MoonCoin\",\"ZetaCoin\",\"SexCoin\",\"Quatloo\",\"EnergyCoin\",\"QuarkCoin\",\"Riecoin\",\"Digitalcoin \",\"LimeCoinX\",\"BitBar\",\"BitMark\",\"CashCoin\",\"Catcoin\",\"CryptoBullion\",\"CannaCoin\",\"CinderCoin\",\"CoolCoin\",\"CryptCoin\",\"CasinoCoin\",\"eMark\",\"Diamond\",\"Verge\",\"DarkCash\",\"DarkShibe\",\"DevCoin\",\"EarthCoin\",\"E-Gulden\",\"Elacoin\",\"Einsteinium\",\"Emerald\",\"Exclusive Coin\",\"Flappy Coin\",\"Fuel2Coin\",\"FIBRE\",\"FireRoosterCoin\",\"FlutterCoin\",\"Franko\",\"FeatherCoin\",\"GrandCoin\",\"GlobalCoin\",\"GoldCoin\",\"GlyphCoin\",\"Halcyon\",\"HoboNickels\",\"HunterCoin\",\"HyperStake\",\"Infinite Coin\",\"IOCoin\",\"IXcoin\",\"JumBucks Coin\",\"JudgeCoin\",\"KrugerCoin\",\"LuckyCoin\",\"Litebar \",\"LitecoinDark\",\"LibrexCoin\",\"MaxCoin\",\"MegaCoin\",\"MediterraneanCoin\",\"MintCoin\",\"MinCoin\",\"MazaCoin\",\"Nautilus Coin\",\"NavCoin\",\"NoirBits\",\"NobleCoin\",\"Namecoin\",\"NyanCoin\",\"OpalCoin\",\"Orbitcoin\",\"PotCoin\",\"PhoenixCoin\",\"Reddcoin\",\"RipOffCoin\",\"RonPaulCoin\",\"StableCoin\",\"ShieldCoin\",\"SilkCoin\",\"SmartCoin\",\"SpainCoin\",\"SecureCoin\",\"SuperCoin\",\"SyncCoin\",\"SysCoin\",\"TeslaCoin\",\"TigerCoin\",\"TittieCoin\",\"TorCoin\",\"TerraCoin\",\"Umbrella\",\"UnbreakableCoin\",\"Unobtanium\",\"UroCoin\",\"UnitaryStatus Dollar\",\"UltraCoin\",\"Utility Coin\",\"ViaCoin\",\"VootCoin\",\"VeriCoin\",\"Vertcoin\",\"WorldCoin\",\"SocialXbotCoin\",\"X11 Coin\",\"Crypti\",\"JouleCoin\",\"StealthCoin\",\"XXXCoin\",\"ZCC Coin\",\"ByteCoin\",\"DigitalNote \",\"BurstCoin\",\"StorjCoin\",\"MonaCoin\",\"Neutron\",\"Sling Coin\",\"KryptCoin\",\"FairCoin\",\"Gulden\",\"RubyCoin\",\"PesetaCoin\",\"Kore\",\"Wild Beast Coin\",\"Dnotes\",\"Flo\",\"MaieutiCoin\",\"8BIT Coin\",\"Sativa Coin\",\"AeroMe\",\"ArtByte\",\"MasterTraderCoin\",\"BitCredit\",\"Folding Coin\",\"Ucoin\",\"Unitus\",\"CypherPunkCoin\",\"MaryJane Coin\",\"OmniCron\",\"CyberCoin\",\"Vtorrent\",\"GreenCoin\",\"Unattanium\",\"Cryptonite\",\"Gridmaster\",\"ConSpiracy Coin \",\"MasterCoin\",\"SoonCoin\",\"1Credit\",\"ViorCoin\",\"IslaCoin\",\"Quicksilver coin\",\"Nexus\",\"MarsCoin \",\"Singular\",\"Crypto\",\"Anarchists Prime\",\"Droidz\",\"BowsCoin\",\"CryptoCircuits\",\"Squall Coin\",\"Milllionaire Coin\",\"Song Coin\",\"BitZeny\",\"Diggits\",\"Expanse\",\"MapCoin\",\"Paycon\",\"Siacoin\",\"Emercoin\",\"BlitzCoin\",\"EverGreenCoin\",\"MindCoin\",\"I0coin\",\"Decred\",\"DogeCoinDark\",\"Revolution VR\",\"HOdlcoin\",\"EDRCoin\",\"Hitcoin\",\"Gamecredits\",\"Dashcoin\",\"DubaiCoin\",\"BiosCrypto\",\"CarpeDiemCoin\",\"PWR Coin\",\"TrumpCoin\",\"BillaryCoin\",\"EthereumScrypt\",\"Phalanx\",\"SunShotCoin\",\"GPU Coin\",\"HempCoin\",\"Adzcoin\",\"VirtaCoin\",\"SoilCoin\",\"YoCoin\",\"Universal Currency\",\"AEON\",\"SibCoin\",\"EuropeCoin\",\"Anti Bitcoin\",\"ZeitCoin\",\"SwingCoin\",\"SafeExchangeCoin\",\"Nebuchadnezzar\",\"Francs\",\"BolivarCoin\",\"GIZMOcoin\",\"SecretCoin\",\"Ratecoin\",\"Digital Bullion Gold\",\"Revenu\",\"Clinton\",\"Clockcoin\",\"VIP Tokens\",\"OrlyCoin\",\"BitSend\",\"16BitCoin\",\"ChessCoin\",\"ReeCoin\",\"Omni\",\"Let it Ride\",\"PutinCoin\",\"iBankCoin\",\"Frankywillcoin\",\"MudraCoin\",\"PizzaCoin\",\"Lutetium Coin\",\"Komodo\",\"GoldBlocks\",\"WayCoin\",\"CarterCoin\",\"Karbo\",\"BitTokens\",\"ZayedCoin\",\"MustangCoin\",\"ZoneCoin\",\"Circuits of Value\",\"RootCoin\",\"DopeCoin\",\"PROUD Money\",\"BitCurrency\",\"DollarCoin\",\"Swiscoin\",\"Shilling\",\"BuzzCoin\",\"Opair\",\"PesoBit\",\"GBR Coin\",\"Halloween Coin\",\"FujiCoin\",\"ZCoin\",\"LeaCoin\",\"CoffeeCoin\",\"RoyalCoin\",\"Zurcoin\",\"GanjaCoin V2\",\"TeamUP\",\"LanaCoin\",\"Elementrem\",\"CashOut\",\"ZClassic\",\"ARK\",\"InsaneCoin\",\"LuckChain\",\"KiloCoin\",\"Hush\",\"ArtexCoin\",\"EmberCoin\",\"XenixCoin\",\"FreeCoin\",\"NPCcoin\",\"PLNCoin\",\"Icobid\",\"AquariusCoin\",\"Kurrent\",\"Creatio\",\"Eternity\",\"Eurocoin\",\"BitcoinFast\",\"Stakenet\",\"BitConnect Coin\",\"MoneyCoin\",\"Enigma\",\"Cannabis Industry Coin\",\"Russiacoin\",\"PandaCoin\",\"GameUnits\",\"GAKHcoin\",\"Allsafe\",\"LiteCreed\",\"OsmiumCoin\",\"Bikercoins\",\"NeptuneClassic\",\"HexxCoin\",\"GoldenBird\",\"Ride My Car\",\"Klingon Empire Darsek\",\"Internet of People\",\"KushCoin\",\"Eryllium\",\"MarxCoin\",\"Printerium\",\"PacCoin\",\"Impeach\",\"Solarflarecoin\",\"Citadel\",\"Zilbercoin\",\"FirstCoin\",\"CreativeChain\",\"BeaverCoin\",\"FindCoin\",\"VaultCoin\",\"Zero\",\"OpenChat\",\"Canada eCoin\",\"Zoin\",\"Musicoin\",\"BnrtxCoin\",\"RenosCoin\",\"DubaiCoin\",\"VirtacoinPlus\",\"TajCoin\",\"Impact\",\"EB3coin\",\"Universe\",\"Atmos\",\"HappyCoin\",\"Coinonat\",\"MacronCoin\",\"Condensate\",\"Independent Money System\",\"ArgusCoin\",\"LomoCoin\",\"Bitcoin Scrypt\",\"ProCurrency\",\"GoldReserve\",\"BenjiRolls\",\"ParallelCoin\",\"GrowthCoin\",\"ILCoin\",\"Phreak\",\"Degas Coin\",\"ZSEcoin\",\"HTML5 Coin\",\"Ultimate Secure Cash\",\"EquiTrader\",\"QTUM\",\"Quantum Resistant Ledger\",\"Espers\",\"Dynamic\",\"Nano\",\"ChanCoin\",\"Dinastycoin\",\"Denarius\",\"DigitalPrice\",\"Virta Unique Coin\",\"Bitcoin Planet\",\"Unify\",\"BritCoin\",\"SocialCoin\",\"Octanox\",\"ArcticCoin\",\"DAS\",\"Linda\",\"LeviarCoin\",\"DeepOnion\",\"Bitcore\",\"gCn Coin\",\"SmartCash\",\"Signatum\",\"Onix\",\"Cream\",\"Bitcoin Cash\",\"Monoeci\",\"CampusCoin\",\"Draftcoin\",\"Vechain\",\"Sojourn Coin\",\"Stakecoin\",\"NewYorkCoin\",\"LiteBitcoin\",\"FrazCoin\",\"Kronecoin\",\"AdCoin\",\"Linx\",\"CoinonatX\",\"Ethereum Dark\",\"Sumokoin\",\"Obsidian\",\"Cardano\",\"Regalcoin\",\"BitcoinZ\",\"TrezarCoin\",\"Elements\",\"TerraNovaCoin\",\"VIVO Coin\",\"Rupee\",\"Bitcoin Gold\",\"WomenCoin\",\"Theresa May Coin\",\"NamoCoin\",\"LUXCoin\",\"Pirl\",\"Xios\",\"Bitcloud 2.0\",\"eBoost\",\"KekCoin\",\"BlackholeCoin\",\"AltCommunity Coin\",\"Pure\",\"Rupaya\",\"Infinity Economics\",\"Pura\",\"Innova\",\"Bitdeal\",\"Ellaism\",\"Sakuracoin\",\"GoByte\",\"Castle\",\"Magnet\",\"Lamden Tau\",\"Electra\",\"Bitcoin Diamond\",\"SHIELD\",\"Cash & Back Coin\",\"UltraNote\",\"BitCoal\",\"DaxxCoin\",\"Bulwark\",\"Kalkulus\",\"AC3\",\"CHIPS\",\"Lethean\",\"GermanCoin\",\"LiteCoin Ultra\",\"PopularCoin\",\"PhantomX\",\"HTML Coin\",\"Photon\",\"Sucre\",\"Fantasy Cash\",\"SparksPay\",\"Digiwage\",\"GunCoin\",\"IrishCoin\",\"Trollcoin\",\"Litecoin Plus\",\"Monkey Project\",\"Pioneer Coin\",\"UnitedBitcoin\",\"Interzone\",\"OP Coin\",\"Valorbit\",\"TokenPay\",\"1717 Masonic Commemorative Token\",\"My Big Coin\",\"TurtleCoin\",\"MUNcoin\",\"Unified Society USDEX\",\"Niobio Cash\",\"Bitcoin Private\",\"Skeincoin\",\"ShareChain\",\"Travelflex\",\"KREDS\",\"Tokyo Coin\",\"BiblePay\",\"LitecoinCash\",\"BitFlip\",\"LottoCoin\",\"LeafCoin\",\"Cerberus\",\"Bitcoin Hush\",\"Crypto Improvement Fund\",\"Stipend\",\"Poa Network\",\"Pushi\",\"Ellerium\",\"Velox\",\"Ontology\",\"Callisto Network\",\"Curium\",\"BitTube\",\"Dinero\",\"Poseidon\",\"Aidos Kuneen\",\"Bitspace\",\"Snowgem\",\"Briacoin\",\"Ignition\",\"Bitrolium\",\"Bitcoin Interest\",\"MedicCoin\",\"Alpenschillling\",\"Zelcash\",\"Bitcoin Green\",\"Deviant Coin\",\"Abjcoin\",\"Profit Hunters Coin\",\"Semux\",\"BitBlocks\",\"FuturoCoin\",\"Carebit\",\"Zealium\",\"Monero Classic\",\"Proton\",\"iDealCash\",\"Jumpcoin\",\"Infinex\",\"Bitcoin Incognito\",\"KEYCO\",\"HollyWoodCoin\",\"GINcoin\",\"PlatinCoin\",\"Loki\",\"Newton Coin\",\"Swisscoin\",\"Xt3ch\",\"MassGrid\",\"TheVig\",\"PluraCoin\",\"EmaratCoin\",\"Dekado\",\"Lynx\",\"Poseidon Quark\",\"BitcoinWSpectrum\",\"Muse\",\"Motion\",\"PlusOneCoin\",\"Axe\",\"Trivechain\",\"Dystem\",\"Giant\",\"Peony Coin\",\"SafeCoin\",\"Absolute Coin\",\"Vitae\",\"HexCoin\",\"TPCash\",\"Webchain\",\"Ryo\",\"MUSDcoin\",\"Urals Coin\",\"Qwertycoin\",\"ARENON\",\"EUNO\",\"MMOCoin\",\"Ketan\",\"NIX\",\"Safe Trade Coin\",\"Project Pai\",\"Mont Blanc\",\"XDNA\",\"PAXEX\",\"Azart\",\"Apollon\",\"ThunderStake\",\"Kcash\",\"Xchange\",\"Acute Angle Cloud\",\"Traid\",\"CrypticCoin\",\"Bettex coin\",\"ZestCoin\",\"X-CASH\",\"Actinium\",\"ETHER-1\",\"Bitcoin SV\",\"BitMoney\",\"Bitcoiin2Gen\",\"Junson Ming Chan Coin\",\"FREDEnergy\",\"Zenad\",\"C25 Coin\",\"HerbCoin\",\"Aquachain\",\"Universal Molecule\",\"Lithium\",\"Smart Bitcoin\",\"PirateCash\",\"Exosis\",\"Block-Logic\",\"Oduwa\",\"Beam\",\"Galilel\",\"Bithereum\",\"Crypto Sports\",\"Credit\",\"SLICE\",\"Dash Platinum\",\"Nasdacoin\",\"Vidulum\",\"Beetle Coin\",\"Titan Coin\",\"Award\",\"BlockStamp\",\"BLAST\",\"Bitcoin Rhodium\",\"GlobalToken\",\"Insane Coin\",\"ALAX\",\"The Freedom Coin\",\"LiteDoge\",\"Boolberry\",\"SolarCoin\",\"TruckCoin\",\"UFO Coin\",\"Ascension Coin\",\"OrangeCoin\",\"BlakeCoin\",\"BitstarCoin\",\"NeosCoin\",\"HyperCoin\",\"PinkCoin\",\"FantomCoin \",\"Crypto Escudo\",\"AudioCoin\",\"IncaKoin\",\"Piggy Coin\",\"Crown Coin\",\"Genstake\",\"Quazar Coin\",\"SmileyCoin\",\"ParkByte\",\"XiaoMiCoin\",\"Groestlcoin\",\"CapriCoin\",\" ClubCoin\",\"Radium\",\"Bata\",\"Pakcoin\",\"Creditbit \",\"OKCash\",\"Lisk\",\"HiCoin\",\"WhiteCoin\",\"Dotcoin\",\"FriendshipCoin\",\"The Hempcoin\",\"Fiii\",\"JoinCoin\",\"Triangles Coin\",\"Vollar\",\"EOS\",\"Reality Clash\",\"Oxycoin\",\"iOlite\",\"TigerCash\",\"Waves\",\"Particl\",\"BitTorrent\",\"Nxt\",\"ZEPHYR\",\"Gapcoin\",\"Beldex\",\"Horizen\",\"BitcoinPlus\"],\"ProofType\":[\"PoW/PoS\",\"PoW/PoS\",\"PoW/PoS\",\"PoW/PoS\",\"PoW\",\"PoW\",\"PoW\",\"PoW/PoS\",\"PoW\",\"PoW\",\"PoW\",\"PoS\",\"PoW\",\"PoW/PoS\",\"PoW/PoS\",\"PoS\",\"PoW\",\"PoW/PoS\",\"PoW\",\"PoW\",\"PoS\",\"PoW/PoS\",\"PoS\",\"PoW\",\"PoW/PoS\",\"PoW\",\"PoW/PoS\",\"PoW\",\"PoW\",\"PoW\",\"PoW\",\"PoW\",\"PoW/PoS\",\"PoW\",\"PoW\",\"PoW\",\"PoW\",\"PoW/PoS\",\"PoW\",\"PoW/PoS\",\"PoW\",\"PoW/PoS\",\"PoW\",\"PoW/PoS\",\"PoS\",\"PoW\",\"PoC\",\"PoW/PoS\",\"PoW/PoS\",\"PoW\",\"PoW/PoS\",\"PoW\",\"PoW\",\"PoW\",\"PoW\",\"PoW\",\"PoW\",\"PoW\",\"PoS\",\"PoW\",\"PoS\",\"PoW/PoS\",\"PoW\",\"PoS/PoW/PoT\",\"PoW\",\"PoW\",\"PoW\",\"PoW\",\"PoW\",\"PoW/PoS\",\"PoW/PoS\",\"PoW/PoS\",\"PoW\",\"PoS\",\"PoW\",\"PoW/PoS\",\"PoW\",\"PoW/PoS\",\"PoW/PoS\",\"PoW\",\"PoW\",\"PoW\",\"PoW\",\"PoW/PoS\",\"PoW/PoS\",\"PoW\",\"PoW\",\"PoS\",\"PoW\",\"PoW/PoS\",\"PoS\",\"PoW/PoS\",\"PoW\",\"PoW\",\"PoW\",\"PoW\",\"PoW/PoS\",\"PoW/PoS\",\"PoW/PoS\",\"PoW/PoS\",\"PoW/PoS\",\"PoW\",\"PoW\",\"PoW\",\"PoW/PoS\",\"PoW/PoS\",\"PoW\",\"PoW\",\"PoW\",\"PoS\",\"PoW/PoS\",\"PoW\",\"PoS\",\"PoW\",\"PoS\",\"PoW/PoS\",\"PoW\",\"PoW\",\"PoW\",\"PoW\",\"PoW\",\"PoW/PoS\",\"PoW/PoS\",\"PoW/PoS\",\"PoW\",\"PoW\",\"PoST\",\"PoW\",\"PoW\",\"PoW/PoS\",\"PoW/PoS\",\"PoS\",\"PoW\",\"PoW/PoS\",\"PoW/PoS\",\"PoW/PoS\",\"PoW\",\"PoW\",\"PoC\",\"PoS\",\"PoW\",\"PoW/PoS\",\"PoW\",\"PoS\",\"PoW/PoS\",\"PoW\",\"PoS\",\"PoW\",\"PoW/PoS\",\"PoW\",\"PoS\",\"PoW\",\"PoS\",\"PoW/PoS\",\"PoW/PoS\",\"PoW/PoS\",\"PoW\",\"PoW/PoS\",\"PoW\",\"PoW\",\"PoS\",\"PoW\",\"PoW\",\"PoW/PoS\",\"PoW\",\"PoW/PoS\",\"PoW/PoS\",\"PoW\",\"PoW\",\"PoW\",\"PoW\",\"PoW\",\"PoW\",\"PoW\",\"PoW\",\"PoW/PoS\",\"PoW/PoS\",\"PoW\",\"PoW/nPoS\",\"PoW\",\"PoW/PoS\",\"PoW\",\"PoW\",\"PoW/PoS\",\"PoW\",\"PoS\",\"PoS/PoW\",\"PoW/PoS\",\"PoW\",\"PoW\",\"PoS\",\"PoW\",\"PoS\",\"PoW/PoS\",\"PoW\",\"PoW/PoS\",\"PoS\",\"PoW/PoS\",\"PoW\",\"PoW\",\"PoW/PoS\",\"PoW\",\"PoW\",\"PoW\",\"PoW/PoS\",\"PoW/PoS\",\"PoW\",\"PoW\",\"PoW/PoS\",\"PoW/PoS\",\"PoW\",\"PoW/PoS\",\"PoS\",\"PoW/PoS\",\"PoW/PoS\",\"PoW\",\"PoW\",\"PoS\",\"PoW\",\"PoW\",\"PoW\",\"PoW\",\"PoW\",\"PoW/PoS\",\"PoW\",\"PoW\",\"PoW/PoS\",\"PoW\",\"PoS\",\"PoW/PoS\",\"PoC\",\"PoS\",\"PoW\",\"PoW\",\"PoW/PoS\",\"PoW/PoS\",\"PoW/PoS\",\"PoS\",\"PoW/PoS\",\"PoW\",\"PoW/PoS\",\"PoW/PoS\",\"PoW/PoS\",\"PoW/PoS\",\"PoW/PoS\",\"PoW/PoS\",\"PoW/PoS\",\"PoW\",\"PoS\",\"PoW/PoS\",\"PoW/PoS\",\"PoW/PoS\",\"PoS\",\"PoW\",\"PoS\",\"dPoW/PoW\",\"PoW/PoS\",\"PoS\",\"PoW/PoS\",\"PoW\",\"PoW/PoS\",\"PoW\",\"PoW/PoS\",\"PoW/PoS\",\"PoW\",\"PoW/PoS\",\"PoW\",\"PoW/PoS\",\"PoS\",\"PoW\",\"PoW/PoW\",\"PoW\",\"PoW/PoS\",\"PoS\",\"PoW/PoS\",\"PoW\",\"PoW/PoS\",\"PoW\",\"PoW\",\"PoW\",\"PoS\",\"PoS\",\"PoW\",\"PoW/PoS\",\"PoS\",\"PoW/PoS\",\"PoW\",\"PoW\",\"PoW\",\"DPoS\",\"PoW/PoS\",\"PoW/PoS\",\"PoW\",\"PoW\",\"PoW\",\"PoW/PoS\",\"PoW/PoS\",\"PoS\",\"PoW/PoS\",\"PoW/PoS\",\"PoW/PoS\",\"PoW/PoS\",\"PoW\",\"PoS\",\"PoW/PoS\",\"PoW/PoS\",\"PoW/PoS\",\"TPoS\",\"PoW/PoS\",\"PoW/PoS\",\"PoW/PoS\",\"PoW\",\"PoW/PoS\",\"PoS\",\"PoW/PoS\",\"PoW/PoS\",\"PoS\",\"PoW/PoS\",\"PoW\",\"PoW\",\"PoW/PoS\",\"PoW\",\"PoW/PoS\",\"PoS\",\"PoW/PoS\",\"PoW/PoS\",\"PoW/PoS\",\"PoW/PoS\",\"PoW\",\"PoW/PoS\",\"PoW\",\"PoW/PoS\",\"PoW\",\"PoW\",\"PoS\",\"PoW/PoS \",\"PoW\",\"PoW\",\"PoS\",\"PoW\",\"PoW\",\"PoW/PoS\",\"PoW\",\"PoW\",\"PoW\",\"PoW\",\"PoS\",\"PoW\",\"PoW/PoS\",\"PoW/PoS\",\"PoW/PoS\",\"PoW\",\"PoS\",\"PoS\",\"PoW/PoS\",\"PoW\",\"PoS\",\"PoW/PoS\",\"PoW/PoS\",\"PoW/PoS\",\"PoW/PoS\",\"PoW\",\"PoS\",\"PoW/PoS\",\"PoW\",\"PoW\",\"PoS\",\"PoW\",\"PoS\",\"PoW/PoS\",\"PoW/PoS\",\"PoW/PoS\",\"PoS\",\"PoW\",\"PoS\",\"PoW\",\"PoW/PoS\",\"PoW\",\"PoW\",\"PoW\",\"PoW\",\"PoW/PoS\",\"PoW\",\"PoW/PoS\",\"PoW/PoS\",\"PoW\",\"PoW/PoS\",\"PoW\",\"PoW/PoS\",\"PoW\",\"PoW\",\"PoW/PoS\",\"PoW\",\"PoW/PoS\",\"PoW\",\"PoW\",\"PoW\",\"PoS\",\"PoW\",\"PoW/PoS\",\"PoW\",\"PoW/PoS\",\"PoW\",\"PoS\",\"Proof of Authority\",\"PoW\",\"PoS\",\"PoW\",\"PoW\",\"PoW\",\"PoW\",\"PoW\",\"PoW\",\"PoW/PoS\",\"PoW/PoS\",\"PoW\",\"PoS\",\"PoS\",\"PoW/PoS\",\"PoW\",\"PoW/PoS\",\"PoW\",\"PoW/PoS\",\"PoW\",\"PoS\",\"PoW\",\"PoW/PoS\",\"PoW/PoS\",\"PoW/PoS\",\"PoW/PoS\",\"PoW\",\"PoW/PoS\",\"PoW/PoS\",\"PoW\",\"PoS\",\"PoW/PoS\",\"PoW/PoS\",\"PoW/PoS\",\"PoS\",\"PoS\",\"PoW\",\"PoW\",\"PoW\",\"PoW\",\"PoW\",\"PoW\",\"DPoS\",\"PoW/PoS\",\"DPoS\",\"PoW/PoS\",\"PoW/PoS\",\"PoW\",\"PoW/PoS\",\"PoW\",\"PoW\",\"PoW\",\"PoS\",\"PoS\",\"PoW\",\"PoW\",\"PoW\",\"PoW/PoS\",\"PoW/PoS\",\"PoW\",\"PoW/PoS\",\"PoW/PoS\",\"PoW\",\"PoW\",\"PoW/PoS\",\"PoW\",\"PoS\",\"PoW\",\"PoW\",\"PoW/PoS\",\"PoW/PoS\",\"PoS\",\"PoW\",\"PoW\",\"PoW\",\"PoW/PoS\",\"PoW/PoS\",\"PoS\",\"PoS\",\"PoW and PoS\",\"PoW\",\"PoW\",\"PoW/PoS\",\"PoW\",\"PoW\",\"PoW\",\"PoW\",\"PoW\",\"PoW\",\"PoS\",\"POBh\",\"PoW + Hive\",\"PoW\",\"PoW\",\"PoW\",\"PoW\",\"PoW\",\"PoW\",\"PoW/PoS\",\"PoA\",\"PoW/PoS\",\"PoW/PoS\",\"PoS\",\"PoS\",\"PoW\",\"PoW\",\"PoW\",\"PoW\",\"PoW\",\"PoW\",\"PoW/PoS\",\"PoW\",\"PoW/PoS\",\"PoW/PoS\",\"PoW\",\"PoW\",\"PoS\",\"PoW\",\"PoW/PoS\",\"PoS\",\"PoS\",\"PoW/PoS\",\"PoW/PoS\",\"DPoS\",\"PoW/PoS\",\"PoW\",\"PoW/PoS\",\"PoS\",\"PoW\",\"PoS\",\"PoW/PoS\",\"PoW\",\"PoW\",\"PoS/PoW\",\"PoW\",\"PoS\",\"PoW\",\"PoW\",\"PoW\",\"PoW\",\"PoW/PoS\",\"PoS\",\"PoW\",\"PoW/PoS\",\"PoW\",\"PoW/PoS\",\"PoS\",\"HPoW\",\"PoS\",\"PoS\",\"PoS\",\"PoW\",\"PoW\",\"PoW\",\"PoW/PoS\",\"PoS\",\"PoW/PoS\",\"PoS\",\"PoW/PoS\",\"PoW/PoS\",\"PoS\",\"PoW\",\"PoW/PoS\",\"PoW\",\"PoW\",\"PoW/PoS\",\"PoW\",\"PoW\",\"PoS\",\"PoW/PoS\",\"PoS\",\"PoS\",\"PoW\",\"PoS\",\"PoW\",\"PoS\",\"PoW/PoS\",\"PoS\",\"PoW\",\"PoW/PoS\",\"PoW/PoS\",\"Zero-Knowledge Proof\",\"PoW\",\"DPOS\",\"PoW/PoS\",\"PoW\",\"PoS\",\"PoW\",\"PoW\",\"PoW\",\"PoW\",\"PoW\",\"Pos\",\"PoW\",\"PoS\",\"PoW\",\"POS / MN\",\"PoW\",\"PoW/PoS\",\"PoW\",\"PoW\",\"PoW\",\"PoW\",\"PoS\",\"PoW\",\"PoW\",\"PoW/PoS\",\"PoW\",\"PoW/PoS\",\"PoW\",\"PoS\",\"PoW/PoS\",\"PoW\",\"PoS\",\"PoW/PoS\",\"PoW\",\"PoW/PoS\",\"PoW/PoS\",\"PoW/PoS\",\"PoW\",\"PoW\",\"PoW\",\"PoW\",\"PoW/PoS\",\"DPoS\",\"PoS\",\"PoW/PoS\",\"PoW\",\"PoW\",\"PoW/PoS\",\"PoW\",\"PoW/PoS\",\"PoW/PoS\",\"PoW\",\"PoW/PoS\",\"PoS\",\"PoW/PoS\",\"PoW/PoS\",\"PoW\",\"PoW\",\"PoW/PoS\",\"PoW/PoS\",\"PoW/PoS\",\"PoW\",\"PoW/PoS\",\"PoW\",\"PoW\",\"PoW/PoS\",\"PoW/PoS\",\"PoW\",\"PoW/PoS\",\"PoW/PoS\",\"PoS\",\"PoW\",\"PoW\",\"Proof of Trust\",\"PoW/PoS\",\"DPoS\",\"PoS\",\"PoW/PoS\",\"PoW\",\"PoW/PoS\",\"PoW/PoS\",\"DPoC\",\"PoW\",\"PoW/PoS\",\"PoW\",\"DPoS\",\"PoW\",\"DPoS\",\"PoW\",\"PoS\",\"LPoS\",\"PoS\",\"DPoS\",\"PoS/LPoS\",\"DPoS\",\"PoW/PoS\",\"PoW\",\"PoW\",\"PoS\"],\"TotalCoinSupply\":[\"42\",\"532000000\",\"0\",\"314159265359\",\"21000000\",\"0\",\"84000000\",\"22000000\",\"0\",\"210000000\",\"21000000\",\"3600570502\",\"21000000000\",\"22000000\",\"1300000\",\"12500000\",\"21000000\",\"350000000\",\"20000000\",\"1600000\",\"7000000\",\"6000000\",\"16403135\",\"64000000\",\"16768584\",\"32000000\",\"0\",\"2000000000\",\"384000000000\",\"169795588\",\"250000000\",\"100000000\",\"0\",\"247000000\",\"84000000\",\"48166000\",\"21000000 \",\"500000\",\"27580000\",\"47433600\",\"21000000 \",\"1000000\",\"13140000\",\"114000000\",\"100000000\",\"18000000\",\"40000000000\",\"0\",\"4380000\",\"16555000000\",\"3720000\",\"2043962\",\"21000000000\",\"13500000000\",\"21000000 \",\"75000000\",\"299792458\",\"32000000\",\"0\",\"100000000000\",\"100000000\",\"624000\",\"2602410\",\"0\",\"11235813\",\"336000000\",\"1420609614\",\"70000000\",\"72245700\",\"7000000\",\"0\",\"120000000\",\"42000000\",\"0\",\"90600000000\",\"22000000\",\"21000000\",\"3293010\",\"21600000\",\"265420800\",\"20000000\",\"1350000\",\"82003200\",\"1000000\",\"100000000\",\"42000000\",\"200000000\",\"0\",\"10000000\",\"2419200000\",\"16180000\",\"0\",\"50000000\",\"15000000000\",\"21000000\",\"337000000\",\"0\",\"3770000\",\"420000000\",\"98000000\",\"0\",\"12000000\",\"21000000\",\"250000000\",\"1000000\",\"1000000\",\"51200000\",\"50000000\",\"21000000\",\"0\",\"1000\",\"888000000\",\"100000000\",\"47011968\",\"2300000000\",\"10000000\",\"42000000\",\"2625000\",\"80000000\",\"250000\",\"0\",\"1600000000\",\"100000000\",\"0\",\"23000000\",\"0\",\"0\",\"84000000\",\"265420800\",\"2000000\",\"5500000\",\"0\",\"45000000\",\"0\",\"50000000\",\"1000000000\",\"184467440735\",\"10000000000\",\"2158812800\",\"500000000\",\"105120000\",\"68000000\",\"1000000\",\"17000000\",\"0\",\"1680000000\",\"0\",\"166386000\",\"12000000\",\"2628000\",\"500000000\",\"160000000\",\"2014\",\"0\",\"10000000\",\"12000000\",\"1000000000\",\"10110000\",\"210000000\",\"1000000000\",\"20000000\",\"0\",\"0\",\"0\",\"3371337\",\"0\",\"20000000\",\"10000000000\",\"0\",\"1840000000\",\"84000000\",\"33000000\",\"619478\",\"21000000\",\"92000000000\",\"0\",\"0\",\"33000000\",\"78000000\",\"33000000\",\"0\",\"65789100\",\"53760000\",\"5060000\",\"21000000\",\"0\",\"0\",\"0\",\"210240000\",\"250000000\",\"100000000\",\"16906397\",\"2228921.184\",\"50000000\",\"0\",\"1000000000\",\"3852156\",\"26298000\",\"16000000\",\"21000000\",\"21000000\",\"16500000000\",\"210000000\",\"81962100\",\"22000000\",\"26550000000\",\"84000000\",\"18446744\",\"10500000\",\"20190463.54969237\",\"21626280000 \",\"0\",\"12000000\",\"42000000\",\"4200000\",\"15000000\",\"2250000000\",\"221052632\",\"5000000000\",\"84000000\",\"21000000000\",\"30000000\",\"168351300\",\"210000000\",\"18400000\",\"24000000\",\"384000000\",\"42000000\",\" 99000000000\",\"40000000\",\"2147483647\",\"20000000\",\"20000000\",\"25000000\",\"100000\",\"21000000\",\"75000000\",\"15000000\",\"222725000\",\"2421227\",\"525000000\",\"90000000\",\"36000000\",\"139000000\",\"16000000\",\"74666667\",\"350000000\",\"616448\",\"33500000\",\"2000000000\",\"44333333\",\"100000000\",\"200000000\",\"25000000\",\"657000000\",\"200000000\",\"50000000\",\"100000000\",\"90000000\",\"10000000\",\"21000000\",\"9736000\",\"3000000\",\"21000000\",\"1200000000\",\"0\",\"200000000\",\"10000000000\",\"0\",\"10638298\",\"3100000000\",\"30000000\",\"20000000000\",\"74000000\",\"0\",\"87500000\",\"1500000000\",\"10000000\",\"21400000\",\"2000000000\",\"39999898\",\"2500124\",\"126000000\",\"100000000\",\"301000000\",\"7506000000\",\"26205539\",\"100000000\",\"21000000\",\"125000000\",\"30000000\",\"1000000000\",\"10000000000\",\"21000000\",\"500000000\",\"850000000\",\"3853326.77707314\",\"50000000\",\"7000000000\",\"38540000 \",\"200000000 \",\"42000000\",\"228000000\",\"20000000\",\"60000000\",\"20000000\",\"33000000\",\"76500000\",\"28000000\",\"650659833\",\"5000000\",\"21000000\",\"144000000\",\"32514916898\",\"13000000\",\"3315789\",\"15000000\",\"78835200\",\"2714286\",\"25000000\",\"250000000\",\"9999999\",\"450000000\",\"100000000\",\"500000000\",\"21000000\",\"9354000\",\"100000000\",\"100640000\",\"20000000\",\"100000000000\",\"21933333\",\"20000000\",\"185000000\",\"55000000\",\"110000000\",\"115000000\",\"3360000\",\"14524851.4827\",\"1000000000\",\"17000000\",\"1000000000\",\"100000000 \",\"21000000\",\"454898394\",\"210000000\",\"34426423\",\"2232901\",\"100000000\",\"36900000\",\"110000000\",\"4000000000\",\"112000000\",\"110290030\",\"100000000\",\"48252000\",\"400000000\",\"500000000\",\"21212121\",\"28600000\",\"1000000000\",\"21000000\",\"75000000000\",\"40000000\",\"35520400\",\"1000000\",\"2000000000\",\"2500000000\",\"30000000\",\"105000000\",\"2093500000\",\"90000000000\",\"200084200\",\"72000000\",\"100000000\",\"105000000\",\"50000000000\",\"0\",\"340282367\",\"30000000\",\"2000000000\",\"10000000\",\"100000000\",\"120000000\",\"100000000\",\"19276800\",\"30000000\",\" 75000000\",\"7905634\",\"60000000\",\"18900000\",\"50000000000\",\"54000000\",\"18898187.6216583\",\"21000000\",\"200000000000\",\"5000000000\",\"137500000\",\"1100000000\",\"100000000\",\"21000000\",\"9507271\",\"1010000000\",\"17405891.19707116\",\"86712634466\",\"10500000000\",\"61599965\",\"0\",\"1000000000\",\"20000000\",\"84000000\",\"100000000\",\"100000000\",\"48252000\",\"4200000\",\"88888888\",\"91388946\",\"45000000000\",\"27000000\",\"21000000000\",\"400000000\",\"1800000000\",\"15733333\",\"27000000\",\"24000000\",\"21000000\",\"25000000000\",\"100000000\",\"1200000000\",\"60000000\",\"156306732.71\",\"21000000\",\"200000000\",\"100000000\",\"21000000\",\"14788275.991\",\"5000000\",\"3686860\",\"75000000\",\"9000000000\",\"350000000\",\"45000000\",\"300000000\",\"280000000\",\"105100000\",\"31800000\",\"50000000 \",\"144000000\",\"500000000\",\"30000000000\",\"210000000\",\"660000000\",\"210000000\",\"85000000000\",\"12500000\",\"10000000000\",\"27716121\",\"20000000\",\"550000000\",\"21000000\",\"999481516\",\"50000000000\",\"150000000\",\"4999999999\",\"50000000\",\"90000000000\",\" 90000000000\",\"19800000\",\"4600000\",\"21000000\",\"120000000\",\"500000000\",\"64000000\",\"900000000\",\"4000000\",\"21000000\",\"23000000\",\"20166000\",\"23000000\",\"2000000000\",\"92233720000000000\",\"25000000\",\"1618033\",\"30000000\",\"1000000000000\",\"16600000\",\"232000000\",\"336000000\",\"21000000\",\"17000000\",\"10000000000\",\"100000000\",\"1100000000\",\"800000000\",\"5200000000\",\"840000000\",\"40000000\",\"18406979840\",\"21000000000\",\"31500000\",\"21000000\",\"500000000\",\"19340594\",\"252460800\",\"25000000\",\"60000000\",\"124000000\",\"1000000000\",\"6500000000\",\"22000000\",\"1000000000\",\"100000000\",\"21000000\",\"25000000\",\"50000000\",\"84096000\",\"3000000\",\"5000000\",\"70000000\",\"22300000\",\"500000000\",\"300000000\",\"210000000\",\"21000000\",\"88000000\",\"30000000\",\"100000000\",\"100000000\",\"500000000\",\"100000000\",\"200000000\",\"80000000\",\"18400000\",\"45000000\",\"5121951220\",\"21000000\",\"26280000\",\"21000000\",\"18000000\",\"26000000\",\"10500000\",\"600000518\",\"150000000\",\"184000000000\",\"10200000000\",\"44000000\",\"168000000\",\"100000000\",\"1000000000\",\"84000000\",\"90000000\",\"92000000000\",\"650000000 \",\"100262205\",\"18081806 \",\"22075700\",\"21000000\",\"21000000\",\"82546564\",\"21000000\",\"5151000\",\"16880000000\",\"36000000\",\"52500000\",\"100000000\",\"22105263\",\"1000000000\",\"1750000000\",\"88188888\",\"100000000\",\"210000000\",\"184470000000\",\"55000000\",\"50000000\",\"260000000\",\"210000000\",\"175000000\",\"840000000\",\"2100000000\",\"70000000\",\"366000000\",\"100000000\",\"25000000\",\"250000000\",\"18000000000\",\"1000000000\",\"100000000\",\"1000000000\",\"252000000\",\"7600000000\",\"50000000\",\"29300000\",\"100000000000\",\"84000000\",\"13666237\",\"21000000\",\"70000000000\",\"100000000\",\"0\",\"8080000000\",\"46000000\",\"6100000\",\"54000000\",\"42000000\",\"105120001.44\",\"25228800\",\"20999764\",\"105000000\",\"21000000\",\"120000000\",\"21000000\",\"262800000\",\"19035999\",\"30886000\",\"13370000\",\"74800000000\",\"100000000\",\"19700000\",\"84000000\",\"100000000\",\"500000000\",\"5000000000\",\"420000000\",\"105000000\",\"64000000\",\"2100000\",\"168000000\",\"30000000\",\"1000000000\",\"25000000\",\"35000000000\",\"18450000\",\"98100000000\",\"0\",\"4000000000\",\"0\",\"200000000\",\"7000000000\",\"54256119\",\"21000000\",\"0\",\"500000000\",\"18400000\",\"1000000000\",\"10500000000\",\"190000000\",\"1000000000\",\"42000000\",\"15000000\",\"18446744\",\"50000000000\",\"25000000\",\"400000000\",\"105000000\",\"208000000\",\"160000000\",\"9000000\",\"5000000\",\"182000000\",\"16504333\",\"105000000\",\"159918400\",\"10008835635\",\"300000000\",\"890000000\",\"60168145\",\"300000000\",\"5000000000\",\"2800000\",\"120000\",\"2100000000\",\"0\",\"24487944\",\"0\",\"1000000000\",\"1000000000\",\"100000000\",\"8634140\",\"990000000000\",\"1000000000\",\"2000000000\",\"250000000\",\"1400222610\",\"21000000\",\"1000000\"],\"TotalCoinsMined\":{\"__ndarray__\":\"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\",\"dtype\":\"float64\",\"order\":\"little\",\"shape\":[685]},\"class\":{\"__ndarray__\":\"AQAAAAEAAAABAAAAAQAAAAAAAAAAAAAAAAAAAAEAAAAAAAAAAAAAAAAAAAABAAAAAAAAAAEAAAABAAAAAQAAAAAAAAABAAAAAAAAAAAAAAABAAAAAQAAAAEAAAAAAAAAAQAAAAAAAAABAAAAAAAAAAAAAAAAAAAAAAAAAAAAAAABAAAAAAAAAAAAAAAAAAAAAAAAAAEAAAAAAAAAAQAAAAAAAAABAAAAAAAAAAEAAAABAAAAAAAAAAEAAAABAAAAAQAAAAAAAAABAAAAAAAAAAAAAAAAAAAAAAAAAAAAAAAAAAAAAAAAAAEAAAAAAAAAAQAAAAEAAAAAAAAAAQAAAAAAAAAAAAAAAAAAAAAAAAAAAAAAAQAAAAEAAAABAAAAAAAAAAEAAAAAAAAAAQAAAAAAAAABAAAAAQAAAAAAAAAAAAAAAAAAAAAAAAABAAAAAQAAAAAAAAAAAAAAAQAAAAAAAAABAAAAAQAAAAEAAAAAAAAAAAAAAAAAAAAAAAAAAQAAAAEAAAABAAAAAQAAAAEAAAAAAAAAAAAAAAAAAAABAAAAAQAAAAAAAAAAAAAAAAAAAAEAAAABAAAAAAAAAAEAAAAAAAAAAQAAAAEAAAAAAAAAAAAAAAAAAAAAAAAAAAAAAAEAAAABAAAAAQAAAAAAAAAAAAAAAQAAAAAAAAAAAAAAAQAAAAEAAAABAAAAAAAAAAEAAAABAAAAAQAAAAAAAAAAAAAAAQAAAAEAAAAAAAAAAQAAAAAAAAABAAAAAQAAAAAAAAABAAAAAAAAAAEAAAAAAAAAAQAAAAAAAAABAAAAAQAAAAEAAAABAAAAAAAAAAEAAAAAAAAAAAAAAAEAAAAAAAAAAAAAAAEAAAAAAAAAAQAAAAEAAAAAAAAAAAAAAAAAAAAAAAAAAAAAAAAAAAAAAAAAAAAAAAEAAAABAAAAAAAAAAEAAAAAAAAAAQAAAAAAAAAAAAAAAQAAAAAAAAABAAAAAQAAAAEAAAAAAAAAAAAAAAEAAAAAAAAAAQAAAAEAAAAAAAAAAQAAAAEAAAABAAAAAAAAAAAAAAABAAAAAAAAAAAAAAAAAAAAAQAAAAEAAAAAAAAAAAAAAAEAAAABAAAAAAAAAAEAAAABAAAAAQAAAAEAAAAAAAAAAAAAAAEAAAAAAAAAAAAAAAAAAAAAAAAAAAAAAAEAAAAAAAAAAAAAAAEAAAAAAAAAAQAAAAEAAAABAAAAAQAAAAAAAAAAAAAAAQAAAAEAAAABAAAAAQAAAAEAAAAAAAAAAQAAAAEAAAABAAAAAQAAAAEAAAABAAAAAQAAAAAAAAABAAAAAQAAAAEAAAABAAAAAQAAAAAAAAABAAAAAAAAAAEAAAABAAAAAQAAAAAAAAABAAAAAAAAAAEAAAABAAAAAAAAAAEAAAAAAAAAAQAAAAEAAAAAAAAAAQAAAAAAAAABAAAAAQAAAAEAAAAAAAAAAQAAAAAAAAAAAAAAAAAAAAEAAAABAAAAAAAAAAEAAAABAAAAAQAAAAAAAAAAAAAAAAAAAAEAAAABAAAAAQAAAAAAAAAAAAAAAAAAAAEAAAABAAAAAQAAAAEAAAABAAAAAQAAAAEAAAAAAAAAAQAAAAEAAAABAAAAAQAAAAEAAAABAAAAAQAAAAEAAAAAAAAAAQAAAAEAAAABAAAAAQAAAAEAAAABAAAAAAAAAAAAAAABAAAAAAAAAAEAAAABAAAAAQAAAAEAAAABAAAAAQAAAAAAAAABAAAAAAAAAAEAAAAAAAAAAAAAAAEAAAABAAAAAAAAAAAAAAABAAAAAAAAAAAAAAABAAAAAAAAAAAAAAAAAAAAAAAAAAEAAAAAAAAAAQAAAAEAAAABAAAAAAAAAAEAAAABAAAAAQAAAAAAAAABAAAAAQAAAAEAAAABAAAAAQAAAAAAAAABAAAAAQAAAAAAAAAAAAAAAQAAAAAAAAABAAAAAQAAAAEAAAABAAAAAQAAAAAAAAABAAAAAAAAAAEAAAAAAAAAAAAAAAAAAAAAAAAAAQAAAAAAAAABAAAAAQAAAAAAAAABAAAAAAAAAAEAAAAAAAAAAAAAAAEAAAAAAAAAAQAAAAAAAAAAAAAAAAAAAAEAAAAAAAAAAQAAAAAAAAABAAAAAAAAAAEAAAABAAAAAAAAAAEAAAAAAAAAAAAAAAAAAAAAAAAAAAAAAAAAAAABAAAAAQAAAAAAAAABAAAAAQAAAAEAAAAAAAAAAQAAAAAAAAABAAAAAAAAAAEAAAAAAAAAAQAAAAEAAAABAAAAAQAAAAAAAAABAAAAAQAAAAAAAAABAAAAAQAAAAEAAAABAAAAAQAAAAEAAAAAAAAAAAAAAAAAAAAAAAAAAAAAAAAAAAABAAAAAQAAAAEAAAABAAAAAQAAAAAAAAABAAAAAAAAAAAAAAAAAAAAAQAAAAEAAAAAAAAAAAAAAAAAAAABAAAAAQAAAAAAAAABAAAAAQAAAAAAAAAAAAAAAQAAAAAAAAABAAAAAAAAAAAAAAABAAAAAQAAAAEAAAAAAAAAAAAAAAAAAAABAAAAAQAAAAEAAAAAAAAAAQAAAAAAAAAAAAAAAQAAAAAAAAAAAAAAAAAAAAAAAAAAAAAAAAAAAAEAAAACAAAAAgAAAAAAAAAAAAAAAAAAAAAAAAAAAAAAAAAAAAEAAAACAAAAAQAAAAEAAAABAAAAAQAAAAAAAAAAAAAAAAAAAAAAAAAAAAAAAAAAAAEAAAAAAAAAAQAAAAEAAAAAAAAAAAAAAAEAAAAAAAAAAQAAAAEAAAABAAAAAQAAAAEAAAABAAAAAQAAAAAAAAABAAAAAQAAAAAAAAABAAAAAQAAAAAAAAAAAAAAAQAAAAAAAAABAAAAAAAAAAAAAAAAAAAAAAAAAAEAAAABAAAAAAAAAAEAAAAAAAAAAQAAAAEAAAABAAAAAQAAAAEAAAABAAAAAAAAAAAAAAAAAAAAAQAAAAEAAAABAAAAAQAAAAEAAAABAAAAAQAAAAAAAAABAAAAAAAAAAAAAAABAAAAAAAAAAAAAAABAAAAAQAAAAEAAAABAAAAAAAAAAEAAAAAAAAAAQAAAAEAAAABAAAAAAAAAAEAAAABAAAAAQAAAAAAAAACAAAAAQAAAAAAAAABAAAAAAAAAAAAAAAAAAAAAAAAAAAAAAABAAAAAAAAAAEAAAAAAAAAAQAAAAAAAAABAAAAAAAAAAAAAAAAAAAAAAAAAAAAAAAAAAAAAAAAAAEAAAAAAAAAAQAAAAAAAAABAAAAAQAAAAAAAAABAAAAAQAAAAAAAAABAAAAAQAAAAEAAAAAAAAAAAAAAAAAAAAAAAAAAQAAAAEAAAABAAAAAQAAAAAAAAAAAAAAAQAAAAAAAAABAAAAAQAAAAAAAAABAAAAAQAAAAEAAAABAAAAAAAAAAAAAAABAAAAAQAAAAEAAAAAAAAAAQAAAAAAAAAAAAAAAQAAAAEAAAAAAAAAAQAAAAEAAAABAAAAAAAAAAAAAAABAAAAAQAAAAEAAAABAAAAAQAAAAAAAAABAAAAAQAAAAEAAAAAAAAAAQAAAAAAAAABAAAAAAAAAAEAAAAAAAAAAQAAAAIAAAABAAAAAwAAAAEAAAABAAAAAQAAAAAAAAAAAAAAAQAAAA==\",\"dtype\":\"int32\",\"order\":\"little\",\"shape\":[685]}},\"selected\":{\"id\":\"1123\"},\"selection_policy\":{\"id\":\"1157\"}},\"id\":\"1122\",\"type\":\"ColumnDataSource\"},{\"attributes\":{},\"id\":\"1140\",\"type\":\"StringEditor\"},{\"attributes\":{\"editor\":{\"id\":\"1130\"},\"field\":\"Algorithm\",\"formatter\":{\"id\":\"1129\"},\"title\":\"Algorithm\"},\"id\":\"1131\",\"type\":\"TableColumn\"},{\"attributes\":{\"editor\":{\"id\":\"1135\"},\"field\":\"ProofType\",\"formatter\":{\"id\":\"1134\"},\"title\":\"ProofType\"},\"id\":\"1136\",\"type\":\"TableColumn\"},{\"attributes\":{\"children\":[{\"id\":\"1121\"},{\"id\":\"1154\"},{\"id\":\"1161\"}],\"margin\":[0,0,0,0],\"name\":\"Row01796\",\"tags\":[\"embedded\"]},\"id\":\"1120\",\"type\":\"Row\"},{\"attributes\":{},\"id\":\"1130\",\"type\":\"StringEditor\"},{\"attributes\":{},\"id\":\"1157\",\"type\":\"UnionRenderers\"},{\"attributes\":{},\"id\":\"1150\",\"type\":\"IntEditor\"},{\"attributes\":{\"columns\":[{\"id\":\"1126\"},{\"id\":\"1131\"},{\"id\":\"1136\"},{\"id\":\"1141\"},{\"id\":\"1146\"},{\"id\":\"1151\"}],\"height\":300,\"reorderable\":false,\"source\":{\"id\":\"1122\"},\"view\":{\"id\":\"1156\"},\"width\":700},\"id\":\"1154\",\"type\":\"DataTable\"},{\"attributes\":{\"editor\":{\"id\":\"1150\"},\"field\":\"class\",\"formatter\":{\"id\":\"1149\"},\"title\":\"class\"},\"id\":\"1151\",\"type\":\"TableColumn\"},{\"attributes\":{},\"id\":\"1123\",\"type\":\"Selection\"},{\"attributes\":{\"source\":{\"id\":\"1122\"}},\"id\":\"1156\",\"type\":\"CDSView\"},{\"attributes\":{\"editor\":{\"id\":\"1145\"},\"field\":\"TotalCoinsMined\",\"formatter\":{\"id\":\"1144\"},\"title\":\"TotalCoinsMined\"},\"id\":\"1146\",\"type\":\"TableColumn\"},{\"attributes\":{\"editor\":{\"id\":\"1140\"},\"field\":\"TotalCoinSupply\",\"formatter\":{\"id\":\"1139\"},\"title\":\"TotalCoinSupply\"},\"id\":\"1141\",\"type\":\"TableColumn\"},{\"attributes\":{},\"id\":\"1134\",\"type\":\"StringFormatter\"},{\"attributes\":{\"format\":\"0,0.0[00000]\"},\"id\":\"1144\",\"type\":\"NumberFormatter\"},{\"attributes\":{},\"id\":\"1124\",\"type\":\"StringFormatter\"}],\"root_ids\":[\"1120\"]},\"title\":\"Bokeh Application\",\"version\":\"2.3.2\"}};\n",
       "    var render_items = [{\"docid\":\"04b6189c-70ad-414f-8f81-c4660a233383\",\"root_ids\":[\"1120\"],\"roots\":{\"1120\":\"af68ce4d-a5df-4c62-981c-ba371217db72\"}}];\n",
       "    root.Bokeh.embed.embed_items_notebook(docs_json, render_items);\n",
       "  }\n",
       "  if (root.Bokeh !== undefined && root.Bokeh.Panel !== undefined) {\n",
       "    embed_document(root);\n",
       "  } else {\n",
       "    var attempts = 0;\n",
       "    var timer = setInterval(function(root) {\n",
       "      if (root.Bokeh !== undefined && root.Bokeh.Panel !== undefined) {\n",
       "        clearInterval(timer);\n",
       "        embed_document(root);\n",
       "      } else if (document.readyState == \"complete\") {\n",
       "        attempts++;\n",
       "        if (attempts > 200) {\n",
       "          clearInterval(timer);\n",
       "          console.log(\"Bokeh: ERROR: Unable to run BokehJS code because BokehJS library is missing\");\n",
       "        }\n",
       "      }\n",
       "    }, 25, root)\n",
       "  }\n",
       "})(window);</script>"
      ],
      "text/plain": [
       ":Table   [CoinName,Algorithm,ProofType,TotalCoinSupply,TotalCoinsMined,class]"
      ]
     },
     "execution_count": 155,
     "metadata": {
      "application/vnd.holoviews_exec.v0+json": {
       "id": "1120"
      }
     },
     "output_type": "execute_result"
    }
   ],
   "source": [
    "# Create a table with tradable cryptocurrencies.\n",
    "clustered_df.hvplot.table(columns=['CoinName', 'Algorithm', 'ProofType', 'TotalCoinSupply', 'TotalCoinsMined', 'class'], sortable=True, selectable=True)"
   ]
  },
  {
   "cell_type": "code",
   "execution_count": 163,
   "metadata": {},
   "outputs": [
    {
     "name": "stdout",
     "output_type": "stream",
     "text": [
      "There are 685 tradable crytocurrencies\n"
     ]
    }
   ],
   "source": [
    "# Print the total number of tradable cryptocurrencies.\n",
    "count = clustered_df['CoinName'].count()\n",
    "print(f\"There are {count} tradable crytocurrencies\" )"
   ]
  },
  {
   "cell_type": "code",
   "execution_count": 164,
   "metadata": {},
   "outputs": [
    {
     "ename": "ValueError",
     "evalue": "could not convert string to float: 'Scrypt'",
     "output_type": "error",
     "traceback": [
      "\u001b[1;31m---------------------------------------------------------------------------\u001b[0m",
      "\u001b[1;31mValueError\u001b[0m                                Traceback (most recent call last)",
      "\u001b[1;32m<ipython-input-164-9a84dc1b9bed>\u001b[0m in \u001b[0;36m<module>\u001b[1;34m\u001b[0m\n\u001b[0;32m      1\u001b[0m \u001b[1;31m# Scaling data to create the scatter plot with tradable cryptocurrencies.\u001b[0m\u001b[1;33m\u001b[0m\u001b[1;33m\u001b[0m\u001b[1;33m\u001b[0m\u001b[0m\n\u001b[0;32m      2\u001b[0m \u001b[0mscaler\u001b[0m \u001b[1;33m=\u001b[0m \u001b[0mMinMaxScaler\u001b[0m\u001b[1;33m(\u001b[0m\u001b[1;33m)\u001b[0m\u001b[1;33m\u001b[0m\u001b[1;33m\u001b[0m\u001b[0m\n\u001b[1;32m----> 3\u001b[1;33m \u001b[0mscaler\u001b[0m\u001b[1;33m.\u001b[0m\u001b[0mfit\u001b[0m\u001b[1;33m(\u001b[0m\u001b[0mclustered_df\u001b[0m\u001b[1;33m)\u001b[0m\u001b[1;33m\u001b[0m\u001b[1;33m\u001b[0m\u001b[0m\n\u001b[0m",
      "\u001b[1;32m~\\Anaconda3\\envs\\mlenv\\lib\\site-packages\\sklearn\\preprocessing\\_data.py\u001b[0m in \u001b[0;36mfit\u001b[1;34m(self, X, y)\u001b[0m\n\u001b[0;32m    361\u001b[0m         \u001b[1;31m# Reset internal state before fitting\u001b[0m\u001b[1;33m\u001b[0m\u001b[1;33m\u001b[0m\u001b[1;33m\u001b[0m\u001b[0m\n\u001b[0;32m    362\u001b[0m         \u001b[0mself\u001b[0m\u001b[1;33m.\u001b[0m\u001b[0m_reset\u001b[0m\u001b[1;33m(\u001b[0m\u001b[1;33m)\u001b[0m\u001b[1;33m\u001b[0m\u001b[1;33m\u001b[0m\u001b[0m\n\u001b[1;32m--> 363\u001b[1;33m         \u001b[1;32mreturn\u001b[0m \u001b[0mself\u001b[0m\u001b[1;33m.\u001b[0m\u001b[0mpartial_fit\u001b[0m\u001b[1;33m(\u001b[0m\u001b[0mX\u001b[0m\u001b[1;33m,\u001b[0m \u001b[0my\u001b[0m\u001b[1;33m)\u001b[0m\u001b[1;33m\u001b[0m\u001b[1;33m\u001b[0m\u001b[0m\n\u001b[0m\u001b[0;32m    364\u001b[0m \u001b[1;33m\u001b[0m\u001b[0m\n\u001b[0;32m    365\u001b[0m     \u001b[1;32mdef\u001b[0m \u001b[0mpartial_fit\u001b[0m\u001b[1;33m(\u001b[0m\u001b[0mself\u001b[0m\u001b[1;33m,\u001b[0m \u001b[0mX\u001b[0m\u001b[1;33m,\u001b[0m \u001b[0my\u001b[0m\u001b[1;33m=\u001b[0m\u001b[1;32mNone\u001b[0m\u001b[1;33m)\u001b[0m\u001b[1;33m:\u001b[0m\u001b[1;33m\u001b[0m\u001b[1;33m\u001b[0m\u001b[0m\n",
      "\u001b[1;32m~\\Anaconda3\\envs\\mlenv\\lib\\site-packages\\sklearn\\preprocessing\\_data.py\u001b[0m in \u001b[0;36mpartial_fit\u001b[1;34m(self, X, y)\u001b[0m\n\u001b[0;32m    396\u001b[0m         X = self._validate_data(X, reset=first_pass,\n\u001b[0;32m    397\u001b[0m                                 \u001b[0mestimator\u001b[0m\u001b[1;33m=\u001b[0m\u001b[0mself\u001b[0m\u001b[1;33m,\u001b[0m \u001b[0mdtype\u001b[0m\u001b[1;33m=\u001b[0m\u001b[0mFLOAT_DTYPES\u001b[0m\u001b[1;33m,\u001b[0m\u001b[1;33m\u001b[0m\u001b[1;33m\u001b[0m\u001b[0m\n\u001b[1;32m--> 398\u001b[1;33m                                 force_all_finite=\"allow-nan\")\n\u001b[0m\u001b[0;32m    399\u001b[0m \u001b[1;33m\u001b[0m\u001b[0m\n\u001b[0;32m    400\u001b[0m         \u001b[0mdata_min\u001b[0m \u001b[1;33m=\u001b[0m \u001b[0mnp\u001b[0m\u001b[1;33m.\u001b[0m\u001b[0mnanmin\u001b[0m\u001b[1;33m(\u001b[0m\u001b[0mX\u001b[0m\u001b[1;33m,\u001b[0m \u001b[0maxis\u001b[0m\u001b[1;33m=\u001b[0m\u001b[1;36m0\u001b[0m\u001b[1;33m)\u001b[0m\u001b[1;33m\u001b[0m\u001b[1;33m\u001b[0m\u001b[0m\n",
      "\u001b[1;32m~\\Anaconda3\\envs\\mlenv\\lib\\site-packages\\sklearn\\base.py\u001b[0m in \u001b[0;36m_validate_data\u001b[1;34m(self, X, y, reset, validate_separately, **check_params)\u001b[0m\n\u001b[0;32m    419\u001b[0m             \u001b[0mout\u001b[0m \u001b[1;33m=\u001b[0m \u001b[0mX\u001b[0m\u001b[1;33m\u001b[0m\u001b[1;33m\u001b[0m\u001b[0m\n\u001b[0;32m    420\u001b[0m         \u001b[1;32melif\u001b[0m \u001b[0misinstance\u001b[0m\u001b[1;33m(\u001b[0m\u001b[0my\u001b[0m\u001b[1;33m,\u001b[0m \u001b[0mstr\u001b[0m\u001b[1;33m)\u001b[0m \u001b[1;32mand\u001b[0m \u001b[0my\u001b[0m \u001b[1;33m==\u001b[0m \u001b[1;34m'no_validation'\u001b[0m\u001b[1;33m:\u001b[0m\u001b[1;33m\u001b[0m\u001b[1;33m\u001b[0m\u001b[0m\n\u001b[1;32m--> 421\u001b[1;33m             \u001b[0mX\u001b[0m \u001b[1;33m=\u001b[0m \u001b[0mcheck_array\u001b[0m\u001b[1;33m(\u001b[0m\u001b[0mX\u001b[0m\u001b[1;33m,\u001b[0m \u001b[1;33m**\u001b[0m\u001b[0mcheck_params\u001b[0m\u001b[1;33m)\u001b[0m\u001b[1;33m\u001b[0m\u001b[1;33m\u001b[0m\u001b[0m\n\u001b[0m\u001b[0;32m    422\u001b[0m             \u001b[0mout\u001b[0m \u001b[1;33m=\u001b[0m \u001b[0mX\u001b[0m\u001b[1;33m\u001b[0m\u001b[1;33m\u001b[0m\u001b[0m\n\u001b[0;32m    423\u001b[0m         \u001b[1;32melse\u001b[0m\u001b[1;33m:\u001b[0m\u001b[1;33m\u001b[0m\u001b[1;33m\u001b[0m\u001b[0m\n",
      "\u001b[1;32m~\\Anaconda3\\envs\\mlenv\\lib\\site-packages\\sklearn\\utils\\validation.py\u001b[0m in \u001b[0;36minner_f\u001b[1;34m(*args, **kwargs)\u001b[0m\n\u001b[0;32m     61\u001b[0m             \u001b[0mextra_args\u001b[0m \u001b[1;33m=\u001b[0m \u001b[0mlen\u001b[0m\u001b[1;33m(\u001b[0m\u001b[0margs\u001b[0m\u001b[1;33m)\u001b[0m \u001b[1;33m-\u001b[0m \u001b[0mlen\u001b[0m\u001b[1;33m(\u001b[0m\u001b[0mall_args\u001b[0m\u001b[1;33m)\u001b[0m\u001b[1;33m\u001b[0m\u001b[1;33m\u001b[0m\u001b[0m\n\u001b[0;32m     62\u001b[0m             \u001b[1;32mif\u001b[0m \u001b[0mextra_args\u001b[0m \u001b[1;33m<=\u001b[0m \u001b[1;36m0\u001b[0m\u001b[1;33m:\u001b[0m\u001b[1;33m\u001b[0m\u001b[1;33m\u001b[0m\u001b[0m\n\u001b[1;32m---> 63\u001b[1;33m                 \u001b[1;32mreturn\u001b[0m \u001b[0mf\u001b[0m\u001b[1;33m(\u001b[0m\u001b[1;33m*\u001b[0m\u001b[0margs\u001b[0m\u001b[1;33m,\u001b[0m \u001b[1;33m**\u001b[0m\u001b[0mkwargs\u001b[0m\u001b[1;33m)\u001b[0m\u001b[1;33m\u001b[0m\u001b[1;33m\u001b[0m\u001b[0m\n\u001b[0m\u001b[0;32m     64\u001b[0m \u001b[1;33m\u001b[0m\u001b[0m\n\u001b[0;32m     65\u001b[0m             \u001b[1;31m# extra_args > 0\u001b[0m\u001b[1;33m\u001b[0m\u001b[1;33m\u001b[0m\u001b[1;33m\u001b[0m\u001b[0m\n",
      "\u001b[1;32m~\\Anaconda3\\envs\\mlenv\\lib\\site-packages\\sklearn\\utils\\validation.py\u001b[0m in \u001b[0;36mcheck_array\u001b[1;34m(array, accept_sparse, accept_large_sparse, dtype, order, copy, force_all_finite, ensure_2d, allow_nd, ensure_min_samples, ensure_min_features, estimator)\u001b[0m\n\u001b[0;32m    614\u001b[0m                     \u001b[0marray\u001b[0m \u001b[1;33m=\u001b[0m \u001b[0marray\u001b[0m\u001b[1;33m.\u001b[0m\u001b[0mastype\u001b[0m\u001b[1;33m(\u001b[0m\u001b[0mdtype\u001b[0m\u001b[1;33m,\u001b[0m \u001b[0mcasting\u001b[0m\u001b[1;33m=\u001b[0m\u001b[1;34m\"unsafe\"\u001b[0m\u001b[1;33m,\u001b[0m \u001b[0mcopy\u001b[0m\u001b[1;33m=\u001b[0m\u001b[1;32mFalse\u001b[0m\u001b[1;33m)\u001b[0m\u001b[1;33m\u001b[0m\u001b[1;33m\u001b[0m\u001b[0m\n\u001b[0;32m    615\u001b[0m                 \u001b[1;32melse\u001b[0m\u001b[1;33m:\u001b[0m\u001b[1;33m\u001b[0m\u001b[1;33m\u001b[0m\u001b[0m\n\u001b[1;32m--> 616\u001b[1;33m                     \u001b[0marray\u001b[0m \u001b[1;33m=\u001b[0m \u001b[0mnp\u001b[0m\u001b[1;33m.\u001b[0m\u001b[0masarray\u001b[0m\u001b[1;33m(\u001b[0m\u001b[0marray\u001b[0m\u001b[1;33m,\u001b[0m \u001b[0morder\u001b[0m\u001b[1;33m=\u001b[0m\u001b[0morder\u001b[0m\u001b[1;33m,\u001b[0m \u001b[0mdtype\u001b[0m\u001b[1;33m=\u001b[0m\u001b[0mdtype\u001b[0m\u001b[1;33m)\u001b[0m\u001b[1;33m\u001b[0m\u001b[1;33m\u001b[0m\u001b[0m\n\u001b[0m\u001b[0;32m    617\u001b[0m             \u001b[1;32mexcept\u001b[0m \u001b[0mComplexWarning\u001b[0m \u001b[1;32mas\u001b[0m \u001b[0mcomplex_warning\u001b[0m\u001b[1;33m:\u001b[0m\u001b[1;33m\u001b[0m\u001b[1;33m\u001b[0m\u001b[0m\n\u001b[0;32m    618\u001b[0m                 raise ValueError(\"Complex data not supported\\n\"\n",
      "\u001b[1;32m~\\Anaconda3\\envs\\mlenv\\lib\\site-packages\\numpy\\core\\_asarray.py\u001b[0m in \u001b[0;36masarray\u001b[1;34m(a, dtype, order, like)\u001b[0m\n\u001b[0;32m    100\u001b[0m         \u001b[1;32mreturn\u001b[0m \u001b[0m_asarray_with_like\u001b[0m\u001b[1;33m(\u001b[0m\u001b[0ma\u001b[0m\u001b[1;33m,\u001b[0m \u001b[0mdtype\u001b[0m\u001b[1;33m=\u001b[0m\u001b[0mdtype\u001b[0m\u001b[1;33m,\u001b[0m \u001b[0morder\u001b[0m\u001b[1;33m=\u001b[0m\u001b[0morder\u001b[0m\u001b[1;33m,\u001b[0m \u001b[0mlike\u001b[0m\u001b[1;33m=\u001b[0m\u001b[0mlike\u001b[0m\u001b[1;33m)\u001b[0m\u001b[1;33m\u001b[0m\u001b[1;33m\u001b[0m\u001b[0m\n\u001b[0;32m    101\u001b[0m \u001b[1;33m\u001b[0m\u001b[0m\n\u001b[1;32m--> 102\u001b[1;33m     \u001b[1;32mreturn\u001b[0m \u001b[0marray\u001b[0m\u001b[1;33m(\u001b[0m\u001b[0ma\u001b[0m\u001b[1;33m,\u001b[0m \u001b[0mdtype\u001b[0m\u001b[1;33m,\u001b[0m \u001b[0mcopy\u001b[0m\u001b[1;33m=\u001b[0m\u001b[1;32mFalse\u001b[0m\u001b[1;33m,\u001b[0m \u001b[0morder\u001b[0m\u001b[1;33m=\u001b[0m\u001b[0morder\u001b[0m\u001b[1;33m)\u001b[0m\u001b[1;33m\u001b[0m\u001b[1;33m\u001b[0m\u001b[0m\n\u001b[0m\u001b[0;32m    103\u001b[0m \u001b[1;33m\u001b[0m\u001b[0m\n\u001b[0;32m    104\u001b[0m \u001b[1;33m\u001b[0m\u001b[0m\n",
      "\u001b[1;32m~\\Anaconda3\\envs\\mlenv\\lib\\site-packages\\pandas\\core\\generic.py\u001b[0m in \u001b[0;36m__array__\u001b[1;34m(self, dtype)\u001b[0m\n\u001b[0;32m   1897\u001b[0m \u001b[1;33m\u001b[0m\u001b[0m\n\u001b[0;32m   1898\u001b[0m     \u001b[1;32mdef\u001b[0m \u001b[0m__array__\u001b[0m\u001b[1;33m(\u001b[0m\u001b[0mself\u001b[0m\u001b[1;33m,\u001b[0m \u001b[0mdtype\u001b[0m\u001b[1;33m=\u001b[0m\u001b[1;32mNone\u001b[0m\u001b[1;33m)\u001b[0m \u001b[1;33m->\u001b[0m \u001b[0mnp\u001b[0m\u001b[1;33m.\u001b[0m\u001b[0mndarray\u001b[0m\u001b[1;33m:\u001b[0m\u001b[1;33m\u001b[0m\u001b[1;33m\u001b[0m\u001b[0m\n\u001b[1;32m-> 1899\u001b[1;33m         \u001b[1;32mreturn\u001b[0m \u001b[0mnp\u001b[0m\u001b[1;33m.\u001b[0m\u001b[0masarray\u001b[0m\u001b[1;33m(\u001b[0m\u001b[0mself\u001b[0m\u001b[1;33m.\u001b[0m\u001b[0m_values\u001b[0m\u001b[1;33m,\u001b[0m \u001b[0mdtype\u001b[0m\u001b[1;33m=\u001b[0m\u001b[0mdtype\u001b[0m\u001b[1;33m)\u001b[0m\u001b[1;33m\u001b[0m\u001b[1;33m\u001b[0m\u001b[0m\n\u001b[0m\u001b[0;32m   1900\u001b[0m \u001b[1;33m\u001b[0m\u001b[0m\n\u001b[0;32m   1901\u001b[0m     def __array_wrap__(\n",
      "\u001b[1;32m~\\Anaconda3\\envs\\mlenv\\lib\\site-packages\\numpy\\core\\_asarray.py\u001b[0m in \u001b[0;36masarray\u001b[1;34m(a, dtype, order, like)\u001b[0m\n\u001b[0;32m    100\u001b[0m         \u001b[1;32mreturn\u001b[0m \u001b[0m_asarray_with_like\u001b[0m\u001b[1;33m(\u001b[0m\u001b[0ma\u001b[0m\u001b[1;33m,\u001b[0m \u001b[0mdtype\u001b[0m\u001b[1;33m=\u001b[0m\u001b[0mdtype\u001b[0m\u001b[1;33m,\u001b[0m \u001b[0morder\u001b[0m\u001b[1;33m=\u001b[0m\u001b[0morder\u001b[0m\u001b[1;33m,\u001b[0m \u001b[0mlike\u001b[0m\u001b[1;33m=\u001b[0m\u001b[0mlike\u001b[0m\u001b[1;33m)\u001b[0m\u001b[1;33m\u001b[0m\u001b[1;33m\u001b[0m\u001b[0m\n\u001b[0;32m    101\u001b[0m \u001b[1;33m\u001b[0m\u001b[0m\n\u001b[1;32m--> 102\u001b[1;33m     \u001b[1;32mreturn\u001b[0m \u001b[0marray\u001b[0m\u001b[1;33m(\u001b[0m\u001b[0ma\u001b[0m\u001b[1;33m,\u001b[0m \u001b[0mdtype\u001b[0m\u001b[1;33m,\u001b[0m \u001b[0mcopy\u001b[0m\u001b[1;33m=\u001b[0m\u001b[1;32mFalse\u001b[0m\u001b[1;33m,\u001b[0m \u001b[0morder\u001b[0m\u001b[1;33m=\u001b[0m\u001b[0morder\u001b[0m\u001b[1;33m)\u001b[0m\u001b[1;33m\u001b[0m\u001b[1;33m\u001b[0m\u001b[0m\n\u001b[0m\u001b[0;32m    103\u001b[0m \u001b[1;33m\u001b[0m\u001b[0m\n\u001b[0;32m    104\u001b[0m \u001b[1;33m\u001b[0m\u001b[0m\n",
      "\u001b[1;31mValueError\u001b[0m: could not convert string to float: 'Scrypt'"
     ]
    }
   ],
   "source": [
    "# Scaling data to create the scatter plot with tradable cryptocurrencies.\n",
    "scaler = MinMaxScaler()\n",
    "scaler.fit(clustered_df)"
   ]
  },
  {
   "cell_type": "code",
   "execution_count": 21,
   "metadata": {},
   "outputs": [
    {
     "data": {
      "text/html": [
       "<div>\n",
       "<style scoped>\n",
       "    .dataframe tbody tr th:only-of-type {\n",
       "        vertical-align: middle;\n",
       "    }\n",
       "\n",
       "    .dataframe tbody tr th {\n",
       "        vertical-align: top;\n",
       "    }\n",
       "\n",
       "    .dataframe thead th {\n",
       "        text-align: right;\n",
       "    }\n",
       "</style>\n",
       "<table border=\"1\" class=\"dataframe\">\n",
       "  <thead>\n",
       "    <tr style=\"text-align: right;\">\n",
       "      <th></th>\n",
       "      <th>TotalCoinSupply</th>\n",
       "      <th>TotalCoinsMined</th>\n",
       "      <th>CoinName</th>\n",
       "      <th>Class</th>\n",
       "    </tr>\n",
       "  </thead>\n",
       "  <tbody>\n",
       "    <tr>\n",
       "      <th>42</th>\n",
       "      <td>4.200000e-11</td>\n",
       "      <td>0.000000</td>\n",
       "      <td>42 Coin</td>\n",
       "      <td>0</td>\n",
       "    </tr>\n",
       "    <tr>\n",
       "      <th>404</th>\n",
       "      <td>5.320000e-04</td>\n",
       "      <td>0.001066</td>\n",
       "      <td>404Coin</td>\n",
       "      <td>0</td>\n",
       "    </tr>\n",
       "    <tr>\n",
       "      <th>1337</th>\n",
       "      <td>3.141593e-01</td>\n",
       "      <td>0.029576</td>\n",
       "      <td>EliteCoin</td>\n",
       "      <td>0</td>\n",
       "    </tr>\n",
       "    <tr>\n",
       "      <th>BTC</th>\n",
       "      <td>2.100000e-05</td>\n",
       "      <td>0.000018</td>\n",
       "      <td>Bitcoin</td>\n",
       "      <td>1</td>\n",
       "    </tr>\n",
       "    <tr>\n",
       "      <th>ETH</th>\n",
       "      <td>0.000000e+00</td>\n",
       "      <td>0.000109</td>\n",
       "      <td>Ethereum</td>\n",
       "      <td>1</td>\n",
       "    </tr>\n",
       "    <tr>\n",
       "      <th>LTC</th>\n",
       "      <td>8.400000e-05</td>\n",
       "      <td>0.000064</td>\n",
       "      <td>Litecoin</td>\n",
       "      <td>1</td>\n",
       "    </tr>\n",
       "    <tr>\n",
       "      <th>DASH</th>\n",
       "      <td>2.200000e-05</td>\n",
       "      <td>0.000009</td>\n",
       "      <td>Dash</td>\n",
       "      <td>0</td>\n",
       "    </tr>\n",
       "    <tr>\n",
       "      <th>XMR</th>\n",
       "      <td>0.000000e+00</td>\n",
       "      <td>0.000017</td>\n",
       "      <td>Monero</td>\n",
       "      <td>1</td>\n",
       "    </tr>\n",
       "    <tr>\n",
       "      <th>ETC</th>\n",
       "      <td>2.100000e-04</td>\n",
       "      <td>0.000115</td>\n",
       "      <td>Ethereum Classic</td>\n",
       "      <td>1</td>\n",
       "    </tr>\n",
       "    <tr>\n",
       "      <th>ZEC</th>\n",
       "      <td>2.100000e-05</td>\n",
       "      <td>0.000007</td>\n",
       "      <td>ZCash</td>\n",
       "      <td>1</td>\n",
       "    </tr>\n",
       "  </tbody>\n",
       "</table>\n",
       "</div>"
      ],
      "text/plain": [
       "      TotalCoinSupply  TotalCoinsMined          CoinName  Class\n",
       "42       4.200000e-11         0.000000           42 Coin      0\n",
       "404      5.320000e-04         0.001066           404Coin      0\n",
       "1337     3.141593e-01         0.029576         EliteCoin      0\n",
       "BTC      2.100000e-05         0.000018           Bitcoin      1\n",
       "ETH      0.000000e+00         0.000109          Ethereum      1\n",
       "LTC      8.400000e-05         0.000064          Litecoin      1\n",
       "DASH     2.200000e-05         0.000009              Dash      0\n",
       "XMR      0.000000e+00         0.000017            Monero      1\n",
       "ETC      2.100000e-04         0.000115  Ethereum Classic      1\n",
       "ZEC      2.100000e-05         0.000007             ZCash      1"
      ]
     },
     "execution_count": 21,
     "metadata": {},
     "output_type": "execute_result"
    }
   ],
   "source": [
    "# Create a new DataFrame that has the scaled data with the clustered_df DataFrame index.\n",
    "# YOUR CODE HERE\n",
    "\n",
    "# Add the \"CoinName\" column from the clustered_df DataFrame to the new DataFrame.\n",
    "# YOUR CODE HERE\n",
    "\n",
    "# Add the \"Class\" column from the clustered_df DataFrame to the new DataFrame. \n",
    "# YOUR CODE HERE\n",
    "\n",
    "plot_df.head(10)"
   ]
  },
  {
   "cell_type": "code",
   "execution_count": 22,
   "metadata": {},
   "outputs": [
    {
     "data": {},
     "metadata": {},
     "output_type": "display_data"
    },
    {
     "data": {
      "application/vnd.holoviews_exec.v0+json": "",
      "text/html": [
       "<div id='1154'>\n",
       "\n",
       "\n",
       "\n",
       "\n",
       "\n",
       "  <div class=\"bk-root\" id=\"957b137a-5de5-4a19-9126-474fce87e793\" data-root-id=\"1154\"></div>\n",
       "</div>\n",
       "<script type=\"application/javascript\">(function(root) {\n",
       "  function embed_document(root) {\n",
       "  var docs_json = {\"8afcf9e5-6eee-42e8-8357-c9287dd41e03\":{\"roots\":{\"references\":[{\"attributes\":{},\"id\":\"1252\",\"type\":\"UnionRenderers\"},{\"attributes\":{\"text\":\"\",\"text_color\":{\"value\":\"black\"},\"text_font_size\":{\"value\":\"12pt\"}},\"id\":\"1163\",\"type\":\"Title\"},{\"attributes\":{\"data_source\":{\"id\":\"1196\"},\"glyph\":{\"id\":\"1199\"},\"hover_glyph\":null,\"muted_glyph\":{\"id\":\"1201\"},\"nonselection_glyph\":{\"id\":\"1200\"},\"selection_glyph\":null,\"view\":{\"id\":\"1203\"}},\"id\":\"1202\",\"type\":\"GlyphRenderer\"},{\"attributes\":{\"label\":{\"value\":\"2\"},\"renderers\":[{\"id\":\"1239\"}]},\"id\":\"1253\",\"type\":\"LegendItem\"},{\"attributes\":{\"fill_color\":{\"value\":\"#ff7e0e\"},\"line_color\":{\"value\":\"#ff7e0e\"},\"size\":{\"units\":\"screen\",\"value\":5.477225575051661},\"x\":{\"field\":\"TotalCoinsMined\"},\"y\":{\"field\":\"TotalCoinSupply\"}},\"id\":\"1217\",\"type\":\"Scatter\"},{\"attributes\":{},\"id\":\"1179\",\"type\":\"SaveTool\"},{\"attributes\":{},\"id\":\"1195\",\"type\":\"BasicTickFormatter\"},{\"attributes\":{\"data\":{\"Class\":[3,3,3,3],\"CoinName\":[\"BiblePay\",\"LitecoinCash\",\"Poa Network\",\"Waves\"],\"TotalCoinSupply\":{\"__ndarray__\":\"lPYGX5hMdT+8eapDboZLP4RaKOGWizA/LEMc6+I2Gj8=\",\"dtype\":\"float64\",\"order\":\"little\",\"shape\":[4]},\"TotalCoinsMined\":{\"__ndarray__\":\"j1gNkdpTXT+QpMXySiFFP5wZJXiPEis/+0V+YL96Gj8=\",\"dtype\":\"float64\",\"order\":\"little\",\"shape\":[4]}},\"selected\":{\"id\":\"1255\"},\"selection_policy\":{\"id\":\"1275\"}},\"id\":\"1254\",\"type\":\"ColumnDataSource\"},{\"attributes\":{},\"id\":\"1181\",\"type\":\"WheelZoomTool\"},{\"attributes\":{\"overlay\":{\"id\":\"1184\"}},\"id\":\"1182\",\"type\":\"BoxZoomTool\"},{\"attributes\":{\"callback\":null,\"renderers\":[{\"id\":\"1202\"},{\"id\":\"1220\"},{\"id\":\"1239\"},{\"id\":\"1260\"}],\"tags\":[\"hv_created\"],\"tooltips\":[[\"Class\",\"@{Class}\"],[\"TotalCoinsMined\",\"@{TotalCoinsMined}\"],[\"TotalCoinSupply\",\"@{TotalCoinSupply}\"],[\"CoinName\",\"@{CoinName}\"]]},\"id\":\"1158\",\"type\":\"HoverTool\"},{\"attributes\":{},\"id\":\"1275\",\"type\":\"UnionRenderers\"},{\"attributes\":{\"fill_alpha\":{\"value\":0.1},\"fill_color\":{\"value\":\"#ff7e0e\"},\"line_alpha\":{\"value\":0.1},\"line_color\":{\"value\":\"#ff7e0e\"},\"size\":{\"units\":\"screen\",\"value\":5.477225575051661},\"x\":{\"field\":\"TotalCoinsMined\"},\"y\":{\"field\":\"TotalCoinSupply\"}},\"id\":\"1218\",\"type\":\"Scatter\"},{\"attributes\":{},\"id\":\"1211\",\"type\":\"UnionRenderers\"},{\"attributes\":{\"align\":null,\"below\":[{\"id\":\"1171\"}],\"center\":[{\"id\":\"1174\"},{\"id\":\"1178\"}],\"left\":[{\"id\":\"1175\"}],\"margin\":null,\"min_border_bottom\":10,\"min_border_left\":10,\"min_border_right\":10,\"min_border_top\":10,\"plot_height\":300,\"plot_width\":700,\"renderers\":[{\"id\":\"1202\"},{\"id\":\"1220\"},{\"id\":\"1239\"},{\"id\":\"1260\"}],\"right\":[{\"id\":\"1212\"}],\"sizing_mode\":\"fixed\",\"title\":{\"id\":\"1163\"},\"toolbar\":{\"id\":\"1185\"},\"x_range\":{\"id\":\"1156\"},\"x_scale\":{\"id\":\"1167\"},\"y_range\":{\"id\":\"1157\"},\"y_scale\":{\"id\":\"1169\"}},\"id\":\"1162\",\"subtype\":\"Figure\",\"type\":\"Plot\"},{\"attributes\":{\"source\":{\"id\":\"1196\"}},\"id\":\"1203\",\"type\":\"CDSView\"},{\"attributes\":{\"data\":{\"Class\":[1,1,1,1,1,1,1,1,1,1,1,1,1,1,1,1,1,1,1,1,1,1,1,1,1,1,1,1,1,1,1,1,1,1,1,1,1,1,1,1,1,1,1,1,1,1,1,1,1,1,1,1,1,1,1,1,1,1,1,1,1,1,1,1,1,1,1,1,1,1,1,1,1,1,1,1,1,1,1,1,1,1,1,1,1,1,1,1,1,1,1,1,1,1,1,1,1,1,1,1,1,1,1,1,1,1,1,1,1,1,1,1,1,1,1,1,1,1,1,1,1,1,1,1,1,1,1,1,1,1,1,1,1,1,1,1,1,1,1,1,1,1,1,1,1,1,1,1,1,1,1,1,1,1,1,1,1,1,1,1,1,1,1,1,1,1,1,1,1,1,1,1,1,1,1,1,1,1,1,1,1,1,1,1,1,1,1,1,1,1,1,1,1,1,1,1,1,1,1,1,1,1,1,1,1,1,1,1,1,1,1,1,1,1,1,1,1,1,1,1,1,1,1,1,1,1,1,1,1,1,1,1,1,1,1,1,1,1],\"CoinName\":[\"Bitcoin\",\"Ethereum\",\"Litecoin\",\"Monero\",\"Ethereum Classic\",\"ZCash\",\"DigiByte\",\"ProsperCoin\",\"Spreadcoin\",\"Argentum\",\"MyriadCoin\",\"MoonCoin\",\"ZetaCoin\",\"SexCoin\",\"Quatloo\",\"QuarkCoin\",\"Riecoin\",\"Digitalcoin \",\"Catcoin\",\"CannaCoin\",\"CryptCoin\",\"Verge\",\"DevCoin\",\"EarthCoin\",\"E-Gulden\",\"Einsteinium\",\"Emerald\",\"Franko\",\"FeatherCoin\",\"GrandCoin\",\"GlobalCoin\",\"GoldCoin\",\"Infinite Coin\",\"IXcoin\",\"KrugerCoin\",\"LuckyCoin\",\"Litebar \",\"MegaCoin\",\"MediterraneanCoin\",\"MinCoin\",\"NobleCoin\",\"Namecoin\",\"NyanCoin\",\"RonPaulCoin\",\"StableCoin\",\"SmartCoin\",\"SysCoin\",\"TigerCoin\",\"TerraCoin\",\"UnbreakableCoin\",\"Unobtanium\",\"UroCoin\",\"ViaCoin\",\"Vertcoin\",\"WorldCoin\",\"JouleCoin\",\"ByteCoin\",\"DigitalNote \",\"MonaCoin\",\"Gulden\",\"PesetaCoin\",\"Wild Beast Coin\",\"Flo\",\"ArtByte\",\"Folding Coin\",\"Unitus\",\"CypherPunkCoin\",\"OmniCron\",\"GreenCoin\",\"Cryptonite\",\"MasterCoin\",\"SoonCoin\",\"1Credit\",\"MarsCoin \",\"Crypto\",\"Anarchists Prime\",\"BowsCoin\",\"Song Coin\",\"BitZeny\",\"Expanse\",\"Siacoin\",\"MindCoin\",\"I0coin\",\"Revolution VR\",\"HOdlcoin\",\"Gamecredits\",\"CarpeDiemCoin\",\"Adzcoin\",\"SoilCoin\",\"YoCoin\",\"SibCoin\",\"Francs\",\"BolivarCoin\",\"Omni\",\"PizzaCoin\",\"Komodo\",\"Karbo\",\"ZayedCoin\",\"Circuits of Value\",\"DopeCoin\",\"DollarCoin\",\"Shilling\",\"ZCoin\",\"Elementrem\",\"ZClassic\",\"KiloCoin\",\"ArtexCoin\",\"Kurrent\",\"Cannabis Industry Coin\",\"OsmiumCoin\",\"Bikercoins\",\"HexxCoin\",\"PacCoin\",\"Citadel\",\"BeaverCoin\",\"VaultCoin\",\"Zero\",\"Canada eCoin\",\"Zoin\",\"DubaiCoin\",\"EB3coin\",\"Coinonat\",\"BenjiRolls\",\"ILCoin\",\"EquiTrader\",\"Quantum Resistant Ledger\",\"Dynamic\",\"Nano\",\"ChanCoin\",\"Dinastycoin\",\"DigitalPrice\",\"Unify\",\"SocialCoin\",\"ArcticCoin\",\"DAS\",\"LeviarCoin\",\"Bitcore\",\"gCn Coin\",\"SmartCash\",\"Onix\",\"Bitcoin Cash\",\"Sojourn Coin\",\"NewYorkCoin\",\"FrazCoin\",\"Kronecoin\",\"AdCoin\",\"Linx\",\"Sumokoin\",\"BitcoinZ\",\"Elements\",\"VIVO Coin\",\"Bitcoin Gold\",\"Pirl\",\"eBoost\",\"Pura\",\"Innova\",\"Ellaism\",\"GoByte\",\"SHIELD\",\"UltraNote\",\"BitCoal\",\"DaxxCoin\",\"AC3\",\"Lethean\",\"PopularCoin\",\"Photon\",\"Sucre\",\"SparksPay\",\"GunCoin\",\"IrishCoin\",\"Pioneer Coin\",\"UnitedBitcoin\",\"Interzone\",\"TurtleCoin\",\"MUNcoin\",\"Niobio Cash\",\"ShareChain\",\"Travelflex\",\"KREDS\",\"BitFlip\",\"LottoCoin\",\"Crypto Improvement Fund\",\"Callisto Network\",\"BitTube\",\"Poseidon\",\"Aidos Kuneen\",\"Bitrolium\",\"Alpenschillling\",\"FuturoCoin\",\"Monero Classic\",\"Jumpcoin\",\"Infinex\",\"KEYCO\",\"GINcoin\",\"PlatinCoin\",\"Loki\",\"Newton Coin\",\"MassGrid\",\"PluraCoin\",\"Motion\",\"PlusOneCoin\",\"Axe\",\"HexCoin\",\"Webchain\",\"Ryo\",\"Urals Coin\",\"Qwertycoin\",\"Project Pai\",\"Azart\",\"Xchange\",\"CrypticCoin\",\"Actinium\",\"Bitcoin SV\",\"FREDEnergy\",\"Universal Molecule\",\"Lithium\",\"Exosis\",\"Block-Logic\",\"Beam\",\"Bithereum\",\"SLICE\",\"BLAST\",\"Bitcoin Rhodium\",\"GlobalToken\",\"SolarCoin\",\"UFO Coin\",\"BlakeCoin\",\"Crypto Escudo\",\"Crown Coin\",\"SmileyCoin\",\"Groestlcoin\",\"Bata\",\"Pakcoin\",\"JoinCoin\",\"Vollar\",\"Reality Clash\",\"Beldex\",\"Horizen\"],\"TotalCoinSupply\":{\"__ndarray__\":\"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\",\"dtype\":\"float64\",\"order\":\"little\",\"shape\":[238]},\"TotalCoinsMined\":{\"__ndarray__\":\"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\",\"dtype\":\"float64\",\"order\":\"little\",\"shape\":[238]}},\"selected\":{\"id\":\"1215\"},\"selection_policy\":{\"id\":\"1231\"}},\"id\":\"1214\",\"type\":\"ColumnDataSource\"},{\"attributes\":{\"data\":{\"Class\":[2],\"CoinName\":[\"BitTorrent\"],\"TotalCoinSupply\":{\"__ndarray__\":\"rkfhehSu7z8=\",\"dtype\":\"float64\",\"order\":\"little\",\"shape\":[1]},\"TotalCoinsMined\":{\"__ndarray__\":\"AAAAAAAA8D8=\",\"dtype\":\"float64\",\"order\":\"little\",\"shape\":[1]}},\"selected\":{\"id\":\"1234\"},\"selection_policy\":{\"id\":\"1252\"}},\"id\":\"1233\",\"type\":\"ColumnDataSource\"},{\"attributes\":{},\"id\":\"1176\",\"type\":\"BasicTicker\"},{\"attributes\":{\"axis_label\":\"TotalCoinSupply\",\"bounds\":\"auto\",\"formatter\":{\"id\":\"1195\"},\"major_label_orientation\":\"horizontal\",\"ticker\":{\"id\":\"1176\"}},\"id\":\"1175\",\"type\":\"LinearAxis\"},{\"attributes\":{},\"id\":\"1193\",\"type\":\"BasicTickFormatter\"},{\"attributes\":{},\"id\":\"1183\",\"type\":\"ResetTool\"},{\"attributes\":{\"children\":[{\"id\":\"1155\"},{\"id\":\"1162\"},{\"id\":\"1403\"}],\"margin\":[0,0,0,0],\"name\":\"Row01877\",\"tags\":[\"embedded\"]},\"id\":\"1154\",\"type\":\"Row\"},{\"attributes\":{\"end\":1.1,\"reset_end\":1.1,\"reset_start\":-0.1,\"start\":-0.1,\"tags\":[[[\"TotalCoinSupply\",\"TotalCoinSupply\",null]]]},\"id\":\"1157\",\"type\":\"Range1d\"},{\"attributes\":{\"label\":{\"value\":\"3\"},\"renderers\":[{\"id\":\"1260\"}]},\"id\":\"1276\",\"type\":\"LegendItem\"},{\"attributes\":{},\"id\":\"1231\",\"type\":\"UnionRenderers\"},{\"attributes\":{\"margin\":[5,5,5,5],\"name\":\"HSpacer01882\",\"sizing_mode\":\"stretch_width\"},\"id\":\"1403\",\"type\":\"Spacer\"},{\"attributes\":{\"axis\":{\"id\":\"1171\"},\"grid_line_color\":null,\"ticker\":null},\"id\":\"1174\",\"type\":\"Grid\"},{\"attributes\":{\"data_source\":{\"id\":\"1233\"},\"glyph\":{\"id\":\"1236\"},\"hover_glyph\":null,\"muted_glyph\":{\"id\":\"1238\"},\"nonselection_glyph\":{\"id\":\"1237\"},\"selection_glyph\":null,\"view\":{\"id\":\"1240\"}},\"id\":\"1239\",\"type\":\"GlyphRenderer\"},{\"attributes\":{\"margin\":[5,5,5,5],\"name\":\"HSpacer01881\",\"sizing_mode\":\"stretch_width\"},\"id\":\"1155\",\"type\":\"Spacer\"},{\"attributes\":{\"fill_color\":{\"value\":\"#2ba02b\"},\"line_color\":{\"value\":\"#2ba02b\"},\"size\":{\"units\":\"screen\",\"value\":5.477225575051661},\"x\":{\"field\":\"TotalCoinsMined\"},\"y\":{\"field\":\"TotalCoinSupply\"}},\"id\":\"1236\",\"type\":\"Scatter\"},{\"attributes\":{},\"id\":\"1255\",\"type\":\"Selection\"},{\"attributes\":{\"label\":{\"value\":\"1\"},\"renderers\":[{\"id\":\"1220\"}]},\"id\":\"1232\",\"type\":\"LegendItem\"},{\"attributes\":{},\"id\":\"1234\",\"type\":\"Selection\"},{\"attributes\":{},\"id\":\"1167\",\"type\":\"LinearScale\"},{\"attributes\":{\"fill_alpha\":{\"value\":0.2},\"fill_color\":{\"value\":\"#1f77b3\"},\"line_alpha\":{\"value\":0.2},\"line_color\":{\"value\":\"#1f77b3\"},\"size\":{\"units\":\"screen\",\"value\":5.477225575051661},\"x\":{\"field\":\"TotalCoinsMined\"},\"y\":{\"field\":\"TotalCoinSupply\"}},\"id\":\"1201\",\"type\":\"Scatter\"},{\"attributes\":{\"data_source\":{\"id\":\"1214\"},\"glyph\":{\"id\":\"1217\"},\"hover_glyph\":null,\"muted_glyph\":{\"id\":\"1219\"},\"nonselection_glyph\":{\"id\":\"1218\"},\"selection_glyph\":null,\"view\":{\"id\":\"1221\"}},\"id\":\"1220\",\"type\":\"GlyphRenderer\"},{\"attributes\":{\"active_drag\":\"auto\",\"active_inspect\":\"auto\",\"active_multi\":null,\"active_scroll\":\"auto\",\"active_tap\":\"auto\",\"tools\":[{\"id\":\"1158\"},{\"id\":\"1179\"},{\"id\":\"1180\"},{\"id\":\"1181\"},{\"id\":\"1182\"},{\"id\":\"1183\"}]},\"id\":\"1185\",\"type\":\"Toolbar\"},{\"attributes\":{\"end\":1.042857142857143,\"reset_end\":1.042857142857143,\"reset_start\":-0.04285714285714286,\"start\":-0.04285714285714286,\"tags\":[[[\"TotalCoinsMined\",\"TotalCoinsMined\",null]]]},\"id\":\"1156\",\"type\":\"Range1d\"},{\"attributes\":{},\"id\":\"1169\",\"type\":\"LinearScale\"},{\"attributes\":{\"fill_color\":{\"value\":\"#1f77b3\"},\"line_color\":{\"value\":\"#1f77b3\"},\"size\":{\"units\":\"screen\",\"value\":5.477225575051661},\"x\":{\"field\":\"TotalCoinsMined\"},\"y\":{\"field\":\"TotalCoinSupply\"}},\"id\":\"1199\",\"type\":\"Scatter\"},{\"attributes\":{\"fill_alpha\":{\"value\":0.2},\"fill_color\":{\"value\":\"#2ba02b\"},\"line_alpha\":{\"value\":0.2},\"line_color\":{\"value\":\"#2ba02b\"},\"size\":{\"units\":\"screen\",\"value\":5.477225575051661},\"x\":{\"field\":\"TotalCoinsMined\"},\"y\":{\"field\":\"TotalCoinSupply\"}},\"id\":\"1238\",\"type\":\"Scatter\"},{\"attributes\":{\"fill_alpha\":{\"value\":0.1},\"fill_color\":{\"value\":\"#1f77b3\"},\"line_alpha\":{\"value\":0.1},\"line_color\":{\"value\":\"#1f77b3\"},\"size\":{\"units\":\"screen\",\"value\":5.477225575051661},\"x\":{\"field\":\"TotalCoinsMined\"},\"y\":{\"field\":\"TotalCoinSupply\"}},\"id\":\"1200\",\"type\":\"Scatter\"},{\"attributes\":{},\"id\":\"1172\",\"type\":\"BasicTicker\"},{\"attributes\":{\"source\":{\"id\":\"1214\"}},\"id\":\"1221\",\"type\":\"CDSView\"},{\"attributes\":{\"bottom_units\":\"screen\",\"fill_alpha\":0.5,\"fill_color\":\"lightgrey\",\"left_units\":\"screen\",\"level\":\"overlay\",\"line_alpha\":1.0,\"line_color\":\"black\",\"line_dash\":[4,4],\"line_width\":2,\"right_units\":\"screen\",\"top_units\":\"screen\"},\"id\":\"1184\",\"type\":\"BoxAnnotation\"},{\"attributes\":{\"data_source\":{\"id\":\"1254\"},\"glyph\":{\"id\":\"1257\"},\"hover_glyph\":null,\"muted_glyph\":{\"id\":\"1259\"},\"nonselection_glyph\":{\"id\":\"1258\"},\"selection_glyph\":null,\"view\":{\"id\":\"1261\"}},\"id\":\"1260\",\"type\":\"GlyphRenderer\"},{\"attributes\":{\"source\":{\"id\":\"1233\"}},\"id\":\"1240\",\"type\":\"CDSView\"},{\"attributes\":{\"fill_alpha\":{\"value\":0.1},\"fill_color\":{\"value\":\"#d62628\"},\"line_alpha\":{\"value\":0.1},\"line_color\":{\"value\":\"#d62628\"},\"size\":{\"units\":\"screen\",\"value\":5.477225575051661},\"x\":{\"field\":\"TotalCoinsMined\"},\"y\":{\"field\":\"TotalCoinSupply\"}},\"id\":\"1258\",\"type\":\"Scatter\"},{\"attributes\":{},\"id\":\"1180\",\"type\":\"PanTool\"},{\"attributes\":{\"data\":{\"Class\":[0,0,0,0,0,0,0,0,0,0,0,0,0,0,0,0,0,0,0,0,0,0,0,0,0,0,0,0,0,0,0,0,0,0,0,0,0,0,0,0,0,0,0,0,0,0,0,0,0,0,0,0,0,0,0,0,0,0,0,0,0,0,0,0,0,0,0,0,0,0,0,0,0,0,0,0,0,0,0,0,0,0,0,0,0,0,0,0,0,0,0,0,0,0,0,0,0,0,0,0,0,0,0,0,0,0,0,0,0,0,0,0,0,0,0,0,0,0,0,0,0,0,0,0,0,0,0,0,0,0,0,0,0,0,0,0,0,0,0,0,0,0,0,0,0,0,0,0,0,0,0,0,0,0,0,0,0,0,0,0,0,0,0,0,0,0,0,0,0,0,0,0,0,0,0,0,0,0,0,0,0,0,0,0,0,0,0,0,0,0,0,0,0,0,0,0,0,0,0,0,0,0,0,0,0,0,0,0,0,0,0,0,0,0,0,0,0,0,0,0,0,0,0,0,0,0,0,0,0,0,0,0,0,0,0,0,0,0,0,0,0,0,0,0,0,0,0,0,0,0,0,0,0,0,0,0,0,0,0,0,0,0,0,0,0,0,0,0,0,0,0,0,0,0,0,0,0,0,0,0,0,0,0,0,0,0,0,0,0],\"CoinName\":[\"42 Coin\",\"404Coin\",\"EliteCoin\",\"Dash\",\"Bitshares\",\"BitcoinDark\",\"PayCoin\",\"KoboCoin\",\"Aurora Coin\",\"BlueCoin\",\"EnergyCoin\",\"BitBar\",\"CryptoBullion\",\"CasinoCoin\",\"Diamond\",\"Exclusive Coin\",\"FlutterCoin\",\"HoboNickels\",\"HyperStake\",\"IOCoin\",\"MaxCoin\",\"MintCoin\",\"MazaCoin\",\"Nautilus Coin\",\"NavCoin\",\"OpalCoin\",\"Orbitcoin\",\"PotCoin\",\"PhoenixCoin\",\"Reddcoin\",\"SuperCoin\",\"SyncCoin\",\"TeslaCoin\",\"TittieCoin\",\"TorCoin\",\"UnitaryStatus Dollar\",\"UltraCoin\",\"VeriCoin\",\"X11 Coin\",\"Crypti\",\"StealthCoin\",\"ZCC Coin\",\"BurstCoin\",\"StorjCoin\",\"Neutron\",\"FairCoin\",\"RubyCoin\",\"Kore\",\"Dnotes\",\"8BIT Coin\",\"Sativa Coin\",\"Ucoin\",\"Vtorrent\",\"IslaCoin\",\"Nexus\",\"Droidz\",\"Squall Coin\",\"Diggits\",\"Paycon\",\"Emercoin\",\"EverGreenCoin\",\"Decred\",\"EDRCoin\",\"Hitcoin\",\"DubaiCoin\",\"PWR Coin\",\"BillaryCoin\",\"GPU Coin\",\"EuropeCoin\",\"ZeitCoin\",\"SwingCoin\",\"SafeExchangeCoin\",\"Nebuchadnezzar\",\"Ratecoin\",\"Revenu\",\"Clockcoin\",\"VIP Tokens\",\"BitSend\",\"Let it Ride\",\"PutinCoin\",\"iBankCoin\",\"Frankywillcoin\",\"MudraCoin\",\"Lutetium Coin\",\"GoldBlocks\",\"CarterCoin\",\"BitTokens\",\"MustangCoin\",\"ZoneCoin\",\"RootCoin\",\"BitCurrency\",\"Swiscoin\",\"BuzzCoin\",\"Opair\",\"PesoBit\",\"Halloween Coin\",\"CoffeeCoin\",\"RoyalCoin\",\"GanjaCoin V2\",\"TeamUP\",\"LanaCoin\",\"ARK\",\"InsaneCoin\",\"EmberCoin\",\"XenixCoin\",\"FreeCoin\",\"PLNCoin\",\"AquariusCoin\",\"Creatio\",\"Eternity\",\"Eurocoin\",\"BitcoinFast\",\"Stakenet\",\"BitConnect Coin\",\"MoneyCoin\",\"Enigma\",\"Russiacoin\",\"PandaCoin\",\"GameUnits\",\"GAKHcoin\",\"Allsafe\",\"LiteCreed\",\"Klingon Empire Darsek\",\"Internet of People\",\"KushCoin\",\"Printerium\",\"Impeach\",\"Zilbercoin\",\"FirstCoin\",\"FindCoin\",\"OpenChat\",\"RenosCoin\",\"VirtacoinPlus\",\"TajCoin\",\"Impact\",\"Atmos\",\"HappyCoin\",\"MacronCoin\",\"Condensate\",\"Independent Money System\",\"ArgusCoin\",\"LomoCoin\",\"ProCurrency\",\"GoldReserve\",\"GrowthCoin\",\"Phreak\",\"Degas Coin\",\"HTML5 Coin\",\"Ultimate Secure Cash\",\"QTUM\",\"Espers\",\"Denarius\",\"Virta Unique Coin\",\"Bitcoin Planet\",\"BritCoin\",\"Linda\",\"DeepOnion\",\"Signatum\",\"Cream\",\"Monoeci\",\"Draftcoin\",\"Vechain\",\"Stakecoin\",\"CoinonatX\",\"Ethereum Dark\",\"Obsidian\",\"Cardano\",\"Regalcoin\",\"TrezarCoin\",\"TerraNovaCoin\",\"Rupee\",\"WomenCoin\",\"Theresa May Coin\",\"NamoCoin\",\"LUXCoin\",\"Xios\",\"Bitcloud 2.0\",\"KekCoin\",\"BlackholeCoin\",\"Infinity Economics\",\"Magnet\",\"Lamden Tau\",\"Electra\",\"Bitcoin Diamond\",\"Cash & Back Coin\",\"Bulwark\",\"Kalkulus\",\"GermanCoin\",\"LiteCoin Ultra\",\"PhantomX\",\"Digiwage\",\"Trollcoin\",\"Litecoin Plus\",\"Monkey Project\",\"TokenPay\",\"1717 Masonic Commemorative Token\",\"My Big Coin\",\"Unified Society USDEX\",\"Tokyo Coin\",\"Stipend\",\"Pushi\",\"Ellerium\",\"Velox\",\"Ontology\",\"Bitspace\",\"Briacoin\",\"Ignition\",\"MedicCoin\",\"Bitcoin Green\",\"Deviant Coin\",\"Abjcoin\",\"Semux\",\"Carebit\",\"Zealium\",\"Proton\",\"iDealCash\",\"Bitcoin Incognito\",\"HollyWoodCoin\",\"Swisscoin\",\"Xt3ch\",\"TheVig\",\"EmaratCoin\",\"Dekado\",\"Lynx\",\"Poseidon Quark\",\"BitcoinWSpectrum\",\"Muse\",\"Trivechain\",\"Dystem\",\"Giant\",\"Peony Coin\",\"Absolute Coin\",\"Vitae\",\"TPCash\",\"ARENON\",\"EUNO\",\"MMOCoin\",\"Ketan\",\"XDNA\",\"PAXEX\",\"ThunderStake\",\"Kcash\",\"Acute Angle Cloud\",\"Bettex coin\",\"BitMoney\",\"Junson Ming Chan Coin\",\"HerbCoin\",\"PirateCash\",\"Oduwa\",\"Galilel\",\"Crypto Sports\",\"Credit\",\"Dash Platinum\",\"Nasdacoin\",\"Beetle Coin\",\"Titan Coin\",\"Award\",\"Insane Coin\",\"ALAX\",\"LiteDoge\",\"TruckCoin\",\"OrangeCoin\",\"BitstarCoin\",\"NeosCoin\",\"HyperCoin\",\"PinkCoin\",\"AudioCoin\",\"IncaKoin\",\"Piggy Coin\",\"Genstake\",\"XiaoMiCoin\",\"CapriCoin\",\" ClubCoin\",\"Radium\",\"Creditbit \",\"OKCash\",\"Lisk\",\"HiCoin\",\"WhiteCoin\",\"FriendshipCoin\",\"Triangles Coin\",\"EOS\",\"Oxycoin\",\"TigerCash\",\"Particl\",\"Nxt\",\"ZEPHYR\",\"Gapcoin\",\"BitcoinPlus\"],\"TotalCoinSupply\":{\"__ndarray__\":\"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\",\"dtype\":\"float64\",\"order\":\"little\",\"shape\":[289]},\"TotalCoinsMined\":{\"__ndarray__\":\"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\",\"dtype\":\"float64\",\"order\":\"little\",\"shape\":[289]}},\"selected\":{\"id\":\"1197\"},\"selection_policy\":{\"id\":\"1211\"}},\"id\":\"1196\",\"type\":\"ColumnDataSource\"},{\"attributes\":{\"fill_alpha\":{\"value\":0.2},\"fill_color\":{\"value\":\"#ff7e0e\"},\"line_alpha\":{\"value\":0.2},\"line_color\":{\"value\":\"#ff7e0e\"},\"size\":{\"units\":\"screen\",\"value\":5.477225575051661},\"x\":{\"field\":\"TotalCoinsMined\"},\"y\":{\"field\":\"TotalCoinSupply\"}},\"id\":\"1219\",\"type\":\"Scatter\"},{\"attributes\":{\"source\":{\"id\":\"1254\"}},\"id\":\"1261\",\"type\":\"CDSView\"},{\"attributes\":{\"click_policy\":\"mute\",\"items\":[{\"id\":\"1213\"},{\"id\":\"1232\"},{\"id\":\"1253\"},{\"id\":\"1276\"}],\"location\":[0,0],\"title\":\"Class\"},\"id\":\"1212\",\"type\":\"Legend\"},{\"attributes\":{\"axis\":{\"id\":\"1175\"},\"dimension\":1,\"grid_line_color\":null,\"ticker\":null},\"id\":\"1178\",\"type\":\"Grid\"},{\"attributes\":{},\"id\":\"1197\",\"type\":\"Selection\"},{\"attributes\":{},\"id\":\"1215\",\"type\":\"Selection\"},{\"attributes\":{\"axis_label\":\"TotalCoinsMined\",\"bounds\":\"auto\",\"formatter\":{\"id\":\"1193\"},\"major_label_orientation\":\"horizontal\",\"ticker\":{\"id\":\"1172\"}},\"id\":\"1171\",\"type\":\"LinearAxis\"},{\"attributes\":{\"fill_alpha\":{\"value\":0.1},\"fill_color\":{\"value\":\"#2ba02b\"},\"line_alpha\":{\"value\":0.1},\"line_color\":{\"value\":\"#2ba02b\"},\"size\":{\"units\":\"screen\",\"value\":5.477225575051661},\"x\":{\"field\":\"TotalCoinsMined\"},\"y\":{\"field\":\"TotalCoinSupply\"}},\"id\":\"1237\",\"type\":\"Scatter\"},{\"attributes\":{\"fill_color\":{\"value\":\"#d62628\"},\"line_color\":{\"value\":\"#d62628\"},\"size\":{\"units\":\"screen\",\"value\":5.477225575051661},\"x\":{\"field\":\"TotalCoinsMined\"},\"y\":{\"field\":\"TotalCoinSupply\"}},\"id\":\"1257\",\"type\":\"Scatter\"},{\"attributes\":{\"label\":{\"value\":\"0\"},\"renderers\":[{\"id\":\"1202\"}]},\"id\":\"1213\",\"type\":\"LegendItem\"},{\"attributes\":{\"fill_alpha\":{\"value\":0.2},\"fill_color\":{\"value\":\"#d62628\"},\"line_alpha\":{\"value\":0.2},\"line_color\":{\"value\":\"#d62628\"},\"size\":{\"units\":\"screen\",\"value\":5.477225575051661},\"x\":{\"field\":\"TotalCoinsMined\"},\"y\":{\"field\":\"TotalCoinSupply\"}},\"id\":\"1259\",\"type\":\"Scatter\"}],\"root_ids\":[\"1154\"]},\"title\":\"Bokeh Application\",\"version\":\"2.1.1\"}};\n",
       "  var render_items = [{\"docid\":\"8afcf9e5-6eee-42e8-8357-c9287dd41e03\",\"root_ids\":[\"1154\"],\"roots\":{\"1154\":\"957b137a-5de5-4a19-9126-474fce87e793\"}}];\n",
       "  root.Bokeh.embed.embed_items_notebook(docs_json, render_items);\n",
       "  }\n",
       "if (root.Bokeh !== undefined) {\n",
       "    embed_document(root);\n",
       "  } else {\n",
       "    var attempts = 0;\n",
       "    var timer = setInterval(function(root) {\n",
       "      if (root.Bokeh !== undefined) {\n",
       "        clearInterval(timer);\n",
       "        embed_document(root);\n",
       "      } else if (document.readyState == \"complete\") {\n",
       "        attempts++;\n",
       "        if (attempts > 100) {\n",
       "          clearInterval(timer);\n",
       "          console.log(\"Bokeh: ERROR: Unable to run BokehJS code because BokehJS library is missing\");\n",
       "        }\n",
       "      }\n",
       "    }, 10, root)\n",
       "  }\n",
       "})(window);</script>"
      ],
      "text/plain": [
       ":NdOverlay   [Class]\n",
       "   :Scatter   [TotalCoinsMined]   (TotalCoinSupply,CoinName)"
      ]
     },
     "execution_count": 22,
     "metadata": {
      "application/vnd.holoviews_exec.v0+json": {
       "id": "1154"
      }
     },
     "output_type": "execute_result"
    }
   ],
   "source": [
    "# Create a hvplot.scatter plot using x=\"TotalCoinsMined\" and y=\"TotalCoinSupply\".\n",
    "# YOUR CODE HERE\n"
   ]
  },
  {
   "cell_type": "code",
   "execution_count": null,
   "metadata": {},
   "outputs": [],
   "source": []
  }
 ],
 "metadata": {
  "file_extension": ".py",
  "kernelspec": {
   "display_name": "mlenv",
   "language": "python",
   "name": "mlenv"
  },
  "language_info": {
   "codemirror_mode": {
    "name": "ipython",
    "version": 3
   },
   "file_extension": ".py",
   "mimetype": "text/x-python",
   "name": "python",
   "nbconvert_exporter": "python",
   "pygments_lexer": "ipython3",
   "version": "3.7.10"
  },
  "latex_envs": {
   "LaTeX_envs_menu_present": true,
   "autoclose": false,
   "autocomplete": true,
   "bibliofile": "biblio.bib",
   "cite_by": "apalike",
   "current_citInitial": 1,
   "eqLabelWithNumbers": true,
   "eqNumInitial": 1,
   "hotkeys": {
    "equation": "Ctrl-E",
    "itemize": "Ctrl-I"
   },
   "labels_anchors": false,
   "latex_user_defs": false,
   "report_style_numbering": false,
   "user_envs_cfg": false
  },
  "mimetype": "text/x-python",
  "name": "python",
  "npconvert_exporter": "python",
  "pygments_lexer": "ipython3",
  "version": 3
 },
 "nbformat": 4,
 "nbformat_minor": 2
}
